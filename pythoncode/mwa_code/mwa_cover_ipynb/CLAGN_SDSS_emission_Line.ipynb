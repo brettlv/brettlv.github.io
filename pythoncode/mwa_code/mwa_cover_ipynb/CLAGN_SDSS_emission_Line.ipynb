{
 "cells": [
  {
   "cell_type": "code",
   "execution_count": null,
   "metadata": {},
   "outputs": [],
   "source": []
  },
  {
   "cell_type": "code",
   "execution_count": null,
   "metadata": {},
   "outputs": [],
   "source": []
  },
  {
   "cell_type": "markdown",
   "metadata": {},
   "source": [
    "# import"
   ]
  },
  {
   "cell_type": "code",
   "execution_count": 13,
   "metadata": {
    "ExecuteTime": {
     "end_time": "2022-06-16T10:00:00.135342Z",
     "start_time": "2022-06-16T09:59:59.366820Z"
    }
   },
   "outputs": [],
   "source": [
    "from astropy.io import fits\n",
    "import time\n",
    "#import urllib2# python2\n",
    "import urllib#python3\n",
    "\n",
    "import datetime\n",
    "#from itertools import ifilter python2\n",
    "from collections import Counter, defaultdict\n",
    "import xml.etree.ElementTree as ET\n",
    "import h5py\n",
    "from bs4 import BeautifulSoup\n",
    "import matplotlib.pylab as plt\n",
    "import pandas as pd\n",
    "import numpy as np\n",
    "#import bibtexparser\n",
    "import astropy.coordinates as coord\n",
    "from astropy import units as u\n",
    "from astropy.coordinates import SkyCoord\n",
    "\n",
    "pd.set_option('mode.chained_assignment','warn')"
   ]
  },
  {
   "cell_type": "code",
   "execution_count": 14,
   "metadata": {
    "ExecuteTime": {
     "end_time": "2022-06-16T10:00:00.439069Z",
     "start_time": "2022-06-16T10:00:00.432263Z"
    }
   },
   "outputs": [],
   "source": [
    "import pandas as pd\n",
    "import numpy as np\n",
    "import os\n",
    "\n",
    "def get_obsids(path):\n",
    "    dirname=os.listdir(path)\n",
    "    obsids=[]\n",
    "    for i in dirname:\n",
    "        if i.isdigit():\n",
    "            obsids.append(i)\n",
    "    obsids.sort()        \n",
    "    return obsids\n",
    "\n",
    "def drop_index(data):\n",
    "    data=data.reset_index(drop=True)\n",
    "    return data"
   ]
  },
  {
   "cell_type": "markdown",
   "metadata": {},
   "source": [
    "# convert time"
   ]
  },
  {
   "cell_type": "code",
   "execution_count": 124,
   "metadata": {
    "ExecuteTime": {
     "end_time": "2022-06-14T09:54:49.836210Z",
     "start_time": "2022-06-14T09:54:49.780731Z"
    }
   },
   "outputs": [],
   "source": [
    "from astropy.time import Time\n",
    "from astropy.io import fits\n",
    "import time\n",
    "import datetime\n",
    "from matplotlib.pyplot import MultipleLocator\n",
    "import matplotlib.dates as mdates\n",
    "\n",
    "def datetime2mjd(x):\n",
    "    mjd_ref=59000\n",
    "    mjd_minus_mdates_num=mdates.date2num(convert_xaxis_time(mjd_ref))-mjd_ref\n",
    "    \n",
    "    x=mdates.date2num(x)\n",
    "    y = x - mjd_minus_mdates_num   \n",
    "    return y\n",
    "\n",
    "def mjd2datetime(x):\n",
    "    mjd_ref=59000\n",
    "    mjd_minus_mdates_num=mdates.date2num(convert_xaxis_time(mjd_ref))-mjd_ref\n",
    "    y= x + mjd_minus_mdates_num\n",
    "    y= mdates.num2date(y)\n",
    "    return y\n",
    "\n",
    "\n",
    "\n",
    "def datenums2mjd(x):\n",
    "    #x=mdates.date2num(x)\n",
    "    mjd_ref=59000\n",
    "    mjd_minus_mdates_num=mdates.date2num(convert_xaxis_time(mjd_ref))-mjd_ref\n",
    "    y = x - mjd_minus_mdates_num   \n",
    "    return y\n",
    "\n",
    "def mjd2numsdate(x):\n",
    "    mjd_ref=59000\n",
    "    mjd_minus_mdates_num=mdates.date2num(convert_xaxis_time(mjd_ref))-mjd_ref\n",
    "    \n",
    "    y= x + mjd_minus_mdates_num\n",
    "    #y= mdates.num2date(y)\n",
    "    return y\n",
    "\n",
    "\n",
    "def convert_xaxis_mjd(time):\n",
    "    return Time(time).mjd   \n",
    "\n",
    "def convert_xaxis_time(mjd):\n",
    "    return Time(mjd,format='mjd').to_datetime()\n",
    "\n",
    "\n",
    "def date2yday(x):\n",
    "    \"\"\"\n",
    "    x is in matplotlib datenums, so they are floats.\n",
    "    \"\"\"\n",
    "    y = x - mdates.date2num(datetime(2018, 1, 1))\n",
    "    return y\n",
    "\n",
    "def yday2date(x):\n",
    "    \"\"\"\n",
    "    return a matplotlib datenum (x is days since start of year of 2018)\n",
    "    \"\"\"\n",
    "    y = x + mdates.date2num(datetime(2018, 1, 1))\n",
    "    return y\n",
    "\n",
    "\n",
    "def convert_partial_year(numbers):\n",
    "    datetimes=[]\n",
    "    for number in numbers:\n",
    "        year = int(number)\n",
    "        d = timedelta(days=(number - year)*(365 + is_leap(year)))\n",
    "        day_one = datetime(year,1,1)\n",
    "        date = d + day_one\n",
    "        datetimes.append(date)\n",
    "    return datetimes\n",
    "\n",
    "\n",
    "def is_leap(year):\n",
    "    if not year%4 and  year%100 or not year%400:\n",
    "        return True\n",
    "    return False\n",
    "\n",
    "\n",
    "def convert_mjd(times):\n",
    "    timesmjd=[]\n",
    "    for i in times:\n",
    "        timesmjd.append(Time(i).mjd)\n",
    "    return timesmjd  \n",
    "\n",
    "\n",
    "def convert_date(times):\n",
    "    timesdate=[]\n",
    "    for i in times:\n",
    "        timesdate.append(Time(i,format='mjd').datetime)\n",
    "    return timesdate\n",
    "\n",
    "def convert_date_single(time):\n",
    "    timedate=Time(time,format='mjd').datetime\n",
    "    return timedate"
   ]
  },
  {
   "cell_type": "code",
   "execution_count": null,
   "metadata": {},
   "outputs": [],
   "source": []
  },
  {
   "cell_type": "code",
   "execution_count": 4,
   "metadata": {
    "ExecuteTime": {
     "end_time": "2022-06-11T08:29:02.774345Z",
     "start_time": "2022-06-11T08:29:02.770676Z"
    }
   },
   "outputs": [],
   "source": [
    "from astropy.coordinates import SkyCoord  # High-level coordinates\n",
    "from astropy.coordinates import ICRS, Galactic, FK4, FK5  # Low-level frames\n",
    "from astropy.coordinates import Angle, Latitude, Longitude  # Angles\n",
    "import astropy.units as u\n",
    "\n",
    "#coords=[SDSS_RG_18286['RAhour'][:10],SDSS_RG_18286['DEdeg'][:10]]\n",
    "#c = SkyCoord(coords, frame=FK5, unit=(u.hourangle, u.deg))"
   ]
  },
  {
   "cell_type": "markdown",
   "metadata": {},
   "source": [
    "## astroquery.heasarc"
   ]
  },
  {
   "cell_type": "code",
   "execution_count": 2,
   "metadata": {
    "ExecuteTime": {
     "end_time": "2022-06-16T09:51:36.412244Z",
     "start_time": "2022-06-16T09:51:34.712244Z"
    }
   },
   "outputs": [
    {
     "name": "stdout",
     "output_type": "stream",
     "text": [
      " Mission   ...\n",
      "---------- ...\n",
      "     AGILE ...\n",
      "     AGILE ...\n",
      "     AKARI ...\n",
      "     AKARI ...\n",
      "       ANS ...\n",
      "   ARIEL V ...\n",
      "   ARIEL V ...\n",
      "      ASCA ...\n",
      "      ASCA ...\n",
      "      ASCA ...\n",
      "       ... ...\n",
      "XMM-NEWTON ...\n",
      "XMM-NEWTON ...\n",
      "XMM-NEWTON ...\n",
      "XMM-NEWTON ...\n",
      "XMM-NEWTON ...\n",
      "XMM-NEWTON ...\n",
      "XMM-NEWTON ...\n",
      "XMM-NEWTON ...\n",
      "XMM-NEWTON ...\n",
      "XMM-NEWTON ...\n",
      "XMM-NEWTON ...\n",
      "Length = 1170 rows\n"
     ]
    }
   ],
   "source": [
    "from astroquery.heasarc import Heasarc\n",
    "heasarc = Heasarc()\n",
    "table = heasarc.query_mission_list()\n",
    "table.pprint() "
   ]
  },
  {
   "cell_type": "code",
   "execution_count": 3,
   "metadata": {
    "ExecuteTime": {
     "end_time": "2022-06-16T09:51:39.767181Z",
     "start_time": "2022-06-16T09:51:39.214275Z"
    }
   },
   "outputs": [],
   "source": [
    "mission_table=table.to_pandas()"
   ]
  },
  {
   "cell_type": "markdown",
   "metadata": {
    "ExecuteTime": {
     "end_time": "2022-06-14T05:32:10.669394Z",
     "start_time": "2022-06-14T05:32:10.642983Z"
    }
   },
   "source": [
    "mission_table['Mission']"
   ]
  },
  {
   "cell_type": "markdown",
   "metadata": {
    "ExecuteTime": {
     "end_time": "2022-06-16T09:51:49.377277Z",
     "start_time": "2022-06-16T09:51:49.368173Z"
    }
   },
   "source": [
    "mission_table[mission_table['Mission'].str.contains('ztf')]"
   ]
  },
  {
   "cell_type": "code",
   "execution_count": 8,
   "metadata": {
    "ExecuteTime": {
     "end_time": "2022-06-16T09:57:17.924647Z",
     "start_time": "2022-06-16T09:57:17.913002Z"
    }
   },
   "outputs": [
    {
     "data": {
      "text/html": [
       "<div>\n",
       "<style scoped>\n",
       "    .dataframe tbody tr th:only-of-type {\n",
       "        vertical-align: middle;\n",
       "    }\n",
       "\n",
       "    .dataframe tbody tr th {\n",
       "        vertical-align: top;\n",
       "    }\n",
       "\n",
       "    .dataframe thead th {\n",
       "        text-align: right;\n",
       "    }\n",
       "</style>\n",
       "<table border=\"1\" class=\"dataframe\">\n",
       "  <thead>\n",
       "    <tr style=\"text-align: right;\">\n",
       "      <th></th>\n",
       "      <th>Mission</th>\n",
       "      <th>Table</th>\n",
       "      <th>Table Description</th>\n",
       "    </tr>\n",
       "  </thead>\n",
       "  <tbody>\n",
       "    <tr>\n",
       "      <th>571</th>\n",
       "      <td>NUSTAR</td>\n",
       "      <td>nuaftl</td>\n",
       "      <td>NuSTAR As-Flown Timeline</td>\n",
       "    </tr>\n",
       "    <tr>\n",
       "      <th>572</th>\n",
       "      <td>NUSTAR</td>\n",
       "      <td>nucosmosfc</td>\n",
       "      <td>NuSTAR COSMOS Field X-Ray Source Catalog</td>\n",
       "    </tr>\n",
       "    <tr>\n",
       "      <th>573</th>\n",
       "      <td>NUSTAR</td>\n",
       "      <td>nuecdfscat</td>\n",
       "      <td>NuSTAR Survey of Extended Chandra Deep Field S...</td>\n",
       "    </tr>\n",
       "    <tr>\n",
       "      <th>574</th>\n",
       "      <td>NUSTAR</td>\n",
       "      <td>nugalcen</td>\n",
       "      <td>NuSTAR Hard X-Ray Survey of the Galactic Center</td>\n",
       "    </tr>\n",
       "    <tr>\n",
       "      <th>575</th>\n",
       "      <td>NUSTAR</td>\n",
       "      <td>numaster</td>\n",
       "      <td>NuSTAR Master Catalog</td>\n",
       "    </tr>\n",
       "    <tr>\n",
       "      <th>576</th>\n",
       "      <td>NUSTAR</td>\n",
       "      <td>nustarssc</td>\n",
       "      <td>NuSTAR Serendipitous Survey 40-Month Primary S...</td>\n",
       "    </tr>\n",
       "    <tr>\n",
       "      <th>577</th>\n",
       "      <td>NUSTAR</td>\n",
       "      <td>nustarssc2</td>\n",
       "      <td>NuSTAR Serendipitous Survey 40-Month Secondary...</td>\n",
       "    </tr>\n",
       "  </tbody>\n",
       "</table>\n",
       "</div>"
      ],
      "text/plain": [
       "    Mission       Table                                  Table Description\n",
       "571  NUSTAR      nuaftl                           NuSTAR As-Flown Timeline\n",
       "572  NUSTAR  nucosmosfc           NuSTAR COSMOS Field X-Ray Source Catalog\n",
       "573  NUSTAR  nuecdfscat  NuSTAR Survey of Extended Chandra Deep Field S...\n",
       "574  NUSTAR    nugalcen    NuSTAR Hard X-Ray Survey of the Galactic Center\n",
       "575  NUSTAR    numaster                              NuSTAR Master Catalog\n",
       "576  NUSTAR   nustarssc  NuSTAR Serendipitous Survey 40-Month Primary S...\n",
       "577  NUSTAR  nustarssc2  NuSTAR Serendipitous Survey 40-Month Secondary..."
      ]
     },
     "execution_count": 8,
     "metadata": {},
     "output_type": "execute_result"
    }
   ],
   "source": [
    "mission_table[mission_table['Mission'].str.contains('NUSTAR')]"
   ]
  },
  {
   "cell_type": "code",
   "execution_count": 102,
   "metadata": {
    "ExecuteTime": {
     "end_time": "2022-06-14T05:33:59.841775Z",
     "start_time": "2022-06-14T05:33:59.817020Z"
    }
   },
   "outputs": [
    {
     "data": {
      "text/html": [
       "<div>\n",
       "<style scoped>\n",
       "    .dataframe tbody tr th:only-of-type {\n",
       "        vertical-align: middle;\n",
       "    }\n",
       "\n",
       "    .dataframe tbody tr th {\n",
       "        vertical-align: top;\n",
       "    }\n",
       "\n",
       "    .dataframe thead th {\n",
       "        text-align: right;\n",
       "    }\n",
       "</style>\n",
       "<table border=\"1\" class=\"dataframe\">\n",
       "  <thead>\n",
       "    <tr style=\"text-align: right;\">\n",
       "      <th></th>\n",
       "      <th>Mission</th>\n",
       "      <th>Table</th>\n",
       "      <th>Table Description</th>\n",
       "    </tr>\n",
       "  </thead>\n",
       "  <tbody>\n",
       "    <tr>\n",
       "      <th>1028</th>\n",
       "      <td>SWIFT</td>\n",
       "      <td>sacshpscat</td>\n",
       "      <td>Swift AGN &amp; Cluster Survey (SACS) Hard-Band (2...</td>\n",
       "    </tr>\n",
       "    <tr>\n",
       "      <th>1029</th>\n",
       "      <td>SWIFT</td>\n",
       "      <td>sacssescat</td>\n",
       "      <td>Swift AGN &amp; Cluster Survey (SACS) Soft-Band (0...</td>\n",
       "    </tr>\n",
       "    <tr>\n",
       "      <th>1030</th>\n",
       "      <td>SWIFT</td>\n",
       "      <td>sacsspscat</td>\n",
       "      <td>Swift AGN &amp; Cluster Survey (SACS) Soft-Band (0...</td>\n",
       "    </tr>\n",
       "    <tr>\n",
       "      <th>1031</th>\n",
       "      <td>SWIFT</td>\n",
       "      <td>sacstpscat</td>\n",
       "      <td>Swift AGN &amp; Cluster Survey (SACS) Total-Band (...</td>\n",
       "    </tr>\n",
       "    <tr>\n",
       "      <th>1032</th>\n",
       "      <td>SWIFT</td>\n",
       "      <td>sixsrvycat</td>\n",
       "      <td>Swift-INTEGRAL X-Ray (SIX) Survey Catalog</td>\n",
       "    </tr>\n",
       "    <tr>\n",
       "      <th>1033</th>\n",
       "      <td>SWIFT</td>\n",
       "      <td>swbat105m</td>\n",
       "      <td>Swift-BAT 105-Month All-Sky Hard X-Ray Survey</td>\n",
       "    </tr>\n",
       "    <tr>\n",
       "      <th>1034</th>\n",
       "      <td>SWIFT</td>\n",
       "      <td>swbatagn60</td>\n",
       "      <td>Swift BAT 60-Month Survey of Active Galactic N...</td>\n",
       "    </tr>\n",
       "    <tr>\n",
       "      <th>1035</th>\n",
       "      <td>SWIFT</td>\n",
       "      <td>swbatmontr</td>\n",
       "      <td>Swift BAT Transient Monitoring Catalog</td>\n",
       "    </tr>\n",
       "    <tr>\n",
       "      <th>1036</th>\n",
       "      <td>SWIFT</td>\n",
       "      <td>swbatsfxt</td>\n",
       "      <td>Swift BAT 100-Month Supergiant Fast X-Ray Tran...</td>\n",
       "    </tr>\n",
       "    <tr>\n",
       "      <th>1037</th>\n",
       "      <td>SWIFT</td>\n",
       "      <td>swif1swxrt</td>\n",
       "      <td>The Seven-Year Swift-XRT Point Source Catalog ...</td>\n",
       "    </tr>\n",
       "    <tr>\n",
       "      <th>1038</th>\n",
       "      <td>SWIFT</td>\n",
       "      <td>swift2sxps</td>\n",
       "      <td>Swift-XRT Point Source Catalog (2SXPS)</td>\n",
       "    </tr>\n",
       "    <tr>\n",
       "      <th>1039</th>\n",
       "      <td>SWIFT</td>\n",
       "      <td>swiftbalog</td>\n",
       "      <td>Swift BAT Instrument Log</td>\n",
       "    </tr>\n",
       "    <tr>\n",
       "      <th>1040</th>\n",
       "      <td>SWIFT</td>\n",
       "      <td>swiftft</td>\n",
       "      <td>Swift Serendipitous Survey in Deep XRT GRB Fie...</td>\n",
       "    </tr>\n",
       "    <tr>\n",
       "      <th>1041</th>\n",
       "      <td>SWIFT</td>\n",
       "      <td>swiftgrb</td>\n",
       "      <td>Swift Gamma Ray Bursts Catalog</td>\n",
       "    </tr>\n",
       "    <tr>\n",
       "      <th>1042</th>\n",
       "      <td>SWIFT</td>\n",
       "      <td>swiftmastr</td>\n",
       "      <td>Swift Master Catalog</td>\n",
       "    </tr>\n",
       "    <tr>\n",
       "      <th>1043</th>\n",
       "      <td>SWIFT</td>\n",
       "      <td>swifttdrss</td>\n",
       "      <td>Swift TDRSS Messages</td>\n",
       "    </tr>\n",
       "    <tr>\n",
       "      <th>1044</th>\n",
       "      <td>SWIFT</td>\n",
       "      <td>swiftuvlog</td>\n",
       "      <td>Swift UVOT Instrument Log</td>\n",
       "    </tr>\n",
       "    <tr>\n",
       "      <th>1045</th>\n",
       "      <td>SWIFT</td>\n",
       "      <td>swiftxrlog</td>\n",
       "      <td>Swift XRT Instrument Log</td>\n",
       "    </tr>\n",
       "    <tr>\n",
       "      <th>1046</th>\n",
       "      <td>SWIFT</td>\n",
       "      <td>swsdssqso</td>\n",
       "      <td>Swift Simultaneous UV, Optical, and X-Ray Obse...</td>\n",
       "    </tr>\n",
       "    <tr>\n",
       "      <th>1047</th>\n",
       "      <td>SWIFT</td>\n",
       "      <td>swuvotssc</td>\n",
       "      <td>Swift/UVOT Serendipitous Source Catalog, v1.1</td>\n",
       "    </tr>\n",
       "    <tr>\n",
       "      <th>1048</th>\n",
       "      <td>SWIFT</td>\n",
       "      <td>swuvotssob</td>\n",
       "      <td>Swift/UVOT Serendipitous Source Catalog, v1.1:...</td>\n",
       "    </tr>\n",
       "    <tr>\n",
       "      <th>1049</th>\n",
       "      <td>SWIFT</td>\n",
       "      <td>swxcscat</td>\n",
       "      <td>Swift X-Ray Telescope Cluster Survey Catalog</td>\n",
       "    </tr>\n",
       "    <tr>\n",
       "      <th>1050</th>\n",
       "      <td>SWIFT</td>\n",
       "      <td>swxcsoxid</td>\n",
       "      <td>Swift X-Ray Telescope Cluster Survey Cross-Cor...</td>\n",
       "    </tr>\n",
       "    <tr>\n",
       "      <th>1051</th>\n",
       "      <td>SWIFT</td>\n",
       "      <td>swxrt1fgl</td>\n",
       "      <td>Swift XRT Counterparts to Unidentified 1FGL So...</td>\n",
       "    </tr>\n",
       "  </tbody>\n",
       "</table>\n",
       "</div>"
      ],
      "text/plain": [
       "     Mission       Table                                  Table Description\n",
       "1028   SWIFT  sacshpscat  Swift AGN & Cluster Survey (SACS) Hard-Band (2...\n",
       "1029   SWIFT  sacssescat  Swift AGN & Cluster Survey (SACS) Soft-Band (0...\n",
       "1030   SWIFT  sacsspscat  Swift AGN & Cluster Survey (SACS) Soft-Band (0...\n",
       "1031   SWIFT  sacstpscat  Swift AGN & Cluster Survey (SACS) Total-Band (...\n",
       "1032   SWIFT  sixsrvycat          Swift-INTEGRAL X-Ray (SIX) Survey Catalog\n",
       "1033   SWIFT   swbat105m      Swift-BAT 105-Month All-Sky Hard X-Ray Survey\n",
       "1034   SWIFT  swbatagn60  Swift BAT 60-Month Survey of Active Galactic N...\n",
       "1035   SWIFT  swbatmontr             Swift BAT Transient Monitoring Catalog\n",
       "1036   SWIFT   swbatsfxt  Swift BAT 100-Month Supergiant Fast X-Ray Tran...\n",
       "1037   SWIFT  swif1swxrt  The Seven-Year Swift-XRT Point Source Catalog ...\n",
       "1038   SWIFT  swift2sxps             Swift-XRT Point Source Catalog (2SXPS)\n",
       "1039   SWIFT  swiftbalog                           Swift BAT Instrument Log\n",
       "1040   SWIFT     swiftft  Swift Serendipitous Survey in Deep XRT GRB Fie...\n",
       "1041   SWIFT    swiftgrb                     Swift Gamma Ray Bursts Catalog\n",
       "1042   SWIFT  swiftmastr                               Swift Master Catalog\n",
       "1043   SWIFT  swifttdrss                               Swift TDRSS Messages\n",
       "1044   SWIFT  swiftuvlog                          Swift UVOT Instrument Log\n",
       "1045   SWIFT  swiftxrlog                           Swift XRT Instrument Log\n",
       "1046   SWIFT   swsdssqso  Swift Simultaneous UV, Optical, and X-Ray Obse...\n",
       "1047   SWIFT   swuvotssc      Swift/UVOT Serendipitous Source Catalog, v1.1\n",
       "1048   SWIFT  swuvotssob  Swift/UVOT Serendipitous Source Catalog, v1.1:...\n",
       "1049   SWIFT    swxcscat       Swift X-Ray Telescope Cluster Survey Catalog\n",
       "1050   SWIFT   swxcsoxid  Swift X-Ray Telescope Cluster Survey Cross-Cor...\n",
       "1051   SWIFT   swxrt1fgl  Swift XRT Counterparts to Unidentified 1FGL So..."
      ]
     },
     "execution_count": 102,
     "metadata": {},
     "output_type": "execute_result"
    }
   ],
   "source": [
    "mission_table[mission_table['Mission'].str.contains('SWIFT')]"
   ]
  },
  {
   "cell_type": "code",
   "execution_count": 93,
   "metadata": {
    "ExecuteTime": {
     "end_time": "2022-06-14T05:30:56.693115Z",
     "start_time": "2022-06-14T05:30:56.668665Z"
    }
   },
   "outputs": [],
   "source": [
    "table?"
   ]
  },
  {
   "cell_type": "markdown",
   "metadata": {},
   "source": [
    "# CLAGN list"
   ]
  },
  {
   "cell_type": "code",
   "execution_count": 129,
   "metadata": {
    "ExecuteTime": {
     "end_time": "2022-06-14T10:00:55.129111Z",
     "start_time": "2022-06-14T10:00:54.896246Z"
    }
   },
   "outputs": [],
   "source": [
    "CLAGN_list_1=pd.read_excel('/Volumes/ExtremeSSD/Survey_fits//CLAGN-20220609.xlsx',sheet_name='Sheet1')\n",
    "CLAGN_list_2=pd.read_excel('/Volumes/ExtremeSSD/Survey_fits//CLAGN-20220609.xlsx',sheet_name='Sheet2')"
   ]
  },
  {
   "cell_type": "code",
   "execution_count": 130,
   "metadata": {
    "ExecuteTime": {
     "end_time": "2022-06-14T10:00:55.732450Z",
     "start_time": "2022-06-14T10:00:55.507140Z"
    }
   },
   "outputs": [],
   "source": [
    "#coords=[CLAGN_list_1['RA'],CLAGN_list_1['DEC']]\n",
    "coord = SkyCoord(ra=CLAGN_list_1['RA'],dec=CLAGN_list_1['DEC'], frame=ICRS, unit=u.deg)"
   ]
  },
  {
   "cell_type": "code",
   "execution_count": 131,
   "metadata": {
    "ExecuteTime": {
     "end_time": "2022-06-14T10:00:56.921533Z",
     "start_time": "2022-06-14T10:00:56.888502Z"
    }
   },
   "outputs": [],
   "source": [
    "CLAGN_list_1['radeg']=coord.ra.deg\n",
    "CLAGN_list_1['decdeg']=coord.dec.deg"
   ]
  },
  {
   "cell_type": "code",
   "execution_count": 132,
   "metadata": {
    "ExecuteTime": {
     "end_time": "2022-06-14T10:00:57.670681Z",
     "start_time": "2022-06-14T10:00:57.653540Z"
    }
   },
   "outputs": [
    {
     "data": {
      "text/plain": [
       "0                        1ES 1927+654\n",
       "1                         1H 0419-577\n",
       "2      2MASS J01264811-0839481       \n",
       "3             2MASS J07451198+3809114\n",
       "4             2MASS J09270231+0433080\n",
       "                    ...              \n",
       "135         WISEA J154529.63+251127.9\n",
       "136         WISEA J155017.23+413902.4\n",
       "137         WISEA J155258.27+273728.5\n",
       "138         WISEA J162415.02+455130.2\n",
       "139                         NGC 6890 \n",
       "Name: Name, Length: 140, dtype: object"
      ]
     },
     "execution_count": 132,
     "metadata": {},
     "output_type": "execute_result"
    }
   ],
   "source": [
    "CLAGN_list_1['Name']"
   ]
  },
  {
   "cell_type": "markdown",
   "metadata": {
    "ExecuteTime": {
     "end_time": "2022-06-11T08:49:29.256553Z",
     "start_time": "2022-06-11T08:49:29.240648Z"
    }
   },
   "source": [
    "CLAGN_list_1[['Name','radeg','decdeg','Redshift']].to_csv('/Users/brettlv/Downloads/CLAGN_220609.csv',index=False)\n",
    "\n",
    "mv CLAGN_220609.csv /Users/brettlv/Downloads/"
   ]
  },
  {
   "cell_type": "markdown",
   "metadata": {},
   "source": [
    "## CLAGN_NUSTAR"
   ]
  },
  {
   "cell_type": "code",
   "execution_count": 9,
   "metadata": {
    "ExecuteTime": {
     "end_time": "2022-06-16T09:58:29.605813Z",
     "start_time": "2022-06-16T09:58:29.601783Z"
    }
   },
   "outputs": [],
   "source": [
    "CLAGN_OX_list=['ESO 362-G18', 'NGC 2992', 'NGC 4151', 'NGC 4395', 'NGC 7582']"
   ]
  },
  {
   "cell_type": "markdown",
   "metadata": {
    "ExecuteTime": {
     "end_time": "2022-06-16T09:59:28.145803Z",
     "start_time": "2022-06-16T09:59:27.977373Z"
    }
   },
   "source": [
    "mkdir /Users/brettlv/Downloads/CLAGN_Nustar"
   ]
  },
  {
   "cell_type": "code",
   "execution_count": 15,
   "metadata": {
    "ExecuteTime": {
     "end_time": "2022-06-16T10:00:48.689027Z",
     "start_time": "2022-06-16T10:00:06.828896Z"
    }
   },
   "outputs": [],
   "source": [
    "mission = 'numaster' #'rosmaster'\n",
    "for i in CLAGN_OX_list:\n",
    "    object_name = i.strip()\n",
    "    save_name=i.strip().replace(' ','')\n",
    "    save_path='/Users/brettlv/Downloads/CLAGN_Nustar/%s.csv'%save_name\n",
    "    \n",
    "    if not os.path.exists(save_path): \n",
    "        try:\n",
    "            table = heasarc.query_object(object_name, mission=mission,)# radius='24 arcmin' for swiftmastr\n",
    "            if len(table)>0:\n",
    "                table.to_pandas().to_csv(save_path,index=None)\n",
    "                time.sleep(1+np.random.randint(2,5)) \n",
    "            else:\n",
    "                print(\"\\nno matching at: \" + i + \"\\n\")  \n",
    "        \n",
    "        except urllib.error.HTTPError or urllib.error.URLError:\n",
    "\n",
    "            print(\"\\nPassed a error at: \" + i + \"\\n\")\n",
    "            time.sleep(5+np.random.randint(5,10))     "
   ]
  },
  {
   "cell_type": "code",
   "execution_count": null,
   "metadata": {},
   "outputs": [],
   "source": []
  },
  {
   "cell_type": "markdown",
   "metadata": {},
   "source": [
    "## CLAGN SWIFT"
   ]
  },
  {
   "cell_type": "code",
   "execution_count": 117,
   "metadata": {
    "ExecuteTime": {
     "end_time": "2022-06-14T09:07:45.315179Z",
     "start_time": "2022-06-14T09:07:31.994648Z"
    }
   },
   "outputs": [],
   "source": [
    "mission = 'swiftmastr' #'rosmaster'\n",
    "object_name = '3c273'\n",
    "table = heasarc.query_object(object_name, mission=mission,)# radius='24 arcmin' for swiftmastr\n",
    "#table[:3].pprint(max_width=120)"
   ]
  },
  {
   "cell_type": "markdown",
   "metadata": {
    "ExecuteTime": {
     "end_time": "2022-06-14T09:07:47.036598Z",
     "start_time": "2022-06-14T09:07:47.020481Z"
    }
   },
   "source": [
    "table"
   ]
  },
  {
   "cell_type": "markdown",
   "metadata": {
    "ExecuteTime": {
     "end_time": "2022-06-14T08:39:32.189223Z",
     "start_time": "2022-06-14T08:39:31.951192Z"
    }
   },
   "source": [
    "mkdir /Users/brettlv/Downloads/CLAGN_Swift"
   ]
  },
  {
   "cell_type": "code",
   "execution_count": 111,
   "metadata": {
    "ExecuteTime": {
     "end_time": "2022-06-14T08:39:56.146793Z",
     "start_time": "2022-06-14T08:39:56.089631Z"
    }
   },
   "outputs": [],
   "source": [
    "table.to_pandas().to_csv('/Users/brettlv/Downloads/CLAGN_Swift/%s.csv'%object_name,index=None)"
   ]
  },
  {
   "cell_type": "code",
   "execution_count": 108,
   "metadata": {
    "ExecuteTime": {
     "end_time": "2022-06-14T05:35:42.577982Z",
     "start_time": "2022-06-14T05:35:42.571238Z"
    }
   },
   "outputs": [
    {
     "name": "stdout",
     "output_type": "stream",
     "text": [
      "['NAME', 'OBSID', 'RA', 'DEC', 'START_TIME', 'PROCESSING_DATE', 'XRT_EXPOSURE', 'UVOT_EXPOSURE', 'BAT_EXPOSURE', 'ARCHIVE_DATE', 'SEARCH_OFFSET_']\n"
     ]
    }
   ],
   "source": [
    "print(table.colnames)"
   ]
  },
  {
   "cell_type": "markdown",
   "metadata": {},
   "source": [
    "## example 1ES 1927+654"
   ]
  },
  {
   "cell_type": "markdown",
   "metadata": {},
   "source": [
    "wget -q -nH --no-check-certificate --cut-dirs=5 -r -l0 -c -N -np -R 'index*' -erobots=off --retr-symlinks https://heasarc.gsfc.nasa.gov/FTP/swift/data/obs/2018_07//00010682005/\n",
    "\n",
    "b'AT2018ZF    '\tb'00010682005'\t291.7988\t65.56271\t58323.03677\t58333\t2288.458\t2238.106\t2302\t58334\tb'0.822 (1ES 1927+654)\\n'"
   ]
  },
  {
   "cell_type": "code",
   "execution_count": 125,
   "metadata": {
    "ExecuteTime": {
     "end_time": "2022-06-14T09:55:37.970953Z",
     "start_time": "2022-06-14T09:55:37.895539Z"
    }
   },
   "outputs": [
    {
     "data": {
      "text/plain": [
       "datetime.datetime(2018, 7, 24, 0, 52, 56, 928000)"
      ]
     },
     "execution_count": 125,
     "metadata": {},
     "output_type": "execute_result"
    }
   ],
   "source": [
    "convert_date_single(58323.03677)"
   ]
  },
  {
   "cell_type": "code",
   "execution_count": null,
   "metadata": {},
   "outputs": [],
   "source": [
    "58323.03677"
   ]
  },
  {
   "cell_type": "code",
   "execution_count": null,
   "metadata": {},
   "outputs": [],
   "source": []
  },
  {
   "cell_type": "code",
   "execution_count": 122,
   "metadata": {
    "ExecuteTime": {
     "end_time": "2022-06-14T09:51:54.085865Z",
     "start_time": "2022-06-14T09:51:04.437527Z"
    }
   },
   "outputs": [
    {
     "name": "stderr",
     "output_type": "stream",
     "text": [
      "WARNING: NoResultsWarning: No matching rows were found in the query. [astroquery.heasarc.core]\n"
     ]
    },
    {
     "name": "stdout",
     "output_type": "stream",
     "text": [
      "\n",
      "no matching at: WISEA J162415.02+455130.2\n",
      "\n"
     ]
    }
   ],
   "source": [
    "mission = 'swiftmastr' #'rosmaster'\n",
    "for i in CLAGN_list_1['Name']:\n",
    "    object_name = i.strip()\n",
    "    save_name=i.strip().replace(' ','')\n",
    "    save_path='/Users/brettlv/Downloads/CLAGN_Swift/%s.csv'%save_name\n",
    "    \n",
    "    if not os.path.exists(save_path): \n",
    "        try:\n",
    "            table = heasarc.query_object(object_name, mission=mission,)# radius='24 arcmin' for swiftmastr\n",
    "            if len(table)>0:\n",
    "                table.to_pandas().to_csv(save_path,index=None)\n",
    "                time.sleep(1+np.random.randint(2,5)) \n",
    "            else:\n",
    "                print(\"\\nno matching at: \" + i + \"\\n\")  \n",
    "        \n",
    "        except urllib.error.HTTPError or urllib.error.URLError:\n",
    "\n",
    "            print(\"\\nPassed a error at: \" + i + \"\\n\")\n",
    "            time.sleep(5+np.random.randint(5,10))     "
   ]
  },
  {
   "cell_type": "markdown",
   "metadata": {
    "ExecuteTime": {
     "end_time": "2022-06-14T09:48:32.236192Z",
     "start_time": "2022-06-14T09:48:32.200517Z"
    }
   },
   "source": [
    "for i in CLAGN_list_1['Name']:\n",
    "    object_name = i.strip()\n",
    "    save_name=i.strip().replace(' ','')\n",
    "    origin_path='/Users/brettlv/Downloads/CLAGN_Swift/%s.csv'%i\n",
    "    save_path='/Users/brettlv/Downloads/CLAGN_Swift/%s.csv'%save_name\n",
    "    if os.path.exists(origin_path):   \n",
    "        os.rename(origin_path,save_path)\n",
    "        \n"
   ]
  },
  {
   "cell_type": "code",
   "execution_count": 128,
   "metadata": {
    "ExecuteTime": {
     "end_time": "2022-06-14T10:00:01.421414Z",
     "start_time": "2022-06-14T10:00:01.395207Z"
    }
   },
   "outputs": [
    {
     "data": {
      "text/plain": [
       "Index(['Name', 'RA', 'DEC', 'Ref.', 'Type_Ref', 'Redshift', 'lg(MBH/Msun)',\n",
       "       'Ref..1', 'mass_Ref', 'Type_CL', 'Type_X', 'OX', 'logM', 'pos',\n",
       "       'E(B-V)mean', 'E(B-V)weighted', 'NHImean', 'NHIweighted', 'NH2mean',\n",
       "       'NH2weighted', 'NH,totmean', 'NH,totweighted', 'radeg', 'decdeg'],\n",
       "      dtype='object')"
      ]
     },
     "execution_count": 128,
     "metadata": {},
     "output_type": "execute_result"
    }
   ],
   "source": [
    "CLAGN_list_1.columns"
   ]
  },
  {
   "cell_type": "code",
   "execution_count": 141,
   "metadata": {
    "ExecuteTime": {
     "end_time": "2022-06-14T10:08:20.032160Z",
     "start_time": "2022-06-14T10:08:19.690843Z"
    }
   },
   "outputs": [
    {
     "name": "stdout",
     "output_type": "stream",
     "text": [
      "type name Swift_obs_num\n",
      " A  1ES1927+654 34\n",
      " B  1H0419-577 16\n",
      " A  2MASSJ12335916+0842112 14\n",
      " A  2MASSJ14284671+1723530 14\n",
      " A  2MASSJ14345529+5723449 13\n",
      " A  2MASSJ16011122+4745095 29\n",
      " A  2MASXJ11180325+4506463 44\n",
      " A  3C390.3 15\n",
      " A  ESO362-G18 46\n",
      " A  Fairall9 817\n",
      " A  HE1136-2304 38\n",
      " A  IRAS23226-3843 51\n",
      " A  Mrk1018 71\n",
      " A  Mrk530 102\n",
      " A  Mrk590 227\n",
      " A  Mrk6 102\n",
      " A  NGC1097 58\n",
      " B  NGC1365 145\n",
      " A  NGC1566 250\n",
      " A  NGC2617 312\n",
      " A  NGC2992 131\n",
      " A  NGC3516 184\n",
      " B  NGC4051 82\n",
      " A  NGC4151 508\n",
      " B  NGC4388 28\n",
      " A  NGC4395 261\n",
      " B  NGC4507 74\n",
      " B  NGC4939 221\n",
      " A  NGC5548 916\n",
      " B  NGC6300 11\n",
      " A  NGC7582 15\n",
      " B  NGC7674 26\n",
      " A  SDSSJ030510.60-010431.6 25\n",
      " A  SDSSJ080020.98+263648.8 13\n",
      " A  SDSSJ081319.34+460849.5 31\n",
      " A  SDSSJ082942.67+415436.9 28\n",
      " A  SDSSJ111536.57+054449.7 13\n",
      " A  SDSSJ153308.02+443208.4 27\n",
      " A  SDSSJ172322.31+550413.8 57\n",
      " A  SDSSJ104705.16+544405.8 33\n",
      " A  WISEAJ004339.35+134436.3 12\n",
      " A  WISEAJ154507.52+170950.8 16\n",
      " B  NGC6890 15\n"
     ]
    }
   ],
   "source": [
    "print('type name Swift_obs_num')\n",
    "\n",
    "for index,i in enumerate(CLAGN_list_1['Name']):\n",
    "    object_name = i.strip()\n",
    "    save_name=i.strip().replace(' ','')\n",
    "    save_path='/Users/brettlv/Downloads/CLAGN_Swift/%s.csv'%save_name\n",
    "    \n",
    "    if os.path.exists(save_path):\n",
    "        if os.path.getsize(save_path)>100: \n",
    "            obs_info=pd.read_csv(save_path)\n",
    "            if len(obs_info)>10:\n",
    "                print(CLAGN_list_1.loc[index,'OX'],save_name,len(obs_info))\n",
    "        #else:       \n",
    "            #print('no obs for %(save_name)s'% locals() )\n",
    "        "
   ]
  },
  {
   "cell_type": "code",
   "execution_count": null,
   "metadata": {},
   "outputs": [],
   "source": []
  },
  {
   "cell_type": "markdown",
   "metadata": {},
   "source": [
    "# SDSS"
   ]
  },
  {
   "cell_type": "markdown",
   "metadata": {},
   "source": [
    "dr=17\n",
    "IMAGING_URL_SUFFIX = '{base}/dr{dr}/{instrument}/photoObj/frames/{rerun}/{run}/{camcol}/frame-{band}-{run:06d}-{camcol}-{field:04d}.fits.bz2'\n",
    "QUERY_URL_SUFFIX_DR_10 = '/dr{dr}/en/tools/search/x_sql.aspx'\n",
    "QUERY_URL_SUFFIX_DR_NEW = '/dr{dr}/en/tools/search/x_results.aspx'\n",
    "QUERY_URL_SUFFIX_DR_OLD = '/dr{dr}/en/tools/search/x_sql.asp'\n",
    "SPECTRA_URL_SUFFIX = '{base}/dr{dr}/sdss/spectro/redux/{run2d}/spectra/{plate:0>4d}/spec-{plate:0>4d}-{mjd}-{fiber:04d}.fits'\n",
    "TEMPLATES_URL = 'http://classic.sdss.org/dr7/algorithms/spectemplates/spDR2'\n",
    "TIMEOUT = 60\n",
    "XID_URL_SUFFIX_DR_10 = '/dr{dr}/en/tools/crossid/x_crossid.aspx'\n",
    "XID_URL_SUFFIX_NEW = '/dr{dr}/en/tools/search/X_Results.aspx'\n",
    "XID_URL_SUFFIX_OLD = '/dr{dr}/en/tools/crossid/x_crossid.asp'¶"
   ]
  },
  {
   "cell_type": "markdown",
   "metadata": {},
   "source": [
    "## [fetch_sdss_spectrum and plot](https://astroquery.readthedocs.io/en/latest/api/astroquery.sdss.SDSSClass.html#astroquery.sdss.SDSSClass.get_spectra)"
   ]
  },
  {
   "cell_type": "code",
   "execution_count": 16,
   "metadata": {
    "ExecuteTime": {
     "end_time": "2022-06-11T10:28:25.385818Z",
     "start_time": "2022-06-11T10:28:16.333959Z"
    }
   },
   "outputs": [
    {
     "name": "stdout",
     "output_type": "stream",
     "text": [
      "Downloading http://das.sdss.org/spectro/1d_26/1615/1d/spSpec-53166-1615-513.fit\n",
      "[========================================]  182.8kb / 182.8kb   \n",
      "caching to /Users/brettlv/astroML_data/SDSSspec/1615/spSpec-53166-1615-513.fit\n"
     ]
    },
    {
     "data": {
      "image/png": "[encoded data removed]",
      "text/plain": [
       "<Figure size 432x288 with 1 Axes>"
      ]
     },
     "metadata": {
      "needs_background": "light"
     },
     "output_type": "display_data"
    }
   ],
   "source": [
    "# Author: Jake VanderPlas <vanderplas@astro.washington.edu>\n",
    "# License: BSD\n",
    "#   The figure is an example from astroML: see http://astroML.github.com\n",
    "from matplotlib import pyplot as plt\n",
    "from astroML.datasets import fetch_sdss_spectrum\n",
    "\n",
    "#------------------------------------------------------------\n",
    "# Fetch single spectrum\n",
    "plate = 1615\n",
    "mjd = 53166\n",
    "fiber = 513\n",
    "\n",
    "spec = fetch_sdss_spectrum(plate, mjd, fiber)\n",
    "\n",
    "#------------------------------------------------------------\n",
    "# Plot the resulting spectrum\n",
    "ax = plt.axes()\n",
    "ax.plot(spec.wavelength(), spec.spectrum, '-k', label='spectrum')\n",
    "ax.plot(spec.wavelength(), spec.error, '-', color='gray', label='error')\n",
    "\n",
    "ax.legend(loc=4)\n",
    "\n",
    "ax.set_title('Plate = %(plate)i, MJD = %(mjd)i, Fiber = %(fiber)i' % locals())\n",
    "\n",
    "ax.text(0.05, 0.95, 'z = %.2f' % spec.z, size=16,\n",
    "        ha='left', va='top', transform=ax.transAxes)\n",
    "\n",
    "ax.set_xlabel(r'$\\lambda (\\AA)$')\n",
    "ax.set_ylabel('Flux')\n",
    "\n",
    "ax.set_ylim(-10, 300)\n",
    "\n",
    "plt.show()"
   ]
  },
  {
   "cell_type": "markdown",
   "metadata": {
    "ExecuteTime": {
     "end_time": "2022-06-11T12:49:09.808465Z",
     "start_time": "2022-06-11T12:49:09.784070Z"
    }
   },
   "source": [
    "for index, (plate, mjd, fiberid,name) in enumerate(zip(CLAGN_SDSSDR17_nearest_spec['plate'],\\\n",
    "                                                  CLAGN_SDSSDR17_nearest_spec['mjd'],\\\n",
    "                                                  CLAGN_SDSSDR17_nearest_spec['fiberid'],\\\n",
    "                                                  CLAGN_SDSSDR17_nearest_spec['Name'])):\n",
    "    print(plate)"
   ]
  },
  {
   "cell_type": "markdown",
   "metadata": {},
   "source": [
    "## plot_CLAGN_spec"
   ]
  },
  {
   "cell_type": "code",
   "execution_count": 85,
   "metadata": {
    "ExecuteTime": {
     "end_time": "2022-06-11T13:08:18.458938Z",
     "start_time": "2022-06-11T13:08:13.417500Z"
    }
   },
   "outputs": [
    {
     "name": "stdout",
     "output_type": "stream",
     "text": [
      "Downloaded 1 spectra(s) ! \n",
      "Downloaded 2 spectra(s) ! \n",
      "Downloaded 3 spectra(s) ! \n",
      "Downloaded 4 spectra(s) ! \n"
     ]
    },
    {
     "data": {
      "image/png": "[encoded data removed]",
      "text/plain": [
       "<Figure size 360x360 with 1 Axes>"
      ]
     },
     "metadata": {
      "needs_background": "light"
     },
     "output_type": "display_data"
    },
    {
     "data": {
      "image/png": "[encoded data removed]",
      "text/plain": [
       "<Figure size 360x360 with 1 Axes>"
      ]
     },
     "metadata": {
      "needs_background": "light"
     },
     "output_type": "display_data"
    },
    {
     "data": {
      "image/png": "[encoded data removed]",
      "text/plain": [
       "<Figure size 360x360 with 1 Axes>"
      ]
     },
     "metadata": {
      "needs_background": "light"
     },
     "output_type": "display_data"
    },
    {
     "data": {
      "image/png": "[encoded data removed]",
      "text/plain": [
       "<Figure size 360x360 with 1 Axes>"
      ]
     },
     "metadata": {
      "needs_background": "light"
     },
     "output_type": "display_data"
    }
   ],
   "source": [
    "spec_i = 0\n",
    "warn_d = 0\n",
    "\n",
    "for index, (plate, mjd, fiberid,name) in enumerate(zip(CLAGN_SDSSDR17_nearest_spec['plate'],\\\n",
    "                                                  CLAGN_SDSSDR17_nearest_spec['mjd'],\\\n",
    "                                                  CLAGN_SDSSDR17_nearest_spec['fiberid'],\\\n",
    "                                                  CLAGN_SDSSDR17_nearest_spec['Name'])):\n",
    "\n",
    "    try:\n",
    "        if plate < 3000 and index < 5:\n",
    "            spec = fetch_sdss_spectrum(round(plate), round(mjd), round(fiberid))  \n",
    "            spec_i = spec_i + 1\n",
    "            print(\"Downloaded \" + str(spec_i) + \" spectra(s) ! \")\n",
    "            \n",
    "            fig = plt.figure(figsize=(5,5))\n",
    "            fig.subplots_adjust(hspace=0.0, wspace = 0.0)\n",
    "            ax = fig.add_subplot(111)\n",
    "            ax.plot(spec.wavelength(), spec.spectrum, '-k', label='spectrum')\n",
    "            ax.plot(spec.wavelength(), spec.error, '-', color='gray', label='error')\n",
    "\n",
    "            ax.legend(loc=4)\n",
    "\n",
    "            ax.set_title('%(name)s Plate = %(plate)i, MJD = %(mjd)i, Fiber = %(fiber)i'% locals())\n",
    "\n",
    "            ax.text(0.05, 0.95, 'z = %.2f'%spec.z, size=16,ha='left', va='top', transform=ax.transAxes)\n",
    "\n",
    "            ax.set_xlabel(r'$\\lambda (\\AA)$')\n",
    "            ax.set_ylabel('Flux')\n",
    "            #ax.set_ylim(-10, 300)\n",
    "            plt.savefig('%s_SDSS_spec.png'%name,dpi=400, transparent=False, bbox_inches='tight')\n",
    "            \n",
    "    except urllib.error.HTTPError or urllib.error.URLError:\n",
    "        warn_d = warn_d + 1\n",
    "        spec_i = spec_i + 1\n",
    "        print(\"\\nPassed a error at: \" + str(spec_i) + \"\\n\")           \n",
    "            "
   ]
  },
  {
   "cell_type": "code",
   "execution_count": null,
   "metadata": {},
   "outputs": [],
   "source": []
  },
  {
   "cell_type": "code",
   "execution_count": null,
   "metadata": {},
   "outputs": [],
   "source": []
  },
  {
   "cell_type": "code",
   "execution_count": null,
   "metadata": {},
   "outputs": [],
   "source": []
  },
  {
   "cell_type": "code",
   "execution_count": 62,
   "metadata": {
    "ExecuteTime": {
     "end_time": "2022-06-11T12:36:04.939050Z",
     "start_time": "2022-06-11T12:36:04.793996Z"
    }
   },
   "outputs": [
    {
     "name": "stdout",
     "output_type": "stream",
     "text": [
      "/Users/brettlv/astroML_data/SDSSspec/1615/spSpec-53166-1615-513.fit\r\n"
     ]
    }
   ],
   "source": [
    "ls /Users/brettlv/astroML_data/SDSSspec/1615/* "
   ]
  },
  {
   "cell_type": "code",
   "execution_count": 20,
   "metadata": {
    "ExecuteTime": {
     "end_time": "2022-06-11T10:43:47.595953Z",
     "start_time": "2022-06-11T10:43:47.522938Z"
    }
   },
   "outputs": [],
   "source": [
    "import sys\n",
    "from urllib.error import HTTPError\n",
    "import numpy as np\n",
    "from astroML.datasets import fetch_sdss_spectrum\n",
    "from astroML.datasets.tools import query_plate_mjd_fiber, TARGET_GALAXY\n",
    "from astroML.dimensionality import iterative_pca"
   ]
  },
  {
   "cell_type": "code",
   "execution_count": 21,
   "metadata": {
    "ExecuteTime": {
     "end_time": "2022-06-11T10:43:53.394392Z",
     "start_time": "2022-06-11T10:43:52.103234Z"
    }
   },
   "outputs": [],
   "source": [
    "query_plate_mjd_fiber?"
   ]
  },
  {
   "cell_type": "code",
   "execution_count": null,
   "metadata": {},
   "outputs": [],
   "source": []
  },
  {
   "cell_type": "code",
   "execution_count": null,
   "metadata": {},
   "outputs": [],
   "source": []
  },
  {
   "cell_type": "code",
   "execution_count": null,
   "metadata": {},
   "outputs": [],
   "source": []
  },
  {
   "cell_type": "markdown",
   "metadata": {},
   "source": [
    "# [Example of downloading and processing SDSS spectra](http://www.astroml.org/examples/datasets/compute_sdss_pca.html)"
   ]
  },
  {
   "cell_type": "markdown",
   "metadata": {},
   "source": [
    "#Author: Jake VanderPlas <vanderplas@astro.washington.edu>\n",
    "#License: BSD\n",
    "#The figure is an example from astroML: see http://astroML.github.com\n",
    "import sys\n",
    "from urllib.error import HTTPError\n",
    "import numpy as np\n",
    "from astroML.datasets import fetch_sdss_spectrum\n",
    "from astroML.datasets.tools import query_plate_mjd_fiber, TARGET_GALAXY\n",
    "from astroML.dimensionality import iterative_pca\n",
    "\n",
    "\n",
    "def fetch_and_shift_spectra(n_spectra,\n",
    "                            outfile,\n",
    "                            primtarget=TARGET_GALAXY,\n",
    "                            zlim=(0, 0.7),\n",
    "                            loglam_start=3.5,\n",
    "                            loglam_end=3.9,\n",
    "                            Nlam=1000):\n",
    "    \"\"\"\n",
    "    This function queries CAS for matching spectra, and then downloads\n",
    "    them and shifts them to a common redshift binning\n",
    "    \"\"\"\n",
    "    # First query for the list of spectra to download\n",
    "    plate, mjd, fiber = query_plate_mjd_fiber(n_spectra, primtarget,\n",
    "                                              zlim[0], zlim[1])\n",
    "\n",
    "    # Set up arrays to hold information gathered from the spectra\n",
    "    spec_cln = np.zeros(n_spectra, dtype=np.int32)\n",
    "    lineindex_cln = np.zeros(n_spectra, dtype=np.int32)\n",
    "\n",
    "    log_NII_Ha = np.zeros(n_spectra, dtype=np.float32)\n",
    "    log_OIII_Hb = np.zeros(n_spectra, dtype=np.float32)\n",
    "\n",
    "    z = np.zeros(n_spectra, dtype=np.float32)\n",
    "    zerr = np.zeros(n_spectra, dtype=np.float32)\n",
    "    spectra = np.zeros((n_spectra, Nlam), dtype=np.float32)\n",
    "    mask = np.zeros((n_spectra, Nlam), dtype=bool)\n",
    "\n",
    "    # Calculate new wavelength coefficients\n",
    "    new_coeff0 = loglam_start\n",
    "    new_coeff1 = (loglam_end - loglam_start) / Nlam\n",
    "\n",
    "    # Now download all the needed spectra, and resample to a common\n",
    "    #  wavelength bin.\n",
    "    n_spectra = len(plate)\n",
    "    num_skipped = 0\n",
    "    i = 0\n",
    "\n",
    "    while i < n_spectra:\n",
    "        sys.stdout.write(' %i / %i spectra\\r' % (i + 1, n_spectra))\n",
    "        sys.stdout.flush()\n",
    "        try:\n",
    "            spec = fetch_sdss_spectrum(plate[i], mjd[i], fiber[i])\n",
    "        except HTTPError:\n",
    "            num_skipped += 1\n",
    "            print(\"%i, %i, %i not found\" % (plate[i], mjd[i], fiber[i]))\n",
    "            i += 1\n",
    "            continue\n",
    "\n",
    "        spec_rebin = spec.restframe().rebin(new_coeff0, new_coeff1, Nlam)\n",
    "\n",
    "        if np.all(spec_rebin.spectrum == 0):\n",
    "            num_skipped += 1\n",
    "            print(\"%i, %i, %i is all zero\" % (plate[i], mjd[i], fiber[i]))\n",
    "            i += 1\n",
    "            continue\n",
    "\n",
    "        spec_cln[i] = spec.spec_cln\n",
    "\n",
    "        lineindex_cln[i], (log_NII_Ha[i], log_OIII_Hb[i])\\\n",
    "            = spec.lineratio_index()\n",
    "\n",
    "        z[i] = spec.z\n",
    "        zerr[i] = spec.zerr\n",
    "\n",
    "        spectra[i] = spec_rebin.spectrum\n",
    "        mask[i] = spec_rebin.compute_mask(0.5, 5)\n",
    "\n",
    "        i += 1\n",
    "    sys.stdout.write('\\n')\n",
    "\n",
    "    N = i\n",
    "    print(\"   %i spectra skipped\" % num_skipped)\n",
    "    print(\"   %i spectra processed\" % N)\n",
    "    print(\"saving to %s\" % outfile)\n",
    "\n",
    "    np.savez(outfile,\n",
    "             spectra=spectra[:N],\n",
    "             mask=mask[:N],\n",
    "             coeff0=new_coeff0,\n",
    "             coeff1=new_coeff1,\n",
    "             spec_cln=spec_cln[:N],\n",
    "             lineindex_cln=lineindex_cln[:N],\n",
    "             log_NII_Ha=log_NII_Ha[:N],\n",
    "             log_OIII_Hb=log_OIII_Hb[:N],\n",
    "             z=z[:N],\n",
    "             zerr=zerr[:N])\n",
    "\n",
    "\n",
    "def spec_iterative_pca(outfile, n_ev=10, n_iter=20, norm='L2'):\n",
    "    \"\"\"\n",
    "    This function takes the file outputted above, performs an iterative\n",
    "    PCA to fill in the gaps, and appends the results to the same file.\n",
    "    \"\"\"\n",
    "    data_in = np.load(outfile)\n",
    "    spectra = data_in['spectra']\n",
    "    mask = data_in['mask']\n",
    "\n",
    "    res = iterative_pca(spectra, mask,\n",
    "                        n_ev=n_ev, n_iter=n_iter, norm=norm,\n",
    "                        full_output=True)\n",
    "\n",
    "    input_dict = {key: data_in[key] for key in data_in.files}\n",
    "\n",
    "    # don't save the reconstructed spectrum: this can easily\n",
    "    # be recomputed from the other parameters.\n",
    "    input_dict['mu'] = res[1]\n",
    "    input_dict['evecs'] = res[2]\n",
    "    input_dict['evals'] = res[3]\n",
    "    input_dict['norms'] = res[4]\n",
    "    input_dict['coeffs'] = res[5]\n",
    "\n",
    "    np.savez(outfile, **input_dict)\n",
    "\n",
    "\n",
    "if __name__ == '__main__':\n",
    "    fetch_and_shift_spectra(4000, 'spec4000.npz')\n",
    "    spec_iterative_pca('spec4000.npz')"
   ]
  },
  {
   "cell_type": "markdown",
   "metadata": {},
   "source": [
    "## SDSS Spectroscopic Galaxy Sample"
   ]
  },
  {
   "cell_type": "code",
   "execution_count": null,
   "metadata": {},
   "outputs": [],
   "source": [
    "# Author: Jake VanderPlas\n",
    "# License: BSD\n",
    "#   The figure produced by this code is published in the textbook\n",
    "#   \"Statistics, Data Mining, and Machine Learning in Astronomy\" (2013)\n",
    "#   For more information, see http://astroML.github.com\n",
    "#   To report a bug or issue, use the following forum:\n",
    "#    https://groups.google.com/forum/#!forum/astroml-general\n",
    "import numpy as np\n",
    "from matplotlib import pyplot as plt\n",
    "from astroML.datasets import fetch_sdss_specgals\n",
    "\n",
    "#----------------------------------------------------------------------\n",
    "# This function adjusts matplotlib settings for a uniform feel in the textbook.\n",
    "# Note that with usetex=True, fonts are rendered with LaTeX.  This may\n",
    "# result in an error if LaTeX is not installed on your system.  In that case,\n",
    "# you can set usetex to False.\n",
    "if \"setup_text_plots\" not in globals():\n",
    "    from astroML.plotting import setup_text_plots\n",
    "setup_text_plots(fontsize=8, usetex=True)\n",
    "\n",
    "#------------------------------------------------------------\n",
    "# Fetch spectroscopic galaxy data\n",
    "data = fetch_sdss_specgals()\n",
    "data = data[:1000]\n",
    "\n",
    "u = data['modelMag_u']\n",
    "r = data['modelMag_r']\n",
    "rPetro = data['petroMag_r']\n",
    "\n",
    "#------------------------------------------------------------\n",
    "# Plot the galaxy colors and magnitudes\n",
    "fig, ax = plt.subplots(figsize=(5, 3.75))\n",
    "ax.plot(u - r, rPetro, '.k', markersize=2)\n",
    "\n",
    "ax.set_xlim(1, 4.5)\n",
    "ax.set_ylim(18.1, 13.5)\n",
    "\n",
    "ax.set_xlabel(r'$\\mathrm{u - r}$')\n",
    "ax.set_ylabel(r'$\\mathrm{r_{petrosian}}$')\n",
    "\n",
    "plt.show()"
   ]
  },
  {
   "cell_type": "code",
   "execution_count": null,
   "metadata": {},
   "outputs": [],
   "source": []
  },
  {
   "cell_type": "markdown",
   "metadata": {},
   "source": [
    "# CLAGN_SDSS"
   ]
  },
  {
   "cell_type": "markdown",
   "metadata": {},
   "source": [
    "## nearest"
   ]
  },
  {
   "cell_type": "code",
   "execution_count": 53,
   "metadata": {
    "ExecuteTime": {
     "end_time": "2022-06-11T12:24:04.512043Z",
     "start_time": "2022-06-11T12:24:04.501069Z"
    }
   },
   "outputs": [],
   "source": [
    "CLAGN_SDSS_nearest=pd.read_csv('/Volumes/ExtremeSSD/Survey_fits/MyTable_CL_spec_Nearest_mjd_name.csv')"
   ]
  },
  {
   "cell_type": "markdown",
   "metadata": {
    "ExecuteTime": {
     "end_time": "2022-06-11T12:24:05.355170Z",
     "start_time": "2022-06-11T12:24:05.323313Z"
    }
   },
   "source": [
    "CLAGN_SDSS_nearest"
   ]
  },
  {
   "cell_type": "code",
   "execution_count": 55,
   "metadata": {
    "ExecuteTime": {
     "end_time": "2022-06-11T12:24:12.148885Z",
     "start_time": "2022-06-11T12:24:12.141789Z"
    }
   },
   "outputs": [],
   "source": [
    "CLAGN_SDSS_nearest_spec=CLAGN_SDSS_nearest[CLAGN_SDSS_nearest['mjd'].notnull()]\n",
    "CLAGN_SDSS_nearest_spec=drop_index(CLAGN_SDSS_nearest_spec)"
   ]
  },
  {
   "cell_type": "code",
   "execution_count": 56,
   "metadata": {
    "ExecuteTime": {
     "end_time": "2022-06-11T12:24:12.838205Z",
     "start_time": "2022-06-11T12:24:12.813153Z"
    }
   },
   "outputs": [
    {
     "data": {
      "text/html": [
       "<div>\n",
       "<style scoped>\n",
       "    .dataframe tbody tr th:only-of-type {\n",
       "        vertical-align: middle;\n",
       "    }\n",
       "\n",
       "    .dataframe tbody tr th {\n",
       "        vertical-align: top;\n",
       "    }\n",
       "\n",
       "    .dataframe thead th {\n",
       "        text-align: right;\n",
       "    }\n",
       "</style>\n",
       "<table border=\"1\" class=\"dataframe\">\n",
       "  <thead>\n",
       "    <tr style=\"text-align: right;\">\n",
       "      <th></th>\n",
       "      <th>Name</th>\n",
       "      <th>ra1</th>\n",
       "      <th>Dec-01</th>\n",
       "      <th>z1</th>\n",
       "      <th>distance</th>\n",
       "      <th>ra2</th>\n",
       "      <th>Dec-02</th>\n",
       "      <th>z2</th>\n",
       "      <th>mjd</th>\n",
       "      <th>plate</th>\n",
       "      <th>fiberid</th>\n",
       "    </tr>\n",
       "  </thead>\n",
       "  <tbody>\n",
       "    <tr>\n",
       "      <th>0</th>\n",
       "      <td>2MASS J01264811-0839481</td>\n",
       "      <td>21.70037</td>\n",
       "      <td>-8.663356</td>\n",
       "      <td>0.19791</td>\n",
       "      <td>0.000545</td>\n",
       "      <td>21.700339</td>\n",
       "      <td>-8.663331</td>\n",
       "      <td>0.197913</td>\n",
       "      <td>54465.0</td>\n",
       "      <td>2878.0</td>\n",
       "      <td>377.0</td>\n",
       "    </tr>\n",
       "    <tr>\n",
       "      <th>1</th>\n",
       "      <td>2MASS J07451198+3809114</td>\n",
       "      <td>116.29990</td>\n",
       "      <td>38.153140</td>\n",
       "      <td>0.23648</td>\n",
       "      <td>0.000517</td>\n",
       "      <td>116.299930</td>\n",
       "      <td>38.153136</td>\n",
       "      <td>0.236480</td>\n",
       "      <td>51873.0</td>\n",
       "      <td>433.0</td>\n",
       "      <td>178.0</td>\n",
       "    </tr>\n",
       "    <tr>\n",
       "      <th>2</th>\n",
       "      <td>2MASS J09270231+0433080</td>\n",
       "      <td>141.75960</td>\n",
       "      <td>4.552278</td>\n",
       "      <td>0.32179</td>\n",
       "      <td>0.000350</td>\n",
       "      <td>141.759620</td>\n",
       "      <td>4.552281</td>\n",
       "      <td>0.321794</td>\n",
       "      <td>52254.0</td>\n",
       "      <td>568.0</td>\n",
       "      <td>524.0</td>\n",
       "    </tr>\n",
       "    <tr>\n",
       "      <th>3</th>\n",
       "      <td>2MASS J10022021+4509276</td>\n",
       "      <td>150.58410</td>\n",
       "      <td>45.157600</td>\n",
       "      <td>0.40090</td>\n",
       "      <td>0.001069</td>\n",
       "      <td>150.584080</td>\n",
       "      <td>45.157586</td>\n",
       "      <td>0.400862</td>\n",
       "      <td>56683.0</td>\n",
       "      <td>7284.0</td>\n",
       "      <td>122.0</td>\n",
       "    </tr>\n",
       "    <tr>\n",
       "      <th>4</th>\n",
       "      <td>2MASS J10520355+1519294</td>\n",
       "      <td>163.01480</td>\n",
       "      <td>15.324890</td>\n",
       "      <td>0.30250</td>\n",
       "      <td>0.000150</td>\n",
       "      <td>163.014800</td>\n",
       "      <td>15.324888</td>\n",
       "      <td>0.302501</td>\n",
       "      <td>53852.0</td>\n",
       "      <td>2483.0</td>\n",
       "      <td>204.0</td>\n",
       "    </tr>\n",
       "    <tr>\n",
       "      <th>...</th>\n",
       "      <td>...</td>\n",
       "      <td>...</td>\n",
       "      <td>...</td>\n",
       "      <td>...</td>\n",
       "      <td>...</td>\n",
       "      <td>...</td>\n",
       "      <td>...</td>\n",
       "      <td>...</td>\n",
       "      <td>...</td>\n",
       "      <td>...</td>\n",
       "      <td>...</td>\n",
       "    </tr>\n",
       "    <tr>\n",
       "      <th>105</th>\n",
       "      <td>WISEA J154507.52+170950.8</td>\n",
       "      <td>236.28140</td>\n",
       "      <td>17.164160</td>\n",
       "      <td>0.04832</td>\n",
       "      <td>0.000616</td>\n",
       "      <td>236.281350</td>\n",
       "      <td>17.164163</td>\n",
       "      <td>0.048325</td>\n",
       "      <td>53889.0</td>\n",
       "      <td>2167.0</td>\n",
       "      <td>139.0</td>\n",
       "    </tr>\n",
       "    <tr>\n",
       "      <th>106</th>\n",
       "      <td>WISEA J154529.63+251127.9</td>\n",
       "      <td>236.37350</td>\n",
       "      <td>25.191070</td>\n",
       "      <td>0.11696</td>\n",
       "      <td>0.000430</td>\n",
       "      <td>236.373500</td>\n",
       "      <td>25.191071</td>\n",
       "      <td>0.116963</td>\n",
       "      <td>53846.0</td>\n",
       "      <td>1849.0</td>\n",
       "      <td>56.0</td>\n",
       "    </tr>\n",
       "    <tr>\n",
       "      <th>107</th>\n",
       "      <td>WISEA J155017.23+413902.4</td>\n",
       "      <td>237.57180</td>\n",
       "      <td>41.650650</td>\n",
       "      <td>0.22014</td>\n",
       "      <td>0.000740</td>\n",
       "      <td>237.571790</td>\n",
       "      <td>41.650638</td>\n",
       "      <td>0.220142</td>\n",
       "      <td>52468.0</td>\n",
       "      <td>1053.0</td>\n",
       "      <td>117.0</td>\n",
       "    </tr>\n",
       "    <tr>\n",
       "      <th>108</th>\n",
       "      <td>WISEA J155258.27+273728.5</td>\n",
       "      <td>238.24290</td>\n",
       "      <td>27.624560</td>\n",
       "      <td>0.08648</td>\n",
       "      <td>0.001417</td>\n",
       "      <td>238.242920</td>\n",
       "      <td>27.624557</td>\n",
       "      <td>0.086478</td>\n",
       "      <td>53498.0</td>\n",
       "      <td>1654.0</td>\n",
       "      <td>603.0</td>\n",
       "    </tr>\n",
       "    <tr>\n",
       "      <th>109</th>\n",
       "      <td>WISEA J162415.02+455130.2</td>\n",
       "      <td>246.06260</td>\n",
       "      <td>45.858370</td>\n",
       "      <td>0.48063</td>\n",
       "      <td>0.000638</td>\n",
       "      <td>246.062630</td>\n",
       "      <td>45.858378</td>\n",
       "      <td>0.480625</td>\n",
       "      <td>52377.0</td>\n",
       "      <td>624.0</td>\n",
       "      <td>102.0</td>\n",
       "    </tr>\n",
       "  </tbody>\n",
       "</table>\n",
       "<p>110 rows × 11 columns</p>\n",
       "</div>"
      ],
      "text/plain": [
       "                               Name        ra1     Dec-01       z1  distance  \\\n",
       "0    2MASS J01264811-0839481          21.70037  -8.663356  0.19791  0.000545   \n",
       "1           2MASS J07451198+3809114  116.29990  38.153140  0.23648  0.000517   \n",
       "2           2MASS J09270231+0433080  141.75960   4.552278  0.32179  0.000350   \n",
       "3    2MASS J10022021+4509276         150.58410  45.157600  0.40090  0.001069   \n",
       "4    2MASS J10520355+1519294         163.01480  15.324890  0.30250  0.000150   \n",
       "..                              ...        ...        ...      ...       ...   \n",
       "105       WISEA J154507.52+170950.8  236.28140  17.164160  0.04832  0.000616   \n",
       "106       WISEA J154529.63+251127.9  236.37350  25.191070  0.11696  0.000430   \n",
       "107       WISEA J155017.23+413902.4  237.57180  41.650650  0.22014  0.000740   \n",
       "108       WISEA J155258.27+273728.5  238.24290  27.624560  0.08648  0.001417   \n",
       "109       WISEA J162415.02+455130.2  246.06260  45.858370  0.48063  0.000638   \n",
       "\n",
       "            ra2     Dec-02        z2      mjd   plate  fiberid  \n",
       "0     21.700339  -8.663331  0.197913  54465.0  2878.0    377.0  \n",
       "1    116.299930  38.153136  0.236480  51873.0   433.0    178.0  \n",
       "2    141.759620   4.552281  0.321794  52254.0   568.0    524.0  \n",
       "3    150.584080  45.157586  0.400862  56683.0  7284.0    122.0  \n",
       "4    163.014800  15.324888  0.302501  53852.0  2483.0    204.0  \n",
       "..          ...        ...       ...      ...     ...      ...  \n",
       "105  236.281350  17.164163  0.048325  53889.0  2167.0    139.0  \n",
       "106  236.373500  25.191071  0.116963  53846.0  1849.0     56.0  \n",
       "107  237.571790  41.650638  0.220142  52468.0  1053.0    117.0  \n",
       "108  238.242920  27.624557  0.086478  53498.0  1654.0    603.0  \n",
       "109  246.062630  45.858378  0.480625  52377.0   624.0    102.0  \n",
       "\n",
       "[110 rows x 11 columns]"
      ]
     },
     "execution_count": 56,
     "metadata": {},
     "output_type": "execute_result"
    }
   ],
   "source": [
    "CLAGN_SDSS_nearest_spec"
   ]
  },
  {
   "cell_type": "code",
   "execution_count": null,
   "metadata": {},
   "outputs": [],
   "source": []
  },
  {
   "cell_type": "markdown",
   "metadata": {},
   "source": [
    "## nearby"
   ]
  },
  {
   "cell_type": "code",
   "execution_count": 48,
   "metadata": {
    "ExecuteTime": {
     "end_time": "2022-06-11T12:06:34.742401Z",
     "start_time": "2022-06-11T12:06:34.718923Z"
    }
   },
   "outputs": [],
   "source": [
    "CLAGN_SDSS_nearby=pd.read_csv('/Volumes/ExtremeSSD/Survey_fits/MyTable_CL_spec_Nearby_mjd_brettlv.csv')"
   ]
  },
  {
   "cell_type": "code",
   "execution_count": 49,
   "metadata": {
    "ExecuteTime": {
     "end_time": "2022-06-11T12:06:35.208133Z",
     "start_time": "2022-06-11T12:06:35.200827Z"
    }
   },
   "outputs": [],
   "source": [
    "CLAGN_SDSS_nearby_spec=CLAGN_SDSS_nearby[CLAGN_SDSS_nearby['mjd'].notnull()]\n",
    "CLAGN_SDSS_nearby_spec=drop_index(CLAGN_SDSS_nearby_spec)"
   ]
  },
  {
   "cell_type": "markdown",
   "metadata": {
    "ExecuteTime": {
     "end_time": "2022-06-11T12:06:38.980295Z",
     "start_time": "2022-06-11T12:06:38.938342Z"
    }
   },
   "source": [
    "CLAGN_SDSS_nearby_spec"
   ]
  },
  {
   "cell_type": "markdown",
   "metadata": {},
   "source": [
    "## DR17"
   ]
  },
  {
   "cell_type": "code",
   "execution_count": 51,
   "metadata": {
    "ExecuteTime": {
     "end_time": "2022-06-11T12:23:18.114482Z",
     "start_time": "2022-06-11T12:23:18.070900Z"
    }
   },
   "outputs": [],
   "source": [
    "CLAGN_SDSSDR17_nearest=pd.read_csv('/Volumes/ExtremeSSD/Survey_fits/MyTable_CL_spec_Nearest_DR17_name.csv')\n",
    "\n",
    "CLAGN_SDSSDR17_nearest_spec=CLAGN_SDSSDR17_nearest[CLAGN_SDSSDR17_nearest['mjd'].notnull()]\n",
    "\n",
    "CLAGN_SDSSDR17_nearest_spec=drop_index(CLAGN_SDSSDR17_nearest_spec)"
   ]
  },
  {
   "cell_type": "code",
   "execution_count": 81,
   "metadata": {
    "ExecuteTime": {
     "end_time": "2022-06-11T12:49:56.369960Z",
     "start_time": "2022-06-11T12:49:56.362612Z"
    }
   },
   "outputs": [
    {
     "data": {
      "text/plain": [
       "11042.0"
      ]
     },
     "execution_count": 81,
     "metadata": {},
     "output_type": "execute_result"
    }
   ],
   "source": [
    "max(CLAGN_SDSSDR17_nearest_spec['plate'])"
   ]
  },
  {
   "cell_type": "code",
   "execution_count": 52,
   "metadata": {
    "ExecuteTime": {
     "end_time": "2022-06-11T12:23:19.361710Z",
     "start_time": "2022-06-11T12:23:19.326554Z"
    },
    "scrolled": true
   },
   "outputs": [
    {
     "data": {
      "text/html": [
       "<div>\n",
       "<style scoped>\n",
       "    .dataframe tbody tr th:only-of-type {\n",
       "        vertical-align: middle;\n",
       "    }\n",
       "\n",
       "    .dataframe tbody tr th {\n",
       "        vertical-align: top;\n",
       "    }\n",
       "\n",
       "    .dataframe thead th {\n",
       "        text-align: right;\n",
       "    }\n",
       "</style>\n",
       "<table border=\"1\" class=\"dataframe\">\n",
       "  <thead>\n",
       "    <tr style=\"text-align: right;\">\n",
       "      <th></th>\n",
       "      <th>Name</th>\n",
       "      <th>ra1</th>\n",
       "      <th>Dec-01</th>\n",
       "      <th>z1</th>\n",
       "      <th>distance</th>\n",
       "      <th>ra2</th>\n",
       "      <th>Dec-02</th>\n",
       "      <th>z2</th>\n",
       "      <th>mjd</th>\n",
       "      <th>plate</th>\n",
       "      <th>fiberid</th>\n",
       "    </tr>\n",
       "  </thead>\n",
       "  <tbody>\n",
       "    <tr>\n",
       "      <th>0</th>\n",
       "      <td>2MASS J01264811-0839481</td>\n",
       "      <td>21.70037</td>\n",
       "      <td>-8.663356</td>\n",
       "      <td>0.19791</td>\n",
       "      <td>0.000545</td>\n",
       "      <td>21.700339</td>\n",
       "      <td>-8.663331</td>\n",
       "      <td>0.197913</td>\n",
       "      <td>54465.0</td>\n",
       "      <td>2878.0</td>\n",
       "      <td>377.0</td>\n",
       "    </tr>\n",
       "    <tr>\n",
       "      <th>1</th>\n",
       "      <td>2MASS J07451198+3809114</td>\n",
       "      <td>116.29990</td>\n",
       "      <td>38.153140</td>\n",
       "      <td>0.23648</td>\n",
       "      <td>0.000517</td>\n",
       "      <td>116.299930</td>\n",
       "      <td>38.153136</td>\n",
       "      <td>0.236480</td>\n",
       "      <td>51873.0</td>\n",
       "      <td>433.0</td>\n",
       "      <td>178.0</td>\n",
       "    </tr>\n",
       "    <tr>\n",
       "      <th>2</th>\n",
       "      <td>2MASS J09270231+0433080</td>\n",
       "      <td>141.75960</td>\n",
       "      <td>4.552278</td>\n",
       "      <td>0.32179</td>\n",
       "      <td>0.000350</td>\n",
       "      <td>141.759620</td>\n",
       "      <td>4.552281</td>\n",
       "      <td>0.321794</td>\n",
       "      <td>52254.0</td>\n",
       "      <td>568.0</td>\n",
       "      <td>524.0</td>\n",
       "    </tr>\n",
       "    <tr>\n",
       "      <th>3</th>\n",
       "      <td>2MASS J10022021+4509276</td>\n",
       "      <td>150.58410</td>\n",
       "      <td>45.157600</td>\n",
       "      <td>0.40090</td>\n",
       "      <td>0.001069</td>\n",
       "      <td>150.584080</td>\n",
       "      <td>45.157586</td>\n",
       "      <td>0.400862</td>\n",
       "      <td>56683.0</td>\n",
       "      <td>7284.0</td>\n",
       "      <td>122.0</td>\n",
       "    </tr>\n",
       "    <tr>\n",
       "      <th>4</th>\n",
       "      <td>2MASS J10520355+1519294</td>\n",
       "      <td>163.01480</td>\n",
       "      <td>15.324890</td>\n",
       "      <td>0.30250</td>\n",
       "      <td>0.000150</td>\n",
       "      <td>163.014800</td>\n",
       "      <td>15.324888</td>\n",
       "      <td>0.302501</td>\n",
       "      <td>53852.0</td>\n",
       "      <td>2483.0</td>\n",
       "      <td>204.0</td>\n",
       "    </tr>\n",
       "    <tr>\n",
       "      <th>...</th>\n",
       "      <td>...</td>\n",
       "      <td>...</td>\n",
       "      <td>...</td>\n",
       "      <td>...</td>\n",
       "      <td>...</td>\n",
       "      <td>...</td>\n",
       "      <td>...</td>\n",
       "      <td>...</td>\n",
       "      <td>...</td>\n",
       "      <td>...</td>\n",
       "      <td>...</td>\n",
       "    </tr>\n",
       "    <tr>\n",
       "      <th>105</th>\n",
       "      <td>WISEA J154507.52+170950.8</td>\n",
       "      <td>236.28140</td>\n",
       "      <td>17.164160</td>\n",
       "      <td>0.04832</td>\n",
       "      <td>0.000616</td>\n",
       "      <td>236.281350</td>\n",
       "      <td>17.164163</td>\n",
       "      <td>0.048325</td>\n",
       "      <td>53889.0</td>\n",
       "      <td>2167.0</td>\n",
       "      <td>139.0</td>\n",
       "    </tr>\n",
       "    <tr>\n",
       "      <th>106</th>\n",
       "      <td>WISEA J154529.63+251127.9</td>\n",
       "      <td>236.37350</td>\n",
       "      <td>25.191070</td>\n",
       "      <td>0.11696</td>\n",
       "      <td>0.000430</td>\n",
       "      <td>236.373500</td>\n",
       "      <td>25.191071</td>\n",
       "      <td>0.116963</td>\n",
       "      <td>53846.0</td>\n",
       "      <td>1849.0</td>\n",
       "      <td>56.0</td>\n",
       "    </tr>\n",
       "    <tr>\n",
       "      <th>107</th>\n",
       "      <td>WISEA J155017.23+413902.4</td>\n",
       "      <td>237.57180</td>\n",
       "      <td>41.650650</td>\n",
       "      <td>0.22014</td>\n",
       "      <td>0.000740</td>\n",
       "      <td>237.571790</td>\n",
       "      <td>41.650638</td>\n",
       "      <td>0.220142</td>\n",
       "      <td>52468.0</td>\n",
       "      <td>1053.0</td>\n",
       "      <td>117.0</td>\n",
       "    </tr>\n",
       "    <tr>\n",
       "      <th>108</th>\n",
       "      <td>WISEA J155258.27+273728.5</td>\n",
       "      <td>238.24290</td>\n",
       "      <td>27.624560</td>\n",
       "      <td>0.08648</td>\n",
       "      <td>0.001417</td>\n",
       "      <td>238.242920</td>\n",
       "      <td>27.624557</td>\n",
       "      <td>0.086478</td>\n",
       "      <td>53498.0</td>\n",
       "      <td>1654.0</td>\n",
       "      <td>603.0</td>\n",
       "    </tr>\n",
       "    <tr>\n",
       "      <th>109</th>\n",
       "      <td>WISEA J162415.02+455130.2</td>\n",
       "      <td>246.06260</td>\n",
       "      <td>45.858370</td>\n",
       "      <td>0.48063</td>\n",
       "      <td>0.000638</td>\n",
       "      <td>246.062630</td>\n",
       "      <td>45.858378</td>\n",
       "      <td>0.480625</td>\n",
       "      <td>52377.0</td>\n",
       "      <td>624.0</td>\n",
       "      <td>102.0</td>\n",
       "    </tr>\n",
       "  </tbody>\n",
       "</table>\n",
       "<p>110 rows × 11 columns</p>\n",
       "</div>"
      ],
      "text/plain": [
       "                               Name        ra1     Dec-01       z1  distance  \\\n",
       "0    2MASS J01264811-0839481          21.70037  -8.663356  0.19791  0.000545   \n",
       "1           2MASS J07451198+3809114  116.29990  38.153140  0.23648  0.000517   \n",
       "2           2MASS J09270231+0433080  141.75960   4.552278  0.32179  0.000350   \n",
       "3    2MASS J10022021+4509276         150.58410  45.157600  0.40090  0.001069   \n",
       "4    2MASS J10520355+1519294         163.01480  15.324890  0.30250  0.000150   \n",
       "..                              ...        ...        ...      ...       ...   \n",
       "105       WISEA J154507.52+170950.8  236.28140  17.164160  0.04832  0.000616   \n",
       "106       WISEA J154529.63+251127.9  236.37350  25.191070  0.11696  0.000430   \n",
       "107       WISEA J155017.23+413902.4  237.57180  41.650650  0.22014  0.000740   \n",
       "108       WISEA J155258.27+273728.5  238.24290  27.624560  0.08648  0.001417   \n",
       "109       WISEA J162415.02+455130.2  246.06260  45.858370  0.48063  0.000638   \n",
       "\n",
       "            ra2     Dec-02        z2      mjd   plate  fiberid  \n",
       "0     21.700339  -8.663331  0.197913  54465.0  2878.0    377.0  \n",
       "1    116.299930  38.153136  0.236480  51873.0   433.0    178.0  \n",
       "2    141.759620   4.552281  0.321794  52254.0   568.0    524.0  \n",
       "3    150.584080  45.157586  0.400862  56683.0  7284.0    122.0  \n",
       "4    163.014800  15.324888  0.302501  53852.0  2483.0    204.0  \n",
       "..          ...        ...       ...      ...     ...      ...  \n",
       "105  236.281350  17.164163  0.048325  53889.0  2167.0    139.0  \n",
       "106  236.373500  25.191071  0.116963  53846.0  1849.0     56.0  \n",
       "107  237.571790  41.650638  0.220142  52468.0  1053.0    117.0  \n",
       "108  238.242920  27.624557  0.086478  53498.0  1654.0    603.0  \n",
       "109  246.062630  45.858378  0.480625  52377.0   624.0    102.0  \n",
       "\n",
       "[110 rows x 11 columns]"
      ]
     },
     "execution_count": 52,
     "metadata": {},
     "output_type": "execute_result"
    }
   ],
   "source": [
    "CLAGN_SDSSDR17_nearest_spec"
   ]
  },
  {
   "cell_type": "markdown",
   "metadata": {},
   "source": [
    "# downlaod_SDSS_Spectrum"
   ]
  },
  {
   "cell_type": "code",
   "execution_count": 87,
   "metadata": {
    "ExecuteTime": {
     "end_time": "2022-06-11T14:06:40.214232Z",
     "start_time": "2022-06-11T14:04:26.208928Z"
    }
   },
   "outputs": [
    {
     "name": "stdout",
     "output_type": "stream",
     "text": [
      "Loading csv files...\n",
      "\n",
      "/Users/brettlv/astroML_data/SDSSspec/2878/spSpec-54465-2878-377.fit 2MASS J01264811-0839481        2878.0\n",
      "Downloaded 1 spectra(s) ! \n",
      "/Users/brettlv/astroML_data/SDSSspec/0433/spSpec-51873-0433-178.fit 2MASS J07451198+3809114 433.0\n",
      "Downloaded 2 spectra(s) ! \n",
      "/Users/brettlv/astroML_data/SDSSspec/0568/spSpec-52254-0568-524.fit 2MASS J09270231+0433080 568.0\n",
      "Downloaded 3 spectra(s) ! \n",
      "\n",
      "Passed a error at: 4\n",
      "\n",
      "/Users/brettlv/astroML_data/SDSSspec/2483/spSpec-53852-2483-204.fit 2MASS J10520355+1519294        2483.0\n",
      "Downloaded 5 spectra(s) ! \n",
      "/Users/brettlv/astroML_data/SDSSspec/1012/spSpec-52649-1012-216.fit 2MASS J11132967+5313393 1012.0\n",
      "Downloaded 6 spectra(s) ! \n",
      "/Users/brettlv/astroML_data/SDSSspec/1628/spSpec-53474-1628-328.fit 2MASS J12335916+0842112 1628.0\n",
      "Downloaded 7 spectra(s) ! \n",
      "/Users/brettlv/astroML_data/SDSSspec/2760/spSpec-54506-2760-588.fit 2MASS J14284671+1723530        2760.0\n",
      "Downloaded 8 spectra(s) ! \n",
      "\n",
      "Passed a error at: 9\n",
      "\n",
      "/Users/brettlv/astroML_data/SDSSspec/0593/spSpec-52026-0593-597.fit 2MASS J15361278+0342457 593.0\n",
      "Downloaded 10 spectra(s) ! \n",
      "Downloading http://das.sdss.org/spectro/1d_26/1332/1d/spSpec-52781-1332-514.fit\n",
      "[========================================]  182.8kb / 182.8kb   \n",
      "caching to /Users/brettlv/astroML_data/SDSSspec/1332/spSpec-52781-1332-514.fit\n",
      "<class '_io.BytesIO'> 2MASS J15373408+4613585 1332.0\n",
      "Downloaded 11 spectra(s) ! \n",
      "Downloading http://das.sdss.org/spectro/1d_26/0813/1d/spSpec-52354-0813-370.fit\n",
      "[========================================]  182.8kb / 182.8kb   \n",
      "caching to /Users/brettlv/astroML_data/SDSSspec/0813/spSpec-52354-0813-370.fit\n",
      "<class '_io.BytesIO'> 2MASS J16011122+4745095 813.0\n",
      "Downloaded 12 spectra(s) ! \n",
      "Downloading http://das.sdss.org/spectro/1d_26/1732/1d/spSpec-53501-1732-251.fit\n",
      "[========================================]  182.8kb / 182.8kb   \n",
      "caching to /Users/brettlv/astroML_data/SDSSspec/1732/spSpec-53501-1732-251.fit\n",
      "<class '_io.BytesIO'> 2MASS J16171142+0638333 1732.0\n",
      "Downloaded 13 spectra(s) ! \n",
      "Downloading http://das.sdss.org/spectro/1d_26/0985/1d/spSpec-52431-0985-352.fit\n",
      "[========================================]  182.8kb / 182.8kb   \n",
      "caching to /Users/brettlv/astroML_data/SDSSspec/0985/spSpec-52431-0985-352.fit\n",
      "<class '_io.BytesIO'> 2MASS J21020044+0005020 985.0\n",
      "Downloaded 14 spectra(s) ! \n",
      "Downloading http://das.sdss.org/spectro/1d_26/0717/1d/spSpec-52468-0717-532.fit\n",
      "[========================================]  182.8kb / 182.8kb   \n",
      "caching to /Users/brettlv/astroML_data/SDSSspec/0717/spSpec-52468-0717-532.fit\n",
      "<class '_io.BytesIO'> 2MASS J22053771-0711147 717.0\n",
      "Downloaded 15 spectra(s) ! \n",
      "\n",
      "Tried to download: 15 spectra(s).\n",
      "Warning: 2 spectra(s) failed to download !\n",
      "\n",
      "Completed!\n",
      "\n"
     ]
    }
   ],
   "source": [
    "import numpy as np\n",
    "from pandas import DataFrame, read_csv\n",
    "from astroML.datasets import fetch_sdss_spectrum\n",
    "import urllib\n",
    "import pickle\n",
    "from astropy.time import Time\n",
    "from astropy.io import fits\n",
    "import time\n",
    "import datetime\n",
    "\n",
    "#time.sleep(10+np.random.randint(5,10)) \n",
    "\n",
    "#Read CSV to Dataframe\n",
    "\n",
    "print(\"Loading csv files...\\n\")\n",
    "\n",
    "\n",
    "all_label = []\n",
    "all_data = []\n",
    "spec_i = 0\n",
    "warn_d = 0\n",
    "\n",
    "\n",
    "for index, (plate, mjd, fiberid,name) in enumerate(zip(CLAGN_SDSSDR17_nearest_spec['plate'],\\\n",
    "                                                  CLAGN_SDSSDR17_nearest_spec['mjd'],\\\n",
    "                                                  CLAGN_SDSSDR17_nearest_spec['fiberid'],\\\n",
    "                                                  CLAGN_SDSSDR17_nearest_spec['Name'])):\n",
    "    try:\n",
    "        if  index < 15:\n",
    "            spec = fetch_sdss_spectrum(round(plate), round(mjd), round(fiberid))\n",
    "            data_list = [spec.hdulist.filename(),name]\n",
    "            print(spec.hdulist.filename(),name,plate)\n",
    "            all_data.append(data_list)\n",
    "            spec_i = spec_i + 1\n",
    "            print(\"Downloaded \" + str(spec_i) + \" spectra(s) ! \")\n",
    "            time.sleep(1+np.random.randint(2,5)) \n",
    "            \n",
    "    except urllib.error.HTTPError or urllib.error.URLError:\n",
    "        warn_d = warn_d + 1\n",
    "        spec_i = spec_i + 1\n",
    "        print(\"\\nPassed a error at: \" + str(spec_i) + \"\\n\")\n",
    "        time.sleep(5+np.random.randint(5,10)) \n",
    "\n",
    "print(\"\\nTried to download: \" + str(spec_i) + \" spectra(s).\")\n",
    "if warn_d > 0:\n",
    "    warn_d = str(warn_d)\n",
    "    print(\"Warning: \" + warn_d + \" spectra(s) failed to download !\\n\")\n",
    "else:\n",
    "    print(\"And there's no error.\\n\")\n",
    "print(\"Completed!\\n\")\n",
    "\n",
    "#Store the data to pickle file\n",
    "\n"
   ]
  },
  {
   "cell_type": "markdown",
   "metadata": {
    "ExecuteTime": {
     "end_time": "2022-06-11T12:38:31.203460Z",
     "start_time": "2022-06-11T12:38:31.044064Z"
    }
   },
   "source": [
    "mkdir data"
   ]
  },
  {
   "cell_type": "code",
   "execution_count": 65,
   "metadata": {
    "ExecuteTime": {
     "end_time": "2022-06-11T12:38:33.043101Z",
     "start_time": "2022-06-11T12:38:33.034877Z"
    }
   },
   "outputs": [],
   "source": [
    "with open('./data/listfile_5.data', 'wb') as filehandle: \n",
    "    # store the data as binary data stream\n",
    "    pickle.dump(all_data, filehandle)"
   ]
  },
  {
   "cell_type": "markdown",
   "metadata": {
    "ExecuteTime": {
     "end_time": "2022-06-11T12:38:44.899712Z",
     "start_time": "2022-06-11T12:38:44.744146Z"
    }
   },
   "source": [
    "cat ./data/listfile_5.data"
   ]
  },
  {
   "cell_type": "code",
   "execution_count": null,
   "metadata": {},
   "outputs": [],
   "source": []
  }
 ],
 "metadata": {
  "kernelspec": {
   "display_name": "Python 3",
   "language": "python",
   "name": "python3"
  },
  "language_info": {
   "codemirror_mode": {
    "name": "ipython",
    "version": 3
   },
   "file_extension": ".py",
   "mimetype": "text/x-python",
   "name": "python",
   "nbconvert_exporter": "python",
   "pygments_lexer": "ipython3",
   "version": "3.8.5"
  },
  "latex_envs": {
   "LaTeX_envs_menu_present": true,
   "autocomplete": true,
   "bibliofile": "biblio.bib",
   "cite_by": "apalike",
   "current_citInitial": 1,
   "eqLabelWithNumbers": true,
   "eqNumInitial": 1,
   "hotkeys": {
    "equation": "Ctrl-E",
    "itemize": "Ctrl-I"
   },
   "labels_anchors": false,
   "latex_user_defs": false,
   "report_style_numbering": false,
   "user_envs_cfg": false
  },
  "toc": {
   "nav_menu": {},
   "number_sections": true,
   "sideBar": true,
   "skip_h1_title": false,
   "toc_cell": false,
   "toc_position": {
    "height": "600.84px",
    "left": "0px",
    "right": "1339.28px",
    "top": "160.156px",
    "width": "211.973px"
   },
   "toc_section_display": "block",
   "toc_window_display": true
  }
 },
 "nbformat": 4,
 "nbformat_minor": 2
}
