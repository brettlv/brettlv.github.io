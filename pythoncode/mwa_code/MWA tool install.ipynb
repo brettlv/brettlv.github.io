{
 "cells": [
  {
   "cell_type": "code",
   "execution_count": null,
   "metadata": {
    "collapsed": true
   },
   "outputs": [],
   "source": [
    "# Tap\n",
    "$ brew tap guotsuan/mwa-tools\n",
    "$ brew install <formula>\n",
    "\n",
    "# if have problem with new imac pro\n",
    "$ brew install --with-avx512 <formula>\n",
    "\n"
   ]
  },
  {
   "cell_type": "code",
   "execution_count": null,
   "metadata": {
    "collapsed": true
   },
   "outputs": [],
   "source": [
    "guotsuan/homebrew-mwa-tools\n",
    "\n",
    "aoflagger.rb\tUpdate aoflagger.rb\t5 months ago\n",
    "casacore-data.rb\tAdd casacore-data\t5 months ago\n",
    "casacore.rb\tUpdate dysco.rb\t3 months ago\n",
    "cotter.rb\tAdd wsclean source file\t5 months ago\n",
    "duchamp.rb\tadd wcslib.rb and duchamp.rb\t2 months ago\n",
    "dysco.rb\tUpdate dysco.rb\t3 months ago\n",
    "erfa.rb\tAdd erfa.rb\t5 months ago\n",
    "halomodel.rb\tAdd halomodel and nicaea\t4 months ago\n",
    "mwa-reduce.rb\tUpdate mw-reduce sha256\t5 months ago\n",
    "nicaea.rb\tAdd halomodel and nicaea\t4 months ago\n",
    "pal.rb\tUpdate pal.rb\t5 months ago\n",
    "sextractor.rb\tAdd sextractor formula\t3 months ago\n",
    "slalib.rb\tAdd slalib.rb\t5 months ago\n",
    "wcslib.rb\tadd wcslib.rb and duchamp.rb\t2 months ago\n",
    "wsclean.rb\tUpdate wsclean.rb\t5 months ago\n",
    "\n"
   ]
  },
  {
   "cell_type": "code",
   "execution_count": null,
   "metadata": {
    "collapsed": true
   },
   "outputs": [],
   "source": [
    "Error: parent directory is world writable but not sticky\n",
    "    \n",
    "解决方法：\n",
    "先查看自己本机 /private/tmp 的文件夹的读写权限,在我的mac机器上如下：\n",
    "\n",
    "➜  ls -ld /tmp\n",
    "lrwxr-xr-x@ 1 root  wheel  11 11 13  2014 /tmp -> private/tmp\n",
    "➜  ls -ld /private/tmp\n",
    "drwxrwxrwt  13 root  wheel  442  1 18 09:07 /private/tmp\n",
    "为了解决这个 'sticky' permission of /private/tmp ,需要执行如下的命令：\n",
    "sudo chmod +t /private/tmp/"
   ]
  },
  {
   "cell_type": "code",
   "execution_count": null,
   "metadata": {
    "collapsed": true
   },
   "outputs": [],
   "source": [
    "brew install aoflagger\n",
    "\n",
    "-- Looking for exp10 - not found\n",
    "-- Performing Test COMPILER_SUPPORTS_MARCH_NATIVE\n",
    "-- Performing Test COMPILER_SUPPORTS_MARCH_NATIVE - Success\n",
    "-- Performing Test COMPILER_SUPPORTS_SUGGEST_OVERRIDE\n",
    "-- Performing Test COMPILER_SUPPORTS_SUGGEST_OVERRIDE - Failed\n",
    "-- Boost ASIO library found.\n",
    "-- GSL found.\n",
    "CMake Warning at src/CMakeLists.txt:303 (message):\n",
    "   The graphical user interface library GTKMM was not found; rfigui and aoqplot will not be compiled.\n",
    "\n",
    "\n",
    "-- Could NOT find Doxygen (missing: DOXYGEN_EXECUTABLE) \n",
    "-- Configuring incomplete, errors occurred!"
   ]
  },
  {
   "cell_type": "code",
   "execution_count": null,
   "metadata": {
    "collapsed": true
   },
   "outputs": [],
   "source": [
    "Searching for similarly named formulae...\n",
    "These similarly named formulae were found:\n",
    "guotsuan/mwa-tools/aoflagger           guotsuan/mwa-tools/mwa-reduce ✔\n",
    "guotsuan/mwa-tools/casacore ✔          guotsuan/mwa-tools/nicaea ✔\n",
    "guotsuan/mwa-tools/casacore-data ✔     guotsuan/mwa-tools/pal ✔\n",
    "guotsuan/mwa-tools/cotter              guotsuan/mwa-tools/sextractor ✔\n",
    "guotsuan/mwa-tools/duchamp             guotsuan/mwa-tools/slalib ✔\n",
    "guotsuan/mwa-tools/dysco ✔             guotsuan/mwa-tools/wcslib ✔\n",
    "guotsuan/mwa-tools/erfa ✔              guotsuan/mwa-tools/wsclean ✔\n",
    "guotsuan/mwa-tools/halomodel ✔"
   ]
  },
  {
   "cell_type": "code",
   "execution_count": null,
   "metadata": {
    "collapsed": true
   },
   "outputs": [],
   "source": [
    "for ubuntu\n",
    "aoflagger#\n",
    "aoflagger-dev#apt get install\n",
    "dysco#\n",
    "erfa#./bootstrap.sh\n",
    "\n",
    "casacore?\n",
    "pal?\n",
    "cotter?\n",
    "slablib#\n"
   ]
  },
  {
   "cell_type": "code",
   "execution_count": null,
   "metadata": {
    "collapsed": true
   },
   "outputs": [],
   "source": [
    "brew install cotter\n",
    "\n",
    "-- Looking for exp10 - not found\n",
    "-- Performing Test COMPILER_SUPPORTS_MARCH_NATIVE\n",
    "-- Performing Test COMPILER_SUPPORTS_MARCH_NATIVE - Success\n",
    "-- Performing Test COMPILER_SUPPORTS_SUGGEST_OVERRIDE\n",
    "-- Performing Test COMPILER_SUPPORTS_SUGGEST_OVERRIDE - Failed\n",
    "-- Boost ASIO library found.\n",
    "-- GSL found.\n",
    "CMake Warning at src/CMakeLists.txt:303 (message):\n",
    "   The graphical user interface library GTKMM was not found; rfigui and aoqplot will not be compiled.\n",
    "\n",
    "\n",
    "-- Could NOT find Doxygen (missing: DOXYGEN_EXECUTABLE) \n",
    "-- Configuring incomplete, errors occurred!"
   ]
  },
  {
   "cell_type": "code",
   "execution_count": null,
   "metadata": {
    "collapsed": true
   },
   "outputs": [],
   "source": []
  },
  {
   "cell_type": "code",
   "execution_count": null,
   "metadata": {
    "collapsed": true
   },
   "outputs": [],
   "source": [
    "Docker\n",
    "An appropriate Dockerfile for creating a cotter container is provided in Dockerfile in the repo. To build the image, run the following, it will create an image called cotter:latest.\n",
    "\n",
    "docker build -t cotter:latest .\n",
    "One way to launch the container is to use docker run, for example:\n",
    "\n",
    "docker run --name my_cotter --volume=/data:/data --entrypoint=\"\" --rm=true cotter:latest cotter -allowmissing -initflag 4 -m /data/OBSID_metafits.fits -o /data/OBSID_%%.mwaf /data/*gpubox*.fits \n",
    "notes:\n",
    "\n",
    "This will perform RFI flagging and create .mwaf files for each coarse channel. See cotter -help for other ways to use cotter.\n",
    "This assumes /data is a directory on the machine running docker (host) containing the gpubox files and metafits for an observation\n",
    "--rm=true means the container will be deleted once it exits (you may or may not want this)\n",
    "OBSID is an MWA observation ID"
   ]
  },
  {
   "cell_type": "code",
   "execution_count": null,
   "metadata": {
    "collapsed": true
   },
   "outputs": [],
   "source": [
    "Successfully built cae2ab4d1d13\n",
    "Successfully tagged cotter:latest"
   ]
  },
  {
   "cell_type": "code",
   "execution_count": null,
   "metadata": {
    "collapsed": true
   },
   "outputs": [],
   "source": [
    "docker run --volume=/Users/brettlv/MWA/MWAdata/:/data --entrypoint=\"\" cotter:latest "
   ]
  },
  {
   "cell_type": "code",
   "execution_count": null,
   "metadata": {
    "collapsed": true
   },
   "outputs": [],
   "source": [
    "docker start a8e2ba26e45d/tender_chaum  &&  docker attach a8e2ba26e45d/tender_chaum\n"
   ]
  },
  {
   "cell_type": "code",
   "execution_count": null,
   "metadata": {
    "collapsed": true
   },
   "outputs": [],
   "source": []
  },
  {
   "cell_type": "code",
   "execution_count": null,
   "metadata": {
    "collapsed": true
   },
   "outputs": [],
   "source": [
    "http://ws.mwatelescope.org/admin/observation/observationsetting/?observation_id=&observation_name=&sun_elevation=&sun_elevation_plusminus=&projectid=G0044&timezone=1&sun_pointing_distance=&sun_pointing_distance_plusminus=&startTime=&endTime=&jupiter_pointing_distance=&jupiter_pointing_distance_plusminus=&durationFrom=&durationTo=&moon_pointing_distance=&moon_pointing_distance_plusminus=&cfreq=&cfreqplusminus=&sky_temp=&sky_temp_plusminus=&dataquality=1&gpn=&gainFrom=&gainTo=&az=&azplusminus=&el=&elplusminus=&ra=&raplusminus=&dec=&decplusminus="
   ]
  },
  {
   "cell_type": "code",
   "execution_count": null,
   "metadata": {
    "collapsed": true
   },
   "outputs": [],
   "source": [
    "wget -O 1209124256_metafits.fits http://ws.mwatelescope.org/metadata/fits?obs_id=1209124256"
   ]
  },
  {
   "cell_type": "code",
   "execution_count": null,
   "metadata": {
    "collapsed": true
   },
   "outputs": [],
   "source": [
    "docker run --name my_cotter --volume=/Users/brettlv/MWA/MWAdata:/data --entrypoint=\"\" cotter:latest cotter -allowmissing -initflag 4 -m /data/1209124256_metafits.fits -o /data/1209124256_%%.mwaf /data/*gpubox*.fits \n",
    " "
   ]
  },
  {
   "cell_type": "code",
   "execution_count": null,
   "metadata": {
    "collapsed": true
   },
   "outputs": [],
   "source": [
    " http://ws.mwatelescope.org/metadata/obs?obs_id=1209124256"
   ]
  },
  {
   "cell_type": "code",
   "execution_count": null,
   "metadata": {
    "collapsed": true
   },
   "outputs": [],
   "source": [
    "export MWA_ASVO_API_KEY='9b19b123-700c-4e50-aad2-98f9c2bd1db0'"
   ]
  },
  {
   "cell_type": "code",
   "execution_count": null,
   "metadata": {
    "collapsed": true
   },
   "outputs": [],
   "source": [
    "mwa_client -c csvfile -d destdir           Submit jobs in the csv file, monitor them, then download the files, then exit\n",
    "mwa_client -c csvfile -s                   Submit jobs in the csv file, then exit\n",
    "mwa_client -d destdir -w JOBID             Download the job id (assuming it is ready to download), then exit\n",
    "mwa_client -d destdir -w all               Download any ready to download jobs, then exit\n",
    "mwa_client -d destdir -w all -e error_file Download any ready to download jobs, then exit, writing any errors to error_file\n",
    "mwa_client -l                              List all of your jobs and their status, then exit"
   ]
  },
  {
   "cell_type": "code",
   "execution_count": null,
   "metadata": {
    "collapsed": true
   },
   "outputs": [],
   "source": [
    "Error: Permission to access 1209124256 denied, data still under an embargo.; \n",
    "Job id: 142806 Obs id: 1209124256 type: download visibilities\n",
    "Ready for Download: Job id: 142877 Obs id: 1194193248 type: download visibilities size: 178934 bytes"
   ]
  },
  {
   "cell_type": "code",
   "execution_count": null,
   "metadata": {
    "collapsed": true
   },
   "outputs": [],
   "source": [
    "mwa_client -d /Users/brettlv/MWA/MWAdata -w 142877"
   ]
  },
  {
   "cell_type": "markdown",
   "metadata": {},
   "source": [
    "# [find obs](https://wiki.mwatelescope.org/display/MP/Web+Services#WebServices-Findobservations)"
   ]
  },
  {
   "cell_type": "code",
   "execution_count": null,
   "metadata": {
    "collapsed": true
   },
   "outputs": [],
   "source": [
    "## qguo example"
   ]
  },
  {
   "cell_type": "code",
   "execution_count": null,
   "metadata": {
    "collapsed": true
   },
   "outputs": [],
   "source": [
    "1205857264\tData Conversion Job\n",
    "Download URLs\n",
    "https://asvo.mwatelescope.org:8778/api/download?job_id=205254&file_name=1205857264_ms.zip\n",
    "Parameters\n",
    "Time Resolution: 10 s\n",
    "Freq Resolution: 40 kHz\n",
    "Edge Width: 80 kHz\n",
    "Output Format: Measurement Set\n",
    "Do not apply calibration\n",
    "Do not abort when not all vis files are available\n",
    "Flag the centre channel of each coarse channel\n",
    "Do not flag auto-correlations"
   ]
  },
  {
   "cell_type": "markdown",
   "metadata": {},
   "source": [
    "## [SS 433](http://ned.ipac.caltech.edu/cgi-bin/objsearch?objname=SS+433&extend=no&hconst=73&omegam=0.27&omegav=0.73&corr_z=1&out_csys=Equatorial&out_equinox=J2000.0&obj_sort=RA+or+Longitude&of=pre_text&zv_breaker=30000.0&list_limit=5&img_stamp=YES)"
   ]
  },
  {
   "cell_type": "code",
   "execution_count": null,
   "metadata": {
    "collapsed": true
   },
   "outputs": [],
   "source": [
    "Equatorial (J2000.0) 287.9565229   4.9826978 19h11m49.565s +04d58m57.71s"
   ]
  },
  {
   "cell_type": "code",
   "execution_count": null,
   "metadata": {
    "collapsed": true
   },
   "outputs": [],
   "source": [
    "287.956 4.982"
   ]
  },
  {
   "cell_type": "code",
   "execution_count": null,
   "metadata": {
    "collapsed": true
   },
   "outputs": [],
   "source": []
  },
  {
   "cell_type": "code",
   "execution_count": null,
   "metadata": {
    "collapsed": true
   },
   "outputs": [],
   "source": [
    "A collection of Formulas of Tools for MWA data reducing\n",
    "Usage\n",
    "# Tap\n",
    "$ brew tap guotsuan/mwa-tools\n",
    "$ brew install <formula>\n",
    "\n",
    "# if have problem with new imac pro\n",
    "$ brew install --with-avx512 <formula>\n",
    "Notes\n",
    "Cotter is not needed."
   ]
  },
  {
   "cell_type": "code",
   "execution_count": null,
   "metadata": {
    "collapsed": true
   },
   "outputs": [],
   "source": []
  },
  {
   "cell_type": "code",
   "execution_count": 1,
   "metadata": {
    "ExecuteTime": {
     "end_time": "2019-07-27T16:33:16.338471Z",
     "start_time": "2019-07-27T16:33:16.006681Z"
    },
    "collapsed": true
   },
   "outputs": [],
   "source": [
    "import numpy as np"
   ]
  },
  {
   "cell_type": "code",
   "execution_count": null,
   "metadata": {
    "collapsed": true
   },
   "outputs": [],
   "source": []
  }
 ],
 "metadata": {
  "kernelspec": {
   "display_name": "Python 3",
   "language": "python",
   "name": "python3"
  },
  "language_info": {
   "codemirror_mode": {
    "name": "ipython",
    "version": 3
   },
   "file_extension": ".py",
   "mimetype": "text/x-python",
   "name": "python",
   "nbconvert_exporter": "python",
   "pygments_lexer": "ipython3",
   "version": "3.6.0"
  },
  "latex_envs": {
   "LaTeX_envs_menu_present": true,
   "autocomplete": true,
   "bibliofile": "biblio.bib",
   "cite_by": "apalike",
   "current_citInitial": 1,
   "eqLabelWithNumbers": true,
   "eqNumInitial": 1,
   "hotkeys": {
    "equation": "Ctrl-E",
    "itemize": "Ctrl-I"
   },
   "labels_anchors": false,
   "latex_user_defs": false,
   "report_style_numbering": false,
   "user_envs_cfg": false
  },
  "toc": {
   "nav_menu": {},
   "number_sections": true,
   "sideBar": true,
   "skip_h1_title": false,
   "toc_cell": false,
   "toc_position": {},
   "toc_section_display": "block",
   "toc_window_display": false
  }
 },
 "nbformat": 4,
 "nbformat_minor": 2
}
