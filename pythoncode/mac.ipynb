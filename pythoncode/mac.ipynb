{
 "cells": [
  {
   "cell_type": "code",
   "execution_count": 7,
   "metadata": {
    "ExecuteTime": {
     "end_time": "2018-11-23T13:05:29.273245Z",
     "start_time": "2018-11-23T13:05:29.267696Z"
    },
    "collapsed": false
   },
   "outputs": [
    {
     "data": {
      "text/plain": [
       "'/Users/brettlv/blog/brettlv.github.io/pythoncode'"
      ]
     },
     "execution_count": 7,
     "metadata": {},
     "output_type": "execute_result"
    }
   ],
   "source": [
    "pwd"
   ]
  },
  {
   "cell_type": "code",
   "execution_count": null,
   "metadata": {
    "collapsed": true
   },
   "outputs": [],
   "source": []
  },
  {
   "cell_type": "code",
   "execution_count": 8,
   "metadata": {
    "ExecuteTime": {
     "end_time": "2018-11-23T13:05:31.135757Z",
     "start_time": "2018-11-23T13:05:31.130987Z"
    },
    "collapsed": false
   },
   "outputs": [
    {
     "name": "stdout",
     "output_type": "stream",
     "text": [
      "[Errno 2] No such file or directory: '/Volumes/Seagate_Backup_Plus_Drive_Lvb/V404cyg/nustar_v404/'\n",
      "/Users/brettlv/blog/brettlv.github.io/pythoncode\n"
     ]
    }
   ],
   "source": [
    "cd /Volumes/Seagate_Backup_Plus_Drive_Lvb/V404cyg/nustar_v404/"
   ]
  },
  {
   "cell_type": "code",
   "execution_count": 9,
   "metadata": {
    "ExecuteTime": {
     "end_time": "2018-11-23T13:05:32.605798Z",
     "start_time": "2018-11-23T13:05:32.474835Z"
    },
    "collapsed": false
   },
   "outputs": [
    {
     "name": "stdout",
     "output_type": "stream",
     "text": [
      "03_plotting_periodictable_mendeleev.ipynb\r\n",
      "16radio_vla_learn_note.ipynb\r\n",
      "3Dplot.ipynb\r\n",
      "Bfraction.ipynb\r\n",
      "CC.ipynb\r\n",
      "FreqBayes.ipynb\r\n",
      "FreqBayes1Practical Introduction.ipynb\r\n",
      "FreqBayes2.ipynb\r\n",
      "FreqBayes2When Results Differ.ipynb\r\n",
      "FreqBayes3Confidence, Credibility.ipynb\r\n",
      "FreqBayes4How to be a Bayesian in Python.ipynb\r\n",
      "FreqBayes5modelselection.ipynb\r\n",
      "GRO1655_40.ipynb\r\n",
      "GetlistofwikiwithFIRST SURVEY.ipynb\r\n",
      "Nustar_data_reduction.ipynb\r\n",
      "Powerdensityspectrum.ipynb\r\n",
      "QPO_nustar_lc_and_pds_V404_.ipynb\r\n",
      "Untitled.ipynb\r\n",
      "Untitled1.ipynb\r\n",
      "Untitled10.ipynb\r\n",
      "Untitled11.ipynb\r\n",
      "Untitled12.ipynb\r\n",
      "Untitled13.ipynb\r\n",
      "Untitled14.ipynb\r\n",
      "Untitled15.ipynb\r\n",
      "Untitled16.ipynb\r\n",
      "Untitled17.ipynb\r\n",
      "Untitled2.ipynb\r\n",
      "Untitled3.ipynb\r\n",
      "Untitled4.ipynb\r\n",
      "Untitled5.ipynb\r\n",
      "Untitled6.ipynb\r\n",
      "Untitled7.ipynb\r\n",
      "Untitled8.ipynb\r\n",
      "Untitled9.ipynb\r\n",
      "V404_2013_1.ms.ipynb\r\n",
      "V404_qpo_xrt.ipynb\r\n",
      "advanced python.ipynb\r\n",
      "arXiv_analysis.ipynb\r\n",
      "arxiv_new_submission_search_and_download.ipynb\r\n",
      "arxivchecker.ipynb\r\n",
      "astro.ipynb\r\n",
      "astroLombScargle.ipynb\r\n",
      "astro_convolution.ipynb\r\n",
      "astro_cosmology.ipynb\r\n",
      "astro_fits.ipynb\r\n",
      "astro_function_table.ipynb\r\n",
      "astro_model_fit.ipynb\r\n",
      "astro_nova_fit.ipynb\r\n",
      "astro_pyds9.ipynb\r\n",
      "astro_redshift.ipynb\r\n",
      "astro_spectum.ipynb\r\n",
      "astro_time.ipynb\r\n",
      "astro_visualization.ipynb\r\n",
      "astro_vo.ipynb\r\n",
      "astro_wcs.ipynb\r\n",
      "astro_xml.ipynb\r\n",
      "astroimage.ipynb\r\n",
      "bayes_monte_carlo.ipynb\r\n",
      "blackbodyfit.ipynb\r\n",
      "bmcmc_sanjibs.ipynb\r\n",
      "caculator.ipynb\r\n",
      "casa_tutorial_vla_V404_.ipynb\r\n",
      "chandra.time.ipynb\r\n",
      "chandra_list_vot_xml.ipynb\r\n",
      "constant_phy.ipynb\r\n",
      "deep learning.ipynb\r\n",
      "disk_LT_precess_code_c_note.ipynb\r\n",
      "distance_estimation.ipynb\r\n",
      "downloadwebandtopdf.ipynb\r\n",
      "fermipy.ipynb\r\n",
      "flux_opt_estimation.ipynb\r\n",
      "fundamental_agn.ipynb\r\n",
      "fundamental_fixaccretionrate.ipynb\r\n",
      "fundamental_linear.ipynb\r\n",
      "fundamental_pandas.ipynb\r\n",
      "gif.ipynb\r\n",
      "gti_check.ipynb\r\n",
      "gwpy2_pycbc2.ipynb\r\n",
      "hardnessratio_flux.ipynb\r\n",
      "juliatestinjupyter.ipynb\r\n",
      "jupyter-test.ipynb\r\n",
      "kernel2_gwpy2.ipynb\r\n",
      "kernel2_pycbc2.ipynb\r\n",
      "learn_casa.ipynb\r\n",
      "linear_fit_mudot.ipynb\r\n",
      "lomb_scargle_method.ipynb\r\n",
      "lovecurve.ipynb\r\n",
      "m33.ipynb\r\n",
      "mac.ipynb\r\n",
      "machine learning.ipynb\r\n",
      "map.ipynb\r\n",
      "matplotlib.ipynb\r\n",
      "multiprocess.ipynb\r\n",
      "nicer_.ipynb\r\n",
      "nustar_xmm_data_reduction.ipynb\r\n",
      "pandas.ipynb\r\n",
      "pandas_plot.ipynb\r\n",
      "papersummary_of_HMCNC_RXJ0806.ipynb\r\n",
      "periodictable.ipynb\r\n",
      "plot_aplpy_plotly.ipynb\r\n",
      "py2and3in jupyter.ipynb\r\n",
      "py2download.ipynb\r\n",
      "py3ads.ipynb\r\n",
      "py3and2in jupyter.ipynb\r\n",
      "py3downloadarxivpdf.ipynb\r\n",
      "py3scrapy.ipynb\r\n",
      "pyBH_accretion_disk.ipynb\r\n",
      "py_gwpy.ipynb\r\n",
      "py_linear_fit_with_error_in_both_axis.ipynb\r\n",
      "pyads.ipynb\r\n",
      "pycbc.ipynb\r\n",
      "pycbc_shizhihong.ipynb\r\n",
      "pycbcpy2.ipynb\r\n",
      "pydisplayhtml.ipynb\r\n",
      "pyemail.ipynb\r\n",
      "pyemcee_mcmc.ipynb\r\n",
      "pykivy error.ipynb\r\n",
      "pymc_.ipynb\r\n",
      "pymcmc_linearfit_with_outlier.ipynb\r\n",
      "pymysql.ipynb\r\n",
      "pysinfunc_mcmc.ipynb\r\n",
      "pytensorflow.ipynb\r\n",
      "python-V.ipynb\r\n",
      "pythondatascience.ipynb\r\n",
      "pytorch.ipynb\r\n",
      "pyvocabulary.ipynb\r\n",
      "pyxspec.ipynb\r\n",
      "randnum.ipynb\r\n",
      "randnumpytest.ipynb\r\n",
      "random_parameter.ipynb\r\n",
      "report19.ipynb\r\n",
      "scipy.signal.periodogram.ipynb\r\n",
      "sherpa.ipynb\r\n",
      "slim_disk.ipynb\r\n",
      "swift_xrt_data_reduction.ipynb\r\n",
      "testpy2.ipynb\r\n",
      "testpy3.ipynb\r\n",
      "tkinter.ipynb\r\n",
      "tkinter1.ipynb\r\n",
      "visual.ipynb\r\n",
      "youngradio.ipynb\r\n"
     ]
    }
   ],
   "source": [
    "ls *nb"
   ]
  },
  {
   "cell_type": "code",
   "execution_count": 10,
   "metadata": {
    "ExecuteTime": {
     "end_time": "2018-11-23T13:05:35.182840Z",
     "start_time": "2018-11-23T13:05:35.177565Z"
    },
    "collapsed": false
   },
   "outputs": [
    {
     "data": {
      "text/plain": [
       "'/Users/brettlv/blog/brettlv.github.io/pythoncode'"
      ]
     },
     "execution_count": 10,
     "metadata": {},
     "output_type": "execute_result"
    }
   ],
   "source": [
    "pwd"
   ]
  },
  {
   "cell_type": "code",
   "execution_count": 11,
   "metadata": {
    "ExecuteTime": {
     "end_time": "2018-11-23T13:05:35.874510Z",
     "start_time": "2018-11-23T13:05:35.741639Z"
    },
    "collapsed": false
   },
   "outputs": [
    {
     "name": "stdout",
     "output_type": "stream",
     "text": [
      "Filesystem      Size   Used  Avail Capacity iused      ifree %iused  Mounted on\r\n",
      "/dev/disk1     233Gi  178Gi   54Gi    77% 3143641 4291823638    0%   /\r\n",
      "devfs          182Ki  182Ki    0Bi   100%     628          0  100%   /dev\r\n",
      "map -hosts       0Bi    0Bi    0Bi   100%       0          0  100%   /net\r\n",
      "map auto_home    0Bi    0Bi    0Bi   100%       0          0  100%   /home\r\n"
     ]
    }
   ],
   "source": [
    "!df -h"
   ]
  },
  {
   "cell_type": "code",
   "execution_count": 12,
   "metadata": {
    "ExecuteTime": {
     "end_time": "2018-11-23T13:05:36.687660Z",
     "start_time": "2018-11-23T13:05:36.559933Z"
    },
    "collapsed": false
   },
   "outputs": [
    {
     "name": "stdout",
     "output_type": "stream",
     "text": [
      "Filesystem    512-blocks      Used Available Capacity iused      ifree %iused  Mounted on\r\n",
      "/dev/disk1     487686144 373118680 114055464    77% 3143641 4291823638    0%   /\r\n",
      "devfs                363       363         0   100%     628          0  100%   /dev\r\n",
      "map -hosts             0         0         0   100%       0          0  100%   /net\r\n",
      "map auto_home          0         0         0   100%       0          0  100%   /home\r\n"
     ]
    }
   ],
   "source": [
    "!df -i"
   ]
  },
  {
   "cell_type": "code",
   "execution_count": 6,
   "metadata": {
    "ExecuteTime": {
     "end_time": "2018-11-16T09:34:00.361521Z",
     "start_time": "2018-11-16T09:33:58.672459Z"
    },
    "collapsed": false
   },
   "outputs": [
    {
     "name": "stdout",
     "output_type": "stream",
     "text": [
      " 22G\t../nustar_v404/\r\n"
     ]
    }
   ],
   "source": [
    "!du -sh ../nustar_v404/"
   ]
  },
  {
   "cell_type": "code",
   "execution_count": 7,
   "metadata": {
    "ExecuteTime": {
     "end_time": "2018-11-16T09:34:00.499802Z",
     "start_time": "2018-11-16T09:34:00.363970Z"
    },
    "collapsed": false
   },
   "outputs": [
    {
     "name": "stdout",
     "output_type": "stream",
     "text": [
      "\u001b[34m30001010002\u001b[m\u001b[m/                          \u001b[34m90102007009\u001b[m\u001b[m/\r\n",
      "\u001b[34m30001010002forV404cyg20131013\u001b[m\u001b[m/        \u001b[34m90102007011\u001b[m\u001b[m/\r\n",
      "\u001b[34m90102007002\u001b[m\u001b[m/                          \u001b[34m90102007013\u001b[m\u001b[m/\r\n",
      "\u001b[34m90102007002forV404cyg20150624\u001b[m\u001b[m/        Walton_2017_ApJ_839_110.pdf\r\n",
      "\u001b[34m90102007003\u001b[m\u001b[m/                          browse_download_script_nustarv404.sh\r\n",
      "\u001b[34m90102007005\u001b[m\u001b[m/                          wget-log\r\n",
      "\u001b[34m90102007007\u001b[m\u001b[m/                          wget-log.1\r\n"
     ]
    }
   ],
   "source": [
    "ls"
   ]
  },
  {
   "cell_type": "code",
   "execution_count": 8,
   "metadata": {
    "ExecuteTime": {
     "end_time": "2018-11-16T09:34:02.161501Z",
     "start_time": "2018-11-16T09:34:02.023292Z"
    },
    "collapsed": false
   },
   "outputs": [
    {
     "name": "stdout",
     "output_type": "stream",
     "text": [
      " 22G\t.\r\n"
     ]
    }
   ],
   "source": [
    "!du -sh ."
   ]
  },
  {
   "cell_type": "code",
   "execution_count": 9,
   "metadata": {
    "ExecuteTime": {
     "end_time": "2018-11-16T09:34:02.964128Z",
     "start_time": "2018-11-16T09:34:02.960987Z"
    },
    "collapsed": false
   },
   "outputs": [],
   "source": [
    "#!sh browse_download_script_nustarv404.sh"
   ]
  },
  {
   "cell_type": "code",
   "execution_count": 10,
   "metadata": {
    "ExecuteTime": {
     "end_time": "2018-11-16T09:34:03.902979Z",
     "start_time": "2018-11-16T09:34:03.897889Z"
    },
    "collapsed": false
   },
   "outputs": [
    {
     "data": {
      "text/plain": [
       "'/Volumes/Seagate_Backup_Plus_Drive_Lvb/V404cyg/nustar_v404'"
      ]
     },
     "execution_count": 10,
     "metadata": {},
     "output_type": "execute_result"
    }
   ],
   "source": [
    "pwd"
   ]
  },
  {
   "cell_type": "code",
   "execution_count": 11,
   "metadata": {
    "ExecuteTime": {
     "end_time": "2018-11-16T09:34:05.628906Z",
     "start_time": "2018-11-16T09:34:05.495842Z"
    },
    "collapsed": false
   },
   "outputs": [
    {
     "name": "stdout",
     "output_type": "stream",
     "text": [
      "# The following commands will download selected data products.\r\n",
      "#\r\n",
      "# Note: The network utility wget is included with most\r\n",
      "# systems.  To download wget or get more information visit the\r\n",
      "# GNU website http://www.gnu.org/software/wget/wget.html\r\n",
      "#\r\n",
      "wget -q -nH --no-check-certificate --cut-dirs=6  -r -l0 -c -N -np -R 'index*'  -erobots=off --retr-symlinks https://heasarc.gsfc.nasa.gov/FTP/nustar/data/obs/01/9//90102007005/\r\n",
      "wget -q -nH --no-check-certificate --cut-dirs=6  -r -l0 -c -N -np -R 'index*'  -erobots=off --retr-symlinks https://heasarc.gsfc.nasa.gov/FTP/nustar/data/obs/01/9//90102007013/\r\n",
      "wget -q -nH --no-check-certificate --cut-dirs=6  -r -l0 -c -N -np -R 'index*'  -erobots=off --retr-symlinks https://heasarc.gsfc.nasa.gov/FTP/nustar/data/obs/01/9//90102007011/\r\n",
      "wget -q -nH --no-check-certificate --cut-dirs=6  -r -l0 -c -N -np -R 'index*'  -erobots=off --retr-symlinks https://heasarc.gsfc.nasa.gov/FTP/nustar/data/obs/01/9//90102007007/\r\n",
      "wget -q -nH --no-check-certificate --cut-dirs=6  -r -l0 -c -N -np -R 'index*'  -erobots=off --retr-symlinks https://heasarc.gsfc.nasa.gov/FTP/nustar/data/obs/01/9//90102007002/\r\n",
      "wget -q -nH --no-check-certificate --cut-dirs=6  -r -l0 -c -N -np -R 'index*'  -erobots=off --retr-symlinks https://heasarc.gsfc.nasa.gov/FTP/nustar/data/obs/01/9//90102007003/\r\n",
      "wget -q -nH --no-check-certificate --cut-dirs=6  -r -l0 -c -N -np -R 'index*'  -erobots=off --retr-symlinks https://heasarc.gsfc.nasa.gov/FTP/nustar/data/obs/01/9//90102007009/\r\n",
      "\r\n",
      "# Total size of data product files local to the HEASARC system: 12 GB\r\n",
      "# File sizes of remote data products are not available"
     ]
    }
   ],
   "source": [
    "cat browse_download_script_nustarv404.sh "
   ]
  },
  {
   "cell_type": "code",
   "execution_count": 12,
   "metadata": {
    "ExecuteTime": {
     "end_time": "2018-11-16T09:34:13.501217Z",
     "start_time": "2018-11-16T09:34:13.496236Z"
    },
    "collapsed": false
   },
   "outputs": [
    {
     "data": {
      "text/plain": [
       "'/Volumes/Seagate_Backup_Plus_Drive_Lvb/V404cyg/nustar_v404'"
      ]
     },
     "execution_count": 12,
     "metadata": {},
     "output_type": "execute_result"
    }
   ],
   "source": [
    "pwd"
   ]
  },
  {
   "cell_type": "code",
   "execution_count": 13,
   "metadata": {
    "ExecuteTime": {
     "end_time": "2018-11-16T09:34:17.354130Z",
     "start_time": "2018-11-16T09:34:17.227715Z"
    },
    "collapsed": false
   },
   "outputs": [
    {
     "name": "stdout",
     "output_type": "stream",
     "text": [
      "\u001b[34m30001010002\u001b[m\u001b[m/                          \u001b[34m90102007009\u001b[m\u001b[m/\r\n",
      "\u001b[34m30001010002forV404cyg20131013\u001b[m\u001b[m/        \u001b[34m90102007011\u001b[m\u001b[m/\r\n",
      "\u001b[34m90102007002\u001b[m\u001b[m/                          \u001b[34m90102007013\u001b[m\u001b[m/\r\n",
      "\u001b[34m90102007002forV404cyg20150624\u001b[m\u001b[m/        Walton_2017_ApJ_839_110.pdf\r\n",
      "\u001b[34m90102007003\u001b[m\u001b[m/                          browse_download_script_nustarv404.sh\r\n",
      "\u001b[34m90102007005\u001b[m\u001b[m/                          wget-log\r\n",
      "\u001b[34m90102007007\u001b[m\u001b[m/                          wget-log.1\r\n"
     ]
    }
   ],
   "source": [
    "ls"
   ]
  },
  {
   "cell_type": "code",
   "execution_count": null,
   "metadata": {
    "collapsed": true
   },
   "outputs": [],
   "source": []
  },
  {
   "cell_type": "code",
   "execution_count": null,
   "metadata": {
    "collapsed": true
   },
   "outputs": [],
   "source": []
  },
  {
   "cell_type": "code",
   "execution_count": null,
   "metadata": {
    "collapsed": true
   },
   "outputs": [],
   "source": []
  }
 ],
 "metadata": {
  "kernelspec": {
   "display_name": "Python 3",
   "language": "python",
   "name": "python3"
  },
  "language_info": {
   "codemirror_mode": {
    "name": "ipython",
    "version": 3
   },
   "file_extension": ".py",
   "mimetype": "text/x-python",
   "name": "python",
   "nbconvert_exporter": "python",
   "pygments_lexer": "ipython3",
   "version": "3.6.0"
  },
  "latex_envs": {
   "LaTeX_envs_menu_present": true,
   "autocomplete": true,
   "bibliofile": "biblio.bib",
   "cite_by": "apalike",
   "current_citInitial": 1,
   "eqLabelWithNumbers": true,
   "eqNumInitial": 1,
   "hotkeys": {
    "equation": "Ctrl-E",
    "itemize": "Ctrl-I"
   },
   "labels_anchors": false,
   "latex_user_defs": false,
   "report_style_numbering": false,
   "user_envs_cfg": false
  },
  "toc": {
   "nav_menu": {},
   "number_sections": true,
   "sideBar": true,
   "skip_h1_title": false,
   "toc_cell": false,
   "toc_position": {},
   "toc_section_display": "block",
   "toc_window_display": false
  }
 },
 "nbformat": 4,
 "nbformat_minor": 2
}
