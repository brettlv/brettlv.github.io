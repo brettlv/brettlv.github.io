{
 "cells": [
  {
   "cell_type": "code",
   "execution_count": 1,
   "metadata": {
    "ExecuteTime": {
     "end_time": "2018-11-16T09:39:22.368647Z",
     "start_time": "2018-11-16T09:39:22.355338Z"
    },
    "collapsed": false
   },
   "outputs": [
    {
     "data": {
      "text/plain": [
       "'/Users/brettlv/blog/brettlv.github.io/pythoncode'"
      ]
     },
     "execution_count": 1,
     "metadata": {},
     "output_type": "execute_result"
    }
   ],
   "source": [
    "pwd"
   ]
  },
  {
   "cell_type": "code",
   "execution_count": null,
   "metadata": {
    "collapsed": true
   },
   "outputs": [],
   "source": []
  },
  {
   "cell_type": "code",
   "execution_count": 1,
   "metadata": {
    "ExecuteTime": {
     "end_time": "2018-11-16T09:33:48.771466Z",
     "start_time": "2018-11-16T09:33:48.764407Z"
    },
    "collapsed": false
   },
   "outputs": [
    {
     "name": "stdout",
     "output_type": "stream",
     "text": [
      "/Volumes/Seagate_Backup_Plus_Drive_Lvb/V404cyg/nustar_v404\n"
     ]
    }
   ],
   "source": [
    "cd /Volumes/Seagate_Backup_Plus_Drive_Lvb/V404cyg/nustar_v404/"
   ]
  },
  {
   "cell_type": "code",
   "execution_count": 2,
   "metadata": {
    "ExecuteTime": {
     "end_time": "2018-11-16T09:33:51.590103Z",
     "start_time": "2018-11-16T09:33:50.169346Z"
    },
    "collapsed": false
   },
   "outputs": [
    {
     "name": "stdout",
     "output_type": "stream",
     "text": [
      "\u001b[34m30001010002\u001b[m\u001b[m/                          \u001b[34m90102007009\u001b[m\u001b[m/\r\n",
      "\u001b[34m30001010002forV404cyg20131013\u001b[m\u001b[m/        \u001b[34m90102007011\u001b[m\u001b[m/\r\n",
      "\u001b[34m90102007002\u001b[m\u001b[m/                          \u001b[34m90102007013\u001b[m\u001b[m/\r\n",
      "\u001b[34m90102007002forV404cyg20150624\u001b[m\u001b[m/        Walton_2017_ApJ_839_110.pdf\r\n",
      "\u001b[34m90102007003\u001b[m\u001b[m/                          browse_download_script_nustarv404.sh\r\n",
      "\u001b[34m90102007005\u001b[m\u001b[m/                          wget-log\r\n",
      "\u001b[34m90102007007\u001b[m\u001b[m/                          wget-log.1\r\n"
     ]
    }
   ],
   "source": [
    "ls"
   ]
  },
  {
   "cell_type": "code",
   "execution_count": 3,
   "metadata": {
    "ExecuteTime": {
     "end_time": "2018-11-16T09:33:52.780368Z",
     "start_time": "2018-11-16T09:33:52.767385Z"
    },
    "collapsed": false
   },
   "outputs": [
    {
     "data": {
      "text/plain": [
       "'/Volumes/Seagate_Backup_Plus_Drive_Lvb/V404cyg/nustar_v404'"
      ]
     },
     "execution_count": 3,
     "metadata": {},
     "output_type": "execute_result"
    }
   ],
   "source": [
    "pwd"
   ]
  },
  {
   "cell_type": "code",
   "execution_count": 4,
   "metadata": {
    "ExecuteTime": {
     "end_time": "2018-11-16T09:33:56.967652Z",
     "start_time": "2018-11-16T09:33:56.830056Z"
    },
    "collapsed": false
   },
   "outputs": [
    {
     "name": "stdout",
     "output_type": "stream",
     "text": [
      "Filesystem      Size   Used  Avail Capacity iused      ifree %iused  Mounted on\r\n",
      "/dev/disk1     233Gi  178Gi   54Gi    77% 3115060 4291852219    0%   /\r\n",
      "devfs          191Ki  191Ki    0Bi   100%     660          0  100%   /dev\r\n",
      "map -hosts       0Bi    0Bi    0Bi   100%       0          0  100%   /net\r\n",
      "map auto_home    0Bi    0Bi    0Bi   100%       0          0  100%   /home\r\n",
      "/dev/disk2s1   932Gi  826Gi  105Gi    89%   49807  110319361    0%   /Volumes/Seagate_Backup_Plus_Drive_Lvb\r\n"
     ]
    }
   ],
   "source": [
    "!df -h"
   ]
  },
  {
   "cell_type": "code",
   "execution_count": 5,
   "metadata": {
    "ExecuteTime": {
     "end_time": "2018-11-16T09:33:58.052169Z",
     "start_time": "2018-11-16T09:33:57.922258Z"
    },
    "collapsed": false
   },
   "outputs": [
    {
     "name": "stdout",
     "output_type": "stream",
     "text": [
      "Filesystem    512-blocks       Used Available Capacity iused      ifree %iused  Mounted on\r\n",
      "/dev/disk1     487686144  373714264 113459880    77% 3115060 4291852219    0%   /\r\n",
      "devfs                381        381         0   100%     660          0  100%   /dev\r\n",
      "map -hosts             0          0         0   100%       0          0  100%   /net\r\n",
      "map auto_home          0          0         0   100%       0          0  100%   /home\r\n",
      "/dev/disk2s1  1953523112 1732885640 220637472    89%   49807  110319361    0%   /Volumes/Seagate_Backup_Plus_Drive_Lvb\r\n"
     ]
    }
   ],
   "source": [
    "!df -i"
   ]
  },
  {
   "cell_type": "code",
   "execution_count": 6,
   "metadata": {
    "ExecuteTime": {
     "end_time": "2018-11-16T09:34:00.361521Z",
     "start_time": "2018-11-16T09:33:58.672459Z"
    },
    "collapsed": false
   },
   "outputs": [
    {
     "name": "stdout",
     "output_type": "stream",
     "text": [
      " 22G\t../nustar_v404/\r\n"
     ]
    }
   ],
   "source": [
    "!du -sh ../nustar_v404/"
   ]
  },
  {
   "cell_type": "code",
   "execution_count": 7,
   "metadata": {
    "ExecuteTime": {
     "end_time": "2018-11-16T09:34:00.499802Z",
     "start_time": "2018-11-16T09:34:00.363970Z"
    },
    "collapsed": false
   },
   "outputs": [
    {
     "name": "stdout",
     "output_type": "stream",
     "text": [
      "\u001b[34m30001010002\u001b[m\u001b[m/                          \u001b[34m90102007009\u001b[m\u001b[m/\r\n",
      "\u001b[34m30001010002forV404cyg20131013\u001b[m\u001b[m/        \u001b[34m90102007011\u001b[m\u001b[m/\r\n",
      "\u001b[34m90102007002\u001b[m\u001b[m/                          \u001b[34m90102007013\u001b[m\u001b[m/\r\n",
      "\u001b[34m90102007002forV404cyg20150624\u001b[m\u001b[m/        Walton_2017_ApJ_839_110.pdf\r\n",
      "\u001b[34m90102007003\u001b[m\u001b[m/                          browse_download_script_nustarv404.sh\r\n",
      "\u001b[34m90102007005\u001b[m\u001b[m/                          wget-log\r\n",
      "\u001b[34m90102007007\u001b[m\u001b[m/                          wget-log.1\r\n"
     ]
    }
   ],
   "source": [
    "ls"
   ]
  },
  {
   "cell_type": "code",
   "execution_count": 8,
   "metadata": {
    "ExecuteTime": {
     "end_time": "2018-11-16T09:34:02.161501Z",
     "start_time": "2018-11-16T09:34:02.023292Z"
    },
    "collapsed": false
   },
   "outputs": [
    {
     "name": "stdout",
     "output_type": "stream",
     "text": [
      " 22G\t.\r\n"
     ]
    }
   ],
   "source": [
    "!du -sh ."
   ]
  },
  {
   "cell_type": "code",
   "execution_count": 9,
   "metadata": {
    "ExecuteTime": {
     "end_time": "2018-11-16T09:34:02.964128Z",
     "start_time": "2018-11-16T09:34:02.960987Z"
    },
    "collapsed": false
   },
   "outputs": [],
   "source": [
    "#!sh browse_download_script_nustarv404.sh"
   ]
  },
  {
   "cell_type": "code",
   "execution_count": 10,
   "metadata": {
    "ExecuteTime": {
     "end_time": "2018-11-16T09:34:03.902979Z",
     "start_time": "2018-11-16T09:34:03.897889Z"
    },
    "collapsed": false
   },
   "outputs": [
    {
     "data": {
      "text/plain": [
       "'/Volumes/Seagate_Backup_Plus_Drive_Lvb/V404cyg/nustar_v404'"
      ]
     },
     "execution_count": 10,
     "metadata": {},
     "output_type": "execute_result"
    }
   ],
   "source": [
    "pwd"
   ]
  },
  {
   "cell_type": "code",
   "execution_count": 11,
   "metadata": {
    "ExecuteTime": {
     "end_time": "2018-11-16T09:34:05.628906Z",
     "start_time": "2018-11-16T09:34:05.495842Z"
    },
    "collapsed": false
   },
   "outputs": [
    {
     "name": "stdout",
     "output_type": "stream",
     "text": [
      "# The following commands will download selected data products.\r\n",
      "#\r\n",
      "# Note: The network utility wget is included with most\r\n",
      "# systems.  To download wget or get more information visit the\r\n",
      "# GNU website http://www.gnu.org/software/wget/wget.html\r\n",
      "#\r\n",
      "wget -q -nH --no-check-certificate --cut-dirs=6  -r -l0 -c -N -np -R 'index*'  -erobots=off --retr-symlinks https://heasarc.gsfc.nasa.gov/FTP/nustar/data/obs/01/9//90102007005/\r\n",
      "wget -q -nH --no-check-certificate --cut-dirs=6  -r -l0 -c -N -np -R 'index*'  -erobots=off --retr-symlinks https://heasarc.gsfc.nasa.gov/FTP/nustar/data/obs/01/9//90102007013/\r\n",
      "wget -q -nH --no-check-certificate --cut-dirs=6  -r -l0 -c -N -np -R 'index*'  -erobots=off --retr-symlinks https://heasarc.gsfc.nasa.gov/FTP/nustar/data/obs/01/9//90102007011/\r\n",
      "wget -q -nH --no-check-certificate --cut-dirs=6  -r -l0 -c -N -np -R 'index*'  -erobots=off --retr-symlinks https://heasarc.gsfc.nasa.gov/FTP/nustar/data/obs/01/9//90102007007/\r\n",
      "wget -q -nH --no-check-certificate --cut-dirs=6  -r -l0 -c -N -np -R 'index*'  -erobots=off --retr-symlinks https://heasarc.gsfc.nasa.gov/FTP/nustar/data/obs/01/9//90102007002/\r\n",
      "wget -q -nH --no-check-certificate --cut-dirs=6  -r -l0 -c -N -np -R 'index*'  -erobots=off --retr-symlinks https://heasarc.gsfc.nasa.gov/FTP/nustar/data/obs/01/9//90102007003/\r\n",
      "wget -q -nH --no-check-certificate --cut-dirs=6  -r -l0 -c -N -np -R 'index*'  -erobots=off --retr-symlinks https://heasarc.gsfc.nasa.gov/FTP/nustar/data/obs/01/9//90102007009/\r\n",
      "\r\n",
      "# Total size of data product files local to the HEASARC system: 12 GB\r\n",
      "# File sizes of remote data products are not available"
     ]
    }
   ],
   "source": [
    "cat browse_download_script_nustarv404.sh "
   ]
  },
  {
   "cell_type": "code",
   "execution_count": 12,
   "metadata": {
    "ExecuteTime": {
     "end_time": "2018-11-16T09:34:13.501217Z",
     "start_time": "2018-11-16T09:34:13.496236Z"
    },
    "collapsed": false
   },
   "outputs": [
    {
     "data": {
      "text/plain": [
       "'/Volumes/Seagate_Backup_Plus_Drive_Lvb/V404cyg/nustar_v404'"
      ]
     },
     "execution_count": 12,
     "metadata": {},
     "output_type": "execute_result"
    }
   ],
   "source": [
    "pwd"
   ]
  },
  {
   "cell_type": "code",
   "execution_count": 13,
   "metadata": {
    "ExecuteTime": {
     "end_time": "2018-11-16T09:34:17.354130Z",
     "start_time": "2018-11-16T09:34:17.227715Z"
    },
    "collapsed": false
   },
   "outputs": [
    {
     "name": "stdout",
     "output_type": "stream",
     "text": [
      "\u001b[34m30001010002\u001b[m\u001b[m/                          \u001b[34m90102007009\u001b[m\u001b[m/\r\n",
      "\u001b[34m30001010002forV404cyg20131013\u001b[m\u001b[m/        \u001b[34m90102007011\u001b[m\u001b[m/\r\n",
      "\u001b[34m90102007002\u001b[m\u001b[m/                          \u001b[34m90102007013\u001b[m\u001b[m/\r\n",
      "\u001b[34m90102007002forV404cyg20150624\u001b[m\u001b[m/        Walton_2017_ApJ_839_110.pdf\r\n",
      "\u001b[34m90102007003\u001b[m\u001b[m/                          browse_download_script_nustarv404.sh\r\n",
      "\u001b[34m90102007005\u001b[m\u001b[m/                          wget-log\r\n",
      "\u001b[34m90102007007\u001b[m\u001b[m/                          wget-log.1\r\n"
     ]
    }
   ],
   "source": [
    "ls"
   ]
  },
  {
   "cell_type": "code",
   "execution_count": null,
   "metadata": {
    "collapsed": true
   },
   "outputs": [],
   "source": []
  },
  {
   "cell_type": "code",
   "execution_count": null,
   "metadata": {
    "collapsed": true
   },
   "outputs": [],
   "source": []
  },
  {
   "cell_type": "code",
   "execution_count": null,
   "metadata": {
    "collapsed": true
   },
   "outputs": [],
   "source": []
  }
 ],
 "metadata": {
  "kernelspec": {
   "display_name": "Python 3",
   "language": "python",
   "name": "python3"
  },
  "language_info": {
   "codemirror_mode": {
    "name": "ipython",
    "version": 3
   },
   "file_extension": ".py",
   "mimetype": "text/x-python",
   "name": "python",
   "nbconvert_exporter": "python",
   "pygments_lexer": "ipython3",
   "version": "3.6.0"
  },
  "latex_envs": {
   "LaTeX_envs_menu_present": true,
   "autocomplete": true,
   "bibliofile": "biblio.bib",
   "cite_by": "apalike",
   "current_citInitial": 1,
   "eqLabelWithNumbers": true,
   "eqNumInitial": 1,
   "hotkeys": {
    "equation": "Ctrl-E",
    "itemize": "Ctrl-I"
   },
   "labels_anchors": false,
   "latex_user_defs": false,
   "report_style_numbering": false,
   "user_envs_cfg": false
  },
  "toc": {
   "nav_menu": {},
   "number_sections": true,
   "sideBar": true,
   "skip_h1_title": false,
   "toc_cell": false,
   "toc_position": {},
   "toc_section_display": "block",
   "toc_window_display": false
  }
 },
 "nbformat": 4,
 "nbformat_minor": 2
}
