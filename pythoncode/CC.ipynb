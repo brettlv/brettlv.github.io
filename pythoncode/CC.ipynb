{
 "cells": [
  {
   "cell_type": "code",
   "execution_count": 2,
   "metadata": {
    "collapsed": false
   },
   "outputs": [
    {
     "data": {
      "text/plain": [
       "32768"
      ]
     },
     "execution_count": 2,
     "metadata": {},
     "output_type": "execute_result"
    }
   ],
   "source": [
    "2**15"
   ]
  },
  {
   "cell_type": "code",
   "execution_count": null,
   "metadata": {
    "collapsed": true
   },
   "outputs": [],
   "source": []
  },
  {
   "cell_type": "code",
   "execution_count": 1,
   "metadata": {
    "collapsed": false
   },
   "outputs": [
    {
     "ename": "SyntaxError",
     "evalue": "invalid syntax (<ipython-input-1-5e803fa6e148>, line 13)",
     "output_type": "error",
     "traceback": [
      "\u001b[0;36m  File \u001b[0;32m\"<ipython-input-1-5e803fa6e148>\"\u001b[0;36m, line \u001b[0;32m13\u001b[0m\n\u001b[0;31m    -v for verbose response '''\u001b[0m\n\u001b[0m                               \n^\u001b[0m\n\u001b[0;31mSyntaxError\u001b[0m\u001b[0;31m:\u001b[0m invalid syntax\n"
     ]
    }
   ],
   "source": [
    "#!/usr/bin/env python\n",
    "  \n",
    "import sys\n",
    "from math import *\n",
    "\n",
    "try:\n",
    "  if sys.argv[1] == '-h':\n",
    "    print '''Cosmology calculator ala Ned Wright (www.astro.ucla.edu/~wright)\n",
    "\n",
    "input values = redshift, Ho, Omega_m, Omega_vac\n",
    "ouput values = age at z, distance in Mpc, kpc/arcsec, apparent to abs mag conversion\n",
    "\n",
    "Options:   -h for this message \n",
    "           -v for verbose response '''\n",
    "    sys.exit()\n",
    "  if sys.argv[1] == '-v':\n",
    "    verbose=1\n",
    "    length=len(sys.argv)-1\n",
    "  else:\n",
    "    verbose=0\n",
    "    length=len(sys.argv)\n",
    "\n",
    "# if no values, assume Benchmark Model, input is z\n",
    "  if length == 2:\n",
    "    if float(sys.argv[1+verbose]) > 100:\n",
    "      z=float(sys.argv[1+verbose])/299790.    # velocity to redshift\n",
    "    else:\n",
    "      z=float(sys.argv[1+verbose])            # redshift\n",
    "    H0 = 75                         # Hubble constant\n",
    "    WM = 0.3                        # Omega(matter)\n",
    "    WV = 1.0 - WM - 0.4165/(H0*H0)  # Omega(vacuum) or lambda\n",
    "\n",
    "# if one value, assume Benchmark Model with given Ho\n",
    "  elif length == 3:\n",
    "    z=float(sys.argv[1+verbose])    # redshift\n",
    "    H0 = float(sys.argv[2+verbose]) # Hubble constant\n",
    "    WM = 0.3                        # Omega(matter)\n",
    "    WV = 1.0 - WM - 0.4165/(H0*H0)  # Omega(vacuum) or lambda\n",
    "\n",
    "# if Univ is Open, use Ho, Wm and set Wv to 0.\n",
    "  elif length == 4:\n",
    "    z=float(sys.argv[1+verbose])    # redshift\n",
    "    H0 = float(sys.argv[2+verbose]) # Hubble constant\n",
    "    WM = float(sys.argv[3+verbose]) # Omega(matter)\n",
    "    WV = 0.0                        # Omega(vacuum) or lambda\n",
    "\n",
    "# if Univ is General, use Ho, Wm and given Wv\n",
    "  elif length == 5:\n",
    "    z=float(sys.argv[1+verbose])    # redshift\n",
    "    H0 = float(sys.argv[2+verbose]) # Hubble constant\n",
    "    WM = float(sys.argv[3+verbose]) # Omega(matter)\n",
    "    WV = float(sys.argv[4+verbose]) # Omega(vacuum) or lambda\n",
    "\n",
    "# or else fail\n",
    "  else:\n",
    "    print 'need some values or too many values'\n",
    "    sys.exit()\n",
    "\n",
    "# initialize constants\n",
    "\n",
    "  WR = 0.        # Omega(radiation)\n",
    "  WK = 0.        # Omega curvaturve = 1-Omega(total)\n",
    "  c = 299792.458 # velocity of light in km/sec\n",
    "  Tyr = 977.8    # coefficent for converting 1/H into Gyr\n",
    "  DTT = 0.5      # time from z to now in units of 1/H0\n",
    "  DTT_Gyr = 0.0  # value of DTT in Gyr\n",
    "  age = 0.5      # age of Universe in units of 1/H0\n",
    "  age_Gyr = 0.0  # value of age in Gyr\n",
    "  zage = 0.1     # age of Universe at redshift z in units of 1/H0\n",
    "  zage_Gyr = 0.0 # value of zage in Gyr\n",
    "  DCMR = 0.0     # comoving radial distance in units of c/H0\n",
    "  DCMR_Mpc = 0.0 \n",
    "  DCMR_Gyr = 0.0\n",
    "  DA = 0.0       # angular size distance\n",
    "  DA_Mpc = 0.0\n",
    "  DA_Gyr = 0.0\n",
    "  kpc_DA = 0.0\n",
    "  DL = 0.0       # luminosity distance\n",
    "  DL_Mpc = 0.0\n",
    "  DL_Gyr = 0.0   # DL in units of billions of light years\n",
    "  V_Gpc = 0.0\n",
    "  a = 1.0        # 1/(1+z), the scale factor of the Universe\n",
    "  az = 0.5       # 1/(1+z(object))\n",
    "\n",
    "  h = H0/100.\n",
    "  WR = 4.165E-5/(h*h)   # includes 3 massless neutrino species, T0 = 2.72528\n",
    "  WK = 1-WM-WR-WV\n",
    "  az = 1.0/(1+1.0*z)\n",
    "  age = 0.\n",
    "  n=1000         # number of points in integrals\n",
    "  for i in range(n):\n",
    "    a = az*(i+0.5)/n\n",
    "    adot = sqrt(WK+(WM/a)+(WR/(a*a))+(WV*a*a))\n",
    "    age = age + 1./adot\n",
    "\n",
    "  zage = az*age/n\n",
    "  zage_Gyr = (Tyr/H0)*zage\n",
    "  DTT = 0.0\n",
    "  DCMR = 0.0\n",
    "\n",
    "# do integral over a=1/(1+z) from az to 1 in n steps, midpoint rule\n",
    "  for i in range(n):\n",
    "    a = az+(1-az)*(i+0.5)/n\n",
    "    adot = sqrt(WK+(WM/a)+(WR/(a*a))+(WV*a*a))\n",
    "    DTT = DTT + 1./adot\n",
    "    DCMR = DCMR + 1./(a*adot)\n",
    "\n",
    "  DTT = (1.-az)*DTT/n\n",
    "  DCMR = (1.-az)*DCMR/n\n",
    "  age = DTT+zage\n",
    "  age_Gyr = age*(Tyr/H0)\n",
    "  DTT_Gyr = (Tyr/H0)*DTT\n",
    "  DCMR_Gyr = (Tyr/H0)*DCMR\n",
    "  DCMR_Mpc = (c/H0)*DCMR\n",
    "\n",
    "# tangential comoving distance\n",
    "\n",
    "  ratio = 1.00\n",
    "  x = sqrt(abs(WK))*DCMR\n",
    "  if x > 0.1:\n",
    "    if WK > 0:\n",
    "      ratio =  0.5*(exp(x)-exp(-x))/x \n",
    "    else:\n",
    "      ratio = sin(x)/x\n",
    "  else:\n",
    "    y = x*x\n",
    "    if WK < 0: y = -y\n",
    "    ratio = 1. + y/6. + y*y/120.\n",
    "  DCMT = ratio*DCMR\n",
    "  DA = az*DCMT\n",
    "  DA_Mpc = (c/H0)*DA\n",
    "  kpc_DA = DA_Mpc/206.264806\n",
    "  DA_Gyr = (Tyr/H0)*DA\n",
    "  DL = DA/(az*az)\n",
    "  DL_Mpc = (c/H0)*DL\n",
    "  DL_Gyr = (Tyr/H0)*DL\n",
    "\n",
    "# comoving volume computation\n",
    "\n",
    "  ratio = 1.00\n",
    "  x = sqrt(abs(WK))*DCMR\n",
    "  if x > 0.1:\n",
    "    if WK > 0:\n",
    "      ratio = (0.125*(exp(2.*x)-exp(-2.*x))-x/2.)/(x*x*x/3.)\n",
    "    else:\n",
    "      ratio = (x/2. - sin(2.*x)/4.)/(x*x*x/3.)\n",
    "  else:\n",
    "    y = x*x\n",
    "    if WK < 0: y = -y\n",
    "    ratio = 1. + y/5. + (2./105.)*y*y\n",
    "  VCM = ratio*DCMR*DCMR*DCMR/3.\n",
    "  V_Gpc = 4.*pi*((0.001*c/H0)**3)*VCM\n",
    "\n",
    "  if verbose == 1:\n",
    "    print 'For H_o = ' + '%1.1f' % H0 + ', Omega_M = ' + '%1.2f' % WM + ', Omega_vac = ',\n",
    "    print '%1.2f' % WV + ', z = ' + '%1.3f' % z\n",
    "    print 'It is now ' + '%1.1f' % age_Gyr + ' Gyr since the Big Bang.'\n",
    "    print 'The age at redshift z was ' + '%1.1f' % zage_Gyr + ' Gyr.'\n",
    "    print 'The light travel time was ' + '%1.1f' % DTT_Gyr + ' Gyr.'\n",
    "    print 'The comoving radial distance, which goes into Hubbles law, is',\n",
    "    print '%1.1f' % DCMR_Mpc + ' Mpc or ' + '%1.1f' % DCMR_Gyr + ' Gly.'\n",
    "    print 'The comoving volume within redshift z is ' + '%1.1f' % V_Gpc + ' Gpc^3.'\n",
    "    print 'The angular size distance D_A is ' + '%1.1f' % DA_Mpc + ' Mpc or',\n",
    "    print '%1.1f' % DA_Gyr + ' Gly.'\n",
    "    print 'This gives a scale of ' + '%.2f' % kpc_DA + ' kpc/\".'\n",
    "    print 'The luminosity distance D_L is ' + '%1.1f' % DL_Mpc + ' Mpc or ' + '%1.1f' % DL_Gyr + ' Gly.'\n",
    "    print 'The distance modulus, m-M, is '+'%1.2f' % (5*log10(DL_Mpc*1e6)-5)\n",
    "  else:\n",
    "    print '%1.2f' % zage_Gyr,\n",
    "    print '%1.2f' % DCMR_Mpc,\n",
    "    print '%1.2f' % kpc_DA,\n",
    "    print '%1.2f' % (5*log10(DL_Mpc*1e6)-5)\n",
    "\n",
    "except IndexError:\n",
    "  print 'need some values or too many values'\n",
    "except ValueError:\n",
    "  print 'nonsense value or option'\n"
   ]
  },
  {
   "cell_type": "code",
   "execution_count": null,
   "metadata": {
    "collapsed": true
   },
   "outputs": [],
   "source": []
  },
  {
   "cell_type": "code",
   "execution_count": null,
   "metadata": {
    "collapsed": true
   },
   "outputs": [],
   "source": []
  },
  {
   "cell_type": "code",
   "execution_count": 7,
   "metadata": {
    "collapsed": false
   },
   "outputs": [
    {
     "ename": "NameError",
     "evalue": "name 'CC' is not defined",
     "output_type": "error",
     "traceback": [
      "\u001b[0;31m---------------------------------------------------------------------------\u001b[0m",
      "\u001b[0;31mNameError\u001b[0m                                 Traceback (most recent call last)",
      "\u001b[0;32m<ipython-input-7-f0f420aabc6a>\u001b[0m in \u001b[0;36m<module>\u001b[0;34m()\u001b[0m\n\u001b[0;32m----> 1\u001b[0;31m \u001b[0mCC\u001b[0m\u001b[0;34m.\u001b[0m\u001b[0minput\u001b[0m\u001b[0;34m(\u001b[0m\u001b[0;36m0.018\u001b[0m\u001b[0;34m,\u001b[0m\u001b[0;36m73\u001b[0m\u001b[0;34m,\u001b[0m\u001b[0;36m0.23\u001b[0m\u001b[0;34m,\u001b[0m\u001b[0;36m0.73\u001b[0m\u001b[0;34m)\u001b[0m\u001b[0;34m\u001b[0m\u001b[0m\n\u001b[0m",
      "\u001b[0;31mNameError\u001b[0m: name 'CC' is not defined"
     ]
    }
   ],
   "source": []
  },
  {
   "cell_type": "code",
   "execution_count": null,
   "metadata": {
    "collapsed": true
   },
   "outputs": [],
   "source": []
  }
 ],
 "metadata": {
  "kernelspec": {
   "display_name": "Python 3",
   "language": "python",
   "name": "python3"
  },
  "language_info": {
   "codemirror_mode": {
    "name": "ipython",
    "version": 3
   },
   "file_extension": ".py",
   "mimetype": "text/x-python",
   "name": "python",
   "nbconvert_exporter": "python",
   "pygments_lexer": "ipython3",
   "version": "3.6.0"
  }
 },
 "nbformat": 4,
 "nbformat_minor": 2
}
