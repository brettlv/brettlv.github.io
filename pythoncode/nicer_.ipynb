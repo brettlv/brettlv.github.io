{
 "cells": [
  {
   "cell_type": "code",
   "execution_count": 1,
   "metadata": {
    "ExecuteTime": {
     "end_time": "2018-10-09T19:14:34.838520Z",
     "start_time": "2018-10-09T19:14:34.374727Z"
    },
    "collapsed": true
   },
   "outputs": [],
   "source": [
    "import numpy as np\n",
    "num=np.arange(9)+1\n",
    "obs=1102010100"
   ]
  },
  {
   "cell_type": "code",
   "execution_count": 4,
   "metadata": {
    "ExecuteTime": {
     "end_time": "2018-10-09T19:15:10.289235Z",
     "start_time": "2018-10-09T19:15:10.272933Z"
    },
    "collapsed": false
   },
   "outputs": [
    {
     "name": "stdout",
     "output_type": "stream",
     "text": [
      "nicercal indir=1102010101\n",
      "nimaketime infile=1102010101/auxil/ni1102010101.mkf.gz outfile=standard1.gti\n",
      "ls 1102010101/xti/event_cl/ni1102010101_0mpu[0-6]_ufa.evt > ufalist1.lis\n",
      "nicermergeclean infiles=@ufalist1.lis ufafile=1102010101/xti/event_cl/ni1102010101_0mpu7_ufa.evt.gz clfile=1102010101/xti/event_cl/ni1102010101_0mpu7_cl.evt.gz gtifile=standard1.gti\n",
      "\n",
      "nicercal indir=1102010102\n",
      "nimaketime infile=1102010102/auxil/ni1102010102.mkf.gz outfile=standard2.gti\n",
      "ls 1102010102/xti/event_cl/ni1102010102_0mpu[0-6]_ufa.evt > ufalist2.lis\n",
      "nicermergeclean infiles=@ufalist2.lis ufafile=1102010102/xti/event_cl/ni1102010102_0mpu7_ufa.evt.gz clfile=1102010102/xti/event_cl/ni1102010102_0mpu7_cl.evt.gz gtifile=standard2.gti\n",
      "\n",
      "nicercal indir=1102010103\n",
      "nimaketime infile=1102010103/auxil/ni1102010103.mkf.gz outfile=standard3.gti\n",
      "ls 1102010103/xti/event_cl/ni1102010103_0mpu[0-6]_ufa.evt > ufalist3.lis\n",
      "nicermergeclean infiles=@ufalist3.lis ufafile=1102010103/xti/event_cl/ni1102010103_0mpu7_ufa.evt.gz clfile=1102010103/xti/event_cl/ni1102010103_0mpu7_cl.evt.gz gtifile=standard3.gti\n",
      "\n",
      "nicercal indir=1102010104\n",
      "nimaketime infile=1102010104/auxil/ni1102010104.mkf.gz outfile=standard4.gti\n",
      "ls 1102010104/xti/event_cl/ni1102010104_0mpu[0-6]_ufa.evt > ufalist4.lis\n",
      "nicermergeclean infiles=@ufalist4.lis ufafile=1102010104/xti/event_cl/ni1102010104_0mpu7_ufa.evt.gz clfile=1102010104/xti/event_cl/ni1102010104_0mpu7_cl.evt.gz gtifile=standard4.gti\n",
      "\n",
      "nicercal indir=1102010105\n",
      "nimaketime infile=1102010105/auxil/ni1102010105.mkf.gz outfile=standard5.gti\n",
      "ls 1102010105/xti/event_cl/ni1102010105_0mpu[0-6]_ufa.evt > ufalist5.lis\n",
      "nicermergeclean infiles=@ufalist5.lis ufafile=1102010105/xti/event_cl/ni1102010105_0mpu7_ufa.evt.gz clfile=1102010105/xti/event_cl/ni1102010105_0mpu7_cl.evt.gz gtifile=standard5.gti\n",
      "\n",
      "nicercal indir=1102010106\n",
      "nimaketime infile=1102010106/auxil/ni1102010106.mkf.gz outfile=standard6.gti\n",
      "ls 1102010106/xti/event_cl/ni1102010106_0mpu[0-6]_ufa.evt > ufalist6.lis\n",
      "nicermergeclean infiles=@ufalist6.lis ufafile=1102010106/xti/event_cl/ni1102010106_0mpu7_ufa.evt.gz clfile=1102010106/xti/event_cl/ni1102010106_0mpu7_cl.evt.gz gtifile=standard6.gti\n",
      "\n",
      "nicercal indir=1102010107\n",
      "nimaketime infile=1102010107/auxil/ni1102010107.mkf.gz outfile=standard7.gti\n",
      "ls 1102010107/xti/event_cl/ni1102010107_0mpu[0-6]_ufa.evt > ufalist7.lis\n",
      "nicermergeclean infiles=@ufalist7.lis ufafile=1102010107/xti/event_cl/ni1102010107_0mpu7_ufa.evt.gz clfile=1102010107/xti/event_cl/ni1102010107_0mpu7_cl.evt.gz gtifile=standard7.gti\n",
      "\n",
      "nicercal indir=1102010108\n",
      "nimaketime infile=1102010108/auxil/ni1102010108.mkf.gz outfile=standard8.gti\n",
      "ls 1102010108/xti/event_cl/ni1102010108_0mpu[0-6]_ufa.evt > ufalist8.lis\n",
      "nicermergeclean infiles=@ufalist8.lis ufafile=1102010108/xti/event_cl/ni1102010108_0mpu7_ufa.evt.gz clfile=1102010108/xti/event_cl/ni1102010108_0mpu7_cl.evt.gz gtifile=standard8.gti\n",
      "\n",
      "nicercal indir=1102010109\n",
      "nimaketime infile=1102010109/auxil/ni1102010109.mkf.gz outfile=standard9.gti\n",
      "ls 1102010109/xti/event_cl/ni1102010109_0mpu[0-6]_ufa.evt > ufalist9.lis\n",
      "nicermergeclean infiles=@ufalist9.lis ufafile=1102010109/xti/event_cl/ni1102010109_0mpu7_ufa.evt.gz clfile=1102010109/xti/event_cl/ni1102010109_0mpu7_cl.evt.gz gtifile=standard9.gti\n",
      "\n"
     ]
    }
   ],
   "source": [
    "for i in num:\n",
    "    obsnum=obs+i\n",
    "    print('nicercal indir=%d'%obsnum)\n",
    "    print('nimaketime infile=%d/auxil/ni%d.mkf.gz outfile=standard%d.gti'%(obsnum,obsnum,i))\n",
    "    print('ls %d/xti/event_cl/ni%d_0mpu[0-6]_ufa.evt > ufalist%d.lis'%(obsnum,obsnum,i))\n",
    "    print('nicermergeclean infiles=@ufalist%d.lis ufafile=%d/xti/event_cl/ni%d_0mpu7_ufa.evt.gz clfile=%d/xti/event_cl/ni%d_0mpu7_cl.evt.gz gtifile=standard%d.gti'%(i,obsnum,obsnum,obsnum,obsnum,i)) \n",
    "    print()"
   ]
  },
  {
   "cell_type": "code",
   "execution_count": null,
   "metadata": {
    "collapsed": true
   },
   "outputs": [],
   "source": []
  }
 ],
 "metadata": {
  "kernelspec": {
   "display_name": "Python 3",
   "language": "python",
   "name": "python3"
  },
  "language_info": {
   "codemirror_mode": {
    "name": "ipython",
    "version": 3
   },
   "file_extension": ".py",
   "mimetype": "text/x-python",
   "name": "python",
   "nbconvert_exporter": "python",
   "pygments_lexer": "ipython3",
   "version": "3.6.0"
  },
  "latex_envs": {
   "LaTeX_envs_menu_present": true,
   "autocomplete": true,
   "bibliofile": "biblio.bib",
   "cite_by": "apalike",
   "current_citInitial": 1,
   "eqLabelWithNumbers": true,
   "eqNumInitial": 1,
   "hotkeys": {
    "equation": "Ctrl-E",
    "itemize": "Ctrl-I"
   },
   "labels_anchors": false,
   "latex_user_defs": false,
   "report_style_numbering": false,
   "user_envs_cfg": false
  },
  "toc": {
   "nav_menu": {},
   "number_sections": true,
   "sideBar": true,
   "skip_h1_title": false,
   "toc_cell": false,
   "toc_position": {},
   "toc_section_display": "block",
   "toc_window_display": false
  }
 },
 "nbformat": 4,
 "nbformat_minor": 2
}
