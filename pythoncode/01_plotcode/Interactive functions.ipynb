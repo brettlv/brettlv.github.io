{
 "cells": [
  {
   "cell_type": "code",
   "execution_count": 1,
   "id": "3071fe9a",
   "metadata": {
    "ExecuteTime": {
     "end_time": "2023-02-27T04:57:27.502801Z",
     "start_time": "2023-02-27T04:57:26.957125Z"
    }
   },
   "outputs": [],
   "source": [
    "import matplotlib\n",
    "matplotlib.use('TkAgg')  # 大小写无所谓 tkaGg ,TkAgg 都行\n",
    "import matplotlib.pyplot as plt"
   ]
  },
  {
   "cell_type": "markdown",
   "id": "95d96caa",
   "metadata": {},
   "source": [
    "https://matplotlib.org/stable/gallery/event_handling/ginput_manual_clabel_sgskip.html#sphx-glr-gallery-event-handling-ginput-manual-clabel-sgskip-py"
   ]
  },
  {
   "cell_type": "code",
   "execution_count": 2,
   "id": "c7250472",
   "metadata": {
    "ExecuteTime": {
     "end_time": "2023-02-27T04:57:28.030093Z",
     "start_time": "2023-02-27T04:57:28.017823Z"
    }
   },
   "outputs": [],
   "source": [
    "import time\n",
    "\n",
    "import numpy as np\n",
    "import matplotlib.pyplot as plt\n",
    "\n",
    "\n",
    "def tellme(s):\n",
    "    print(s)\n",
    "    plt.title(s, fontsize=16)\n",
    "    plt.draw()"
   ]
  },
  {
   "cell_type": "code",
   "execution_count": 4,
   "id": "11090576",
   "metadata": {
    "ExecuteTime": {
     "end_time": "2023-02-27T04:59:35.569175Z",
     "start_time": "2023-02-27T04:58:57.467262Z"
    }
   },
   "outputs": [
    {
     "name": "stdout",
     "output_type": "stream",
     "text": [
      "You will define a triangle, click to begin\n",
      "Select 3 corners with mouse\n",
      "Happy? Key click for yes, mouse click for no\n",
      "Select 3 corners with mouse\n",
      "Happy? Key click for yes, mouse click for no\n",
      "Select 3 corners with mouse\n",
      "Happy? Key click for yes, mouse click for no\n",
      "Select 3 corners with mouse\n",
      "Too few points, starting over\n",
      "Select 3 corners with mouse\n",
      "Happy? Key click for yes, mouse click for no\n"
     ]
    }
   ],
   "source": [
    "plt.figure()\n",
    "plt.xlim(0, 1)\n",
    "plt.ylim(0, 1)\n",
    "\n",
    "tellme('You will define a triangle, click to begin')\n",
    "\n",
    "plt.waitforbuttonpress()\n",
    "\n",
    "while True:\n",
    "    pts = []\n",
    "    while len(pts) < 3:\n",
    "        tellme('Select 3 corners with mouse')\n",
    "        pts = np.asarray(plt.ginput(3, timeout=-1))\n",
    "        if len(pts) < 3:\n",
    "            tellme('Too few points, starting over')\n",
    "            time.sleep(1)  # Wait a second\n",
    "\n",
    "    ph = plt.fill(pts[:, 0], pts[:, 1], 'r', lw=2)\n",
    "\n",
    "    tellme('Happy? Key click for yes, mouse click for no')\n",
    "\n",
    "    if plt.waitforbuttonpress():\n",
    "        break\n",
    "\n",
    "    # Get rid of fill\n",
    "    for p in ph:\n",
    "        p.remove()"
   ]
  },
  {
   "cell_type": "code",
   "execution_count": null,
   "id": "743658ad",
   "metadata": {},
   "outputs": [],
   "source": []
  },
  {
   "cell_type": "code",
   "execution_count": null,
   "id": "16f786c3",
   "metadata": {},
   "outputs": [],
   "source": []
  },
  {
   "cell_type": "code",
   "execution_count": 5,
   "id": "88cf4fd6",
   "metadata": {
    "ExecuteTime": {
     "end_time": "2023-02-27T05:00:23.419029Z",
     "start_time": "2023-02-27T04:59:35.579230Z"
    }
   },
   "outputs": [
    {
     "name": "stdout",
     "output_type": "stream",
     "text": [
      "Use mouse to select contour label locations, middle button to finish\n",
      "Select label locations manually using first mouse button.\n",
      "End manual selection with second mouse button.\n"
     ]
    }
   ],
   "source": [
    "# Define a nice function of distance from individual pts\n",
    "def f(x, y, pts):\n",
    "    z = np.zeros_like(x)\n",
    "    for p in pts:\n",
    "        z = z + 1/(np.sqrt((x - p[0])**2 + (y - p[1])**2))\n",
    "    return 1/z\n",
    "\n",
    "\n",
    "X, Y = np.meshgrid(np.linspace(-1, 1, 51), np.linspace(-1, 1, 51))\n",
    "Z = f(X, Y, pts)\n",
    "\n",
    "CS = plt.contour(X, Y, Z, 20)\n",
    "\n",
    "tellme('Use mouse to select contour label locations, middle button to finish')\n",
    "CL = plt.clabel(CS, manual=True)"
   ]
  },
  {
   "cell_type": "code",
   "execution_count": null,
   "id": "ca285c87",
   "metadata": {},
   "outputs": [],
   "source": []
  },
  {
   "cell_type": "code",
   "execution_count": 6,
   "id": "1eff31e5",
   "metadata": {
    "ExecuteTime": {
     "end_time": "2023-02-27T05:08:53.675349Z",
     "start_time": "2023-02-27T05:00:32.215275Z"
    }
   },
   "outputs": [
    {
     "name": "stdout",
     "output_type": "stream",
     "text": [
      "Now do a nested zoom, click to begin\n",
      "Select two corners of zoom, middle mouse button to finish\n",
      "Select two corners of zoom, middle mouse button to finish\n",
      "Select two corners of zoom, middle mouse button to finish\n",
      "Select two corners of zoom, middle mouse button to finish\n",
      "Select two corners of zoom, middle mouse button to finish\n",
      "All Done!\n"
     ]
    },
    {
     "name": "stderr",
     "output_type": "stream",
     "text": [
      "Exception in Tkinter callback\n",
      "Traceback (most recent call last):\n",
      "  File \"/Users/lyubing/opt/anaconda3/lib/python3.9/tkinter/__init__.py\", line 1892, in __call__\n",
      "    return self.func(*args)\n",
      "  File \"/Users/lyubing/opt/anaconda3/lib/python3.9/tkinter/__init__.py\", line 814, in callit\n",
      "    func(*args)\n",
      "  File \"/Users/lyubing/opt/anaconda3/lib/python3.9/site-packages/matplotlib/backends/_backend_tk.py\", line 503, in delayed_destroy\n",
      "    self.window.destroy()\n",
      "  File \"/Users/lyubing/opt/anaconda3/lib/python3.9/tkinter/__init__.py\", line 2312, in destroy\n",
      "    self.tk.call('destroy', self._w)\n",
      "_tkinter.TclError: can't invoke \"destroy\" command: application has been destroyed\n"
     ]
    }
   ],
   "source": [
    "tellme('Now do a nested zoom, click to begin')\n",
    "plt.waitforbuttonpress()\n",
    "\n",
    "while True:\n",
    "    tellme('Select two corners of zoom, middle mouse button to finish')\n",
    "    pts = plt.ginput(2, timeout=-1)\n",
    "    if len(pts) < 2:\n",
    "        break\n",
    "    (x0, y0), (x1, y1) = pts\n",
    "    xmin, xmax = sorted([x0, x1])\n",
    "    ymin, ymax = sorted([y0, y1])\n",
    "    plt.xlim(xmin, xmax)\n",
    "    plt.ylim(ymin, ymax)\n",
    "\n",
    "tellme('All Done!')\n",
    "plt.show()"
   ]
  },
  {
   "cell_type": "code",
   "execution_count": null,
   "id": "f7d4b5fb",
   "metadata": {},
   "outputs": [],
   "source": []
  }
 ],
 "metadata": {
  "kernelspec": {
   "display_name": "Python 3 (ipykernel)",
   "language": "python",
   "name": "python3"
  },
  "language_info": {
   "codemirror_mode": {
    "name": "ipython",
    "version": 3
   },
   "file_extension": ".py",
   "mimetype": "text/x-python",
   "name": "python",
   "nbconvert_exporter": "python",
   "pygments_lexer": "ipython3",
   "version": "3.9.12"
  },
  "latex_envs": {
   "LaTeX_envs_menu_present": true,
   "autoclose": false,
   "autocomplete": true,
   "bibliofile": "biblio.bib",
   "cite_by": "apalike",
   "current_citInitial": 1,
   "eqLabelWithNumbers": true,
   "eqNumInitial": 1,
   "hotkeys": {
    "equation": "Ctrl-E",
    "itemize": "Ctrl-I"
   },
   "labels_anchors": false,
   "latex_user_defs": false,
   "report_style_numbering": false,
   "user_envs_cfg": false
  },
  "toc": {
   "base_numbering": 1,
   "nav_menu": {},
   "number_sections": true,
   "sideBar": true,
   "skip_h1_title": false,
   "title_cell": "Table of Contents",
   "title_sidebar": "Contents",
   "toc_cell": false,
   "toc_position": {},
   "toc_section_display": true,
   "toc_window_display": false
  }
 },
 "nbformat": 4,
 "nbformat_minor": 5
}
