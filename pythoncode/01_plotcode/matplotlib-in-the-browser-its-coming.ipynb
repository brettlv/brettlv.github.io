{
 "cells": [
  {
   "cell_type": "code",
   "execution_count": 3,
   "id": "444ef1e0",
   "metadata": {
    "ExecuteTime": {
     "end_time": "2022-09-15T07:22:40.010376Z",
     "start_time": "2022-09-15T07:22:29.777360Z"
    }
   },
   "outputs": [
    {
     "name": "stdout",
     "output_type": "stream",
     "text": [
      "Collecting package metadata (current_repodata.json): done\n",
      "Solving environment: failed with initial frozen solve. Retrying with flexible solve.\n",
      "Collecting package metadata (repodata.json): done\n",
      "Solving environment: failed with initial frozen solve. Retrying with flexible solve.\n",
      "\n",
      "PackagesNotFoundError: The following packages are not available from current channels:\n",
      "\n",
      "  - serve_figure\n",
      "\n",
      "Current channels:\n",
      "\n",
      "  - https://repo.anaconda.com/pkgs/main/osx-64\n",
      "  - https://repo.anaconda.com/pkgs/main/noarch\n",
      "  - https://repo.anaconda.com/pkgs/r/osx-64\n",
      "  - https://repo.anaconda.com/pkgs/r/noarch\n",
      "\n",
      "To search for alternate channels that may provide the conda package you're\n",
      "looking for, navigate to\n",
      "\n",
      "    https://anaconda.org\n",
      "\n",
      "and use the search bar at the top of the page.\n",
      "\n",
      "\n"
     ]
    }
   ],
   "source": [
    "# Install a conda package in the current Jupyter kernel\n",
    "import sys\n",
    "!conda install --yes --prefix {sys.prefix} serve_figure\n",
    "\n",
    "# Install a pip package in the current Jupyter kernel\n",
    "# import sys\n",
    "\n",
    "#python -m pip install <package>\n"
   ]
  },
  {
   "cell_type": "code",
   "execution_count": 7,
   "id": "957d5e41",
   "metadata": {
    "ExecuteTime": {
     "end_time": "2022-09-15T07:32:13.961260Z",
     "start_time": "2022-09-15T07:32:10.834667Z"
    }
   },
   "outputs": [
    {
     "name": "stdout",
     "output_type": "stream",
     "text": [
      "Collecting mpld3\n",
      "  Downloading mpld3-0.5.8-py3-none-any.whl (201 kB)\n",
      "\u001b[K     |████████████████████████████████| 201 kB 712 kB/s eta 0:00:01\n",
      "\u001b[?25hRequirement already satisfied: matplotlib in /Users/lyubing/opt/anaconda3/lib/python3.9/site-packages (from mpld3) (3.5.1)\n",
      "Requirement already satisfied: jinja2 in /Users/lyubing/opt/anaconda3/lib/python3.9/site-packages (from mpld3) (2.11.3)\n",
      "Requirement already satisfied: MarkupSafe>=0.23 in /Users/lyubing/opt/anaconda3/lib/python3.9/site-packages (from jinja2->mpld3) (2.0.1)\n",
      "Requirement already satisfied: numpy>=1.17 in /Users/lyubing/opt/anaconda3/lib/python3.9/site-packages (from matplotlib->mpld3) (1.21.5)\n",
      "Requirement already satisfied: kiwisolver>=1.0.1 in /Users/lyubing/opt/anaconda3/lib/python3.9/site-packages (from matplotlib->mpld3) (1.3.2)\n",
      "Requirement already satisfied: fonttools>=4.22.0 in /Users/lyubing/opt/anaconda3/lib/python3.9/site-packages (from matplotlib->mpld3) (4.25.0)\n",
      "Requirement already satisfied: python-dateutil>=2.7 in /Users/lyubing/opt/anaconda3/lib/python3.9/site-packages (from matplotlib->mpld3) (2.8.2)\n",
      "Requirement already satisfied: pyparsing>=2.2.1 in /Users/lyubing/opt/anaconda3/lib/python3.9/site-packages (from matplotlib->mpld3) (3.0.4)\n",
      "Requirement already satisfied: cycler>=0.10 in /Users/lyubing/opt/anaconda3/lib/python3.9/site-packages (from matplotlib->mpld3) (0.11.0)\n",
      "Requirement already satisfied: pillow>=6.2.0 in /Users/lyubing/opt/anaconda3/lib/python3.9/site-packages (from matplotlib->mpld3) (9.0.1)\n",
      "Requirement already satisfied: packaging>=20.0 in /Users/lyubing/opt/anaconda3/lib/python3.9/site-packages (from matplotlib->mpld3) (21.3)\n",
      "Requirement already satisfied: six>=1.5 in /Users/lyubing/opt/anaconda3/lib/python3.9/site-packages (from python-dateutil>=2.7->matplotlib->mpld3) (1.16.0)\n",
      "Installing collected packages: mpld3\n",
      "Successfully installed mpld3-0.5.8\n"
     ]
    }
   ],
   "source": [
    "!{sys.executable} -m pip install mpld3"
   ]
  },
  {
   "cell_type": "code",
   "execution_count": null,
   "id": "2b90c9e1",
   "metadata": {},
   "outputs": [],
   "source": [
    "matplotlib-in-the-browser-its-coming"
   ]
  },
  {
   "cell_type": "code",
   "execution_count": null,
   "id": "72b26626",
   "metadata": {},
   "outputs": [],
   "source": []
  },
  {
   "cell_type": "code",
   "execution_count": null,
   "id": "67c28ce6",
   "metadata": {},
   "outputs": [],
   "source": []
  },
  {
   "cell_type": "markdown",
   "id": "13a6474f",
   "metadata": {
    "ExecuteTime": {
     "end_time": "2022-09-15T07:20:39.220908Z",
     "start_time": "2022-09-15T07:20:37.998497Z"
    }
   },
   "source": [
    "pip install serve_figure"
   ]
  },
  {
   "cell_type": "code",
   "execution_count": null,
   "id": "44eb5774",
   "metadata": {},
   "outputs": [],
   "source": []
  },
  {
   "cell_type": "code",
   "execution_count": 6,
   "id": "b64a0294",
   "metadata": {
    "ExecuteTime": {
     "end_time": "2022-09-15T07:28:45.741076Z",
     "start_time": "2022-09-15T07:28:45.581117Z"
    }
   },
   "outputs": [
    {
     "ename": "ModuleNotFoundError",
     "evalue": "No module named 'cStringIO'",
     "output_type": "error",
     "traceback": [
      "\u001b[0;31m---------------------------------------------------------------------------\u001b[0m",
      "\u001b[0;31mModuleNotFoundError\u001b[0m                       Traceback (most recent call last)",
      "Input \u001b[0;32mIn [6]\u001b[0m, in \u001b[0;36m<cell line: 1>\u001b[0;34m()\u001b[0m\n\u001b[0;32m----> 1\u001b[0m \u001b[38;5;28;01mimport\u001b[39;00m \u001b[38;5;21;01mserve_figure\u001b[39;00m\n\u001b[1;32m      2\u001b[0m \u001b[38;5;28;01mimport\u001b[39;00m \u001b[38;5;21;01mnumpy\u001b[39;00m \u001b[38;5;28;01mas\u001b[39;00m \u001b[38;5;21;01mnp\u001b[39;00m\n\u001b[1;32m      3\u001b[0m \u001b[38;5;28;01mfrom\u001b[39;00m \u001b[38;5;21;01mnumpy\u001b[39;00m \u001b[38;5;28;01mimport\u001b[39;00m ma\n",
      "File \u001b[0;32m~/blog/brettlv.github.io/pythoncode/littlecode_test/serve_figure.py:17\u001b[0m, in \u001b[0;36m<module>\u001b[0;34m\u001b[0m\n\u001b[1;32m     14\u001b[0m \u001b[38;5;28;01mfrom\u001b[39;00m \u001b[38;5;21;01mmatplotlib\u001b[39;00m \u001b[38;5;28;01mimport\u001b[39;00m backend_bases\n\u001b[1;32m     15\u001b[0m \u001b[38;5;28;01mfrom\u001b[39;00m \u001b[38;5;21;01mmatplotlib\u001b[39;00m\u001b[38;5;21;01m.\u001b[39;00m\u001b[38;5;21;01mbackends\u001b[39;00m \u001b[38;5;28;01mimport\u001b[39;00m backend_agg\n\u001b[0;32m---> 17\u001b[0m \u001b[38;5;28;01mimport\u001b[39;00m \u001b[38;5;21;01mcStringIO\u001b[39;00m\n\u001b[1;32m     19\u001b[0m \u001b[38;5;28;01mif\u001b[39;00m [\u001b[38;5;28mint\u001b[39m(x) \u001b[38;5;28;01mfor\u001b[39;00m x \u001b[38;5;129;01min\u001b[39;00m matplotlib\u001b[38;5;241m.\u001b[39m__version__\u001b[38;5;241m.\u001b[39msplit(\u001b[38;5;124m'\u001b[39m\u001b[38;5;124m.\u001b[39m\u001b[38;5;124m'\u001b[39m)[:\u001b[38;5;241m2\u001b[39m]] \u001b[38;5;241m>\u001b[39m\u001b[38;5;241m=\u001b[39m [\u001b[38;5;241m1\u001b[39m, \u001b[38;5;241m2\u001b[39m]:\n\u001b[1;32m     20\u001b[0m     \u001b[38;5;28;01mdef\u001b[39;00m \u001b[38;5;21mget_buffer\u001b[39m(ren):\n",
      "\u001b[0;31mModuleNotFoundError\u001b[0m: No module named 'cStringIO'"
     ]
    }
   ],
   "source": [
    "import serve_figure\n",
    "import numpy as np\n",
    "from numpy import ma\n",
    "from matplotlib import pyplot as plt\n",
    "\n",
    "n = 12\n",
    "x = np.linspace(-1.5,1.5,n)\n",
    "y = np.linspace(-1.5,1.5,n*2)\n",
    "X,Y = np.meshgrid(x,y);\n",
    "Qx = np.cos(Y) - np.cos(X)\n",
    "Qz = np.sin(Y) + np.sin(X)\n",
    "Qx = (Qx + 1.1)\n",
    "Z = np.sqrt(X**2 + Y**2)/5;\n",
    "Z = (Z - Z.min()) / (Z.max() - Z.min())\n",
    "\n",
    "# The color array can include masked values:\n",
    "Zm = ma.masked_where(np.fabs(Qz) < 0.5*np.amax(Qz), Z)\n",
    "\n",
    "fig = plt.figure()\n",
    "ax = fig.add_subplot(121)\n",
    "ax.set_axis_bgcolor(\"#bdb76b\")\n",
    "ax.pcolormesh(Qx,Qz,Z, shading='gouraud')\n",
    "ax.set_title('Without masked values')\n",
    "\n",
    "ax = fig.add_subplot(122)\n",
    "ax.set_axis_bgcolor(\"#bdb76b\")\n",
    "col = ax.pcolormesh(Qx,Qz,Zm,shading='gouraud')\n",
    "ax.set_title('With masked values')\n",
    "\n",
    "serve_figure.serve_figure(fig, port=8888)"
   ]
  },
  {
   "cell_type": "code",
   "execution_count": null,
   "id": "54991783",
   "metadata": {},
   "outputs": [],
   "source": []
  }
 ],
 "metadata": {
  "kernelspec": {
   "display_name": "Python 3 (ipykernel)",
   "language": "python",
   "name": "python3"
  },
  "language_info": {
   "codemirror_mode": {
    "name": "ipython",
    "version": 3
   },
   "file_extension": ".py",
   "mimetype": "text/x-python",
   "name": "python",
   "nbconvert_exporter": "python",
   "pygments_lexer": "ipython3",
   "version": "3.9.12"
  },
  "latex_envs": {
   "LaTeX_envs_menu_present": true,
   "autoclose": false,
   "autocomplete": true,
   "bibliofile": "biblio.bib",
   "cite_by": "apalike",
   "current_citInitial": 1,
   "eqLabelWithNumbers": true,
   "eqNumInitial": 1,
   "hotkeys": {
    "equation": "Ctrl-E",
    "itemize": "Ctrl-I"
   },
   "labels_anchors": false,
   "latex_user_defs": false,
   "report_style_numbering": false,
   "user_envs_cfg": false
  },
  "toc": {
   "base_numbering": 1,
   "nav_menu": {},
   "number_sections": true,
   "sideBar": true,
   "skip_h1_title": false,
   "title_cell": "Table of Contents",
   "title_sidebar": "Contents",
   "toc_cell": false,
   "toc_position": {},
   "toc_section_display": true,
   "toc_window_display": false
  }
 },
 "nbformat": 4,
 "nbformat_minor": 5
}
