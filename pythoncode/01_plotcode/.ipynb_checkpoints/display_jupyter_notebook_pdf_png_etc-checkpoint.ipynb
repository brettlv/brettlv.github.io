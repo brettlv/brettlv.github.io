{
 "cells": [
  {
   "cell_type": "code",
   "execution_count": 2,
   "metadata": {
    "ExecuteTime": {
     "end_time": "2021-01-17T07:53:33.428433Z",
     "start_time": "2021-01-17T07:53:33.320081Z"
    }
   },
   "outputs": [],
   "source": [
    "# Start with some imports!\n",
    "from ipywidgets import interact\n",
    "import ipywidgets as widgets"
   ]
  },
  {
   "cell_type": "code",
   "execution_count": 3,
   "metadata": {
    "ExecuteTime": {
     "end_time": "2021-01-17T07:53:34.076463Z",
     "start_time": "2021-01-17T07:53:34.068502Z"
    }
   },
   "outputs": [
    {
     "data": {
      "text/html": [
       "\n",
       "        <iframe\n",
       "            width=\"800\"\n",
       "            height=\"450\"\n",
       "            src=\"https://en.wikipedia.org/wiki/\"\n",
       "            frameborder=\"0\"\n",
       "            allowfullscreen\n",
       "        ></iframe>\n",
       "        "
      ],
      "text/plain": [
       "<IPython.lib.display.IFrame at 0x110a98f10>"
      ]
     },
     "execution_count": 3,
     "metadata": {},
     "output_type": "execute_result"
    }
   ],
   "source": [
    "#Note that http urls will not be displayed. Only https are allowed inside the Iframe\n",
    "from IPython.display import IFrame,display\n",
    "IFrame('https://en.wikipedia.org/wiki/', width=800, height=450)"
   ]
  },
  {
   "cell_type": "markdown",
   "metadata": {
    "ExecuteTime": {
     "end_time": "2022-09-14T06:29:19.411006Z",
     "start_time": "2022-09-14T06:29:19.402625Z"
    }
   },
   "source": [
    "from IPython.display import IFrame\n",
    "IFrame('https://brettlv.github.io/radiolearnnote/casa_notebook_lvbing_20171123.pptx', width=800, height=450)"
   ]
  },
  {
   "cell_type": "code",
   "execution_count": null,
   "metadata": {
    "ExecuteTime": {
     "end_time": "2022-09-14T06:29:31.321618Z",
     "start_time": "2022-09-14T06:29:31.305899Z"
    }
   },
   "outputs": [],
   "source": [
    "%%HTML\n",
    "<div align=\"center\"><iframe src=\"./mwa_paper/mwa_sources.pptx\" frameborder=\"0\" width=\"800\" height=\"450\" allowfullscreen=\"true\" mozallowfullscreen=\"true\" webkitallowfullscreen=\"true\">\n",
    "</iframe></div>"
   ]
  },
  {
   "cell_type": "code",
   "execution_count": 10,
   "metadata": {
    "ExecuteTime": {
     "end_time": "2021-01-17T07:54:29.255539Z",
     "start_time": "2021-01-17T07:54:29.249810Z"
    }
   },
   "outputs": [
    {
     "data": {
      "text/plain": [
       "'/Users/brettlv/blog/brettlv.github.io/pythoncode'"
      ]
     },
     "execution_count": 10,
     "metadata": {},
     "output_type": "execute_result"
    }
   ],
   "source": [
    "pwd"
   ]
  },
  {
   "cell_type": "code",
   "execution_count": 10,
   "metadata": {
    "ExecuteTime": {
     "end_time": "2022-09-14T06:28:36.455595Z",
     "start_time": "2022-09-14T06:28:36.446131Z"
    }
   },
   "outputs": [
    {
     "data": {
      "text/html": [
       "\n",
       "        <iframe\n",
       "            width=\"800\"\n",
       "            height=\"450\"\n",
       "            src=\"./mwa_paper/GaLactic and Extragalactic All-sky Murchison Widefield Array (GLEAM) survey I- A low-frequency extragalactic catalogue mwa 1610.08318.pdf\"\n",
       "            frameborder=\"0\"\n",
       "            allowfullscreen\n",
       "            \n",
       "        ></iframe>\n",
       "        "
      ],
      "text/plain": [
       "<IPython.lib.display.IFrame at 0x7fb0c8b7b520>"
      ]
     },
     "execution_count": 10,
     "metadata": {},
     "output_type": "execute_result"
    }
   ],
   "source": [
    "from IPython.display import IFrame,display\n",
    "IFrame('./mwa_paper/GaLactic and Extragalactic All-sky Murchison Widefield Array (GLEAM) survey I- A low-frequency extragalactic catalogue mwa 1610.08318.pdf', width=800, height=450)\n",
    "\n"
   ]
  },
  {
   "cell_type": "code",
   "execution_count": 17,
   "metadata": {
    "ExecuteTime": {
     "end_time": "2020-07-03T16:24:57.555358Z",
     "start_time": "2020-07-03T16:24:57.549273Z"
    },
    "collapsed": true
   },
   "outputs": [],
   "source": []
  },
  {
   "cell_type": "code",
   "execution_count": 26,
   "metadata": {
    "ExecuteTime": {
     "end_time": "2020-07-03T16:29:09.846070Z",
     "start_time": "2020-07-03T16:29:09.841701Z"
    },
    "collapsed": true
   },
   "outputs": [],
   "source": [
    "pdf_path='file:///Users/brettlv/blog/IHEP_sync/paper/weekly_summary/janual-club/20200703/Fainter%20harder%20brighter%20softer-%20a%20correlation%20between%20%CE%B1ox%20,%20X-ray%20spectral%20state%20and%20Eddington%20ratio%20in%20tidal%20disruption%20events%202006.06684.pdf'\n",
    "pdf_path_origin='/Users/brettlv/blog/IHEP_sync/paper/weekly_summary/janual-club/20200703/Fainter harder brighter softer- a correlation between αox , X-ray spectral state and Eddington ratio in tidal disruption events 2006.06684.pdf'\n",
    "pdf_path_origin='/Users/brettlv/blog/IHEP_sync/paper/weekly_summary/janual-club/20200703/lyu_0703.pdf'"
   ]
  },
  {
   "cell_type": "code",
   "execution_count": 28,
   "metadata": {
    "ExecuteTime": {
     "end_time": "2020-07-03T16:29:34.254186Z",
     "start_time": "2020-07-03T16:29:34.248850Z"
    }
   },
   "outputs": [
    {
     "data": {
      "text/plain": [
       "'/Users/brettlv/blog/IHEP_sync/paper/weekly_summary/janual-club/20200703/lyu_0703.pdf'"
      ]
     },
     "execution_count": 28,
     "metadata": {},
     "output_type": "execute_result"
    }
   ],
   "source": [
    "pdf_path_origin"
   ]
  },
  {
   "cell_type": "code",
   "execution_count": 33,
   "metadata": {
    "ExecuteTime": {
     "end_time": "2020-07-03T16:31:40.659807Z",
     "start_time": "2020-07-03T16:31:40.654864Z"
    }
   },
   "outputs": [
    {
     "data": {
      "text/html": [
       "\n",
       "        <iframe\n",
       "            width=\"800\"\n",
       "            height=\"450\"\n",
       "            src=\"../blog/IHEP_sync/paper/weekly_summary/janual-club/20200703/lyu_0703.pdf\"\n",
       "            frameborder=\"0\"\n",
       "            allowfullscreen\n",
       "        ></iframe>\n",
       "        "
      ],
      "text/plain": [
       "<IPython.lib.display.IFrame at 0x10a0ff208>"
      ]
     },
     "execution_count": 33,
     "metadata": {},
     "output_type": "execute_result"
    }
   ],
   "source": [
    "from IPython.display import IFrame,display\n",
    "IFrame('../blog/IHEP_sync/paper/weekly_summary/janual-club/20200703/lyu_0703.pdf', width=800, height=450)"
   ]
  },
  {
   "cell_type": "code",
   "execution_count": null,
   "metadata": {
    "collapsed": true
   },
   "outputs": [],
   "source": []
  },
  {
   "cell_type": "code",
   "execution_count": 13,
   "metadata": {
    "ExecuteTime": {
     "end_time": "2022-09-14T06:29:53.346109Z",
     "start_time": "2022-09-14T06:29:53.336247Z"
    }
   },
   "outputs": [
    {
     "data": {
      "text/html": [
       "\n",
       "        <iframe\n",
       "            width=\"800\"\n",
       "            height=\"450\"\n",
       "            src=\"https://arxiv.org/pdf/2006.06684.pdf\"\n",
       "            frameborder=\"0\"\n",
       "            allowfullscreen\n",
       "            \n",
       "        ></iframe>\n",
       "        "
      ],
      "text/plain": [
       "<IPython.lib.display.IFrame at 0x7fb098299910>"
      ]
     },
     "execution_count": 13,
     "metadata": {},
     "output_type": "execute_result"
    }
   ],
   "source": [
    "from IPython.display import IFrame\n",
    "IFrame('https://arxiv.org/pdf/2006.06684.pdf', width=800, height=450)"
   ]
  },
  {
   "cell_type": "code",
   "execution_count": null,
   "metadata": {
    "collapsed": true
   },
   "outputs": [],
   "source": []
  },
  {
   "cell_type": "code",
   "execution_count": 14,
   "metadata": {
    "ExecuteTime": {
     "end_time": "2022-09-14T06:30:08.152654Z",
     "start_time": "2022-09-14T06:30:08.138677Z"
    }
   },
   "outputs": [
    {
     "data": {
      "text/html": [
       "<div align=\"center\"><iframe src=\"https://view.officeapps.live.com/op/view.aspx?src=https://brettlv.github.io/radiolearnnote/casa_notebook_lvbing_20171123.pptx\" frameborder=\"0\" width=\"800\" height=\"450\" allowfullscreen=\"true\" mozallowfullscreen=\"true\" webkitallowfullscreen=\"true\">\n",
       "</iframe></div>\n"
      ],
      "text/plain": [
       "<IPython.core.display.HTML object>"
      ]
     },
     "metadata": {},
     "output_type": "display_data"
    }
   ],
   "source": [
    "%%HTML\n",
    "<div align=\"center\"><iframe src=\"https://view.officeapps.live.com/op/view.aspx?src=https://brettlv.github.io/radiolearnnote/casa_notebook_lvbing_20171123.pptx\" frameborder=\"0\" width=\"800\" height=\"450\" allowfullscreen=\"true\" mozallowfullscreen=\"true\" webkitallowfullscreen=\"true\">\n",
    "</iframe></div>\n"
   ]
  },
  {
   "cell_type": "code",
   "execution_count": 1,
   "metadata": {
    "ExecuteTime": {
     "end_time": "2022-09-20T06:35:36.023437Z",
     "start_time": "2022-09-20T06:35:35.869513Z"
    }
   },
   "outputs": [
    {
     "name": "stdout",
     "output_type": "stream",
     "text": [
      "\u001b[31mboson_fermion.png\u001b[m\u001b[m*\r\n"
     ]
    }
   ],
   "source": [
    "ls *.png"
   ]
  },
  {
   "cell_type": "markdown",
   "metadata": {},
   "source": [
    "# image"
   ]
  },
  {
   "cell_type": "code",
   "execution_count": 2,
   "metadata": {
    "ExecuteTime": {
     "end_time": "2022-09-20T06:35:42.066768Z",
     "start_time": "2022-09-20T06:35:42.043578Z"
    }
   },
   "outputs": [
    {
     "data": {
      "text/html": [
       "<img src=\"boson_fermion.png\" width=\"300\" height=\"300\"/>"
      ],
      "text/plain": [
       "<IPython.core.display.Image object>"
      ]
     },
     "execution_count": 2,
     "metadata": {},
     "output_type": "execute_result"
    }
   ],
   "source": [
    "# import image module\n",
    "from IPython.display import Image\n",
    "# get the image\n",
    "Image(url=\"boson_fermion.png\", width=300, height=300)"
   ]
  },
  {
   "cell_type": "code",
   "execution_count": null,
   "metadata": {},
   "outputs": [],
   "source": []
  },
  {
   "cell_type": "code",
   "execution_count": 38,
   "metadata": {
    "ExecuteTime": {
     "end_time": "2020-07-03T16:33:50.809767Z",
     "start_time": "2020-07-03T16:33:50.806375Z"
    }
   },
   "outputs": [],
   "source": [
    "from IPython.display import HTML\n",
    "import IPython.display"
   ]
  },
  {
   "cell_type": "code",
   "execution_count": 41,
   "metadata": {
    "ExecuteTime": {
     "end_time": "2020-07-03T16:35:26.384280Z",
     "start_time": "2020-07-03T16:35:26.248959Z"
    }
   },
   "outputs": [
    {
     "name": "stdout",
     "output_type": "stream",
     "text": [
      "ls: *.mp*: No such file or directory\r\n"
     ]
    }
   ],
   "source": [
    "ls *.mp*"
   ]
  },
  {
   "cell_type": "code",
   "execution_count": 39,
   "metadata": {
    "ExecuteTime": {
     "end_time": "2020-07-03T16:33:51.918757Z",
     "start_time": "2020-07-03T16:33:51.912679Z"
    }
   },
   "outputs": [],
   "source": [
    "%%HTML\n",
    "<video width='320' height='240' controls>\n",
    "<source src='./*mp4' type='video/mp4'>\n",
    "</video>\n",
    "\n",
    "<dudio controls>\n",
    "<source src='./*mp3'>\n",
    "</audio>"
   ]
  },
  {
   "cell_type": "code",
   "execution_count": 1,
   "metadata": {
    "ExecuteTime": {
     "end_time": "2022-09-14T06:17:16.452123Z",
     "start_time": "2022-09-14T06:17:16.274088Z"
    }
   },
   "outputs": [],
   "source": [
    "mv /Users/lyubing/blog/brettlv.github.io/pythoncode/00JetRM/Python2test_sys_install.ipynb ."
   ]
  },
  {
   "cell_type": "code",
   "execution_count": 3,
   "metadata": {
    "ExecuteTime": {
     "end_time": "2022-09-14T06:17:27.319206Z",
     "start_time": "2022-09-14T06:17:27.138059Z"
    }
   },
   "outputs": [
    {
     "name": "stdout",
     "output_type": "stream",
     "text": [
      "\u001b[31m03_plotting_periodictable_mendeleev.ipynb\u001b[m\u001b[m*\r\n",
      "\u001b[31m2Dkde.ipynb\u001b[m\u001b[m*\r\n",
      "\u001b[31m3Dplot.ipynb\u001b[m\u001b[m*\r\n",
      "\u001b[31mCC.ipynb\u001b[m\u001b[m*\r\n",
      "\u001b[31mFreqBayes.ipynb\u001b[m\u001b[m*\r\n",
      "\u001b[31mFreqBayes1Practical Introduction.ipynb\u001b[m\u001b[m*\r\n",
      "\u001b[31mFreqBayes2.ipynb\u001b[m\u001b[m*\r\n",
      "\u001b[31mFreqBayes2When Results Differ.ipynb\u001b[m\u001b[m*\r\n",
      "\u001b[31mFreqBayes3Confidence, Credibility.ipynb\u001b[m\u001b[m*\r\n",
      "\u001b[31mFreqBayes4How to be a Bayesian in Python.ipynb\u001b[m\u001b[m*\r\n",
      "\u001b[31mFreqBayes5modelselection.ipynb\u001b[m\u001b[m*\r\n",
      "\u001b[31mLeetcodepython.ipynb\u001b[m\u001b[m*\r\n",
      "\u001b[31mOutlier based change point detection.ipynb\u001b[m\u001b[m*\r\n",
      "Python2test_sys_install.ipynb\r\n",
      "\u001b[31mUntitled.ipynb\u001b[m\u001b[m*\r\n",
      "\u001b[31madvanced python.ipynb\u001b[m\u001b[m*\r\n",
      "\u001b[31manimation.ipynb\u001b[m\u001b[m*\r\n",
      "\u001b[31manimation_plot_tensorflow.ipynb\u001b[m\u001b[m*\r\n",
      "\u001b[31mbokeh.ipynb\u001b[m\u001b[m*\r\n",
      "\u001b[31mbokeh_test.ipynb\u001b[m\u001b[m*\r\n",
      "\u001b[31mcolormap.ipynb\u001b[m\u001b[m*\r\n",
      "\u001b[31mcorrelation_coefficient.ipynb\u001b[m\u001b[m*\r\n",
      "\u001b[31mdisplay_jupyter_notebook_pdf_png_etc.ipynb\u001b[m\u001b[m*\r\n",
      "\u001b[31mdownload_picture_image.ipynb\u001b[m\u001b[m*\r\n",
      "\u001b[31mdownloadwebandtopdf.ipynb\u001b[m\u001b[m*\r\n",
      "\u001b[31mfile_directory_manager.ipynb\u001b[m\u001b[m*\r\n",
      "\u001b[31mgif.ipynb\u001b[m\u001b[m*\r\n",
      "\u001b[31mimage_pic.ipynb\u001b[m\u001b[m*\r\n",
      "\u001b[31mjson 上海停车场.ipynb\u001b[m\u001b[m*\r\n",
      "\u001b[31mjuliatestinjupyter.ipynb\u001b[m\u001b[m*\r\n",
      "\u001b[31mjupyter-test.ipynb\u001b[m\u001b[m*\r\n",
      "\u001b[31mkernel2_gwpy2.ipynb\u001b[m\u001b[m*\r\n",
      "\u001b[31mkernel2_pycbc2.ipynb\u001b[m\u001b[m*\r\n",
      "\u001b[31mkernel_density_estimation.ipynb\u001b[m\u001b[m*\r\n",
      "\u001b[31mkingofhonor.ipynb\u001b[m\u001b[m*\r\n",
      "\u001b[31mlatex_paper_structure.ipynb\u001b[m\u001b[m*\r\n",
      "\u001b[31mlovecurve.ipynb\u001b[m\u001b[m*\r\n",
      "\u001b[31mmac.ipynb\u001b[m\u001b[m*\r\n",
      "\u001b[31mmac_linux_tips.ipynb\u001b[m\u001b[m*\r\n",
      "\u001b[31mmachine learning.ipynb\u001b[m\u001b[m*\r\n",
      "\u001b[31mmanga_marvin.ipynb\u001b[m\u001b[m*\r\n",
      "\u001b[31mmap.ipynb\u001b[m\u001b[m*\r\n",
      "\u001b[31mmass_radius_distance_parameter.ipynb\u001b[m\u001b[m*\r\n",
      "\u001b[31mmathtype.ipynb\u001b[m\u001b[m*\r\n",
      "\u001b[31mmatplotlib.ipynb\u001b[m\u001b[m*\r\n",
      "matplotlib.pyplot.xkcd.ipynb\r\n",
      "\u001b[31mmongodb.ipynb\u001b[m\u001b[m*\r\n",
      "\u001b[31mmontagepy.ipynb\u001b[m\u001b[m*\r\n",
      "\u001b[31mmultiprocess.ipynb\u001b[m\u001b[m*\r\n",
      "\u001b[31mnba.ipynb\u001b[m\u001b[m*\r\n",
      "\u001b[31mnba_python2.ipynb\u001b[m\u001b[m*\r\n",
      "\u001b[31mnbtopdf.ipynb\u001b[m\u001b[m*\r\n",
      "\u001b[31mnltk_data Python自然语言处理.ipynb\u001b[m\u001b[m*\r\n",
      "\u001b[31mopencv_nba.ipynb\u001b[m\u001b[m*\r\n",
      "\u001b[31mopencv_nba_lakers.ipynb\u001b[m\u001b[m*\r\n",
      "\u001b[31mpandas.ipynb\u001b[m\u001b[m*\r\n",
      "\u001b[31mpandas_plot.ipynb\u001b[m\u001b[m*\r\n",
      "\u001b[31mpapertool.ipynb\u001b[m\u001b[m*\r\n",
      "\u001b[31mperiodictable.ipynb\u001b[m\u001b[m*\r\n",
      "\u001b[31mpic_to_excel.ipynb\u001b[m\u001b[m*\r\n",
      "\u001b[31mplot_density_contour_demo.ipynb\u001b[m\u001b[m*\r\n",
      "\u001b[31mplot_plt_50个Python经典图表.ipynb\u001b[m\u001b[m*\r\n",
      "\u001b[31mplotly.ipynb\u001b[m\u001b[m*\r\n",
      "\u001b[31mplotly_express_.ipynb\u001b[m\u001b[m*\r\n",
      "\u001b[31mplt.plot.ipynb\u001b[m\u001b[m*\r\n",
      "\u001b[31mplt_plot_50_onlyoneexample.ipynb\u001b[m\u001b[m*\r\n",
      "\u001b[31mpolars.ipynb\u001b[m\u001b[m*\r\n",
      "\u001b[31mpptx_office_online_present.ipynb\u001b[m\u001b[m*\r\n",
      "\u001b[31mprofessionalpython.ipynb\u001b[m\u001b[m*\r\n",
      "\u001b[31mpy2.ipynb\u001b[m\u001b[m*\r\n",
      "\u001b[31mpy2and3in jupyter.ipynb\u001b[m\u001b[m*\r\n",
      "\u001b[31mpy2download.ipynb\u001b[m\u001b[m*\r\n",
      "\u001b[31mpy3.ipynb\u001b[m\u001b[m*\r\n",
      "\u001b[31mpy3and2in jupyter.ipynb\u001b[m\u001b[m*\r\n",
      "\u001b[31mpydisplayhtml.ipynb\u001b[m\u001b[m*\r\n",
      "\u001b[31mpyemail.ipynb\u001b[m\u001b[m*\r\n",
      "\u001b[31mpyemcee_mcmc.ipynb\u001b[m\u001b[m*\r\n",
      "\u001b[31mpyfits.ipynb\u001b[m\u001b[m*\r\n",
      "\u001b[31mpykivy error.ipynb\u001b[m\u001b[m*\r\n",
      "\u001b[31mpymongo_pymysql.ipynb\u001b[m\u001b[m*\r\n",
      "\u001b[31mpysinfunc_mcmc.ipynb\u001b[m\u001b[m*\r\n",
      "\u001b[31mpytensorflow.ipynb\u001b[m\u001b[m*\r\n",
      "\u001b[31mpython-V.ipynb\u001b[m\u001b[m*\r\n",
      "\u001b[31mpython2and3_test.ipynb\u001b[m\u001b[m*\r\n",
      "\u001b[31mpython3andpython2_tesdt.ipynb\u001b[m\u001b[m*\r\n",
      "\u001b[31mpython3cookbook.ipynb\u001b[m\u001b[m*\r\n",
      "\u001b[31mpython_scientific_plot.ipynb\u001b[m\u001b[m*\r\n",
      "\u001b[31mpython_tqdm_进度条.ipynb\u001b[m\u001b[m*\r\n",
      "\u001b[31mpytorch.ipynb\u001b[m\u001b[m*\r\n",
      "\u001b[31mpyvocabulary.ipynb\u001b[m\u001b[m*\r\n",
      "\u001b[31mpyvocabulary_version2.ipynb\u001b[m\u001b[m*\r\n",
      "\u001b[31mrandnumpytest.ipynb\u001b[m\u001b[m*\r\n",
      "\u001b[31mrandom.ipynb\u001b[m\u001b[m*\r\n",
      "\u001b[31mredheart_plot.ipynb\u001b[m\u001b[m*\r\n",
      "\u001b[31mrename_replace.py.ipynb\u001b[m\u001b[m*\r\n",
      "\u001b[31mreport19.ipynb\u001b[m\u001b[m*\r\n",
      "sorted.ipynb\r\n",
      "\u001b[31mstring_.ipynb\u001b[m\u001b[m*\r\n",
      "\u001b[31mtestpy2.ipynb\u001b[m\u001b[m*\r\n",
      "\u001b[31mtestpy3.ipynb\u001b[m\u001b[m*\r\n",
      "\u001b[31mtkinter.ipynb\u001b[m\u001b[m*\r\n",
      "\u001b[31mtkinter1.ipynb\u001b[m\u001b[m*\r\n",
      "\u001b[31mvector_contour_plot_.ipynb\u001b[m\u001b[m*\r\n",
      "\u001b[31mvisual.ipynb\u001b[m\u001b[m*\r\n",
      "\u001b[31myanhua.ipynb\u001b[m\u001b[m*\r\n",
      "\u001b[31m利用Python绘制酷炫的散点图.ipynb\u001b[m\u001b[m*\r\n",
      "\u001b[31m详解Python Seaborn拟合曲线.ipynb\u001b[m\u001b[m*\r\n"
     ]
    }
   ],
   "source": [
    "ls *.ipynb"
   ]
  },
  {
   "cell_type": "markdown",
   "metadata": {},
   "source": [
    "# show cv pdf"
   ]
  },
  {
   "cell_type": "code",
   "execution_count": 5,
   "metadata": {
    "ExecuteTime": {
     "end_time": "2022-09-14T06:20:06.955576Z",
     "start_time": "2022-09-14T06:20:06.939724Z"
    }
   },
   "outputs": [
    {
     "data": {
      "text/html": [
       "\n",
       "        <iframe\n",
       "            width=\"850\"\n",
       "            height=\"550\"\n",
       "            src=\"https://nbviewer.org/github/RuiLuoAstro/RuiLuoAstro.github.io/blob/master/cv/cv_ruiluo.pdf\"\n",
       "            frameborder=\"0\"\n",
       "            allowfullscreen\n",
       "            \n",
       "        ></iframe>\n",
       "        "
      ],
      "text/plain": [
       "<IPython.lib.display.IFrame at 0x7fb0a925a8e0>"
      ]
     },
     "execution_count": 5,
     "metadata": {},
     "output_type": "execute_result"
    }
   ],
   "source": [
    "from IPython.display import IFrame\n",
    "#IFrame(nbviewer_url, width=800, height=450)\n",
    "\n",
    "luorui_cv_pdf='https://github.com/RuiLuoAstro/RuiLuoAstro.github.io/blob/master/cv/cv_ruiluo.pdf'\n",
    "nb_luorui_cv_pdf= 'https://nbviewer.org/github/'+'RuiLuoAstro/RuiLuoAstro.github.io/blob/master/cv/cv_ruiluo.pdf'\n",
    "    \n",
    "\n",
    "IFrame(nb_luorui_cv_pdf, width=850, height=550)\n",
    "\n",
    "\n",
    "\n"
   ]
  },
  {
   "cell_type": "code",
   "execution_count": 6,
   "metadata": {
    "ExecuteTime": {
     "end_time": "2022-09-14T06:20:17.413588Z",
     "start_time": "2022-09-14T06:20:17.401174Z"
    }
   },
   "outputs": [
    {
     "data": {
      "text/html": [
       "\n",
       "        <iframe\n",
       "            width=\"850\"\n",
       "            height=\"550\"\n",
       "            src=\"https://nbviewer.org/github/brettlv/CV_lyubing/blob/main/CV_lyubing.pdf\"\n",
       "            frameborder=\"0\"\n",
       "            allowfullscreen\n",
       "            \n",
       "        ></iframe>\n",
       "        "
      ],
      "text/plain": [
       "<IPython.lib.display.IFrame at 0x7fb0c8b8ad60>"
      ]
     },
     "execution_count": 6,
     "metadata": {},
     "output_type": "execute_result"
    }
   ],
   "source": [
    "nb_lyubing_cv_pdf= 'https://nbviewer.org/github/'+'brettlv/CV_lyubing/blob/main/CV_lyubing.pdf'\n",
    "IFrame(nb_lyubing_cv_pdf, width=850, height=550)\n",
    "#nb_lyubing_cv_pdf"
   ]
  },
  {
   "cell_type": "code",
   "execution_count": null,
   "metadata": {},
   "outputs": [],
   "source": []
  },
  {
   "cell_type": "markdown",
   "metadata": {},
   "source": [
    "# papaer"
   ]
  },
  {
   "cell_type": "code",
   "execution_count": 15,
   "metadata": {
    "ExecuteTime": {
     "end_time": "2022-09-14T06:30:23.081191Z",
     "start_time": "2022-09-14T06:30:23.062440Z"
    }
   },
   "outputs": [
    {
     "data": {
      "text/html": [
       "\n",
       "        <iframe\n",
       "            width=\"850\"\n",
       "            height=\"550\"\n",
       "            src=\"/Users/lyubing/Downloads/Rapid quasi-periodic oscillations in the relativistic jet of BL Lacertae s41586-022-05038-9.pdf\"\n",
       "            frameborder=\"0\"\n",
       "            allowfullscreen\n",
       "            \n",
       "        ></iframe>\n",
       "        "
      ],
      "text/plain": [
       "<IPython.lib.display.IFrame at 0x7fb0c8c7fb50>"
      ]
     },
     "execution_count": 15,
     "metadata": {},
     "output_type": "execute_result"
    }
   ],
   "source": [
    "from IPython.display import IFrame,display\n",
    "\n",
    "pdf_path= '/Users/lyubing/Downloads/Rapid quasi-periodic oscillations in the relativistic jet of BL Lacertae s41586-022-05038-9.pdf'\n",
    "    \n",
    "IFrame(pdf_path,width=850, height=550)\n"
   ]
  },
  {
   "cell_type": "code",
   "execution_count": null,
   "metadata": {},
   "outputs": [],
   "source": []
  }
 ],
 "metadata": {
  "kernelspec": {
   "display_name": "Python 3 (ipykernel)",
   "language": "python",
   "name": "python3"
  },
  "language_info": {
   "codemirror_mode": {
    "name": "ipython",
    "version": 3
   },
   "file_extension": ".py",
   "mimetype": "text/x-python",
   "name": "python",
   "nbconvert_exporter": "python",
   "pygments_lexer": "ipython3",
   "version": "3.9.12"
  },
  "latex_envs": {
   "LaTeX_envs_menu_present": true,
   "autoclose": false,
   "autocomplete": true,
   "bibliofile": "biblio.bib",
   "cite_by": "apalike",
   "current_citInitial": 1,
   "eqLabelWithNumbers": true,
   "eqNumInitial": 1,
   "hotkeys": {
    "equation": "Ctrl-E",
    "itemize": "Ctrl-I"
   },
   "labels_anchors": false,
   "latex_user_defs": false,
   "report_style_numbering": false,
   "user_envs_cfg": false
  },
  "toc": {
   "base_numbering": 1,
   "nav_menu": {},
   "number_sections": true,
   "sideBar": true,
   "skip_h1_title": false,
   "title_cell": "Table of Contents",
   "title_sidebar": "Contents",
   "toc_cell": false,
   "toc_position": {},
   "toc_section_display": "block",
   "toc_window_display": true
  }
 },
 "nbformat": 4,
 "nbformat_minor": 2
}
