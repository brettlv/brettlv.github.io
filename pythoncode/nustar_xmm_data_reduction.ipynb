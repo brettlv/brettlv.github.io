{
 "cells": [
  {
   "cell_type": "markdown",
   "metadata": {},
   "source": []
  },
  {
   "cell_type": "code",
   "execution_count": null,
   "metadata": {
    "collapsed": true
   },
   "outputs": [],
   "source": [
    "#Initialize\n",
    "\n",
    "export HEADAS=/Users/brettlv/src_heasoft/heasoft-6.22.1/x86_64-apple-darwin16.7.0/\n",
    ". $HEADAS/headas-init.sh\n",
    "source /Users/brettlv/src_heasoft/heasoft-6.22.1/CALDB/software/tools/caldbinit.sh"
   ]
  },
  {
   "cell_type": "code",
   "execution_count": null,
   "metadata": {
    "collapsed": true
   },
   "outputs": [],
   "source": [
    "punlearn nupipeline\n",
    "#For V404cyg \n",
    "nupipeline instrument=all indir=/Users/brettlv/src_heasoft/nustar_data/30001010002 outdir=./pipeline_out steminputs=nu30001010002 obsmode=SCIENCE stemoutputs=V404cyg createexpomap=yes exitstage=2\n",
    "\n",
    "ds9 ./pipeline_out/V404cygA01_cl.evt &\n",
    "#save in ./pipeline_out\n",
    "src.reg\n",
    "bkg.reg\n",
    "nuproducts indir=./pipeline_out instrument=FPMA steminputs=V404cyg outdir=./grp_pipeline_products srcregionfile=./pipeline_out/src.reg bkgregionfile=./pipeline_out/bkg.reg rungrppha=yes grpmincounts=30 grppibadlow=35 grppibadhigh=1909  binsize=1"
   ]
  },
  {
   "cell_type": "code",
   "execution_count": null,
   "metadata": {
    "collapsed": true
   },
   "outputs": [],
   "source": [
    "punlearn nupipeline\n",
    "#For V404cyg \n",
    "nupipeline instrument=all indir=/Volumes/Seagate_Backup_Plus_Drive_Lvb/V404cyg/nustar_v404/90102007002 outdir=./pipeline_out steminputs=nu90102007002 obsmode=SCIENCE stemoutputs=V404cyg createexpomap=yes exitstage=2\n",
    "\n",
    "ds9 ./pipeline_out/V404cygA01_cl.evt &\n",
    "#save in ./pipeline_out\n",
    "src.reg\n",
    "bkg.reg\n",
    "nuproducts indir=./pipeline_out instrument=FPMA steminputs=V404cyg outdir=./grp_pipeline_products srcregionfile=./pipeline_out/src.reg bkgregionfile=./pipeline_out/bkg.reg rungrppha=yes grpmincounts=30 grppibadlow=35 grppibadhigh=1909 binsize=1"
   ]
  },
  {
   "cell_type": "code",
   "execution_count": null,
   "metadata": {
    "collapsed": true
   },
   "outputs": [],
   "source": [
    "nuproducts indir=./pipeline_out instrument=FPMA steminputs=V404cyg outdir=./grp_pipeline_products_10s srcregionfile=./pipeline_out/src.reg bkgregionfile=./pipeline_out/bkg.reg rungrppha=yes grpmincounts=30 grppibadlow=35 grppibadhigh=1909 binsize=10"
   ]
  },
  {
   "cell_type": "code",
   "execution_count": null,
   "metadata": {
    "collapsed": true
   },
   "outputs": [],
   "source": [
    "nuproducts indir=./pipeline_out instrument=FPMA steminputs=V404cyg outdir=./grp_pipeline_products_10s_3_10 srcregionfile=./pipeline_out/src.reg bkgregionfile=./pipeline_out/bkg.reg rungrppha=yes grpmincounts=30 grppibadlow=35 grppibadhigh=1909 pilow=35 pihigh=210 binsize=10"
   ]
  },
  {
   "cell_type": "code",
   "execution_count": null,
   "metadata": {
    "collapsed": true
   },
   "outputs": [],
   "source": [
    "nuproducts indir=./pipeline_out instrument=FPMA steminputs=V404cyg outdir=./grp_pipeline_products_10s_10_79 srcregionfile=./pipeline_out/src.reg bkgregionfile=./pipeline_out/bkg.reg rungrppha=yes grpmincounts=30 grppibadlow=35 grppibadhigh=1909 pilow=210 pihigh=1909 binsize=10"
   ]
  },
  {
   "cell_type": "code",
   "execution_count": null,
   "metadata": {
    "collapsed": true
   },
   "outputs": [],
   "source": [
    "punlearn nupipeline\n",
    "#For V404cyg \n",
    "nupipeline instrument=all indir=/Volumes/Seagate_Backup_Plus_Drive_Lvb/V404cyg/nustar_v404/90102007003 outdir=./pipeline_out steminputs=nu90102007003 obsmode=SCIENCE stemoutputs=V404cyg createexpomap=yes exitstage=2\n",
    "\n",
    "ds9 ./pipeline_out/V404cygA01_cl.evt &\n",
    "#save in ./pipeline_out\n",
    "src.reg\n",
    "bkg.reg\n",
    "nuproducts indir=./pipeline_out instrument=FPMA steminputs=V404cyg outdir=./grp_pipeline_products srcregionfile=./pipeline_out/src.reg bkgregionfile=./pipeline_out/bkg.reg rungrppha=yes grpmincounts=30 grppibadlow=35 grppibadhigh=1909 binsize=1"
   ]
  },
  {
   "cell_type": "code",
   "execution_count": null,
   "metadata": {
    "collapsed": true
   },
   "outputs": [],
   "source": []
  },
  {
   "cell_type": "code",
   "execution_count": null,
   "metadata": {
    "collapsed": true
   },
   "outputs": [],
   "source": [
    "35-1909 3-78keV\n",
    "210-1459 10-60keV\n",
    "10-210 2-10keV\n",
    "10-1000 2-41.6keV\n",
    "E=Channel Number*0.04keV+1.6keV"
   ]
  },
  {
   "cell_type": "code",
   "execution_count": 3,
   "metadata": {
    "ExecuteTime": {
     "end_time": "2018-11-14T10:15:45.607364Z",
     "start_time": "2018-11-14T10:15:45.602990Z"
    },
    "collapsed": false
   },
   "outputs": [
    {
     "data": {
      "text/plain": [
       "210.0"
      ]
     },
     "execution_count": 3,
     "metadata": {},
     "output_type": "execute_result"
    }
   ],
   "source": [
    "(10-1.6)/0.04"
   ]
  },
  {
   "cell_type": "code",
   "execution_count": 1,
   "metadata": {
    "ExecuteTime": {
     "end_time": "2018-12-13T15:13:07.320966Z",
     "start_time": "2018-12-13T15:13:07.304150Z"
    },
    "collapsed": false
   },
   "outputs": [
    {
     "data": {
      "text/plain": [
       "110.0"
      ]
     },
     "execution_count": 1,
     "metadata": {},
     "output_type": "execute_result"
    }
   ],
   "source": [
    "(6-1.6)/0.04"
   ]
  },
  {
   "cell_type": "code",
   "execution_count": null,
   "metadata": {
    "collapsed": true
   },
   "outputs": [],
   "source": [
    "V404cyg\n",
    "wget -q -nH --no-check-certificate --cut-dirs=6 -r -l0 -c -N -np -R 'index*' -erobots=off --retr-symlinks https://heasarc.gsfc.nasa.gov/FTP/nustar/data/obs/01/9//90102007002/"
   ]
  },
  {
   "cell_type": "code",
   "execution_count": null,
   "metadata": {
    "collapsed": true
   },
   "outputs": [],
   "source": [
    "MCG-05-23-16\n",
    "wget -q -nH --no-check-certificate --cut-dirs=6 -r -l0 -c -N -np -R 'index*' -erobots=off --retr-symlinks https://heasarc.gsfc.nasa.gov/FTP/nustar/data/obs/00/6//60001046002/"
   ]
  },
  {
   "cell_type": "code",
   "execution_count": null,
   "metadata": {
    "collapsed": true
   },
   "outputs": [],
   "source": [
    "IC4329A\n",
    "wget -q -nH --no-check-certificate --cut-dirs=6 -r -l0 -c -N -np -R 'index*' -erobots=off --retr-symlinks https://heasarc.gsfc.nasa.gov/FTP/nustar/data/obs/00/6//60001045002/"
   ]
  },
  {
   "cell_type": "code",
   "execution_count": null,
   "metadata": {
    "collapsed": true
   },
   "outputs": [],
   "source": [
    "cd /Volumes/Seagate\\ Backup\\ Plus\\ Drive\\ Lvbing/nustar_data_seyfert_galaxy\n",
    "\n",
    "3C390.3\n",
    "wget -q -nH --no-check-certificate --cut-dirs=6 -r -l0 -c -N -np -R 'index*' -erobots=off --retr-symlinks https://heasarc.gsfc.nasa.gov/FTP/nustar/data/obs/00/6//60001082003/"
   ]
  },
  {
   "cell_type": "code",
   "execution_count": null,
   "metadata": {
    "collapsed": true
   },
   "outputs": [],
   "source": [
    "cd /Volumes/Seagate\\ Backup\\ Plus\\ Drive\\ Lvbing/nustar_data_seyfert_galaxy\n",
    "\n",
    "punlearn nupipeline\n",
    "#For NGC5548\n",
    "nupipeline instrument=all indir=/Users/brettlv/src_heasoft/nustar_data/NGC5548 outdir=./pipeline_out steminputs=nu60002044005 obsmode=SCIENCE stemoutputs=NGC5548 createexpomap=yes exitstage=2\n",
    "\n",
    "ds9 ./pipeline_out/NGC5548A01_cl.evt &\n",
    "#save in ./pipeline_out\n",
    "src.reg\n",
    "bkg.reg\n",
    "nuproducts indir=./pipeline_out instrument=FPMA steminputs=NGC5548 outdir=./grp_pipeline_products srcregionfile=./pipeline_out/src.reg bkgregionfile=./pipeline_out/bkg.reg rungrppha=yes grpmincounts=30 grppibadlow=35 grppibadhigh=1909 binsize=1000\n"
   ]
  },
  {
   "cell_type": "code",
   "execution_count": null,
   "metadata": {
    "collapsed": true
   },
   "outputs": [],
   "source": [
    "punlearn nupipeline\n",
    "#For NGC5506\n",
    "nupipeline instrument=all indir=/Users/brettlv/src_heasoft/nustar_data/NGC5506 outdir=./pipeline_out steminputs=nu60061323002 obsmode=SCIENCE stemoutputs=NGC5506 createexpomap=yes exitstage=2\n",
    "\n",
    "ds9 ./pipeline_out/NGC5506A01_cl.evt &\n",
    "#save in ./pipeline_out\n",
    "src.reg\n",
    "bkg.reg\n",
    "nuproducts indir=./pipeline_out instrument=FPMA steminputs=NGC5506 outdir=./grp_pipeline_products srcregionfile=./pipeline_out/src.reg bkgregionfile=./pipeline_out/bkg.reg rungrppha=yes grpmincounts=30 grppibadlow=35 grppibadhigh=1909 binsize=1000\n"
   ]
  },
  {
   "cell_type": "code",
   "execution_count": null,
   "metadata": {
    "collapsed": true
   },
   "outputs": [],
   "source": [
    "punlearn nupipeline\n",
    "#For MCG-05-23-16\n",
    "nupipeline instrument=all indir=/Users/brettlv/src_heasoft/nustar_data/MCG-05-23-16 outdir=./pipeline_out steminputs=nu60001046002 obsmode=SCIENCE stemoutputs=MCG-05-23-16 createexpomap=yes exitstage=2\n",
    "\n",
    "ds9 ./pipeline_out/MCG-05-23-16A01_cl.evt &\n",
    "#save in ./pipeline_out\n",
    "src.reg\n",
    "bkg.reg\n",
    "nuproducts indir=./pipeline_out instrument=FPMA steminputs=MCG-05-23-16 outdir=./grp_pipeline_products srcregionfile=./pipeline_out/src.reg bkgregionfile=./pipeline_out/bkg.reg rungrppha=yes grpmincounts=30 grppibadlow=35 grppibadhigh=1909 binsize=1000\n"
   ]
  },
  {
   "cell_type": "code",
   "execution_count": null,
   "metadata": {
    "collapsed": true
   },
   "outputs": [],
   "source": []
  },
  {
   "cell_type": "code",
   "execution_count": null,
   "metadata": {
    "collapsed": true
   },
   "outputs": [],
   "source": []
  },
  {
   "cell_type": "code",
   "execution_count": null,
   "metadata": {
    "collapsed": true
   },
   "outputs": [],
   "source": []
  },
  {
   "cell_type": "code",
   "execution_count": null,
   "metadata": {
    "collapsed": true
   },
   "outputs": [],
   "source": [
    "punlearn nupipeline\n",
    "#For SwiftJ2127.4+5654\n",
    "nupipeline instrument=all indir=/Users/brettlv/src_heasoft/nustar_data/SwiftJ2127.4 outdir=./pipeline_out steminputs=nu60001110005 obsmode=SCIENCE stemoutputs=SwiftJ2127.4 createexpomap=yes exitstage=2\n",
    "\n",
    "ds9 ./pipeline_out/SwiftJ2127.4A01_cl.evt &\n",
    "#save in ./pipeline_out\n",
    "src.reg\n",
    "bkg.reg\n",
    "nuproducts indir=./pipeline_out instrument=FPMA steminputs=SwiftJ2127.4 outdir=./grp_pipeline_products srcregionfile=./pipeline_out/src.reg bkgregionfile=./pipeline_out/bkg.reg rungrppha=yes grpmincounts=30 grppibadlow=35 grppibadhigh=1909 binsize=1000\n"
   ]
  },
  {
   "cell_type": "code",
   "execution_count": null,
   "metadata": {
    "collapsed": true
   },
   "outputs": [],
   "source": [
    "punlearn nupipeline\n",
    "#For IC4329A\n",
    "nupipeline instrument=all indir=/Volumes/Seagate_Backup_Plus_Drive_Lvbing/nustar_data_seyfert_galaxy/IC4329A outdir=./pipeline_out steminputs=nu60001045002 obsmode=SCIENCE stemoutputs=IC4329A createexpomap=yes exitstage=2\n",
    "\n",
    "ds9 ./pipeline_out/IC4329AA01_cl.evt &\n",
    "#save in ./pipeline_out\n",
    "src.reg\n",
    "bkg.reg\n",
    "nuproducts indir=./pipeline_out instrument=FPMA steminputs=IC4329A outdir=./grp_pipeline_products srcregionfile=./pipeline_out/src.reg bkgregionfile=./pipeline_out/bkg.reg rungrppha=yes grpmincounts=30 grppibadlow=35 grppibadhigh=1909 binsize=1000\n"
   ]
  },
  {
   "cell_type": "code",
   "execution_count": null,
   "metadata": {
    "collapsed": true
   },
   "outputs": [],
   "source": [
    "punlearn nupipeline\n",
    "#For 3C390.3\n",
    "nupipeline instrument=all indir=/Volumes/Seagate_Backup_Plus_Drive_Lvbing/nustar_data_seyfert_galaxy/3C390.3 outdir=./pipeline_out steminputs=nu60001082003 obsmode=SCIENCE stemoutputs=3C390.3 createexpomap=yes exitstage=2\n",
    "\n",
    "ds9 ./pipeline_out/3C390.3A01_cl.evt &\n",
    "#save in ./pipeline_out\n",
    "src.reg\n",
    "bkg.reg\n",
    "nuproducts indir=./pipeline_out instrument=FPMA steminputs=3C390.3 outdir=./grp_pipeline_products srcregionfile=./pipeline_out/src.reg bkgregionfile=./pipeline_out/bkg.reg rungrppha=yes grpmincounts=30 grppibadlow=35 grppibadhigh=1909 binsize=1000\n",
    "\n",
    "\n"
   ]
  },
  {
   "cell_type": "code",
   "execution_count": null,
   "metadata": {
    "collapsed": true
   },
   "outputs": [],
   "source": [
    "punlearn nupipeline\n",
    "#For 3C382\n",
    "nupipeline instrument=all indir=. outdir=./pipeline_out steminputs=nu60001084002 obsmode=SCIENCE stemoutputs=3C382 createexpomap=yes exitstage=2\n",
    "\n",
    "ds9 ./pipeline_out/3C382A01_cl.evt &\n",
    "#save in ./pipeline_out\n",
    "src.reg\n",
    "bkg.reg\n",
    "nuproducts indir=./pipeline_out instrument=FPMA steminputs=3C382 outdir=./grp_pipeline_products srcregionfile=./pipeline_out/src.reg bkgregionfile=./pipeline_out/bkg.reg rungrppha=yes grpmincounts=30 grppibadlow=35 grppibadhigh=1909 binsize=1000\n"
   ]
  },
  {
   "cell_type": "code",
   "execution_count": null,
   "metadata": {
    "collapsed": true
   },
   "outputs": [],
   "source": [
    "punlearn nupipeline\n",
    "#For GRS1734-292\n",
    "nupipeline instrument=all indir=/Volumes/Seagate_Backup_Plus_Drive_Lvbing/nustar_data_seyfert_galaxy/GRS1734-292 outdir=./pipeline_out steminputs=nu60061279002 obsmode=SCIENCE stemoutputs=GRS1734-292 createexpomap=yes exitstage=2\n",
    "\n",
    "ds9 ./pipeline_out/GRS1734-292A01_cl.evt &\n",
    "#save in ./pipeline_out\n",
    "src.reg\n",
    "bkg.reg\n",
    "nuproducts indir=./pipeline_out instrument=FPMA steminputs=GRS1734-292 outdir=./grp_pipeline_products srcregionfile=./pipeline_out/src.reg bkgregionfile=./pipeline_out/bkg.reg rungrppha=yes grpmincounts=30 grppibadlow=35 grppibadhigh=1909 binsize=1000\n"
   ]
  },
  {
   "cell_type": "code",
   "execution_count": null,
   "metadata": {
    "collapsed": true
   },
   "outputs": [],
   "source": [
    "punlearn nupipeline\n",
    "#For NGC6814\n",
    "nupipeline instrument=all indir=/Volumes/Seagate_Backup_Plus_Drive_Lvbing/nustar_data_seyfert_galaxy/NGC6814 outdir=./pipeline_out steminputs=nu60201028002 obsmode=SCIENCE stemoutputs=NGC6814 createexpomap=yes exitstage=2\n",
    "\n",
    "ds9 ./pipeline_out/NGC6814A01_cl.evt &\n",
    "#save in ./pipeline_out\n",
    "src.reg\n",
    "bkg.reg\n",
    "nuproducts indir=./pipeline_out instrument=FPMA steminputs=NGC6814 outdir=./grp_pipeline_products srcregionfile=./pipeline_out/src.reg bkgregionfile=./pipeline_out/bkg.reg rungrppha=yes grpmincounts=30 grppibadlow=35 grppibadhigh=1909 binsize=1000\n"
   ]
  },
  {
   "cell_type": "code",
   "execution_count": null,
   "metadata": {
    "collapsed": true
   },
   "outputs": [],
   "source": [
    "punlearn nupipeline\n",
    "#For MCG+8-11-11\n",
    "nupipeline instrument=all indir=/Volumes/Seagate_Backup_Plus_Drive_Lvbing/nustar_data_seyfert_galaxy/MCG_8-11-11 outdir=./pipeline_out steminputs=nu60201027002 obsmode=SCIENCE stemoutputs=MCG_8-11-11 createexpomap=yes exitstage=2\n",
    "\n",
    "ds9 ./pipeline_out/MCG_8-11-11A01_cl.evt &\n",
    "#save in ./pipeline_out\n",
    "src.reg\n",
    "bkg.reg\n",
    "nuproducts indir=./pipeline_out instrument=FPMA steminputs=MCG_8-11-11 outdir=./grp_pipeline_products srcregionfile=./pipeline_out/src.reg bkgregionfile=./pipeline_out/bkg.reg rungrppha=yes grpmincounts=30 grppibadlow=35 grppibadhigh=1909 binsize=1000\n"
   ]
  },
  {
   "cell_type": "code",
   "execution_count": null,
   "metadata": {
    "collapsed": true
   },
   "outputs": [],
   "source": [
    "punlearn nupipeline\n",
    "#For Ark564\n",
    "nupipeline instrument=all indir=/Volumes/Seagate_Backup_Plus_Drive_Lvbing/nustar_data_seyfert_galaxy/Ark564 outdir=./pipeline_out steminputs=nu60101031002 obsmode=SCIENCE stemoutputs=Ark564 createexpomap=yes exitstage=2\n",
    "\n",
    "ds9 ./pipeline_out/Ark564A01_cl.evt &\n",
    "#save in ./pipeline_out\n",
    "src.reg\n",
    "bkg.reg\n",
    "nuproducts indir=./pipeline_out instrument=FPMA steminputs=Ark564 outdir=./grp_pipeline_products srcregionfile=./pipeline_out/src.reg bkgregionfile=./pipeline_out/bkg.reg rungrppha=yes grpmincounts=30 grppibadlow=35 grppibadhigh=1909 binsize=1000\n"
   ]
  },
  {
   "cell_type": "code",
   "execution_count": null,
   "metadata": {
    "collapsed": true
   },
   "outputs": [],
   "source": [
    "punlearn nupipeline\n",
    "#For PG1247+267\n",
    "nupipeline instrument=all indir=/Volumes/Seagate_Backup_Plus_Drive_Lvbing/nustar_data_seyfert_galaxy/PG1247_267 outdir=./pipeline_out steminputs=nu60001030002 obsmode=SCIENCE stemoutputs=PG1247 createexpomap=yes exitstage=2\n",
    "\n",
    "ds9 ./pipeline_out/PG1247A01_cl.evt &\n",
    "#save in ./pipeline_out\n",
    "src.reg\n",
    "bkg.reg\n",
    "nuproducts indir=./pipeline_out instrument=FPMA steminputs=PG1247 outdir=./grp_pipeline_products srcregionfile=./pipeline_out/src.reg bkgregionfile=./pipeline_out/bkg.reg rungrppha=yes grpmincounts=30 grppibadlow=35 grppibadhigh=1909 binsize=1000\n"
   ]
  },
  {
   "cell_type": "code",
   "execution_count": null,
   "metadata": {
    "collapsed": true
   },
   "outputs": [],
   "source": [
    "punlearn nupipeline\n",
    "#For Ark120\n",
    "nupipeline instrument=all indir=/Volumes/Seagate_Backup_Plus_Drive_Lvbing/nustar_data_seyfert_galaxy/Ark120 outdir=./pipeline_out steminputs=nu60001044004 obsmode=SCIENCE stemoutputs=Ark120 createexpomap=yes exitstage=2\n",
    "\n",
    "ds9 ./pipeline_out/Ark120A01_cl.evt &\n",
    "#save in ./pipeline_out\n",
    "src.reg\n",
    "bkg.reg\n",
    "nuproducts indir=./pipeline_out instrument=FPMA steminputs=Ark120 outdir=./grp_pipeline_products srcregionfile=./pipeline_out/src.reg bkgregionfile=./pipeline_out/bkg.reg rungrppha=yes grpmincounts=30 grppibadlow=35 grppibadhigh=1909 binsize=1000\n"
   ]
  },
  {
   "cell_type": "code",
   "execution_count": null,
   "metadata": {
    "collapsed": true
   },
   "outputs": [],
   "source": [
    "punlearn nupipeline\n",
    "#For NGC7213\n",
    "nupipeline instrument=all indir=/Volumes/Seagate_Backup_Plus_Drive_Lvbing/nustar_data_seyfert_galaxy/NGC7213 outdir=./pipeline_out steminputs=nu60001031002 obsmode=SCIENCE stemoutputs=NGC7213 createexpomap=yes exitstage=2\n",
    "\n",
    "ds9 ./pipeline_out/NGC7213A01_cl.evt &\n",
    "#save in ./pipeline_out\n",
    "src.reg\n",
    "bkg.reg\n",
    "nuproducts indir=./pipeline_out instrument=FPMA steminputs=NGC7213 outdir=./grp_pipeline_products srcregionfile=./pipeline_out/src.reg bkgregionfile=./pipeline_out/bkg.reg rungrppha=yes grpmincounts=30 grppibadlow=35 grppibadhigh=1909 binsize=1000\n"
   ]
  },
  {
   "cell_type": "code",
   "execution_count": null,
   "metadata": {
    "collapsed": true
   },
   "outputs": [],
   "source": [
    "punlearn nupipeline\n",
    "#For MCG6-30-15\n",
    "nupipeline instrument=all indir=/Volumes/Seagate_Backup_Plus_Drive_Lvbing/nustar_data_seyfert_galaxy/MCG6-30-15 outdir=./pipeline_out steminputs=nu60001047005 obsmode=SCIENCE stemoutputs=MCG6-30-15 createexpomap=yes exitstage=2\n",
    "\n",
    "ds9 ./pipeline_out/MCG6-30-15A01_cl.evt &\n",
    "#save in ./pipeline_out\n",
    "src.reg\n",
    "bkg.reg\n",
    "nuproducts indir=./pipeline_out instrument=FPMA steminputs=MCG6-30-15 outdir=./grp_pipeline_products srcregionfile=./pipeline_out/src.reg bkgregionfile=./pipeline_out/bkg.reg rungrppha=yes grpmincounts=30 grppibadlow=35 grppibadhigh=1909 binsize=1000\n",
    "\n"
   ]
  },
  {
   "cell_type": "code",
   "execution_count": null,
   "metadata": {
    "collapsed": true
   },
   "outputs": [],
   "source": [
    "punlearn nupipeline\n",
    "#For NGC2110\n",
    "nupipeline instrument=all indir=/Volumes/Seagate_Backup_Plus_Drive_Lvbing/nustar_data_seyfert_galaxy/NGC2110 outdir=./pipeline_out steminputs=nu60061061002 obsmode=SCIENCE stemoutputs=NGC2110 createexpomap=yes exitstage=2\n",
    "\n",
    "ds9 ./pipeline_out/NGC2110A01_cl.evt &\n",
    "#save in ./pipeline_out\n",
    "src.reg\n",
    "bkg.reg\n",
    "nuproducts indir=./pipeline_out instrument=FPMA steminputs=NGC2110 outdir=./grp_pipeline_products srcregionfile=./pipeline_out/src.reg bkgregionfile=./pipeline_out/bkg.reg rungrppha=yes grpmincounts=30 grppibadlow=35 grppibadhigh=1909 binsize=1000\n"
   ]
  },
  {
   "cell_type": "code",
   "execution_count": null,
   "metadata": {
    "collapsed": true
   },
   "outputs": [],
   "source": [
    "punlearn nupipeline\n",
    "#For Mrk335\n",
    "nupipeline instrument=all indir=/Volumes/Seagate_Backup_Plus_Drive_Lvbing/nustar_data_seyfert_galaxy/Mrk335 outdir=./pipeline_out steminputs=nu80001020002 obsmode=SCIENCE stemoutputs=Mrk335 createexpomap=yes exitstage=2\n",
    "\n",
    "ds9 ./pipeline_out/Mrk335A01_cl.evt &\n",
    "#save in ./pipeline_out\n",
    "src.reg\n",
    "bkg.reg\n",
    "nuproducts indir=./pipeline_out instrument=FPMA steminputs=Mrk335 outdir=./grp_pipeline_products srcregionfile=./pipeline_out/src.reg bkgregionfile=./pipeline_out/bkg.reg rungrppha=yes grpmincounts=30 grppibadlow=35 grppibadhigh=1909 binsize=1000\n"
   ]
  },
  {
   "cell_type": "code",
   "execution_count": null,
   "metadata": {
    "collapsed": true
   },
   "outputs": [],
   "source": [
    "punlearn nupipeline\n",
    "#For Fairall9\n",
    "nupipeline instrument=all indir=/Volumes/Seagate_Backup_Plus_Drive_Lvbing/nustar_data_seyfert_galaxy/Fairall9 outdir=./pipeline_out steminputs=nu60001130003 obsmode=SCIENCE stemoutputs=Fairall9 createexpomap=yes exitstage=2\n",
    "\n",
    "ds9 ./pipeline_out/Fairall9A01_cl.evt &\n",
    "#save in ./pipeline_out\n",
    "src.reg\n",
    "bkg.reg\n",
    "nuproducts indir=./pipeline_out instrument=FPMA steminputs=Fairall9 outdir=./grp_pipeline_products srcregionfile=./pipeline_out/src.reg bkgregionfile=./pipeline_out/bkg.reg rungrppha=yes grpmincounts=30 grppibadlow=35 grppibadhigh=1909 binsize=1000\n"
   ]
  },
  {
   "cell_type": "code",
   "execution_count": null,
   "metadata": {
    "collapsed": true
   },
   "outputs": [],
   "source": [
    "punlearn nupipeline\n",
    "#For Mrk766\n",
    "nupipeline instrument=all indir=/Volumes/Seagate_Backup_Plus_Drive_Lvbing/nustar_data_seyfert_galaxy/Mrk766 outdir=./pipeline_out steminputs=nu60001048002 obsmode=SCIENCE stemoutputs=Mrk766 createexpomap=yes exitstage=2\n",
    "\n",
    "ds9 ./pipeline_out/Mrk766A01_cl.evt &\n",
    "#save in ./pipeline_out\n",
    "src.reg\n",
    "bkg.reg\n",
    "nuproducts indir=./pipeline_out instrument=FPMA steminputs=Mrk766 outdir=./grp_pipeline_products srcregionfile=./pipeline_out/src.reg bkgregionfile=./pipeline_out/bkg.reg rungrppha=yes grpmincounts=30 grppibadlow=35 grppibadhigh=1909 binsize=1000\n"
   ]
  },
  {
   "cell_type": "code",
   "execution_count": null,
   "metadata": {
    "collapsed": true
   },
   "outputs": [],
   "source": [
    "punlearn nupipeline\n",
    "#For PG1211+143\n",
    "nupipeline instrument=all indir=/Volumes/Seagate_Backup_Plus_Drive_Lvbing/nustar_data_seyfert_galaxy/PG1211_143 outdir=./pipeline_out steminputs=nu60001100005 obsmode=SCIENCE stemoutputs=PG1211 createexpomap=yes exitstage=2\n",
    "\n",
    "ds9 ./pipeline_out/PG1211A01_cl.evt &\n",
    "#save in ./pipeline_out\n",
    "src.reg\n",
    "bkg.reg\n",
    "nuproducts indir=./pipeline_out instrument=FPMA steminputs=PG1211 outdir=./grp_pipeline_products srcregionfile=./pipeline_out/src.reg bkgregionfile=./pipeline_out/bkg.reg rungrppha=yes grpmincounts=30 grppibadlow=35 grppibadhigh=1909 binsize=1000\n"
   ]
  },
  {
   "cell_type": "code",
   "execution_count": null,
   "metadata": {
    "collapsed": true
   },
   "outputs": [],
   "source": []
  },
  {
   "cell_type": "code",
   "execution_count": null,
   "metadata": {
    "collapsed": true
   },
   "outputs": [],
   "source": [
    "#name without'+', ' '\n",
    "\n",
    "xspec\n",
    "data\n",
    "ign **-3.0 78.0-**\n",
    "ign bad\n",
    "setp en\n",
    "nh\n",
    "mo pha*pow\n",
    "fit \n",
    "\n",
    "cpd /xw\n",
    "pl eefu del"
   ]
  },
  {
   "cell_type": "code",
   "execution_count": null,
   "metadata": {
    "collapsed": true
   },
   "outputs": [],
   "source": []
  }
 ],
 "metadata": {
  "kernelspec": {
   "display_name": "Python 3",
   "language": "python",
   "name": "python3"
  },
  "language_info": {
   "codemirror_mode": {
    "name": "ipython",
    "version": 3
   },
   "file_extension": ".py",
   "mimetype": "text/x-python",
   "name": "python",
   "nbconvert_exporter": "python",
   "pygments_lexer": "ipython3",
   "version": "3.6.0"
  },
  "latex_envs": {
   "LaTeX_envs_menu_present": true,
   "autocomplete": true,
   "bibliofile": "biblio.bib",
   "cite_by": "apalike",
   "current_citInitial": 1,
   "eqLabelWithNumbers": true,
   "eqNumInitial": 1,
   "hotkeys": {
    "equation": "Ctrl-E",
    "itemize": "Ctrl-I"
   },
   "labels_anchors": false,
   "latex_user_defs": false,
   "report_style_numbering": false,
   "user_envs_cfg": false
  },
  "toc": {
   "nav_menu": {},
   "number_sections": true,
   "sideBar": true,
   "skip_h1_title": false,
   "toc_cell": false,
   "toc_position": {},
   "toc_section_display": "block",
   "toc_window_display": false
  }
 },
 "nbformat": 4,
 "nbformat_minor": 2
}
