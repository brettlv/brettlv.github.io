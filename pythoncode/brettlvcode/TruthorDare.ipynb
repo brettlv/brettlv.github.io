{
 "cells": [
  {
   "cell_type": "code",
   "execution_count": 4,
   "metadata": {
    "ExecuteTime": {
     "end_time": "2022-07-20T11:27:50.564394Z",
     "start_time": "2022-07-20T11:27:50.561276Z"
    }
   },
   "outputs": [],
   "source": [
    "from random import *        #导入随机数模板\n",
    "from tkinter import *       #导入界面设计版块\n",
    "import tkinter.font as tkFont #从tkinter.font模板导入字体设置函数\n",
    "#自定义函数：运行后点击界面按钮进行的操作"
   ]
  },
  {
   "cell_type": "code",
   "execution_count": 6,
   "metadata": {
    "ExecuteTime": {
     "end_time": "2022-07-20T11:27:57.223555Z",
     "start_time": "2022-07-20T11:27:57.219583Z"
    }
   },
   "outputs": [],
   "source": [
    "def call1():\n",
    "    \n",
    "    r=randint(0,len(zhenxinhua))      #randint（）函数表示随机取出一个范围在1到len(zhenxinhua)-2之间的随机数\n",
    "    var.set(zhenxinhua[r])              #将取出的随机数作为序号把序号对应的题目放进var里\n",
    "\n",
    "def call2():\n",
    "    \n",
    "    r=randint(0,len(damaoxian))\n",
    "    var.set(damaoxian[r])"
   ]
  },
  {
   "cell_type": "code",
   "execution_count": 5,
   "metadata": {
    "ExecuteTime": {
     "end_time": "2022-07-20T11:27:53.618240Z",
     "start_time": "2022-07-20T11:27:53.613194Z"
    }
   },
   "outputs": [],
   "source": [
    "with open(\"TruthorDare_database_SSS.txt\") as f:\n",
    "    files=f.readlines()\n",
    "    \n",
    "zhenxinhua=files[1:86]\n",
    "damaoxian=files[87:]    "
   ]
  },
  {
   "cell_type": "code",
   "execution_count": null,
   "metadata": {},
   "outputs": [],
   "source": []
  },
  {
   "cell_type": "markdown",
   "metadata": {
    "ExecuteTime": {
     "end_time": "2022-07-20T11:17:51.852086Z",
     "start_time": "2022-07-20T11:17:51.846900Z"
    }
   },
   "source": [
    "with open(\"TruthorDare_database.txt\") as f:\n",
    "    files=f.readlines()\n",
    "zhenxinhua=files[1:53]\n",
    "damaoxian=files[54:-1]"
   ]
  },
  {
   "cell_type": "code",
   "execution_count": null,
   "metadata": {
    "ExecuteTime": {
     "end_time": "2022-07-20T11:17:52.309595Z",
     "start_time": "2022-07-20T11:17:52.306145Z"
    }
   },
   "outputs": [],
   "source": []
  },
  {
   "cell_type": "code",
   "execution_count": 13,
   "metadata": {
    "ExecuteTime": {
     "end_time": "2022-07-20T11:27:09.693064Z",
     "start_time": "2022-07-20T11:27:09.680870Z"
    }
   },
   "outputs": [
    {
     "data": {
      "text/plain": [
       "['1.你能接受开放式关系吗？\\n',\n",
       " '2.介意自己的老公/老婆不是处男/处女吗？\\n',\n",
       " '3.你对什么过敏吗？\\n',\n",
       " '4.多久给家里打一次电话？\\n',\n",
       " '5.“黑木耳”这个词结合你所知道的科学依据讲一讲。\\n',\n",
       " '6.你吃过自己的鼻涕吗？\\n',\n",
       " '7.喜欢纯情的女生/男生，还是喜欢自己调教小白，还是喜欢本身性知识特别丰富的女生/男生？\\n',\n",
       " '8.你认为养家的应该是男生还是女生？\\n',\n",
       " '9.有什么不为人知的技能？\\n',\n",
       " '10.理想型是什么样的男生/女生？\\n',\n",
       " '11.对自己哪个部位最满意？\\n',\n",
       " '12.谈过几次恋爱？\\n',\n",
       " '13.和异性最深入的接触是什么？\\n',\n",
       " '14.多长？/胸多大？\\n',\n",
       " '15.第一次自慰是什么时候？\\n',\n",
       " '16.你相信有鬼怪或者神灵存在吗？\\n',\n",
       " '17.你爸妈和你说起性这件事是什么时候？\\n',\n",
       " '18.小时候你被爸妈打过几次？因为什么？\\n',\n",
       " '19、你知道哪些避孕的方法？\\n',\n",
       " '20.你会对对象各种温柔体贴吗？\\n',\n",
       " '21.你希望每天和对象在一起的时间是多久？\\n',\n",
       " '22.第一次来例假/梦遗心情是怎样的？\\n',\n",
       " '23.做过春梦吗？\\n',\n",
       " '24.意淫过谁？\\n',\n",
       " '25.你会尝试约炮吗？\\n',\n",
       " '26.你属于一见钟情还是日久生情？\\n',\n",
       " '27，你会为另一半“咬”吗？\\n',\n",
       " '28.最后一次尿床是在多大？\\n',\n",
       " '29.走错过男女厕所吗？\\n',\n",
       " '30.和多少异性有过非恋爱的暧昧关系？\\n',\n",
       " '31.你作弊使用过的最高招？\\n',\n",
       " '32.有试过裸睡吗？\\n',\n",
       " '33.最喜欢的电影是？\\n',\n",
       " '34.讨厌的异性类型？\\n',\n",
       " '35有什么不可告人的秘密吗？\\n',\n",
       " '36初恋在什么时候？\\n',\n",
       " '37初吻在什么时候？\\n',\n",
       " '38初夜在什么时候？\\n',\n",
       " '39最近一次自慰在什么时候？\\n',\n",
       " '40最近一次感到嫉妒是什么事？\\n',\n",
       " '41请用十个词形容在场的一个人。\\n',\n",
       " '42喜欢看小电影吗？\\n',\n",
       " '43说出的内衣/裤是什么颜色并露出来。\\n',\n",
       " '44ML最喜欢什么姿势？\\n',\n",
       " '45遇到过最恐怖的是是什么？\\n',\n",
       " '46你认为没有爱可以性吗？\\n',\n",
       " '47第一次ML是什么感觉？\\n',\n",
       " '48上一次ML采取了什么避孕措施？\\n',\n",
       " '49对你而言，爱情和友情哪个更重要？\\n',\n",
       " '50身上有没有胎记？在什么地方？\\n',\n",
       " '51思想出轨和身体出轨哪个更能接受？\\n',\n",
       " '52说过几次“我爱你”？\\n',\n",
       " '53平生最成功一次撒谎？\\n',\n",
       " '54做过最丢人的事？\\n',\n",
       " '55哪个颜色的内衣最多？今天穿的什么颜色？\\n',\n",
       " '56你是处女/处男吗？\\n',\n",
       " '57说出五种避孕方式？\\n',\n",
       " '58最尴尬的事？\\n',\n",
       " '59你认为在座的哪一位会成为性幻想对象？\\n',\n",
       " '60你会期待一夜情吗？\\n',\n",
       " '61用什么样的套套最舒服？\\n',\n",
       " '62对初恋的印象深还是对初夜的印象深？\\n',\n",
       " '63吻过几个人？\\n',\n",
       " '64有没有在交往期间在外面偷吃？\\n',\n",
       " '65最喜欢伴侣穿什么颜色的内衣/裤？\\n',\n",
       " '66看过小电影吗、有对象后看过吗？\\n',\n",
       " '67最喜欢的食物是什么？\\n',\n",
       " '68有什么被骗的经历？\\n',\n",
       " '69如果一觉起来变成了异性，第一件想做的事是什么？\\n',\n",
       " '70最近一次做春梦梦到的是谁？\\n',\n",
       " '71你喜欢裸睡吗？\\n',\n",
       " '72最近浮现于你脑海的最邪恶的念头是什么？\\n',\n",
       " '74自己最性感最妩媚的动作是什么？\\n',\n",
       " '75如果有来生你会选择当？\\n',\n",
       " '76你觉得对面那个人哪个部位最好看？\\n',\n",
       " '76.如果明天是世界末日，现在最想做什么？\\n',\n",
       " '77.第一次爱的人对你有什么影响？\\n',\n",
       " '78.最欣赏自己哪个部位？\\n',\n",
       " '79.对自己哪个部位最不满意\\n',\n",
       " '80.第一个喜欢的异性叫什么名字？\\n',\n",
       " '81.去年让你觉得最伤心的事是什么？\\n',\n",
       " '82.你最怕的事情或东西是什么？\\n',\n",
       " '83.目前最大的愿望是什么？\\n',\n",
       " '84.描述第一次gc时的体验\\n',\n",
       " '85.有没有过多人经历\\n']"
      ]
     },
     "execution_count": 13,
     "metadata": {},
     "output_type": "execute_result"
    }
   ],
   "source": [
    "zhenxinhua"
   ]
  },
  {
   "cell_type": "code",
   "execution_count": 14,
   "metadata": {
    "ExecuteTime": {
     "end_time": "2022-07-20T11:27:15.949297Z",
     "start_time": "2022-07-20T11:27:15.942976Z"
    }
   },
   "outputs": [
    {
     "data": {
      "text/plain": [
       "['1.男生被阿鲁巴\\n',\n",
       " '2.与一位异性关在黑屋呆一轮再出来\\n',\n",
       " '3.对着离你最近的异性的耳根敏感部位哈气，持续5秒\\n',\n",
       " '4.对亲脖子\\n',\n",
       " '5.女生靠在墙上，男生撑在上面，做五下俯卧撑；（脸对脸）\\n',\n",
       " '6.男生靠在墙上，女生撑在上面，坚持5秒钟；（脸对脸）\\n',\n",
       " '7.与异性贴身热舞\\n',\n",
       " '8.直接互亲嘴角（注意是互亲）\\n',\n",
       " '9.隔纸巾接吻（第一次可折叠，第二次不可，第三次分开！！）\\n',\n",
       " '10.主持人帮选一个异性，抽到的人亲或被亲两边脸颊、下巴、锁骨\\n',\n",
       " '11.性感的拉裤子到不能拉的位置，从上到下\\n',\n",
       " '12.拿一根饼干条，选一位异性各叼住两端，两人同时开始咬，两人的嘴移开饼干条的时候不能看到暴露在外的饼干条超过1厘米，如果中途饼干条断了，则需重来\\n',\n",
       " '13.两只手贴着异性的脸，双眼对视一轮\\n',\n",
       " '14.主持人选一位异性，找一个其他人把饼干棒掰小，多小由掰的人决定，抽中者必须把饼干棒从对方口中吃进自己嘴中。只能使用嘴\\n',\n",
       " '15.选位一异性用嘴唇传纸牌\\n',\n",
       " '16.男生从女生腰背后双手摸过搂住女生的腰，下巴放在女生肩上，坚持5秒\\n',\n",
       " '17.为右边第一个男生脱衣服，再为他穿上。男生只能穿一件衣服\\n',\n",
       " '18.碰胸（撞上去）\\n',\n",
       " '19.选一位异性，互摸嘴唇\\n',\n",
       " '20.坐在异性大腿上坚持10秒\\n',\n",
       " '21.找一位你觉得在场最帅或最漂亮的一位异性合照\\n',\n",
       " '22.前提那挑一个女生用她的唇膏，个女生不能是很不愿意的\\n',\n",
       " '23.男生弹女生内衣大带两边各一下\\n',\n",
       " '24.互亲异性耳垂\\n',\n",
       " '25.与一位身高差不多的异性紧紧的抱5秒，脸必须搭在对方身上\\n',\n",
       " '26.选一位异性，由对方决定亲那里，不能是手\\n',\n",
       " '27.拜托一个男生和一个女生紧紧的抱在一起坚持五秒钟。（要是失败了的话，就自己上）\\n',\n",
       " '28男的靠在女的肚子上：老婆几个月了（男生选女生）要温柔的说\\n',\n",
       " '29.男生松掉女生bra带\\n',\n",
       " '30.互亲鼻子\\n',\n",
       " '31.与一名异性十指相扣，对视10秒\\n',\n",
       " '32.做自己最性感、最妩媚的动作或表情\\n',\n",
       " '33.跳草裙舞、脱衣舞\\n',\n",
       " '34男的用臂膀从正面量女的胸围or女的量男的腰围（臀围...）\\n',\n",
       " '35男生公主抱一名女生\\n',\n",
       " '36原地转十圈\\n',\n",
       " '37跳肚皮舞\\n',\n",
       " '38跳钢管舞\\n',\n",
       " '39和左数第n个异性亲一下\\n',\n",
       " '40脱一件衣服\\n',\n",
       " '41做好莱坞kiss\\n',\n",
       " '42作跪地求婚状：假如我不向你求婚，我会后悔一辈子，因为你是我的唯一\\n',\n",
       " '43选一个男生，一边捶她的胸一边说：你好烦哦\\n',\n",
       " '44选一个女 生说 ：我将把你紧紧 地搂在怀中，吻你亿万次，像在赤道上面那样炽烈的吻。（拿破仑致约瑟芬）\\n',\n",
       " '45一人先用嘴吸住一纸牌，另一人用嘴从另一面将纸牌吸住移走；\\n',\n",
       " '46男生将女生逼旮旯，用\"调情式\"一手撑墙，两人厚意对视10秒\\n',\n",
       " '47男生单腿下 跪，女生伸手，男生亲女生手背\\n',\n",
       " '48男生单腿下 跪，女生亲男生脑门\\n',\n",
       " '49对喝交杯酒\\n',\n",
       " '50女生踩男生脚 上跳舞\\n',\n",
       " '51女生坐男生小 腿上，男生做仰卧起坐\\n',\n",
       " '52拥抱\\n',\n",
       " '53亲脸\\n',\n",
       " '54对亲脖子\\n',\n",
       " '55正面对着十指 交扣，厚意对视，厚意朗读骆宾王的《鹅》\\n',\n",
       " '56让一个女的想办法让某男振奋起来\\n',\n",
       " '57男生摸自 己胸说“唉太小了”\\n',\n",
       " '58找一男生把腿架他肩膀上让他捶腿\\n',\n",
       " '59和左面榜首个 异性换穿上衣\\n',\n",
       " '60左手拉右耳，右手拉左耳，从桌子底下过\\n',\n",
       " '61显露肚皮，扭腰扭屁股，各扭3圈；\\n',\n",
       " '62慢慢地性感地 把上衣撩起到不能再撩起的方位\\n',\n",
       " '63亲吻对方的胸脯和后臀尖儿\\n',\n",
       " '64用舌头数出一个异性有多少颗牙\\n',\n",
       " '65含一口酒渡到一名异性嘴里\\n',\n",
       " '66摸一名异性的腿\\n',\n",
       " '67与一名异性舌吻五分钟\\n',\n",
       " '68拔四根四处的毛\\n',\n",
       " '69舔一名异性的耳垂\\n',\n",
       " '70喝一口酒然后吐出来，下一轮抽到的人喝掉\\n',\n",
       " '71摸一名异性的胸\\n',\n",
       " '72亲吻一名异性的脚趾\\n',\n",
       " '73对咬饼干 两人各咬饼干的一端 然后一起吃\\n']"
      ]
     },
     "execution_count": 14,
     "metadata": {},
     "output_type": "execute_result"
    }
   ],
   "source": [
    "damaoxian"
   ]
  },
  {
   "cell_type": "code",
   "execution_count": 7,
   "metadata": {
    "ExecuteTime": {
     "end_time": "2022-07-20T11:28:18.749386Z",
     "start_time": "2022-07-20T11:28:04.154441Z"
    }
   },
   "outputs": [],
   "source": [
    "#界面创建主要操作\n",
    "root = Tk()                                         #定义一个窗口，名字为root\n",
    "root.title(\"真心话大冒险  v 2.01\")                  #定义窗口显示出来时的标题\n",
    "root.geometry('700x700')                            #用geometry固定窗口大小\n",
    "#root.attributes('-toolwindow',1)\n",
    "ft=tkFont.Font(family='Comic Sans MS')              #定义一个字体变量\n",
    "frame1=Frame(root,bg=\"green\")                       #在root窗口里划分出一个区域frame1，定义背景颜色为绿色\n",
    "frame2=Frame(root,bg=\"yellow\")                      #在root窗口里划分出一个区域frame2，定义背景颜色为黄色\n",
    "frame1.pack(padx=100,pady=100)                      #确定frame1的位置，参数表示padx表示区域与窗口竖边的距离，也表示与其他同类部件的距离，pady表示与横边的距离，也表示与其他同类部件的距离\n",
    "frame2.pack(padx=30,pady=50)                               #确定frame2的位置，参数表示padx表示区域与窗口竖边的距离，也表示与其他同类部件的距离，pady表示与横边的距离，也表示与其他同类部件的距离\n",
    "#上面隐藏了一个参数side，默认为TOP，表示居于窗口顶部中间\n",
    "\n",
    "\n",
    "var=StringVar()                                     #一个字符串类，把字符串储存在var里，方便后面在窗口显示，显示的是题目\n",
    "var.set(\"选择真心话或者大冒险\")                     #设定初始字符串，set（）函数用于把参数写进var\n",
    "\n",
    "textLabel=Label(frame1,textvariable=var,height=10, width=400,\n",
    "                anchor=NW, wraplength=400,font=ft,bg=\"green\")#Label，标签函数，用于在窗口中显示文字，将标签放在区域frame1里，调用var，将var里的字符串显示出来\n",
    "textLabel.pack()                                    #确定标签的位置，同上面frame1.pack，只需要默认为居中\n",
    "\n",
    "thebutton1=Button(frame2,text=\"真心话\",width=15,height=1,font=ft,command=call1,bg=\"red\")#在窗口设置一个按钮，命名为thebutton1，按钮上显示“真心话”，参数command用于当按钮被点击时调用的操作，bg表示按钮颜色\n",
    "thebutton1.pack(side=LEFT,fill=Y,padx=50)           #确定按钮位置，放于frame2内\n",
    "\n",
    "\n",
    "thebutton2=Button(frame2,text=\"大冒险\",width=15,height=1,font=ft,command=call2,bg=\"blue\")#同上\n",
    "thebutton2.pack(side=RIGHT,fill=Y,padx=50)\n",
    "\n",
    "\n",
    "mainloop()                          #开始把创建好的窗口显示出来\n"
   ]
  },
  {
   "cell_type": "code",
   "execution_count": null,
   "metadata": {},
   "outputs": [],
   "source": []
  }
 ],
 "metadata": {
  "kernelspec": {
   "display_name": "Python 3",
   "language": "python",
   "name": "python3"
  },
  "language_info": {
   "codemirror_mode": {
    "name": "ipython",
    "version": 3
   },
   "file_extension": ".py",
   "mimetype": "text/x-python",
   "name": "python",
   "nbconvert_exporter": "python",
   "pygments_lexer": "ipython3",
   "version": "3.8.5"
  },
  "latex_envs": {
   "LaTeX_envs_menu_present": true,
   "autocomplete": true,
   "bibliofile": "biblio.bib",
   "cite_by": "apalike",
   "current_citInitial": 1,
   "eqLabelWithNumbers": true,
   "eqNumInitial": 1,
   "hotkeys": {
    "equation": "Ctrl-E",
    "itemize": "Ctrl-I"
   },
   "labels_anchors": false,
   "latex_user_defs": false,
   "report_style_numbering": false,
   "user_envs_cfg": false
  },
  "toc": {
   "nav_menu": {},
   "number_sections": true,
   "sideBar": true,
   "skip_h1_title": false,
   "toc_cell": false,
   "toc_position": {},
   "toc_section_display": "block",
   "toc_window_display": false
  }
 },
 "nbformat": 4,
 "nbformat_minor": 2
}
