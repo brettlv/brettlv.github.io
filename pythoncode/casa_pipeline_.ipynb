{
 "cells": [
  {
   "cell_type": "markdown",
   "metadata": {},
   "source": [
    "# data download"
   ]
  },
  {
   "cell_type": "code",
   "execution_count": null,
   "metadata": {
    "collapsed": true
   },
   "outputs": [],
   "source": [
    "Public file set is available :\n",
    "ftp://ftp.aoc.nrao.edu/e2earchive/13B-272.sb25101688.eb25315281.56542.16670207176.tar\n",
    " \n",
    "Public file set is available :\n",
    "ftp://ftp.aoc.nrao.edu/e2earchive/13B-272.sb25098012.eb25494956.56549.21327868056.tar\n",
    " \n",
    "Public file set is available :\n",
    "ftp://ftp.aoc.nrao.edu/e2earchive/13B-272.sb25116392.eb25675151.56554.14768715278.tar\n",
    " \n",
    "Public file set is available :\n",
    "ftp://ftp.aoc.nrao.edu/e2earchive/13B-272.sb25094336.eb25765212.56558.25106548611.tar\n",
    " \n",
    "Public file set is available :\n",
    "ftp://ftp.aoc.nrao.edu/e2earchive/13B-316.sb27297430.eb28575525.56636.138537465275.tar\n",
    "    "
   ]
  },
  {
   "cell_type": "code",
   "execution_count": null,
   "metadata": {
    "collapsed": true
   },
   "outputs": [],
   "source": [
    "Public file set is available :\n",
    "ftp://ftp.aoc.nrao.edu/e2earchive/15A-421.sb30427924.eb30477278.57095.92825241898.tar\n",
    " \n",
    "Public file set is available :\n",
    "ftp://ftp.aoc.nrao.edu/e2earchive/15A-421.sb30514048.eb30517796.57114.88076881944.tar\n",
    " \n",
    "Public file set is available :\n",
    "ftp://ftp.aoc.nrao.edu/e2earchive/15A-421.sb30514048.eb30520246.57115.857774062504.tar\n",
    " \n",
    "Public file set is available :\n",
    "ftp://ftp.aoc.nrao.edu/e2earchive/15A-274.sb30115511.eb30531216.57124.892249756944.tar\n",
    " \n",
    "Public file set is available :\n",
    "ftp://ftp.aoc.nrao.edu/e2earchive/15A-421.sb30535051.eb30602939.57130.803413125.tar\n",
    " \n",
    "Public file set is available :\n",
    "ftp://ftp.aoc.nrao.edu/e2earchive/15A-421.sb30534808.eb30604236.57131.7855593287.tar  \n",
    "    \n"
   ]
  },
  {
   "cell_type": "code",
   "execution_count": null,
   "metadata": {
    "collapsed": true
   },
   "outputs": [],
   "source": [
    "downloaded\n",
    "16A-444 67.32GB VLA:C:0    X S C KU\n",
    "16A-375 60.51GB\tVLA:C:0\tX U K\n",
    "16A-375 44.86GB\tVLA:B:0\tC S\n",
    "16B-084 X,C;X,C;C,S\n",
    "\n",
    "16A-444    X C K?data\n",
    "16B-084  \n",
    "18B-245 blocked"
   ]
  },
  {
   "cell_type": "markdown",
   "metadata": {},
   "source": [
    "# proposals"
   ]
  },
  {
   "cell_type": "markdown",
   "metadata": {},
   "source": [
    "## The Last Piece of the Puzzle: A JVLA Radio Atlas of the BAT AGN Legacy Survey\n",
    "Proposal Code:\n",
    "### VLA/18B-245\n",
    "Principal Investigator:\n",
    "Krista Smith\n",
    "Co-Investigators:\n",
    "Richard Mushotzky, Stuart Vogel, Thomas Shimizu, Michael Koss\n",
    "Science Category:\n",
    "Active Galactic Nuclei\n",
    "Proposal Type:\n",
    "Regular\n",
    "Approved Hours:\n",
    "23.0\n",
    "Abstract:\n",
    "The Swift-BAT survey of active galactic nuclei is a large, uniquely unbiased sample that is now widely studied across the electromagnetic spectrum, yielding important results in AGN science from accretion physics to galaxy evolution. With the release of the BAT-AGN Spectroscopic Survey (BASS), the legacy value of this sample has vastly increased. The only wavelength conspicuously missing from this survey is radio. Our past observing campaigns have covered approximately 1/3 of the BAT AGN with dedicated infrared, optical, and X-ray observations in the literature, but are at present a limited and biased sample. We propose here to observe half of the remaining sample as Phase I of a high-resolution radio atlas of star formation and jets in the BAT AGN. Such images will have enormous potential for multi-wavelength studies and will be made publicly available via the BASS website. We provide a description of the intended survey as well as two example science results that we expect to undertake, a small sample of the discoveries possible at the intersection of JVLA imaging and the rich existing dataset for this wide parameter space of black hole mass, host properties, and accretion rate.\n",
    "\n",
    "\n",
    "## Resolved Imaging of Cold Gas Reservoirs in Strongly Lensed Planck Galaxies\n",
    "Proposal Code:\n",
    "### VLA/18B-275\n",
    "Principal Investigator:\n",
    "Kevin Harrington\n",
    "\n",
    "\n",
    "\n",
    "\n",
    "## Molecular gas content and star-formation efficiency in hyper-luminous QSOs\n",
    "Proposal Code:\n",
    "### VLA/18A-028\n",
    "Principal Investigator:\n",
    "Manuela Bischetti\n",
    "\n",
    "\n",
    "## VLA Study of Hyperluminous SMGs Identified from Planck All-Sky Survey\n",
    "Proposal Code:\n",
    "### VLA/18A-399\n",
    "Principal Investigator:\n",
    "Patrick Kamieneski\n",
    "Co-Investigators:\n",
    "Min Yun, James Lowenthal, Kevin Harrington, Brenda Frye, Daniel Wang\n",
    "Science Category:\n",
    "High Redshift and Source Surveys\n",
    "\n",
    "## VLA Confirmation of Kiloparsec-Scale Binary Radio-AGNs in Stripe 82\n",
    "Proposal Code:\n",
    "### VLA/18A-005\n",
    "Principal Investigator:\n",
    "Hai Fu\n",
    "Co-Investigators:\n",
    "George Djorgovski, Sophie Deam, Jacob Isbell, Joan Wrobel, Kunal Mooley, Adam Myers, Gregg Hallinan, LIN YAN\n",
    "Science Category:\n",
    "Active Galactic Nuclei\n",
    "\n",
    "\n",
    "\n",
    "\n",
    "## CO and HCN J=1-0 measurements of ultra-bright Planck/Herschel sources at z~2-3\n",
    "Proposal Code:\n",
    "### VLA/17A-362\n",
    "Principal Investigator:\n",
    "Thomas Greve\n",
    "\n",
    "## Dense Gas Excitation in z=2-4 Dusty Starbursts\n",
    "Proposal Code:\n",
    "### VLA/17A-099\n",
    "Principal Investigator:\n",
    "Dominik Riechers\n",
    "Co-Investigators:\n",
    "Susanne Aalto, Roberto Neri, Eduardo Gonzalez-Alfonso\n",
    "Science Category:\n",
    "High Redshift and Source Surveys\n",
    "\n",
    "\n",
    "\n",
    "\n",
    "\n",
    "## CO and HCN J=1-0 measurements of ultra-bright Planck/Herschel sources at z~2-3\n",
    "Proposal Code:\n",
    "### VLA/17A-362\n",
    "Principal Investigator:\n",
    "Thomas Greve\n",
    "\n",
    "\n",
    "## Jansky VLA observations of AGN with newly-born jets\n",
    "Proposal Code:\n",
    "### VLA/16B-047\n",
    "Principal Investigator:\n",
    "Kunal Mooley\n",
    "\n",
    "\n",
    "## The Close AGN Reference Survey: Compact star formation and jets in luminous AGN\n",
    "Proposal Code:\n",
    "### VLA/16B-084\n",
    "Principal Investigator:\n",
    "Miguel Perez-Torres\n",
    "\n",
    "\n",
    "## Catching a Changing Look Quasar Retreating to the Shadows for the Second Time\n",
    "Proposal Code:\n",
    "### VLA/16A-444\n",
    "Principal Investigator:\n",
    "Miguel Perez-Torres\n",
    "\n",
    "## The radio continuum of high-z galaxies in ZINGRS\n",
    "Proposal Code:\n",
    "### VLA/16A-375\n",
    "Principal Investigator:\n",
    "Carl Ferkinhoff    \n",
    "    \n",
    "    \n",
    "## Physical Properties of the Gas Fueling Rapid Galaxy Growth at z ~ 3\n",
    "Proposal Code:\n",
    "### VLA/15A-274\n",
    "Principal Investigator:\n",
    "Min Yun\n",
    "\n",
    "## 300 Square Degree VLA Transient Survey in Stripe 82 - Final Epochs\n",
    "Proposal Code:\n",
    "### VLA/15A-421 Brettlv_G\n",
    "\n",
    "## Searching for water maser emission from a gravitationally lensed AGN\n",
    "Proposal Code:\n",
    "### VLA/13B-458\n",
    "Principal Investigator:\n",
    "Jim Geach\n",
    "\n",
    "\n",
    "## A 300 Square Degree VLA Transient Survey in Stripe 82\n",
    "Proposal Code:\n",
    "### VLA/13B-370 undownload\n",
    "\n",
    "\n",
    "\n",
    "## The Dust-Unbiased Star-Formation Rates of GRB-Selected Star-Forming Galaxies\n",
    "Proposal Code:\n",
    "### VLA/13B-316\n",
    "Principal Investigator:\n",
    "Daniel Perley\n",
    "\n",
    "\n",
    "## A deep-wide survey of the Stripe82 field and the bias of radio sources\n",
    "Proposal Code:\n",
    "### VLA/13B-272 Brettlv_G\n",
    "Principal Investigator:\n",
    "Matt Jarvis\n",
    "\n",
    "\n",
    "\n",
    "## A blind Ka- and Q-band survey for molecular absorption at high redshift\n",
    "(http://adsabs.harvard.edu/abs/2014ApJ...782...56K)\n",
    "Proposal Code:\n",
    "### VLA/13A-262 ###!!!\n",
    "Principal Investigator:\n",
    "Nissim Kanekar\n",
    "Co-Investigators:\n",
    "Karl Menten, Chris Carilli\n",
    "\n"
   ]
  },
  {
   "cell_type": "markdown",
   "metadata": {},
   "source": [
    "# Correspond to XRT"
   ]
  },
  {
   "cell_type": "code",
   "execution_count": null,
   "metadata": {
    "collapsed": true
   },
   "outputs": [],
   "source": [
    "13B-272.sb25101688.eb25315281.56542.16670207176\tpublic\t13B-272\tx\t13-Sep-07 04:00:05\t13-Sep-07 08:29:16\t58.47GB\tVLA:CnB:0\tL\tSDMset\traw\tOK\tScans\tLogs\n",
    "13B-272.sb25098012.eb25494956.56549.21327868056\tpublic\t13B-272\tx\t13-Sep-14 05:07:08\t13-Sep-14 09:36:21\t63.16GB\tVLA:CnB:0\tL\tSDMset\traw\tOK\tScans\tLogs\n",
    "13B-272.sb25116392.eb25675151.56554.14768715278\tpublic\t13B-272\tx\t13-Sep-19 03:32:42\t13-Sep-19 08:01:55\t59.33GB\tVLA:CnB:0\tL\tSDMset\traw\tOK\tScans\tLogs\n",
    "13B-272.sb25094336.eb25765212.56558.25106548611\tpublic\t13B-272\tx\t13-Sep-23 06:01:33\t13-Sep-23 10:30:45\t63.92GB\tVLA:CnB:0\tL\tSDMset\traw\tOK\tScans\tLogs\n",
    "\n",
    "A blind Ka- and Q-band survey for molecular absorption at high redshift\n",
    "Proposal Code:\n",
    "VLA/13A-262 \n",
    "13A-262.sb16274762.eb22531605.56431.57723717592\tpublic\t13A-262\tx\t13-May-19 13:51:14\t13-May-19 16:50:24\t153.25GB\tVLA:DnC:0\tX Ka Q\tSDMset\traw\tOK\tScans\tLogs\n",
    "   \n",
    "\n",
    "2008-06/vla2008-06-21.dat\tpublic\tAS0943\tB\t08-Jun-21 01:12:56\t08-Jun-21 17:39:49\t114.35MB\tVLA:DnC:1\tC X\tVLA Exp\traw\tinfo\tScans\tLogs\n",
    "2008-07/vla2008-07-25.dat\tpublic\tAS0943\tE\t08-Jul-25 08:57:26\t08-Jul-25 12:56:19\t97.24MB\tVLA:D:1\tX K\tVLA Exp\traw\tinfo\tScans\tLogs\n",
    "2008-08/vla2008-08-07.dat\tpublic\tAS0943\tF\t08-Aug-07 11:36:23\t08-Aug-07 14:34:30\t44.92MB\tVLA:D:1\tX Q\tVLA Exp\traw\tinfo\tScans\tLogs\n",
    "                        \n",
    "                        \n",
    "\n",
    "2006-09/vla2006-09-09.dat\tpublic\tAK0634\tU\t06-Sep-09 07:32:49\t06-Sep-09 08:28:15\t14.66MB\tVLA:B:1\tX\tVLA Exp\traw\tinfo\tScans\tLogs\n",
    "2006-09/vla2006-09-14.dat\tpublic\tAK0634\tV\t06-Sep-14 08:11:19\t06-Sep-14 10:38:15\t25.52MB\tVLA:B:1\tX\tVLA Exp\traw\tinfo\tScans\tLogs\n",
    "copy public project data : AK634 from this archive file : vla2006-09-09.dat \n",
    "   to this output file 4 x: /home/e2earchive/AK634_U060909.xp1\n",
    "\n",
    "copy public project data : AK634 from this archive file : vla2006-09-14.dat \n",
    "   to this output file 4 x: /home/e2earchive/AK634_V060914.xp1\n",
    "                        \n",
    "2007-08/vla2007-08-20.dat\tpublic\tAW0705\tA\t07-Aug-20 11:17:59\t07-Aug-20 23:59:50\t118.87MB\tVLA:A:1\tL\tVLA Exp\traw\tinfo\tScans\tLogs\n",
    "2007-08/vla2007-08-24.dat\tpublic\tAW0705\tC\t07-Aug-24 11:32:30\t07-Aug-24 19:30:19\t68.23MB\tVLA:A:1\tL\tVLA Exp\traw\tinfo\tScans\tLogs                        \n",
    "2007-09/vla2007-09-05.dat\tpublic\tAS0907\tC\t07-Sep-05 08:45:40\t07-Sep-05 12:44:35\t64.56MB\tVLA:A:1\tC\tVLA Exp\traw\tinfo\tScans\tLogs                       \n",
    "\n",
    "                        \n",
    "2004-11/vla2004-11-28.dat\tpublic\tAS0820\tA\t04-Nov-28 03:14:50\t04-Nov-28 06:11:10\t22.21MB\tVLA:A:1\tX\tVLA Exp\traw\tOK\tScans\tLog                        "
   ]
  },
  {
   "cell_type": "code",
   "execution_count": null,
   "metadata": {
    "collapsed": true
   },
   "outputs": [],
   "source": []
  },
  {
   "cell_type": "markdown",
   "metadata": {},
   "source": [
    "# BAND"
   ]
  },
  {
   "cell_type": "code",
   "execution_count": null,
   "metadata": {
    "collapsed": true
   },
   "outputs": [],
   "source": [
    "Ku-band (12–18 GHz), K-band (18–26.5 GHz), Ka-band (26.5–40 GHz), and Q-band (40–50 GHz)\n",
    "\n",
    "L-band (1–2 GHz), S-band (2–4 GHz), C-band (4–8 GHz), and X-band (8–12 GHz)\n",
    "\n",
    "P-band (230–470 MHz) 4-band (54–86 MHz)\n",
    "\n",
    "\n"
   ]
  },
  {
   "cell_type": "markdown",
   "metadata": {},
   "source": [
    "# casa pipeline end"
   ]
  },
  {
   "cell_type": "markdown",
   "metadata": {},
   "source": [
    "One of the most useful features of defining a region is the ability to extract statistics characterizing\n",
    "the intensity distribution inside the region. You can see these in the Statistics tab of the of the\n",
    "Region Manager Panel (see Figure 7.19). This displays statistics for the current region in the\n",
    "current plane of the current image. When more than a single region is drawn, you can select them\n",
    "one by one and the region panel will update the statistics to reflect the currently selected region.\n",
    "All values are updated on the fly when the region is dragged across the image.\n",
    "A similar functionality can be achieved by double clicking inside of a region. \n",
    "\n",
    "This will send statistics\n",
    "information for this region in all registered images to the terminal, looking something like this:\n",
    "(IRC10216.36GHzcont.image) image\n",
    "Stokes Velocity Frame Doppler Frequency\n",
    "I -2.99447e+11km/s LSRK RADIO 3.63499e+10\n",
    "BrightnessUnit BeamArea Npts Sum Flux\n",
    "Jy/beam 36.2521 27547 1.087686e-01 3.000336e-03\n",
    "Mean Rms Std dev Minimum Maximum\n",
    "3.948473e-06 3.723835e-04 3.723693e-04 -1.045624e-03 9.968892e-03\n",
    "\n",
    "\n",
    "Listed Parameters are Stokes, and the displayed channel Velocity with the associated Frame, Doppler\n",
    "and Frequency value. Sum, Mean, Rms, Std Deviation, Minimum, and Maximum value refer to those\n",
    "in the selected region and has the units as specified in BrightnessUnit. Npts is the number of pixels\n",
    "in the region, and BeamArea the beam size in pixels. FluxDensity is in Jy if the image is in Jy/beam.\n",
    "This is an easy way to copy and paste the statistical data to a program outside of CASA for further\n",
    "use.\n",
    "\n",
    "CHAPTER 7. VISUALIZATION WITH THE CASA VIEWER 419\n",
    "Taking the RMS of the signal-free portion of an image or cube is a good way to estimate the\n",
    "noise. Contrasting this number with the maximum of the image gives an estimate of the dynamic\n",
    "range of the image. The FluxDensity measurement gives a way to use the viewer to do very basic\n",
    "photometry."
   ]
  },
  {
   "cell_type": "code",
   "execution_count": 1,
   "metadata": {
    "collapsed": false
   },
   "outputs": [
    {
     "data": {
      "text/plain": [
       "0.022458779166666668"
      ]
     },
     "execution_count": 1,
     "metadata": {},
     "output_type": "execute_result"
    }
   ],
   "source": [
    "7.1e-2/(96/30.3668)"
   ]
  },
  {
   "cell_type": "code",
   "execution_count": 2,
   "metadata": {
    "collapsed": false
   },
   "outputs": [
    {
     "data": {
      "text/plain": [
       "0.002352042362053295"
      ]
     },
     "execution_count": 2,
     "metadata": {},
     "output_type": "execute_result"
    }
   ],
   "source": [
    "7.44e-4*96/30.3668"
   ]
  },
  {
   "cell_type": "code",
   "execution_count": 3,
   "metadata": {
    "collapsed": false
   },
   "outputs": [
    {
     "data": {
      "text/plain": [
       "0.0037847367979178914"
      ]
     },
     "execution_count": 3,
     "metadata": {},
     "output_type": "execute_result"
    }
   ],
   "source": [
    "9.2e-4*98/23.822"
   ]
  },
  {
   "cell_type": "markdown",
   "metadata": {},
   "source": [
    "[scripted-pipeline](https://science.nrao.edu/facilities/vla/data-processing/pipeline/scripted-pipeline)"
   ]
  },
  {
   "cell_type": "code",
   "execution_count": null,
   "metadata": {
    "collapsed": true
   },
   "outputs": [],
   "source": []
  },
  {
   "cell_type": "markdown",
   "metadata": {},
   "source": [
    "1.The pipeline will then prompt you for the SDM-BDF name; if you have only an MS, give it the root name of the MS (i.e., omit any '.ms').  \n",
    "2.The pipeline will then prompt you for whether or not you want to use Hanning smoothing (this can be important for strong, narrow-band RFI, but there are some situations where it is not desirable: for low frequencies in A-configuration it may increase bandwidth smearing, and for spectral line observations it will make the spectral resolution worse).  \n",
    "3.Go and make some coffee.  \n",
    "4.The pipeline will automatically generate a QA2 score of Pass, Partial, or Fail for the pipeline as a whole and for each step along the way. For some basic help interpreting your QA2 score, please see our QA2 interpretation page.  \n",
    "\n"
   ]
  },
  {
   "cell_type": "code",
   "execution_count": null,
   "metadata": {
    "collapsed": true
   },
   "outputs": [],
   "source": [
    "QA2 score: Pass\n",
    "Finished EVLA_pipe_plotsummary.py\n",
    "Starting EVLA_pipe_filecollect.py\n",
    "Plots moved to ./weblog\n",
    "Final calibration tables moved to ./final_caltables\n",
    "logs directory exists\n",
    "writing pickle file: logs/profile_16A-444.sb31939227.eb31965600.57481.94571127315_295月2019_134439gmt.p\n",
    "Pickle dump of profile successful\n",
    "Timing profile written to logs/timing.log\n",
    "Completed on 三, 29 5月 2019 13:44:39 +0000 with pipeline SVN revision 12nnn\n",
    "/lustre/aoc/cluster/pipeline/stats does not exist or not accessible\n",
    "Finished EVLA_pipe_filecollect.py\n",
    "Writing web logs\n",
    "\n"
   ]
  },
  {
   "cell_type": "markdown",
   "metadata": {},
   "source": [
    "The VLA calibration pipeline performs basic flagging and calibration using CASA. It is designed to work for Stokes I continuum data, but may work in other circumstances as well.  Starting with the D-configuration, Semester 2013A, the scripted pipeline was run automatically at the completion of all astronomical scheduling blocks (SBs) until 2015-09-08 (at which time the CASA Integrated Pipeline was used), and the resulting calibration tables and flags are archived."
   ]
  },
  {
   "cell_type": "markdown",
   "metadata": {},
   "source": [
    "[Automatic Processing for Science Observations](https://science.nrao.edu/facilities/vla/data-processing/pipeline/CIPL%205.1.2)\n",
    "\n",
    "Starting with Semester 2013A D-configuration, a version of the calibration pipeline has been run automatically at the completion of all astronomical scheduling blocks, except for P-band observations, with the resulting calibration tables and flags archived for future use. At NRAO we execute the standard pipeline, which implies that it is optimized for Stokes I continuum processing, independent of the actual science goal. A user may therefore decide to re-run the pipeline after making appropriate modifications.\n",
    "\n",
    "Investigators are notified when the calibrated data are ready for download; detailed quality assurance checks can be performed by NRAO staff upon request. The calibrated visibility data are retained on disk for 15 days after the pipeline has completed to enable investigators to download and image at their home institution or remotely using NRAO computing resources. Calibrated data can also be restored after this nominal time period by re-generating the MS from the raw SDM-BDF data file downloaded from the NRAO archive and applying the saved calibration and flag tables. See the section \"Restore calibration from archived products\" for details on the restoration procedures. To request any of the automatic pipeline processed data, please submit a ticket to Pipeline Department of the NRAO Helpdesk."
   ]
  },
  {
   "cell_type": "markdown",
   "metadata": {},
   "source": [
    "[casa-pipescript-py-file](https://science.nrao.edu/facilities/vla/data-processing/pipeline/CIPL%205.1.2#the-casa-pipescript-py-file)"
   ]
  },
  {
   "cell_type": "code",
   "execution_count": null,
   "metadata": {
    "collapsed": true
   },
   "outputs": [],
   "source": [
    "#In a Terminal\n",
    "mkdir myVLAdata\n",
    "mv mySDM myVLAdata/\n",
    "cd myVLAdata\n",
    "\n",
    "#In a Terminal\n",
    "casa --pipeline"
   ]
  },
  {
   "cell_type": "code",
   "execution_count": null,
   "metadata": {
    "collapsed": true
   },
   "outputs": [],
   "source": [
    "# In CASA method1\n",
    "import pipeline.recipes.hifv as hifv\n",
    "# In CASA\n",
    "hifv.hifv(['mySDM'])\n",
    "\n",
    "#In CASA method2\n",
    "execfile('casa_pipescript.py')\n",
    "\n",
    "#Content of script.py\n",
    "import pipeline.recipes.hifv as hifv\n",
    "hifv.hifv(['mySDM'])\n",
    "\n",
    "\n",
    "\n",
    " \n",
    "# In CASA method3 One Stage at a Time\n",
    "h_resume()\n",
    "#Now, you may start the next task in your list."
   ]
  },
  {
   "cell_type": "code",
   "execution_count": null,
   "metadata": {
    "collapsed": true
   },
   "outputs": [],
   "source": [
    "# casa_pipescript.py\n",
    "__rethrow_casa_exceptions = True\n",
    "context = h_init()\n",
    "context.set_state('ProjectSummary', 'observatory', 'Karl G. Jansky Very Large Array')\n",
    "context.set_state('ProjectSummary', 'telescope', 'EVLA')\n",
    "try:\n",
    "    hifv_importdata(vis=['mySDM'], createmms='automatic', asis='Receiver CalAtmosphere', ocorr_mode='co', nocopy=False, overwrite=False)\n",
    "    hifv_hanning(pipelinemode=\"automatic\")\n",
    "    hifv_flagdata(tbuff=0.0, flagbackup=False, scan=True, fracspw=0.05, intents='*POINTING*,*FOCUS*,*ATMOSPHERE*,*SIDEBAND_RATIO*, *UNKNOWN*, *SYSTEM_CONFIGURATION*, *UNSPECIFIED#UNSPECIFIED*', clip=True, baseband=True, shadow=True, quack=True, edgespw=True, autocorr=True, hm_tbuff='1.5int', template=True, online=True)\n",
    "    hifv_vlasetjy(fluxdensity=-1, scalebychan=True, spix=0, reffreq='1GHz')\n",
    "    hifv_priorcals(tecmaps=False)\n",
    "    hifv_testBPdcals(weakbp=False)\n",
    "    hifv_flagbaddef(doflagundernspwlimit=True)\n",
    "    hifv_checkflag(pipelinemode=\"automatic\")\n",
    "    hifv_semiFinalBPdcals(weakbp=False)\n",
    "    hifv_checkflag(checkflagmode='semi')\n",
    "    hifv_semiFinalBPdcals(weakbp=False)\n",
    "    hifv_solint(pipelinemode=\"automatic\")\n",
    "    hifv_fluxboot(pipelinemode=\"automatic\")\n",
    "    hifv_finalcals(weakbp=False)\n",
    "    hifv_applycals(flagdetailedsum=True, gainmap=False, flagbackup=True, flagsum=True)\n",
    "    hifv_targetflag(intents='*CALIBRATE*,*TARGET*')\n",
    "    hifv_statwt(pipelinemode=\"automatic\")\n",
    "    hifv_plotsummary(pipelinemode=\"automatic\")\n",
    "    hif_makeimlist(nchan=-1, calcsb=False, intent='PHASE,BANDPASS', robust=-999.0, per_eb=False, calmaxpix=300, specmode='cont', clearlist=True)\n",
    "    hif_makeimages(tlimit=2.0, hm_minbeamfrac=-999.0, hm_dogrowprune=True, hm_negativethreshold=-999.0, calcsb=False, target_list={}, hm_noisethreshold=-999.0, hm_masking='none', hm_minpercentchange=-999.0, parallel=False, masklimit=4, hm_lownoisethreshold=-999.0, hm_growiterations=-999, cleancontranges=False, hm_sidelobethreshold=-999.0)\n",
    "finally:\n",
    "    h_save()\n",
    "\n",
    "# In CASA\n",
    "execfile('casa_pipescript.py')"
   ]
  },
  {
   "cell_type": "markdown",
   "metadata": {},
   "source": [
    "(Note that executions at NRAO may show small differences, e.g., an additional final hifv_exportdata step that packages the products to be stored in the NRAO archive.)"
   ]
  },
  {
   "cell_type": "code",
   "execution_count": 1,
   "metadata": {
    "collapsed": false
   },
   "outputs": [
    {
     "data": {
      "text/plain": [
       "6.48"
      ]
     },
     "execution_count": 1,
     "metadata": {},
     "output_type": "execute_result"
    }
   ],
   "source": [
    "5.4*1.2"
   ]
  },
  {
   "cell_type": "markdown",
   "metadata": {},
   "source": [
    "## execfilepy"
   ]
  },
  {
   "cell_type": "code",
   "execution_count": null,
   "metadata": {
    "collapsed": true
   },
   "outputs": [],
   "source": [
    "pipepath='/home/brettlv/casadata/Mrk1018/pipeline5.3.0/'\n",
    "execfile('/home/brettlv/casadata/Mrk1018/pipeline5.3.0/EVLA_pipeline.py')"
   ]
  },
  {
   "cell_type": "markdown",
   "metadata": {},
   "source": [
    "# 2016"
   ]
  },
  {
   "cell_type": "markdown",
   "metadata": {},
   "source": [
    "## 16A-444\n",
    "16A-444.sb31939227.eb31965600.57481.94571127315.ms\n"
   ]
  },
  {
   "cell_type": "markdown",
   "metadata": {},
   "source": [
    "Catching a Changing Look Quasar Retreating to the Shadows for the Second Time\n",
    "Proposal Code:\n",
    "VLA/16A-444\n",
    "Principal Investigator:\n",
    "Miguel Perez-Torres\n",
    "Co-Investigators:\n",
    "Bernd Husemann, Grant Tremblay, Tanya Urrutia, Francoise Combes, Andreas Eckart, Timothy Davis, Scott Croom\n",
    "Science Category:\n",
    "Active Galactic Nuclei\n",
    "Proposal Type:\n",
    "Director's Discretionary Time\n",
    "Approved Hours:\n",
    "2.6\n",
    "Abstract:\n",
    "We propose VLA observations of Mrk1018, the first changing look quasar ever discovered to unambiguously undergo a full cyclical transformation, flickering from type 2 to type 1, and back to type 2 once more. The source first transitioned from a Sy 1.9 to a Sy 1 nucleus in 1984, and remained broad-lined for about 30 years. A few weeks ago, we were astonished to discover that the source had transitioned back to a Sy 1.9 sometime between 2013 and now. This is the first time a quasar has unambiguously gone \"there and back again\", and its second retreat to the shadows is not yet complete: the AGN has dimmed by a factor of 20 in both X-ray and optical since 2013, showing no signs of slowing. Our Chandra and HST DDT observations from a few weeks ago essentially rule out an eclipsing cloud as the cause for the transition back from Sy 1 to Sy 1.9, suggesting that its extreme variability is due to a dramatic intermittency in the accretion rate. VLA observations are urgently needed to probe the accretion rate change scenario in Mrk1018, as well as to characterize its flux density and spectral index evolution."
   ]
  },
  {
   "cell_type": "markdown",
   "metadata": {},
   "source": [
    "### Fields: 3"
   ]
  },
  {
   "cell_type": "code",
   "execution_count": null,
   "metadata": {
    "collapsed": true
   },
   "outputs": [],
   "source": [
    "Fields: 3\n",
    "  ID   Code Name                RA               Decl           Epoch   SrcId      nRows\n",
    "  0    NONE 0542+498=3C147      05:42:36.137916 +49.51.07.23356 J2000   0        7613892\n",
    "  1    NONE J0215-0222          02:15:42.017245 -02.22.56.75175 J2000   1        5067738\n",
    "  2    NONE Mrk1018             02:06:15.990000 -00.17.29.09999 J2000   2       18746208"
   ]
  },
  {
   "cell_type": "markdown",
   "metadata": {},
   "source": [
    "### split"
   ]
  },
  {
   "cell_type": "code",
   "execution_count": null,
   "metadata": {
    "collapsed": true
   },
   "outputs": [],
   "source": [
    "# In CASA\n",
    "split(vis='16A-444.sb31939227.eb31965600.57481.94571127315.ms',outputvis='Mrk1018_X.ms',\n",
    "      datacolumn='corrected',field='2',spw='0~1,34~65',correlation='RR,LL')\n",
    "\n",
    "\n",
    "split(vis='16A-444.sb31939227.eb31965600.57481.94571127315.ms',outputvis='Mrk1018_C.ms',\n",
    "      datacolumn='corrected',field='2',spw='2~33',correlation='RR,LL')\n",
    "\n",
    "\n",
    "split(vis='16A-444.sb31939227.eb31965600.57481.94571127315.ms',outputvis='Mrk1018_K.ms',\n",
    "      datacolumn='corrected',field='2',spw='66~129',correlation='RR,LL')\n",
    "\n",
    "## need repeat again\n"
   ]
  },
  {
   "cell_type": "markdown",
   "metadata": {},
   "source": [
    "Prior to imaging, it is a good idea to run the statwt task to correct the data weights (weight and sigma columns) in the measurement set. Running statwt will remove the effects of relative noise scatter that may have been introduced from flagging uneven bits in the visibility data between the channels and times. We will run this task here on the newly calibrated and split-out data set before moving on to imaging."
   ]
  },
  {
   "cell_type": "code",
   "execution_count": null,
   "metadata": {
    "collapsed": true
   },
   "outputs": [],
   "source": [
    "# In CASA\n",
    "# statwt(vis='3c391_ctm_mosaic_spw0.ms',datacolumn='data')\n",
    "statwt(vis='Mrk1018_X.ms',datacolumn='data')\n",
    "statwt(vis='Mrk1018_C.ms',datacolumn='data')\n",
    "statwt(vis='Mrk1018_K.ms',datacolumn='data') \n"
   ]
  },
  {
   "cell_type": "markdown",
   "metadata": {},
   "source": [
    "You should obtain a plot similar to Figure 21 with the (calibrated) visibility amplitude as a function of u-v distance. The maximum baseline is about 16,000 wavelengths, i.e., an angular scale of 12 arcseconds (\\lambda/D=1/16000). The most effective cleaning occurs with 3-5 pixels across the synthesized beam.\n",
    "For example, a cell size of 2.5 arcseconds will give just under 5 pixels per beam."
   ]
  },
  {
   "cell_type": "markdown",
   "metadata": {},
   "source": [
    "### clean"
   ]
  },
  {
   "cell_type": "code",
   "execution_count": null,
   "metadata": {
    "collapsed": true
   },
   "outputs": [],
   "source": [
    "# In CASA\n",
    "plotms(vis='Mrk1018_C.ms',xaxis='uvwave',yaxis='amp',\n",
    "       ydatacolumn='data', field='0',avgtime='30',correlation='RR',\n",
    "       plotfile='plotms-uvwave.png',overwrite=True)\n",
    "\n",
    "# In CASA\n",
    "tclean(vis='Mrk1018_C.ms',imagename='Mrk1018_C_multiscale',\n",
    "      field='',spw='',\n",
    "      specmode='mfs',\n",
    "      niter=2000,\n",
    "      gain=0.1, threshold='0.01mJy',\n",
    "      gridder='mosaic',\n",
    "      deconvolver='multiscale',\n",
    "      scales=[0, 2, 4, 6], smallscalebias=0.9,\n",
    "      interactive=True,\n",
    "      imsize=[256,256], cell=['0.75arcsec','0.75arcsec'],\n",
    "      stokes='I',\n",
    "      weighting='briggs',robust=0.5,\n",
    "      pbcor=False,\n",
    "      savemodel='modelcolumn')"
   ]
  },
  {
   "cell_type": "markdown",
   "metadata": {},
   "source": [
    "WARN\ttask_tclean::MatrixCleaner::makeScaleMasks() \n",
    "(file ../../synthesis/MeasurementEquations/MatrixCleaner.cc, line 1168)\t\n",
    "Ignoring scale 2 since it is too large to fit within the mask\n",
    "2019-06-03 02:48:19\tWARN\ttask_tclean::MatrixCleaner::makeScaleMasks() \n",
    "(file ../../synthesis/MeasurementEquations/MatrixCleaner.cc, line 1168)\t\n",
    "Ignoring scale 3 since it is too large to fit within the mask\n",
    "\n",
    "0 6 18 54"
   ]
  },
  {
   "cell_type": "code",
   "execution_count": 10,
   "metadata": {
    "collapsed": true
   },
   "outputs": [],
   "source": []
  },
  {
   "cell_type": "code",
   "execution_count": 11,
   "metadata": {
    "collapsed": false
   },
   "outputs": [
    {
     "name": "stdout",
     "output_type": "stream",
     "text": [
      "Mrk1018_C_multiscale\n",
      "Mrk1018_X_multiscale\n",
      "Mrk1018_K_multiscale\n"
     ]
    }
   ],
   "source": [
    "bandlist=['C','X','K']\n",
    "source='Mrk1018'\n",
    "for band in bandlist:\n",
    "    splitfile = source + '_' + band +'.ms'\n",
    "    vis = splitfile\n",
    "    imagename = source + '_' + band +'_multiscale'\n",
    "    print(imagename)\n",
    "    rmtables(imagename + '*') \n"
   ]
  },
  {
   "cell_type": "code",
   "execution_count": null,
   "metadata": {
    "collapsed": true
   },
   "outputs": [],
   "source": [
    "plotms(vis='Mrk1018_C.ms',xaxis='uvwave',yaxis='amp',\n",
    "       ydatacolumn='data', field='0',avgtime='30',correlation='RR',\n",
    "       plotfile='plotms-uvwave-C.png',overwrite=True)\n",
    "\n",
    "tclean(vis='Mrk1018_C.ms',imagename='Mrk1018_C_multiscale',\n",
    "      field='',spw='',\n",
    "      specmode='mfs',\n",
    "      niter=2000,\n",
    "      gain=0.1, threshold='0.01mJy',\n",
    "      gridder='mosaic',\n",
    "      deconvolver='multiscale',\n",
    "      scales=[0, 2, 4, 6], smallscalebias=0.9,\n",
    "      interactive=True,\n",
    "      imsize=[256,256], cell=['0.75arcsec','0.75arcsec'],\n",
    "      stokes='I',\n",
    "      weighting='briggs',robust=0.5,\n",
    "      pbcor=False,\n",
    "      savemodel='modelcolumn')"
   ]
  },
  {
   "cell_type": "code",
   "execution_count": null,
   "metadata": {
    "collapsed": true
   },
   "outputs": [],
   "source": [
    "plotms(vis='Mrk1018_X.ms',xaxis='uvwave',yaxis='amp',\n",
    "       ydatacolumn='data', field='0',avgtime='30',correlation='RR',\n",
    "       plotfile='plotms-uvwave-X.png',overwrite=True)\n",
    "\n",
    "tclean(vis='Mrk1018_X.ms',imagename='Mrk1018_X_multiscale',\n",
    "      field='',spw='',\n",
    "      specmode='mfs',\n",
    "      niter=2000,\n",
    "      gain=0.1, threshold='0.01mJy',\n",
    "      gridder='mosaic',\n",
    "      deconvolver='multiscale',\n",
    "      scales=[0, 2, 4, 6], smallscalebias=0.9,\n",
    "      interactive=True,\n",
    "      imsize=[256,256], cell=['0.5arcsec','0.5arcsec'],\n",
    "      stokes='I',\n",
    "      weighting='briggs',robust=0.5,\n",
    "      pbcor=False,\n",
    "      savemodel='modelcolumn')"
   ]
  },
  {
   "cell_type": "code",
   "execution_count": null,
   "metadata": {
    "collapsed": true
   },
   "outputs": [],
   "source": [
    "plotms(vis='Mrk1018_K.ms',xaxis='uvwave',yaxis='amp',\n",
    "       ydatacolumn='data', field='0',avgtime='30',correlation='RR',\n",
    "       plotfile='plotms-uvwave-K.png',overwrite=True)\n",
    "\n",
    "tclean(vis='Mrk1018_K.ms',imagename='Mrk1018_K_multiscale',\n",
    "      field='',spw='',\n",
    "      specmode='mfs',\n",
    "      niter=2000,\n",
    "      gain=0.1, threshold='0.01mJy',\n",
    "      gridder='mosaic',\n",
    "      deconvolver='multiscale',\n",
    "      scales=[0, 2, 4, 6], smallscalebias=0.9,\n",
    "      interactive=True,\n",
    "      imsize=[256,256], cell=['0.2arcsec','0.2arcsec'],\n",
    "      stokes='I',\n",
    "      weighting='briggs',robust=0.5,\n",
    "      pbcor=False,\n",
    "      savemodel='modelcolumn')"
   ]
  },
  {
   "cell_type": "code",
   "execution_count": null,
   "metadata": {
    "collapsed": true
   },
   "outputs": [],
   "source": []
  },
  {
   "cell_type": "markdown",
   "metadata": {},
   "source": [
    "### viewer"
   ]
  },
  {
   "cell_type": "code",
   "execution_count": null,
   "metadata": {
    "collapsed": true
   },
   "outputs": [],
   "source": [
    "viewer('Mrk1018_C_multiscale.image')\n",
    "viewer('Mrk1018_X_multiscale.image')\n",
    "viewer('Mrk1018_K_multiscale.image')"
   ]
  },
  {
   "cell_type": "code",
   "execution_count": null,
   "metadata": {
    "collapsed": true
   },
   "outputs": [],
   "source": [
    "# In CASA\n",
    "impbcor(imagename='Mrk1018_C_multiscale.image',pbimage='Mrk1018_C_multiscale.pb',\n",
    "        outfile='Mrk1018_C_multiscale.pbcorimage')\n",
    "\n",
    "# In CASA\n",
    "impbcor(imagename='Mrk1018_X_multiscale.image',pbimage='Mrk1018_X_multiscale.pb',\n",
    "        outfile='Mrk1018_X_multiscale.pbcorimage')\n",
    "\n",
    "# In CASA\n",
    "impbcor(imagename='Mrk1018_K_multiscale.image',pbimage='Mrk1018_K_multiscale.pb',\n",
    "        outfile='Mrk1018_K_multiscale.pbcorimage')"
   ]
  },
  {
   "cell_type": "code",
   "execution_count": null,
   "metadata": {
    "collapsed": true
   },
   "outputs": [],
   "source": [
    "mystat = imstat(imagename='Mrk1018_C_multiscale.pbcorimage')\n",
    "mystat = imstat(imagename='Mrk1018_X_multiscale.pbcorimage')\n",
    "mystat = imstat(imagename='Mrk1018_K_multiscale.pbcorimage')\n"
   ]
  },
  {
   "cell_type": "code",
   "execution_count": null,
   "metadata": {
    "collapsed": true
   },
   "outputs": [],
   "source": [
    "mystat = imstat(imagename='Mrk1018_C_multiscale.pbcorimage')\n",
    "\n",
    "mystat\n",
    "{'blc': array([0, 0, 0, 0], dtype=int32),\n",
    " 'blcf': '02:06:22.390, -00.19.05.100, I, 5999842603.17Hz',\n",
    " 'flux': array([ 0.00270114]),\n",
    " 'max': array([ 0.00209321]),\n",
    " 'maxpos': array([128, 128,   0,   0], dtype=int32),\n",
    " 'maxposf': '02:06:15.990, -00.17.29.100, I, 5999842603.17Hz',\n",
    " 'mean': array([  1.41081690e-06]),\n",
    " 'medabsdevmed': array([  8.61505975e-06]),\n",
    " 'median': array([  8.74446116e-08]),\n",
    " 'min': array([ -5.97028120e-05]),\n",
    " 'minpos': array([12, 11,  0,  0], dtype=int32),\n",
    " 'minposf': '02:06:21.790, -00.18.56.850, I, 5999842603.17Hz',\n",
    " 'npts': array([ 65536.]),\n",
    " 'q1': array([ -8.49486696e-06]),\n",
    " 'q3': array([  8.73863155e-06]),\n",
    " 'quartile': array([  1.72334985e-05]),\n",
    " 'rms': array([  3.88181260e-05]),\n",
    " 'sigma': array([  3.87927759e-05]),\n",
    " 'sum': array([ 0.0924593]),\n",
    " 'sumsq': array([  9.87527189e-05]),\n",
    " 'trc': array([255, 255,   0,   0], dtype=int32),\n",
    " 'trcf': '02:06:09.640, -00.15.53.850, I, 5999842603.17Hz'}\n",
    "\n",
    "\n",
    "\n",
    "\n",
    "\n",
    "\n",
    "\n",
    "\n",
    "mystat = imstat(imagename='Mrk1018_X_multiscale.pbcorimage')\n",
    "\n",
    "mystat\n",
    "{'blc': array([0, 0, 0, 0], dtype=int32),\n",
    " 'blcf': '02:06:20.257, -00.18.33.100, I, 1.00001e+10Hz',\n",
    " 'flux': array([ 0.00222652]),\n",
    " 'max': array([ 0.00199648]),\n",
    " 'maxpos': array([128, 128,   0,   0], dtype=int32),\n",
    " 'maxposf': '02:06:15.990, -00.17.29.100, I, 1.00001e+10Hz',\n",
    " 'mean': array([  9.55620251e-07]),\n",
    " 'medabsdevmed': array([  7.84806393e-06]),\n",
    " 'median': array([ -7.49541442e-08]),\n",
    " 'min': array([ -9.87020321e-05]),\n",
    " 'minpos': array([134, 121,   0,   0], dtype=int32),\n",
    " 'minposf': '02:06:15.790, -00.17.32.600, I, 1.00001e+10Hz',\n",
    " 'npts': array([ 65536.]),\n",
    " 'q1': array([ -7.92824449e-06]),\n",
    " 'q3': array([  7.76840079e-06]),\n",
    " 'quartile': array([  1.56966453e-05]),\n",
    " 'rms': array([  3.26372689e-05]),\n",
    " 'sigma': array([  3.26235245e-05]),\n",
    " 'sum': array([ 0.06262753]),\n",
    " 'sumsq': array([  6.98083786e-05]),\n",
    " 'trc': array([255, 255,   0,   0], dtype=int32),\n",
    " 'trcf': '02:06:11.757, -00.16.25.600, I, 1.00001e+10Hz'}\n",
    "\n",
    "\n",
    "\n",
    "mystat = imstat(imagename='Mrk1018_K_multiscale.pbcorimage')\n",
    "\n",
    "mystat\n",
    "{'blc': array([0, 0, 0, 0], dtype=int32),\n",
    " 'blcf': '02:06:17.697, -00.17.54.700, I, 2.20008e+10Hz',\n",
    " 'flux': array([ 0.00264412]),\n",
    " 'max': array([ 0.0022503]),\n",
    " 'maxpos': array([128, 128,   0,   0], dtype=int32),\n",
    " 'maxposf': '02:06:15.990, -00.17.29.100, I, 2.20008e+10Hz',\n",
    " 'mean': array([  1.42125226e-06]),\n",
    " 'medabsdevmed': array([  8.17092648e-06]),\n",
    " 'median': array([  5.66177025e-08]),\n",
    " 'min': array([-0.00013825]),\n",
    " 'minpos': array([138, 121,   0,   0], dtype=int32),\n",
    " 'minposf': '02:06:15.857, -00.17.30.500, I, 2.20008e+10Hz',\n",
    " 'npts': array([ 65536.]),\n",
    " 'q1': array([ -8.15561179e-06]),\n",
    " 'q3': array([  8.18119770e-06]),\n",
    " 'quartile': array([  1.63368095e-05]),\n",
    " 'rms': array([  4.11096456e-05]),\n",
    " 'sigma': array([  4.10853838e-05]),\n",
    " 'sum': array([ 0.09314319]),\n",
    " 'sumsq': array([ 0.00011076]),\n",
    " 'trc': array([255, 255,   0,   0], dtype=int32),\n",
    " 'trcf': '02:06:14.297, -00.17.03.700, I, 2.20008e+10Hz'}\n",
    "\n"
   ]
  },
  {
   "cell_type": "markdown",
   "metadata": {},
   "source": [
    "### casaviewer"
   ]
  },
  {
   "cell_type": "code",
   "execution_count": null,
   "metadata": {
    "collapsed": true
   },
   "outputs": [],
   "source": [
    "!casaviewer 'Mrk1018_C_multiscale.pbcorimage' &\n",
    "(Mrk1018_C_multiscale.pbcorimage)\n",
    "        Stokes       Velocity          Frame        Doppler      Frequency \n",
    "             I          0km/s           LSRK          RADIO  5999842603.17 \n",
    "BrightnessUnit       BeamArea           Npts            Sum    FluxDensity \n",
    "       Jy/beam        34.1744            103   7.592373e-02   2.221655e-03 \n",
    "          Mean            Rms        Std dev        Minimum        Maximum \n",
    "  7.371236e-04   9.137843e-04   5.426876e-04   6.165230e-05   2.084186e-03 \n",
    "  region count \n",
    "             1 \n",
    "\n",
    "!casaviewer 'Mrk1018_X_multiscale.pbcorimage' &\n",
    "\n",
    "(Mrk1018_X_multiscale.pbcorimage)\n",
    "        Stokes       Velocity          Frame        Doppler      Frequency \n",
    "             I          0km/s           LSRK          RADIO    1.00001e+10 \n",
    "BrightnessUnit       BeamArea           Npts            Sum    FluxDensity \n",
    "       Jy/beam         28.128             96   5.797080e-02   2.060963e-03 \n",
    "          Mean            Rms        Std dev        Minimum        Maximum \n",
    "  6.038625e-04   7.856775e-04   5.052708e-04  -3.952225e-05   1.987023e-03 \n",
    "  region count \n",
    "             1 \n",
    "\n",
    "\n",
    "!casaviewer 'Mrk1018_K_multiscale.pbcorimage' &\n",
    "(Mrk1018_K_multiscale.pbcorimage)\n",
    "        Stokes       Velocity          Frame        Doppler      Frequency \n",
    "             I          0km/s           LSRK          RADIO    2.20008e+10 \n",
    "BrightnessUnit       BeamArea           Npts            Sum    FluxDensity \n",
    "       Jy/beam        22.8328             76   5.316775e-02   2.328571e-03 \n",
    "          Mean            Rms        Std dev        Minimum        Maximum \n",
    "  6.995757e-04   8.995821e-04   5.693034e-04  -1.949208e-05   2.227507e-03 \n",
    "  region count \n",
    "             1 \n",
    "\n",
    "        \n",
    "        \n",
    "        \n",
    "        \n",
    "        \n",
    "        \n",
    "---newresult---        \n",
    "(Mrk1018_C_multiscale.pbcorimage)\n",
    "        Stokes       Velocity          Frame        Doppler      Frequency \n",
    "             I          0km/s           LSRK          RADIO  5999842603.17 \n",
    "BrightnessUnit       BeamArea           Npts            Sum    FluxDensity \n",
    "       Jy/beam        34.2298            153   8.207914e-02   2.397889e-03 \n",
    "          Mean            Rms        Std dev        Minimum        Maximum \n",
    "  5.364650e-04   7.563118e-04   5.348669e-04   2.465071e-06   2.093214e-03 \n",
    "  region count \n",
    "             1               \n",
    "(Mrk1018_X_multiscale.pbcorimage)\n",
    "        Stokes       Velocity          Frame        Doppler      Frequency \n",
    "             I          0km/s           LSRK          RADIO    1.00001e+10 \n",
    "BrightnessUnit       BeamArea           Npts            Sum    FluxDensity \n",
    "       Jy/beam         28.128            102   5.898408e-02   2.096987e-03 \n",
    "          Mean            Rms        Std dev        Minimum        Maximum \n",
    "  5.782752e-04   7.637960e-04   5.014451e-04   6.128532e-06   1.996483e-03 \n",
    "  region count \n",
    "             1 \n",
    "(Mrk1018_K_multiscale.pbcorimage)\n",
    "        Stokes       Velocity          Frame        Doppler      Frequency \n",
    "             I          0km/s           LSRK          RADIO    2.20008e+10 \n",
    "BrightnessUnit       BeamArea           Npts            Sum    FluxDensity \n",
    "       Jy/beam        35.2265            237   8.737132e-02   2.480269e-03 \n",
    "          Mean            Rms        Std dev        Minimum        Maximum \n",
    "  3.686553e-04   6.430745e-04   5.280289e-04  -8.916283e-05   2.250297e-03 \n",
    "  region count \n",
    "             1 \n",
    "             1         \n",
    "C 2.22mJy C 0.011mJy rms \n",
    "X 2.06mJy K 0.019mJy rms\n",
    "K 2.32mJy X 0.028mJy rms\n",
    "\n",
    "newresult:\n",
    "C 2.40mJy C 0.011mJy rms \n",
    "X 2.20mJy K 0.011mJy rms\n",
    "K 2.48mJy X 0.012mJy rms\n",
    "\n"
   ]
  },
  {
   "cell_type": "code",
   "execution_count": null,
   "metadata": {
    "collapsed": true
   },
   "outputs": [],
   "source": [
    "!casaviewer 'Mrk1018_C_multiscale.image' &\n",
    "!casaviewer 'Mrk1018_K_multiscale.image' &\n",
    "!casaviewer 'Mrk1018_X_multiscale.image' &\n",
    "(Mrk1018_C_multiscale.image)\n",
    "        Stokes       Velocity          Frame        Doppler      Frequency \n",
    "             I          0km/s           LSRK          RADIO  5999842603.17 \n",
    "BrightnessUnit       BeamArea           Npts            Sum    FluxDensity \n",
    "       Jy/beam        34.2298          16050   9.466169e-05   2.765480e-06 \n",
    "          Mean            Rms        Std dev        Minimum        Maximum \n",
    "  5.897924e-09   1.120505e-05   1.120539e-05  -3.751508e-05   3.637934e-05 \n",
    "  region count \n",
    "             1\n",
    "\n",
    "(Mrk1018_K_multiscale.image)\n",
    "        Stokes       Velocity          Frame        Doppler      Frequency \n",
    "             I          0km/s           LSRK          RADIO    2.20008e+10 \n",
    "BrightnessUnit       BeamArea           Npts            Sum    FluxDensity \n",
    "       Jy/beam        22.8328           3552   3.068102e-03   1.343727e-04 \n",
    "          Mean            Rms        Std dev        Minimum        Maximum \n",
    "  8.637675e-07   1.937572e-05   1.935919e-05  -7.904258e-05   1.020987e-04 \n",
    "  region count \n",
    "             1 \n",
    "(Mrk1018_X_multiscale.image)\n",
    "        Stokes       Velocity          Frame        Doppler      Frequency \n",
    "             I          0km/s           LSRK          RADIO    1.00001e+10 \n",
    "BrightnessUnit       BeamArea           Npts            Sum    FluxDensity \n",
    "       Jy/beam         28.128            452   1.175537e-03   4.179239e-05 \n",
    "          Mean            Rms        Std dev        Minimum        Maximum \n",
    "  2.600746e-06   2.816713e-05   2.807789e-05  -1.005453e-04   1.687390e-04 \n",
    "  region count \n",
    "             1        \n",
    "        \n",
    "---newresult---\n",
    "(Mrk1018_C_multiscale.image)\n",
    "        Stokes       Velocity          Frame        Doppler      Frequency \n",
    "             I          0km/s           LSRK          RADIO  5999842603.17 \n",
    "BrightnessUnit       BeamArea           Npts            Sum    FluxDensity \n",
    "       Jy/beam        34.2298           2646   2.679312e-03   7.827436e-05 \n",
    "          Mean            Rms        Std dev        Minimum        Maximum \n",
    "  1.012590e-06   1.324639e-05   1.321013e-05  -3.990866e-05   5.208541e-05 \n",
    "  region count \n",
    "             1 \n",
    "        \n",
    "(Mrk1018_X_multiscale.image)\n",
    "        Stokes       Velocity          Frame        Doppler      Frequency \n",
    "             I          0km/s           LSRK          RADIO    1.00001e+10 \n",
    "BrightnessUnit       BeamArea           Npts            Sum    FluxDensity \n",
    "       Jy/beam         28.128          14199   7.731379e-03   2.748640e-04 \n",
    "          Mean            Rms        Std dev        Minimum        Maximum \n",
    "  5.445017e-07   1.059755e-05   1.058393e-05  -4.001841e-05   3.969011e-05 \n",
    "  region count \n",
    "             1 \n",
    "(Mrk1018_K_multiscale.image)\n",
    "        Stokes       Velocity          Frame        Doppler      Frequency \n",
    "             I          0km/s           LSRK          RADIO    2.20008e+10 \n",
    "BrightnessUnit       BeamArea           Npts            Sum    FluxDensity \n",
    "       Jy/beam        35.2265          13895   5.134529e-03   1.457574e-04 \n",
    "          Mean            Rms        Std dev        Minimum        Maximum \n",
    "  3.695235e-07   1.211178e-05   1.210658e-05  -5.056861e-05   4.473252e-05 \n",
    "  region count \n",
    "             1         \n",
    "        "
   ]
  },
  {
   "cell_type": "markdown",
   "metadata": {},
   "source": [
    "### casacook"
   ]
  },
  {
   "cell_type": "markdown",
   "metadata": {},
   "source": [
    "A similar functionality can be achieved by double clicking inside of a region. This will send statistics\n",
    "information for this region in all registered images to the terminal, looking something like this:\n",
    "(IRC10216.36GHzcont.image) image\n",
    "Stokes Velocity Frame Doppler Frequency\n",
    "I -2.99447e+11km/s LSRK RADIO 3.63499e+10\n",
    "BrightnessUnit BeamArea Npts Sum Flux\n",
    "Jy/beam 36.2521 27547 1.087686e-01 3.000336e-03\n",
    "Mean Rms Std dev Minimum Maximum\n",
    "3.948473e-06 3.723835e-04 3.723693e-04 -1.045624e-03 9.968892e-03\n",
    "Listed Parameters are Stokes, and the displayed channel Velocity with the associated Frame, Doppler\n",
    "and Frequency value. Sum, Mean, Rms, Std Deviation, Minimum, and Maximum value refer to those\n",
    "in the selected region and has the units as specified in BrightnessUnit. Npts is the number of pixels\n",
    "in the region, and BeamArea the beam size in pixels. FluxDensity is in Jy if the image is in Jy/beam.\n",
    "This is an easy way to copy and paste the statistical data to a program outside of CASA for further\n",
    "use"
   ]
  },
  {
   "cell_type": "code",
   "execution_count": null,
   "metadata": {
    "collapsed": true
   },
   "outputs": [],
   "source": []
  },
  {
   "cell_type": "code",
   "execution_count": null,
   "metadata": {
    "collapsed": true
   },
   "outputs": [],
   "source": []
  },
  {
   "cell_type": "markdown",
   "metadata": {},
   "source": [
    "## 16B-047\n"
   ]
  },
  {
   "cell_type": "code",
   "execution_count": null,
   "metadata": {
    "collapsed": true
   },
   "outputs": [],
   "source": [
    "Jansky VLA observations of AGN with newly-born jets\n",
    "Proposal Code:\n",
    "VLA/16B-047\n",
    "Principal Investigator:\n",
    "Kunal Mooley"
   ]
  },
  {
   "cell_type": "markdown",
   "metadata": {},
   "source": [
    "Fields: 7\n",
    "  ID   Code Name                RA               Decl           Epoch   SrcId      nRows\n",
    "  0    NONE J0125-0005          01:25:28.843788 -00.05.55.93181 J2000   0        6359600\n",
    "  1    NONE VTC010733+01        01:07:33.515000 +01.12.22.78000 J2000   1        2589600\n",
    "  2    NONE VTC013815+00        01:38:15.061000 +00.29.14.06999 J2000   2        1882400\n",
    "  3    NONE VTC014153+01        01:41:53.080001 +00.37.18.70000 J2000   3        1885000\n",
    "  4    NONE VTC015411-01        01:54:11.668999 -01.11.49.73999 J2000   4        1887600\n",
    "  5    NONE VTC020827-00        02:08:27.060000 -00.52.08.04001 J2000   5        1879800\n",
    "  6    NONE 0137+331=3C48       01:37:41.299431 +33.09.35.13299 J2000   6        4071600\n"
   ]
  },
  {
   "cell_type": "code",
   "execution_count": null,
   "metadata": {
    "collapsed": true
   },
   "outputs": [],
   "source": [
    "0125-000   J2000  A 01h25m28.843788s -00d05'55.931800\"  Aug01         \n",
    "0122-003   B1950  A 01h22m55.178100s -00d21'31.219000\"\n",
    "-----------------------------------------------------\n",
    "BAND        A B C D    FLUX(Jy)    UVMIN(kL)  UVMAX(kL)\n",
    "=====================================================\n",
    " 20cm    L  S X X X       1.00           45\n",
    "  6cm    C  P P S S       1.30\n",
    "3.7cm    X  P P P P       1.36\n",
    "  2cm    U  P P P P       1.5\n",
    "0.7cm    Q  S S S S       1.4 "
   ]
  },
  {
   "cell_type": "code",
   "execution_count": null,
   "metadata": {
    "collapsed": true
   },
   "outputs": [],
   "source": []
  },
  {
   "cell_type": "code",
   "execution_count": null,
   "metadata": {
    "collapsed": true
   },
   "outputs": [],
   "source": [
    "Spectral Windows:  (72 unique spectral windows and 1 unique polarization setups)\n",
    "  SpwID  Name            #Chans   Frame   Ch0(MHz)  ChanWid(kHz)  TotBW(kHz) CtrFreq(MHz) BBC Num  Corrs          \n",
    "  0      EVLA_KU#A0C0#0      64   TOPO   12988.000      2000.000    128000.0  13051.0000       12  RR  RL  LR  LL\n",
    "  1      EVLA_KU#A0C0#1      64   TOPO   13116.000      2000.000    128000.0  13179.0000       12  RR  RL  LR  LL\n",
    "  2      EVLA_KU#A0C0#2      64   TOPO   13244.000      2000.000    128000.0  13307.0000       12  RR  RL  LR  LL\n",
    "  3      EVLA_KU#A0C0#3      64   TOPO   13372.000      2000.000    128000.0  13435.0000       12  RR  RL  LR  LL\n",
    "  4      EVLA_KU#A0C0#4      64   TOPO   13500.000      2000.000    128000.0  13563.0000       12  RR  RL  LR  LL\n",
    "  5      EVLA_KU#A0C0#5      64   TOPO   13628.000      2000.000    128000.0  13691.0000       12  RR  RL  LR  LL\n",
    "  6      EVLA_KU#A0C0#6      64   TOPO   13756.000      2000.000    128000.0  13819.0000       12  RR  RL  LR  LL\n",
    "  7      EVLA_KU#A0C0#7      64   TOPO   13884.000      2000.000    128000.0  13947.0000       12  RR  RL  LR  LL\n",
    "  8      EVLA_KU#B0D0#8      64   TOPO   15988.000      2000.000    128000.0  16051.0000       15  RR  RL  LR  LL\n",
    "  9      EVLA_KU#B0D0#9      64   TOPO   16116.000      2000.000    128000.0  16179.0000       15  RR  RL  LR  LL\n",
    "  10     EVLA_KU#B0D0#10     64   TOPO   16244.000      2000.000    128000.0  16307.0000       15  RR  RL  LR  LL\n",
    "  11     EVLA_KU#B0D0#11     64   TOPO   16372.000      2000.000    128000.0  16435.0000       15  RR  RL  LR  LL\n",
    "  12     EVLA_KU#B0D0#12     64   TOPO   16500.000      2000.000    128000.0  16563.0000       15  RR  RL  LR  LL\n",
    "  13     EVLA_KU#B0D0#13     64   TOPO   16628.000      2000.000    128000.0  16691.0000       15  RR  RL  LR  LL\n",
    "  14     EVLA_KU#B0D0#14     64   TOPO   16756.000      2000.000    128000.0  16819.0000       15  RR  RL  LR  LL\n",
    "  15     EVLA_KU#B0D0#15     64   TOPO   16884.000      2000.000    128000.0  16947.0000       15  RR  RL  LR  LL\n",
    "  16     EVLA_X#A0C0#16      64   TOPO    7988.000      2000.000    128000.0   8051.0000       12  RR  RL  LR  LL\n",
    "  17     EVLA_X#A0C0#17      64   TOPO    8116.000      2000.000    128000.0   8179.0000       12  RR  RL  LR  LL\n",
    "  18     EVLA_X#A0C0#18      64   TOPO    8244.000      2000.000    128000.0   8307.0000       12  RR  RL  LR  LL\n",
    "  19     EVLA_X#A0C0#19      64   TOPO    8372.000      2000.000    128000.0   8435.0000       12  RR  RL  LR  LL\n",
    "  20     EVLA_X#A0C0#20      64   TOPO    8500.000      2000.000    128000.0   8563.0000       12  RR  RL  LR  LL\n",
    "  21     EVLA_X#A0C0#21      64   TOPO    8628.000      2000.000    128000.0   8691.0000       12  RR  RL  LR  LL\n",
    "  22     EVLA_X#A0C0#22      64   TOPO    8756.000      2000.000    128000.0   8819.0000       12  RR  RL  LR  LL\n",
    "  23     EVLA_X#A0C0#23      64   TOPO    8884.000      2000.000    128000.0   8947.0000       12  RR  RL  LR  LL\n",
    "  24     EVLA_X#B0D0#24      64   TOPO   10388.000      2000.000    128000.0  10451.0000       15  RR  RL  LR  LL\n",
    "  25     EVLA_X#B0D0#25      64   TOPO   10516.000      2000.000    128000.0  10579.0000       15  RR  RL  LR  LL\n",
    "  26     EVLA_X#B0D0#26      64   TOPO   10644.000      2000.000    128000.0  10707.0000       15  RR  RL  LR  LL\n",
    "  27     EVLA_X#B0D0#27      64   TOPO   10772.000      2000.000    128000.0  10835.0000       15  RR  RL  LR  LL\n",
    "  28     EVLA_X#B0D0#28      64   TOPO   10900.000      2000.000    128000.0  10963.0000       15  RR  RL  LR  LL\n",
    "  29     EVLA_X#B0D0#29      64   TOPO   11028.000      2000.000    128000.0  11091.0000       15  RR  RL  LR  LL\n",
    "  30     EVLA_X#B0D0#30      64   TOPO   11156.000      2000.000    128000.0  11219.0000       15  RR  RL  LR  LL\n",
    "  31     EVLA_X#B0D0#31      64   TOPO   11284.000      2000.000    128000.0  11347.0000       15  RR  RL  LR  LL\n",
    "  32     EVLA_C#A0C0#32      64   TOPO    4288.000      2000.000    128000.0   4351.0000       12  RR  RL  LR  LL\n",
    "  33     EVLA_C#A0C0#33      64   TOPO    4416.000      2000.000    128000.0   4479.0000       12  RR  RL  LR  LL\n",
    "  34     EVLA_C#A0C0#34      64   TOPO    4544.000      2000.000    128000.0   4607.0000       12  RR  RL  LR  LL\n",
    "  35     EVLA_C#A0C0#35      64   TOPO    4672.000      2000.000    128000.0   4735.0000       12  RR  RL  LR  LL\n",
    "  36     EVLA_C#A0C0#36      64   TOPO    4800.000      2000.000    128000.0   4863.0000       12  RR  RL  LR  LL\n",
    "  37     EVLA_C#A0C0#37      64   TOPO    4928.000      2000.000    128000.0   4991.0000       12  RR  RL  LR  LL\n",
    "  38     EVLA_C#A0C0#38      64   TOPO    5056.000      2000.000    128000.0   5119.0000       12  RR  RL  LR  LL\n",
    "  39     EVLA_C#A0C0#39      64   TOPO    5184.000      2000.000    128000.0   5247.0000       12  RR  RL  LR  LL\n",
    "  40     EVLA_C#B0D0#40      64   TOPO    6888.000      2000.000    128000.0   6951.0000       15  RR  RL  LR  LL\n",
    "  41     EVLA_C#B0D0#41      64   TOPO    7016.000      2000.000    128000.0   7079.0000       15  RR  RL  LR  LL\n",
    "  42     EVLA_C#B0D0#42      64   TOPO    7144.000      2000.000    128000.0   7207.0000       15  RR  RL  LR  LL\n",
    "  43     EVLA_C#B0D0#43      64   TOPO    7272.000      2000.000    128000.0   7335.0000       15  RR  RL  LR  LL\n",
    "  44     EVLA_C#B0D0#44      64   TOPO    7400.000      2000.000    128000.0   7463.0000       15  RR  RL  LR  LL\n",
    "  45     EVLA_C#B0D0#45      64   TOPO    7528.000      2000.000    128000.0   7591.0000       15  RR  RL  LR  LL\n",
    "  46     EVLA_C#B0D0#46      64   TOPO    7656.000      2000.000    128000.0   7719.0000       15  RR  RL  LR  LL\n",
    "  47     EVLA_C#B0D0#47      64   TOPO    7784.000      2000.000    128000.0   7847.0000       15  RR  RL  LR  LL\n",
    "  48     EVLA_S#A0C0#48      64   TOPO    1988.000      2000.000    128000.0   2051.0000       12  RR  RL  LR  LL\n",
    "  49     EVLA_S#A0C0#49      64   TOPO    2116.000      2000.000    128000.0   2179.0000       12  RR  RL  LR  LL\n",
    "  50     EVLA_S#A0C0#50      64   TOPO    2244.000      2000.000    128000.0   2307.0000       12  RR  RL  LR  LL\n",
    "  51     EVLA_S#A0C0#51      64   TOPO    2372.000      2000.000    128000.0   2435.0000       12  RR  RL  LR  LL\n",
    "  52     EVLA_S#A0C0#52      64   TOPO    2500.000      2000.000    128000.0   2563.0000       12  RR  RL  LR  LL\n",
    "  53     EVLA_S#A0C0#53      64   TOPO    2628.000      2000.000    128000.0   2691.0000       12  RR  RL  LR  LL\n",
    "  54     EVLA_S#A0C0#54      64   TOPO    2756.000      2000.000    128000.0   2819.0000       12  RR  RL  LR  LL\n",
    "  55     EVLA_S#A0C0#55      64   TOPO    2884.000      2000.000    128000.0   2947.0000       12  RR  RL  LR  LL\n",
    "  56     EVLA_S#B0D0#56      64   TOPO    2988.000      2000.000    128000.0   3051.0000       15  RR  RL  LR  LL\n",
    "  57     EVLA_S#B0D0#57      64   TOPO    3116.000      2000.000    128000.0   3179.0000       15  RR  RL  LR  LL\n",
    "  58     EVLA_S#B0D0#58      64   TOPO    3244.000      2000.000    128000.0   3307.0000       15  RR  RL  LR  LL\n",
    "  59     EVLA_S#B0D0#59      64   TOPO    3372.000      2000.000    128000.0   3435.0000       15  RR  RL  LR  LL\n",
    "  60     EVLA_S#B0D0#60      64   TOPO    3500.000      2000.000    128000.0   3563.0000       15  RR  RL  LR  LL\n",
    "  61     EVLA_S#B0D0#61      64   TOPO    3628.000      2000.000    128000.0   3691.0000       15  RR  RL  LR  LL\n",
    "  62     EVLA_S#B0D0#62      64   TOPO    3756.000      2000.000    128000.0   3819.0000       15  RR  RL  LR  LL\n",
    "  63     EVLA_S#B0D0#63      64   TOPO    3884.000      2000.000    128000.0   3947.0000       15  RR  RL  LR  LL\n",
    "  64     EVLA_L#A0C0#64      64   TOPO    1000.000      2000.000    128000.0   1063.0000       12  RR  RL  LR  LL\n",
    "  65     EVLA_L#A0C0#65      64   TOPO    1128.000      2000.000    128000.0   1191.0000       12  RR  RL  LR  LL\n",
    "  66     EVLA_L#A0C0#66      64   TOPO    1256.000      2000.000    128000.0   1319.0000       12  RR  RL  LR  LL\n",
    "  67     EVLA_L#A0C0#67      64   TOPO    1384.000      2000.000    128000.0   1447.0000       12  RR  RL  LR  LL\n",
    "  68     EVLA_L#B0D0#68      64   TOPO    1520.000      2000.000    128000.0   1583.0000       15  RR  RL  LR  LL\n",
    "  69     EVLA_L#B0D0#69      64   TOPO    1648.000      2000.000    128000.0   1711.0000       15  RR  RL  LR  LL\n",
    "  70     EVLA_L#B0D0#70      64   TOPO    1776.000      2000.000    128000.0   1839.0000       15  RR  RL  LR  LL\n",
    "  71     EVLA_L#B0D0#71      64   TOPO    1904.000      2000.000    128000.0   1967.0000       15  RR  RL  LR  LL"
   ]
  },
  {
   "cell_type": "code",
   "execution_count": null,
   "metadata": {
    "collapsed": true
   },
   "outputs": [],
   "source": []
  },
  {
   "cell_type": "code",
   "execution_count": null,
   "metadata": {
    "collapsed": true
   },
   "outputs": [],
   "source": []
  },
  {
   "cell_type": "code",
   "execution_count": null,
   "metadata": {
    "collapsed": true
   },
   "outputs": [],
   "source": []
  },
  {
   "cell_type": "markdown",
   "metadata": {},
   "source": [
    "## 16B-084"
   ]
  },
  {
   "cell_type": "code",
   "execution_count": null,
   "metadata": {
    "collapsed": true
   },
   "outputs": [],
   "source": [
    "The Close AGN Reference Survey: Compact star formation and jets in luminous AGN\n",
    "Proposal Code:\n",
    "VLA/16B-084\n",
    "Principal Investigator:\n",
    "Miguel Perez-Torres"
   ]
  },
  {
   "cell_type": "markdown",
   "metadata": {},
   "source": [
    "### 1/16B-084.sb32943015.eb33039583.57719.09799292824.ms"
   ]
  },
  {
   "cell_type": "code",
   "execution_count": null,
   "metadata": {
    "collapsed": true
   },
   "outputs": [],
   "source": []
  },
  {
   "cell_type": "code",
   "execution_count": null,
   "metadata": {
    "collapsed": true
   },
   "outputs": [],
   "source": [
    "Fields: 8\n",
    "  ID   Code Name                RA               Decl           Epoch   SrcId      nRows\n",
    "  0    NONE 3C48                01:37:41.299431 +33.09.35.13299 J2000   0        1859598\n",
    "  1    NONE J0215-0222          02:15:42.017245 -02.22.56.75175 J2000   1        1325376\n",
    "  2    NONE HE0203-0031         02:06:15.990000 -00.17.29.09999 J2000   2        3740256\n",
    "  3    NONE J0239-0234          02:39:45.472266 -02.34.40.91431 J2000   3        1392768\n",
    "  4    NONE HE0232-0900         02:34:37.760000 -08.47.15.40001 J2000   4        3672864\n",
    "  5    NONE HE0227-0913         02:30:05.520000 -08.59.53.19999 J2000   5        3695328\n",
    "  6    NONE J0242-2132          02:42:35.909849 -21.32.25.93508 J2000   6        1201824\n",
    "  7    NONE HE0253-1641         02:56:02.630000 -16.29.15.40000 J2000   7        3583008"
   ]
  },
  {
   "cell_type": "code",
   "execution_count": null,
   "metadata": {
    "collapsed": true
   },
   "outputs": [],
   "source": [
    "Spectral Windows:  (34 unique spectral windows and 2 unique polarization setups)\n",
    "  SpwID  Name           #Chans   Frame   Ch0(MHz)  ChanWid(kHz)  TotBW(kHz) CtrFreq(MHz) BBC Num  Corrs          \n",
    "  0      EVLA_X#A0C0#0      64   TOPO    8332.000      2000.000    128000.0   8395.0000       12  RR  RL  LR  LL\n",
    "  1      EVLA_X#B0D0#1      64   TOPO    8460.000      2000.000    128000.0   8523.0000       15  RR  RL  LR  LL\n",
    "  2      EVLA_X#A1C1#2     128   TOPO    7976.000      1000.000    128000.0   8039.5000       10  RR  LL\n",
    "  3      EVLA_X#A1C1#3     128   TOPO    8104.000      1000.000    128000.0   8167.5000       10  RR  LL\n",
    "  4      EVLA_X#A1C1#4     128   TOPO    8232.000      1000.000    128000.0   8295.5000       10  RR  LL\n",
    "  5      EVLA_X#A1C1#5     128   TOPO    8360.000      1000.000    128000.0   8423.5000       10  RR  LL\n",
    "  6      EVLA_X#A1C1#6     128   TOPO    8488.000      1000.000    128000.0   8551.5000       10  RR  LL\n",
    "  7      EVLA_X#A1C1#7     128   TOPO    8616.000      1000.000    128000.0   8679.5000       10  RR  LL\n",
    "  8      EVLA_X#A1C1#8     128   TOPO    8744.000      1000.000    128000.0   8807.5000       10  RR  LL\n",
    "  9      EVLA_X#A1C1#9     128   TOPO    8872.000      1000.000    128000.0   8935.5000       10  RR  LL\n",
    "  10     EVLA_X#A1C1#10    128   TOPO    9000.000      1000.000    128000.0   9063.5000       10  RR  LL\n",
    "  11     EVLA_X#A1C1#11    128   TOPO    9128.000      1000.000    128000.0   9191.5000       10  RR  LL\n",
    "  12     EVLA_X#A1C1#12    128   TOPO    9256.000      1000.000    128000.0   9319.5000       10  RR  LL\n",
    "  13     EVLA_X#A1C1#13    128   TOPO    9384.000      1000.000    128000.0   9447.5000       10  RR  LL\n",
    "  14     EVLA_X#A1C1#14    128   TOPO    9512.000      1000.000    128000.0   9575.5000       10  RR  LL\n",
    "  15     EVLA_X#A1C1#15    128   TOPO    9640.000      1000.000    128000.0   9703.5000       10  RR  LL\n",
    "  16     EVLA_X#A1C1#16    128   TOPO    9768.000      1000.000    128000.0   9831.5000       10  RR  LL\n",
    "  17     EVLA_X#A1C1#17    128   TOPO    9896.000      1000.000    128000.0   9959.5000       10  RR  LL\n",
    "  18     EVLA_X#A2C2#18    128   TOPO    9976.000      1000.000    128000.0  10039.5000       11  RR  LL\n",
    "  19     EVLA_X#A2C2#19    128   TOPO   10104.000      1000.000    128000.0  10167.5000       11  RR  LL\n",
    "  20     EVLA_X#A2C2#20    128   TOPO   10232.000      1000.000    128000.0  10295.5000       11  RR  LL\n",
    "  21     EVLA_X#A2C2#21    128   TOPO   10360.000      1000.000    128000.0  10423.5000       11  RR  LL\n",
    "  22     EVLA_X#A2C2#22    128   TOPO   10488.000      1000.000    128000.0  10551.5000       11  RR  LL\n",
    "  23     EVLA_X#A2C2#23    128   TOPO   10616.000      1000.000    128000.0  10679.5000       11  RR  LL\n",
    "  24     EVLA_X#A2C2#24    128   TOPO   10744.000      1000.000    128000.0  10807.5000       11  RR  LL\n",
    "  25     EVLA_X#A2C2#25    128   TOPO   10872.000      1000.000    128000.0  10935.5000       11  RR  LL\n",
    "  26     EVLA_X#A2C2#26    128   TOPO   11000.000      1000.000    128000.0  11063.5000       11  RR  LL\n",
    "  27     EVLA_X#A2C2#27    128   TOPO   11128.000      1000.000    128000.0  11191.5000       11  RR  LL\n",
    "  28     EVLA_X#A2C2#28    128   TOPO   11256.000      1000.000    128000.0  11319.5000       11  RR  LL\n",
    "  29     EVLA_X#A2C2#29    128   TOPO   11384.000      1000.000    128000.0  11447.5000       11  RR  LL\n",
    "  30     EVLA_X#A2C2#30    128   TOPO   11512.000      1000.000    128000.0  11575.5000       11  RR  LL\n",
    "  31     EVLA_X#A2C2#31    128   TOPO   11640.000      1000.000    128000.0  11703.5000       11  RR  LL\n",
    "  32     EVLA_X#A2C2#32    128   TOPO   11768.000      1000.000    128000.0  11831.5000       11  RR  LL\n",
    "  33     EVLA_X#A2C2#33    128   TOPO   11896.000      1000.000    128000.0  11959.5000       11  RR  LL\n"
   ]
  },
  {
   "cell_type": "markdown",
   "metadata": {},
   "source": [
    "### split"
   ]
  },
  {
   "cell_type": "code",
   "execution_count": null,
   "metadata": {
    "collapsed": true
   },
   "outputs": [],
   "source": [
    "split(vis='16B-084.sb32943015.eb33039583.57719.09799292824.ms',outputvis='Mrk1018_X.ms',\n",
    "      datacolumn='corrected',field='HE0203-0031',correlation='RR,LL')"
   ]
  },
  {
   "cell_type": "code",
   "execution_count": null,
   "metadata": {
    "collapsed": true
   },
   "outputs": [],
   "source": [
    "statwt(vis='Mrk1018_X.ms',datacolumn='data')\n",
    "#statwt(vis='3c391_ctm_mosaic_spw0.ms',datacolumn='data')"
   ]
  },
  {
   "cell_type": "code",
   "execution_count": null,
   "metadata": {
    "collapsed": true
   },
   "outputs": [],
   "source": [
    "# In CASA\n",
    "plotms(vis='Mrk1018_X.ms',xaxis='uvwave',yaxis='amp',\n",
    "       ydatacolumn='data', field='0',avgtime='30',correlation='RR',\n",
    "       plotfile='plotms-uvwave.png',overwrite=True)\n",
    "\n",
    "# In CASA\n",
    "tclean(vis='Mrk1018_X.ms',imagename='Mrk1018_X_multiscale',\n",
    "      field='',spw='',\n",
    "      specmode='mfs',\n",
    "      niter=2000,\n",
    "      gain=0.1, threshold='0.01mJy',\n",
    "      gridder='mosaic',\n",
    "      deconvolver='multiscale',\n",
    "      scales=[0, 2, 4, 6], smallscalebias=0.9,\n",
    "      interactive=True,\n",
    "      imsize=[256,256], cell=['0.03arcsec','0.03arcsec'],\n",
    "      stokes='I',\n",
    "      weighting='briggs',robust=0.5,\n",
    "      pbcor=False,\n",
    "      savemodel='modelcolumn')"
   ]
  },
  {
   "cell_type": "code",
   "execution_count": null,
   "metadata": {
    "collapsed": true
   },
   "outputs": [],
   "source": [
    "viewer('Mrk1018_X_multiscale.image')"
   ]
  },
  {
   "cell_type": "code",
   "execution_count": null,
   "metadata": {
    "collapsed": true
   },
   "outputs": [],
   "source": [
    "impbcor(imagename='Mrk1018_X_multiscale.image',pbimage='Mrk1018_X_multiscale.pb',\n",
    "        outfile='Mrk1018_X_multiscale.pbcorimage')"
   ]
  },
  {
   "cell_type": "code",
   "execution_count": null,
   "metadata": {
    "collapsed": true
   },
   "outputs": [],
   "source": [
    "mystat = imstat(imagename='Mrk1018_X_multiscale.pbcorimage')\n",
    "{'blc': array([0, 0, 0, 0], dtype=int32),\n",
    " 'blcf': '02:06:16.246, -00.17.32.940, I, 1.00004e+10Hz',\n",
    " 'flux': array([ 0.00196259]),\n",
    " 'max': array([ 0.00169059]),\n",
    " 'maxpos': array([128, 124,   0,   0], dtype=int32),\n",
    " 'maxposf': '02:06:15.990, -00.17.29.220, I, 1.00004e+10Hz',\n",
    " 'mean': array([  1.57537789e-06]),\n",
    " 'medabsdevmed': array([  5.95878009e-06]),\n",
    " 'median': array([  1.02838701e-07]),\n",
    " 'min': array([ -7.26153448e-05]),\n",
    " 'minpos': array([145, 132,   0,   0], dtype=int32),\n",
    " 'minposf': '02:06:15.956, -00.17.28.980, I, 1.00004e+10Hz',\n",
    " 'npts': array([ 65536.]),\n",
    " 'q1': array([ -5.85074713e-06]),\n",
    " 'q3': array([  6.06575441e-06]),\n",
    " 'quartile': array([  1.19165015e-05]),\n",
    " 'rms': array([  3.61580442e-05]),\n",
    " 'sigma': array([  3.61239846e-05]),\n",
    " 'sum': array([ 0.10324397]),\n",
    " 'sumsq': array([  8.56820393e-05]),\n",
    " 'trc': array([255, 255,   0,   0], dtype=int32),\n",
    " 'trcf': '02:06:15.736, -00.17.25.290, I, 1.00004e+10Hz'}"
   ]
  },
  {
   "cell_type": "code",
   "execution_count": null,
   "metadata": {
    "collapsed": true
   },
   "outputs": [],
   "source": [
    "!casaviewer 'Mrk1018_X_multiscale.pbcorimage' & #sourceflux\n",
    "(Mrk1018_X_multiscale.pbcorimage)\n",
    "        Stokes       Velocity          Frame        Doppler      Frequency \n",
    "             I          0km/s           LSRK          RADIO    1.00004e+10 \n",
    "BrightnessUnit       BeamArea           Npts            Sum    FluxDensity \n",
    "       Jy/beam        52.6061            147   8.401614e-02   1.597080e-03 \n",
    "          Mean            Rms        Std dev        Minimum        Maximum \n",
    "  5.715384e-04   7.201303e-04   4.395977e-04   2.379055e-05   1.690595e-03 \n",
    "  region count \n",
    "             1  \n",
    "!casaviewer 'Mrk1018_X_multiscale.image' & #rms bkg\n",
    "(Mrk1018_X_multiscale.image)\n",
    "        Stokes       Velocity          Frame        Doppler      Frequency \n",
    "             I          0km/s           LSRK          RADIO    1.00004e+10 \n",
    "BrightnessUnit       BeamArea           Npts            Sum    FluxDensity \n",
    "       Jy/beam        52.6061            973   2.651869e-03   5.040990e-05 \n",
    "          Mean            Rms        Std dev        Minimum        Maximum \n",
    "  2.725456e-06   3.357956e-05   3.348598e-05  -7.261462e-05   8.356452e-05 \n",
    "  region count \n",
    "             1 \n",
    "\n",
    "\n",
    "X 1.6mJy 0.03mJy"
   ]
  },
  {
   "cell_type": "markdown",
   "metadata": {},
   "source": [
    "### 2/16B-084.sb32953854.eb33067129.57731.11288690972.ms "
   ]
  },
  {
   "cell_type": "code",
   "execution_count": null,
   "metadata": {
    "collapsed": true
   },
   "outputs": [],
   "source": [
    "Fields: 8\n",
    "  ID   Code Name                RA               Decl           Epoch   SrcId      nRows\n",
    "  0    NONE 3C138               05:21:09.886022 +16.38.22.05122 J2000   0        1719900\n",
    "  1    NONE J0215-0222          02:15:42.017245 -02.22.56.75175 J2000   1        1435200\n",
    "  2    NONE HE0203-0031         02:06:15.990000 -00.17.29.09999 J2000   2        3348800\n",
    "  3    NONE J0239-0234          02:39:45.472266 -02.34.40.91431 J2000   3        1383200\n",
    "  4    NONE HE0232-0900         02:34:37.760000 -08.47.15.40001 J2000   4        3307200\n",
    "  5    NONE HE0227-0913         02:30:05.520000 -08.59.53.19999 J2000   5        3369600\n",
    "  6    NONE J0242-2132          02:42:35.909849 -21.32.25.93508 J2000   6        1050400\n",
    "  7    NONE HE0253-1641         02:56:02.630000 -16.29.15.40000 J2000   7        3328000\n",
    "Spectral Windows:  (34 unique spectral windows and 2 unique polarization setups)\n",
    "  SpwID  Name           #Chans   Frame   Ch0(MHz)  ChanWid(kHz)  TotBW(kHz) CtrFreq(MHz) BBC Num  Corrs          \n",
    "  0      EVLA_X#A0C0#0      64   TOPO    8332.000      2000.000    128000.0   8395.0000       12  RR  RL  LR  LL\n",
    "  1      EVLA_X#B0D0#1      64   TOPO    8460.000      2000.000    128000.0   8523.0000       15  RR  RL  LR  LL\n",
    "  2      EVLA_X#A1C1#2     128   TOPO    7976.000      1000.000    128000.0   8039.5000       10  RR  LL\n",
    "  3      EVLA_X#A1C1#3     128   TOPO    8104.000      1000.000    128000.0   8167.5000       10  RR  LL\n",
    "  4      EVLA_X#A1C1#4     128   TOPO    8232.000      1000.000    128000.0   8295.5000       10  RR  LL\n",
    "  5      EVLA_X#A1C1#5     128   TOPO    8360.000      1000.000    128000.0   8423.5000       10  RR  LL\n",
    "  6      EVLA_X#A1C1#6     128   TOPO    8488.000      1000.000    128000.0   8551.5000       10  RR  LL\n",
    "  7      EVLA_X#A1C1#7     128   TOPO    8616.000      1000.000    128000.0   8679.5000       10  RR  LL\n",
    "  8      EVLA_X#A1C1#8     128   TOPO    8744.000      1000.000    128000.0   8807.5000       10  RR  LL\n",
    "  9      EVLA_X#A1C1#9     128   TOPO    8872.000      1000.000    128000.0   8935.5000       10  RR  LL\n",
    "  10     EVLA_X#A1C1#10    128   TOPO    9000.000      1000.000    128000.0   9063.5000       10  RR  LL\n",
    "  11     EVLA_X#A1C1#11    128   TOPO    9128.000      1000.000    128000.0   9191.5000       10  RR  LL\n",
    "  12     EVLA_X#A1C1#12    128   TOPO    9256.000      1000.000    128000.0   9319.5000       10  RR  LL\n",
    "  13     EVLA_X#A1C1#13    128   TOPO    9384.000      1000.000    128000.0   9447.5000       10  RR  LL\n",
    "  14     EVLA_X#A1C1#14    128   TOPO    9512.000      1000.000    128000.0   9575.5000       10  RR  LL\n",
    "  15     EVLA_X#A1C1#15    128   TOPO    9640.000      1000.000    128000.0   9703.5000       10  RR  LL\n",
    "  16     EVLA_X#A1C1#16    128   TOPO    9768.000      1000.000    128000.0   9831.5000       10  RR  LL\n",
    "  17     EVLA_X#A1C1#17    128   TOPO    9896.000      1000.000    128000.0   9959.5000       10  RR  LL\n",
    "  18     EVLA_X#A2C2#18    128   TOPO    9976.000      1000.000    128000.0  10039.5000       11  RR  LL\n",
    "  19     EVLA_X#A2C2#19    128   TOPO   10104.000      1000.000    128000.0  10167.5000       11  RR  LL\n",
    "  20     EVLA_X#A2C2#20    128   TOPO   10232.000      1000.000    128000.0  10295.5000       11  RR  LL\n",
    "  21     EVLA_X#A2C2#21    128   TOPO   10360.000      1000.000    128000.0  10423.5000       11  RR  LL\n",
    "  22     EVLA_X#A2C2#22    128   TOPO   10488.000      1000.000    128000.0  10551.5000       11  RR  LL\n",
    "  23     EVLA_X#A2C2#23    128   TOPO   10616.000      1000.000    128000.0  10679.5000       11  RR  LL\n",
    "  24     EVLA_X#A2C2#24    128   TOPO   10744.000      1000.000    128000.0  10807.5000       11  RR  LL\n",
    "  25     EVLA_X#A2C2#25    128   TOPO   10872.000      1000.000    128000.0  10935.5000       11  RR  LL\n",
    "  26     EVLA_X#A2C2#26    128   TOPO   11000.000      1000.000    128000.0  11063.5000       11  RR  LL\n",
    "  27     EVLA_X#A2C2#27    128   TOPO   11128.000      1000.000    128000.0  11191.5000       11  RR  LL\n",
    "  28     EVLA_X#A2C2#28    128   TOPO   11256.000      1000.000    128000.0  11319.5000       11  RR  LL\n",
    "  29     EVLA_X#A2C2#29    128   TOPO   11384.000      1000.000    128000.0  11447.5000       11  RR  LL\n",
    "  30     EVLA_X#A2C2#30    128   TOPO   11512.000      1000.000    128000.0  11575.5000       11  RR  LL\n",
    "  31     EVLA_X#A2C2#31    128   TOPO   11640.000      1000.000    128000.0  11703.5000       11  RR  LL\n",
    "  32     EVLA_X#A2C2#32    128   TOPO   11768.000      1000.000    128000.0  11831.5000       11  RR  LL\n",
    "  33     EVLA_X#A2C2#33    128   TOPO   11896.000      1000.000    128000.0  11959.5000       11  RR  LL"
   ]
  },
  {
   "cell_type": "markdown",
   "metadata": {},
   "source": [
    "### split"
   ]
  },
  {
   "cell_type": "code",
   "execution_count": null,
   "metadata": {
    "collapsed": true
   },
   "outputs": [],
   "source": [
    "split(vis='16B-084.sb32953854.eb33067129.57731.11288690972.ms',outputvis='Mrk1018_X.ms',\n",
    "      datacolumn='corrected',field='HE0203-0031',correlation='RR,LL')"
   ]
  },
  {
   "cell_type": "code",
   "execution_count": null,
   "metadata": {
    "collapsed": true
   },
   "outputs": [],
   "source": [
    "statwt(vis='Mrk1018_X.ms',datacolumn='data')"
   ]
  },
  {
   "cell_type": "code",
   "execution_count": null,
   "metadata": {
    "collapsed": true
   },
   "outputs": [],
   "source": [
    "# In CASA\n",
    "plotms(vis='Mrk1018_X.ms',xaxis='uvwave',yaxis='amp',\n",
    "       ydatacolumn='data', field='0',avgtime='30',correlation='RR',\n",
    "       plotfile='plotms-uvwave.png',overwrite=True)\n",
    "\n",
    "# In CASA\n",
    "tclean(vis='Mrk1018_X.ms',imagename='Mrk1018_X_multiscale',\n",
    "      field='',spw='',\n",
    "      specmode='mfs',\n",
    "      niter=2000,\n",
    "      gain=0.1, threshold='0.01mJy',\n",
    "      gridder='mosaic',\n",
    "      deconvolver='multiscale',\n",
    "      scales=[0, 2, 4, 6], smallscalebias=0.9,\n",
    "      interactive=True,\n",
    "      imsize=[256,256], cell=['0.03arcsec','0.03arcsec'],\n",
    "      stokes='I',\n",
    "      weighting='briggs',robust=0.5,\n",
    "      pbcor=False,\n",
    "      savemodel='modelcolumn')"
   ]
  },
  {
   "cell_type": "code",
   "execution_count": null,
   "metadata": {
    "collapsed": true
   },
   "outputs": [],
   "source": [
    "viewer('Mrk1018_X_multiscale.image')"
   ]
  },
  {
   "cell_type": "code",
   "execution_count": null,
   "metadata": {
    "collapsed": true
   },
   "outputs": [],
   "source": [
    "impbcor(imagename='Mrk1018_X_multiscale.image',pbimage='Mrk1018_X_multiscale.pb',\n",
    "        outfile='Mrk1018_X_multiscale.pbcorimage')\n",
    "\n",
    "mystat = imstat(imagename='Mrk1018_X_multiscale.pbcorimage')\n",
    "\n",
    "{'blc': array([0, 0, 0, 0], dtype=int32),\n",
    " 'blcf': '02:06:16.246, -00.17.32.940, I, 1.00005e+10Hz',\n",
    " 'flux': array([ 0.00210531]),\n",
    " 'max': array([ 0.00188168]),\n",
    " 'maxpos': array([128, 124,   0,   0], dtype=int32),\n",
    " 'maxposf': '02:06:15.990, -00.17.29.220, I, 1.00005e+10Hz',\n",
    " 'mean': array([  1.46734947e-06]),\n",
    " 'medabsdevmed': array([  5.18147352e-06]),\n",
    " 'median': array([  1.20549551e-07]),\n",
    " 'min': array([ -3.94309718e-05]),\n",
    " 'minpos': array([136, 142,   0,   0], dtype=int32),\n",
    " 'minposf': '02:06:15.974, -00.17.28.680, I, 1.00005e+10Hz',\n",
    " 'npts': array([ 65536.]),\n",
    " 'q1': array([ -5.05236039e-06]),\n",
    " 'q3': array([  5.30899933e-06]),\n",
    " 'quartile': array([  1.03613597e-05]),\n",
    " 'rms': array([  3.68441617e-05]),\n",
    " 'sigma': array([  3.68152118e-05]),\n",
    " 'sum': array([ 0.09616421]),\n",
    " 'sumsq': array([  8.89646121e-05]),\n",
    " 'trc': array([255, 255,   0,   0], dtype=int32),\n",
    " 'trcf': '02:06:15.736, -00.17.25.290, I, 1.00005e+10Hz'}"
   ]
  },
  {
   "cell_type": "code",
   "execution_count": null,
   "metadata": {
    "collapsed": true
   },
   "outputs": [],
   "source": [
    "!casaviewer 'Mrk1018_X_multiscale.pbcorimage' & #sourceflux\n",
    "(Mrk1018_X_multiscale.pbcorimage)\n",
    "        Stokes       Velocity          Frame        Doppler      Frequency \n",
    "             I          0km/s           LSRK          RADIO    1.00005e+10 \n",
    "BrightnessUnit       BeamArea           Npts            Sum    FluxDensity \n",
    "       Jy/beam        45.6769            144   8.521422e-02   1.865586e-03 \n",
    "          Mean            Rms        Std dev        Minimum        Maximum \n",
    "  5.917654e-04   7.664073e-04   4.887253e-04   6.165021e-05   1.881677e-03 \n",
    "  region count \n",
    "             1 \n",
    "        \n",
    "!casaviewer 'Mrk1018_X_multiscale.image' & #rms bkg\n",
    "(Mrk1018_X_multiscale.image)\n",
    "        Stokes       Velocity          Frame        Doppler      Frequency \n",
    "             I          0km/s           LSRK          RADIO    1.00005e+10 \n",
    "BrightnessUnit       BeamArea           Npts            Sum    FluxDensity \n",
    "       Jy/beam        45.6769          12589   4.248267e-03   9.300683e-05 \n",
    "          Mean            Rms        Std dev        Minimum        Maximum \n",
    "  3.374586e-07   8.379784e-06   8.373319e-06  -2.702998e-05   3.464311e-05 \n",
    "  region count \n",
    "             1 \n",
    "        \n",
    "1.86mJy 0.008mJy        "
   ]
  },
  {
   "cell_type": "code",
   "execution_count": null,
   "metadata": {
    "collapsed": true
   },
   "outputs": [],
   "source": []
  },
  {
   "cell_type": "code",
   "execution_count": null,
   "metadata": {
    "collapsed": true
   },
   "outputs": [],
   "source": []
  },
  {
   "cell_type": "code",
   "execution_count": null,
   "metadata": {
    "collapsed": true
   },
   "outputs": [],
   "source": []
  },
  {
   "cell_type": "markdown",
   "metadata": {},
   "source": [
    "### 3/16B-084.sb32954474.eb33329148.57768.01868310185.ms"
   ]
  },
  {
   "cell_type": "code",
   "execution_count": null,
   "metadata": {
    "collapsed": true
   },
   "outputs": [],
   "source": [
    "Fields: 8\n",
    "  ID   Code Name                RA               Decl           Epoch   SrcId      nRows\n",
    "  0    NONE 3C138               05:21:09.886022 +16.38.22.05122 J2000   0        1812564\n",
    "  1    NONE J0215-0222          02:15:42.017245 -02.22.56.75175 J2000   1        1718496\n",
    "  2    NONE HE0203-0031         02:06:15.990000 -00.17.29.09999 J2000   2        4099680\n",
    "  3    NONE J0239-0234          02:39:45.472266 -02.34.40.91431 J2000   3        2145312\n",
    "  4    NONE HE0232-0900         02:34:37.760000 -08.47.15.40001 J2000   4        4088448\n",
    "  5    NONE HE0227-0913         02:30:05.520000 -08.59.53.19999 J2000   5        4110912\n",
    "  6    NONE J0242-2132          02:42:35.909849 -21.32.25.93508 J2000   6        1415232\n",
    "  7    NONE HE0253-1641         02:56:02.630000 -16.29.15.40000 J2000   7        4009824\n",
    "Spectral Windows:  (34 unique spectral windows and 2 unique polarization setups)\n",
    "  SpwID  Name           #Chans   Frame   Ch0(MHz)  ChanWid(kHz)  TotBW(kHz) CtrFreq(MHz) BBC Num  Corrs          \n",
    "  0      EVLA_C#A0C0#0      64   TOPO    4832.000      2000.000    128000.0   4895.0000       12  RR  RL  LR  LL\n",
    "  1      EVLA_C#B0D0#1      64   TOPO    4960.000      2000.000    128000.0   5023.0000       15  RR  RL  LR  LL\n",
    "  2      EVLA_C#A1C1#2     128   TOPO    3976.000      1000.000    128000.0   4039.5000       10  RR  LL\n",
    "  3      EVLA_C#A1C1#3     128   TOPO    4104.000      1000.000    128000.0   4167.5000       10  RR  LL\n",
    "  4      EVLA_C#A1C1#4     128   TOPO    4232.000      1000.000    128000.0   4295.5000       10  RR  LL\n",
    "  5      EVLA_C#A1C1#5     128   TOPO    4360.000      1000.000    128000.0   4423.5000       10  RR  LL\n",
    "  6      EVLA_C#A1C1#6     128   TOPO    4488.000      1000.000    128000.0   4551.5000       10  RR  LL\n",
    "  7      EVLA_C#A1C1#7     128   TOPO    4616.000      1000.000    128000.0   4679.5000       10  RR  LL\n",
    "  8      EVLA_C#A1C1#8     128   TOPO    4744.000      1000.000    128000.0   4807.5000       10  RR  LL\n",
    "  9      EVLA_C#A1C1#9     128   TOPO    4872.000      1000.000    128000.0   4935.5000       10  RR  LL\n",
    "  10     EVLA_C#A1C1#10    128   TOPO    5000.000      1000.000    128000.0   5063.5000       10  RR  LL\n",
    "  11     EVLA_C#A1C1#11    128   TOPO    5128.000      1000.000    128000.0   5191.5000       10  RR  LL\n",
    "  12     EVLA_C#A1C1#12    128   TOPO    5256.000      1000.000    128000.0   5319.5000       10  RR  LL\n",
    "  13     EVLA_C#A1C1#13    128   TOPO    5384.000      1000.000    128000.0   5447.5000       10  RR  LL\n",
    "  14     EVLA_C#A1C1#14    128   TOPO    5512.000      1000.000    128000.0   5575.5000       10  RR  LL\n",
    "  15     EVLA_C#A1C1#15    128   TOPO    5640.000      1000.000    128000.0   5703.5000       10  RR  LL\n",
    "  16     EVLA_C#A1C1#16    128   TOPO    5768.000      1000.000    128000.0   5831.5000       10  RR  LL\n",
    "  17     EVLA_C#A1C1#17    128   TOPO    5896.000      1000.000    128000.0   5959.5000       10  RR  LL\n",
    "  18     EVLA_C#A2C2#18    128   TOPO    5976.000      1000.000    128000.0   6039.5000       11  RR  LL\n",
    "  19     EVLA_C#A2C2#19    128   TOPO    6104.000      1000.000    128000.0   6167.5000       11  RR  LL\n",
    "  20     EVLA_C#A2C2#20    128   TOPO    6232.000      1000.000    128000.0   6295.5000       11  RR  LL\n",
    "  21     EVLA_C#A2C2#21    128   TOPO    6360.000      1000.000    128000.0   6423.5000       11  RR  LL\n",
    "  22     EVLA_C#A2C2#22    128   TOPO    6488.000      1000.000    128000.0   6551.5000       11  RR  LL\n",
    "  23     EVLA_C#A2C2#23    128   TOPO    6616.000      1000.000    128000.0   6679.5000       11  RR  LL\n",
    "  24     EVLA_C#A2C2#24    128   TOPO    6744.000      1000.000    128000.0   6807.5000       11  RR  LL\n",
    "  25     EVLA_C#A2C2#25    128   TOPO    6872.000      1000.000    128000.0   6935.5000       11  RR  LL\n",
    "  26     EVLA_C#A2C2#26    128   TOPO    7000.000      1000.000    128000.0   7063.5000       11  RR  LL\n",
    "  27     EVLA_C#A2C2#27    128   TOPO    7128.000      1000.000    128000.0   7191.5000       11  RR  LL\n",
    "  28     EVLA_C#A2C2#28    128   TOPO    7256.000      1000.000    128000.0   7319.5000       11  RR  LL\n",
    "  29     EVLA_C#A2C2#29    128   TOPO    7384.000      1000.000    128000.0   7447.5000       11  RR  LL\n",
    "  30     EVLA_C#A2C2#30    128   TOPO    7512.000      1000.000    128000.0   7575.5000       11  RR  LL\n",
    "  31     EVLA_C#A2C2#31    128   TOPO    7640.000      1000.000    128000.0   7703.5000       11  RR  LL\n",
    "  32     EVLA_C#A2C2#32    128   TOPO    7768.000      1000.000    128000.0   7831.5000       11  RR  LL\n",
    "  33     EVLA_C#A2C2#33    128   TOPO    7896.000      1000.000    128000.0   7959.5000       11  RR  LL"
   ]
  },
  {
   "cell_type": "markdown",
   "metadata": {},
   "source": [
    "### split"
   ]
  },
  {
   "cell_type": "code",
   "execution_count": null,
   "metadata": {
    "collapsed": true
   },
   "outputs": [],
   "source": [
    "split(vis='16B-084.sb32954474.eb33329148.57768.01868310185.ms',outputvis='Mrk1018_C.ms',\n",
    "      datacolumn='corrected',field='HE0203-0031',correlation='RR,LL')"
   ]
  },
  {
   "cell_type": "code",
   "execution_count": null,
   "metadata": {
    "collapsed": true
   },
   "outputs": [],
   "source": [
    "statwt(vis='Mrk1018_C.ms',datacolumn='data')"
   ]
  },
  {
   "cell_type": "code",
   "execution_count": null,
   "metadata": {
    "collapsed": true
   },
   "outputs": [],
   "source": [
    "# In CASA\n",
    "plotms(vis='Mrk1018_C.ms',xaxis='uvwave',yaxis='amp',\n",
    "       ydatacolumn='data', field='0',avgtime='30',correlation='RR',\n",
    "       plotfile='plotms-uvwave.png',overwrite=True)\n",
    "\n",
    "# In CASA\n",
    "tclean(vis='Mrk1018_C.ms',imagename='Mrk1018_C_multiscale',\n",
    "      field='',spw='',\n",
    "      specmode='mfs',\n",
    "      niter=2000,\n",
    "      gain=0.1, threshold='0.01mJy',\n",
    "      gridder='mosaic',\n",
    "      deconvolver='multiscale',\n",
    "      scales=[0, 2, 4, 6], smallscalebias=0.9,\n",
    "      interactive=True,\n",
    "      imsize=[256,256], cell=['0.06arcsec','0.06arcsec'],\n",
    "      stokes='I',\n",
    "      weighting='briggs',robust=0.5,\n",
    "      pbcor=False,\n",
    "      savemodel='modelcolumn')"
   ]
  },
  {
   "cell_type": "code",
   "execution_count": null,
   "metadata": {
    "collapsed": true
   },
   "outputs": [],
   "source": [
    "viewer('Mrk1018_C_multiscale.image')"
   ]
  },
  {
   "cell_type": "code",
   "execution_count": null,
   "metadata": {
    "collapsed": true
   },
   "outputs": [],
   "source": [
    "impbcor(imagename='Mrk1018_C_multiscale.image',pbimage='Mrk1018_C_multiscale.pb',\n",
    "        outfile='Mrk1018_C_multiscale.pbcorimage')"
   ]
  },
  {
   "cell_type": "code",
   "execution_count": null,
   "metadata": {
    "collapsed": true
   },
   "outputs": [],
   "source": [
    "mystat = imstat(imagename='Mrk1018_C_multiscale.pbcorimage')\n",
    "{'blc': array([0, 0, 0, 0], dtype=int32),\n",
    " 'blcf': '02:06:16.502, -00.17.36.780, I, 6000265632.94Hz',\n",
    " 'flux': array([ 0.00304512]),\n",
    " 'max': array([ 0.0019346]),\n",
    " 'maxpos': array([128, 126,   0,   0], dtype=int32),\n",
    " 'maxposf': '02:06:15.990, -00.17.29.220, I, 6000265632.94Hz',\n",
    " 'mean': array([  2.01369970e-06]),\n",
    " 'medabsdevmed': array([  4.94415508e-06]),\n",
    " 'median': array([  1.71883897e-07]),\n",
    " 'min': array([ -4.39415344e-05]),\n",
    " 'minpos': array([125,  70,   0,   0], dtype=int32),\n",
    " 'minposf': '02:06:16.002, -00.17.32.580, I, 6000265632.94Hz',\n",
    " 'npts': array([ 65536.]),\n",
    " 'q1': array([ -4.64180084e-06]),\n",
    " 'q3': array([  5.26309850e-06]),\n",
    " 'quartile': array([  9.90489934e-06]),\n",
    " 'rms': array([  3.75815407e-05]),\n",
    " 'sigma': array([  3.75278391e-05]),\n",
    " 'sum': array([ 0.13196982]),\n",
    " 'sumsq': array([  9.25612246e-05]),\n",
    " 'trc': array([255, 255,   0,   0], dtype=int32),\n",
    " 'trcf': '02:06:15.482, -00.17.21.480, I, 6000265632.94Hz'}\n"
   ]
  },
  {
   "cell_type": "code",
   "execution_count": null,
   "metadata": {
    "collapsed": true
   },
   "outputs": [],
   "source": [
    "!casaviewer 'Mrk1018_C_multiscale.pbcorimage' &\n",
    "(Mrk1018_C_multiscale.pbcorimage)\n",
    "        Stokes       Velocity          Frame        Doppler      Frequency \n",
    "             I          0km/s           LSRK          RADIO  6000265632.94 \n",
    "BrightnessUnit       BeamArea           Npts            Sum    FluxDensity \n",
    "       Jy/beam        43.3381            137   8.366488e-02   1.930516e-03 \n",
    "          Mean            Rms        Std dev        Minimum        Maximum \n",
    "  6.106926e-04   7.895011e-04   5.022026e-04   5.253418e-05   1.934596e-03 \n",
    "  region count \n",
    "             1 \n",
    "!casaviewer 'Mrk1018_C_multiscale.image' &        \n",
    "\n",
    "(Mrk1018_C_multiscale.image)\n",
    "        Stokes       Velocity          Frame        Doppler      Frequency \n",
    "             I          0km/s           LSRK          RADIO  6000265632.94 \n",
    "BrightnessUnit       BeamArea           Npts            Sum    FluxDensity \n",
    "       Jy/beam        43.3381           9974   3.875642e-02   8.942805e-04 \n",
    "          Mean            Rms        Std dev        Minimum        Maximum \n",
    "  3.885744e-06   1.513732e-05   1.463082e-05  -4.022890e-05   5.980497e-05 \n",
    "  region count \n",
    "             1\n",
    "        \n",
    "C 1.93mJy 0.015        "
   ]
  },
  {
   "cell_type": "code",
   "execution_count": null,
   "metadata": {
    "collapsed": true
   },
   "outputs": [],
   "source": []
  },
  {
   "cell_type": "markdown",
   "metadata": {},
   "source": [
    "## 16A-375"
   ]
  },
  {
   "cell_type": "code",
   "execution_count": null,
   "metadata": {
    "collapsed": true
   },
   "outputs": [],
   "source": [
    "The radio continuum of high-z galaxies in ZINGRS\n",
    "Proposal Code:\n",
    "VLA/16A-375\n",
    "Principal Investigator:\n",
    "Carl Ferkinhoff  "
   ]
  },
  {
   "cell_type": "code",
   "execution_count": null,
   "metadata": {
    "collapsed": true
   },
   "outputs": [],
   "source": [
    "Fields: 5\n",
    "  ID   Code Name                RA               Decl           Epoch   SrcId      nRows\n",
    "  0    NONE 3C48J0137+3309      01:37:41.299431 +33.09.35.13299 J2000   0        2908386\n",
    "  1    NONE J0215-0222-phS      02:15:42.017245 -02.22.56.75175 J2000   1        4352400\n",
    "  2    NONE J020950.70-000      02:09:50.700000 -00.05.06.40000 J2000   2        8272368\n",
    "  3    NONE J0239-0234-phS      02:39:45.472266 -02.34.40.91431 J2000   3        4350294\n",
    "  4    NONE SMMJ030227.73+      03:02:27.669999 +00.06.51.90001 J2000   4        8272368"
   ]
  },
  {
   "cell_type": "code",
   "execution_count": null,
   "metadata": {
    "collapsed": true
   },
   "outputs": [],
   "source": []
  },
  {
   "cell_type": "markdown",
   "metadata": {},
   "source": [
    "# 2015\n",
    "## VLA/15A-421\n",
    "\n",
    "300 Square Degree VLA Transient Survey in Stripe 82 - Final Epochs\n",
    "Proposal Code:\n",
    "VLA/15A-421"
   ]
  },
  {
   "cell_type": "code",
   "execution_count": null,
   "metadata": {
    "collapsed": true
   },
   "outputs": [],
   "source": []
  },
  {
   "cell_type": "code",
   "execution_count": null,
   "metadata": {
    "collapsed": true
   },
   "outputs": [],
   "source": []
  },
  {
   "cell_type": "code",
   "execution_count": null,
   "metadata": {
    "collapsed": true
   },
   "outputs": [],
   "source": []
  },
  {
   "cell_type": "code",
   "execution_count": null,
   "metadata": {
    "collapsed": true
   },
   "outputs": [],
   "source": []
  },
  {
   "cell_type": "markdown",
   "metadata": {},
   "source": [
    "## /Mrk1018/15A-/15A-274/\n",
    "15A-274.sb30115511.eb30531216.57124.892249756944.ms"
   ]
  },
  {
   "cell_type": "code",
   "execution_count": null,
   "metadata": {
    "collapsed": true
   },
   "outputs": [],
   "source": [
    "Physical Properties of the Gas Fueling Rapid Galaxy Growth at z ~ 3\n",
    "Proposal Code:\n",
    "VLA/15A-274\n",
    "Principal Investigator:\n",
    "Min Yun"
   ]
  },
  {
   "cell_type": "markdown",
   "metadata": {},
   "source": [
    "### Fields: 3"
   ]
  },
  {
   "cell_type": "code",
   "execution_count": null,
   "metadata": {
    "collapsed": true
   },
   "outputs": [],
   "source": [
    "  ID   Code Name                RA               Decl           Epoch   SrcId      nRows\n",
    "  0    NONE 0137+331=3C48       01:37:41.299431 +33.09.35.13299 J2000   0         763100\n",
    "  1    NONE J0219+0120          02:19:07.024497 +01.20.59.86576 J2000   1        8511750\n",
    "  2    NONE J020941             02:09:41.300000 +00.15.59.00000 J2000   2       15184000\n",
    "       #NONE Mrk1018             02:06:15.990000 -00.17.29.09999 J2000   "
   ]
  },
  {
   "cell_type": "code",
   "execution_count": null,
   "metadata": {
    "collapsed": true
   },
   "outputs": [],
   "source": [
    "Spectral Windows:  (42 unique spectral windows and 2 unique polarization setups)\n",
    "  SpwID  Name            #Chans   Frame   Ch0(MHz)  ChanWid(kHz)  TotBW(kHz) CtrFreq(MHz) BBC Num  Corrs          \n",
    "  0      EVLA_X#A0C0#0       64   TOPO    8332.000      2000.000    128000.0   8395.0000       12  RR  RL  LR  LL\n",
    "  1      EVLA_X#B0D0#1       64   TOPO    8460.000      2000.000    128000.0   8523.0000       15  RR  RL  LR  LL\n",
    "  2      EVLA_KA#A0C0#2     128   TOPO   35115.000      1000.000    128000.0  35178.5000       12  RR  LL\n",
    "  3      EVLA_KA#A0C0#3     128   TOPO   35243.000      1000.000    128000.0  35306.5000       12  RR  LL\n",
    "  4      EVLA_KA#A0C0#4     128   TOPO   35371.000      1000.000    128000.0  35434.5000       12  RR  LL\n",
    "\n",
    "...\n",
    "    "
   ]
  },
  {
   "cell_type": "markdown",
   "metadata": {},
   "source": [
    "### split"
   ]
  },
  {
   "cell_type": "code",
   "execution_count": null,
   "metadata": {
    "collapsed": true
   },
   "outputs": [],
   "source": [
    "split(vis='15A-274.sb30115511.eb30531216.57124.892249756944.ms',outputvis='J020941_X.ms',\n",
    "      datacolumn='corrected',field='2',spw='0~1')"
   ]
  },
  {
   "cell_type": "code",
   "execution_count": null,
   "metadata": {
    "collapsed": true
   },
   "outputs": [],
   "source": [
    "split(vis='15A-274.sb30115511.eb30531216.57124.892249756944.ms',outputvis='J020941_X0.ms',\n",
    "      datacolumn='corrected',field='2',spw='0')"
   ]
  },
  {
   "cell_type": "code",
   "execution_count": null,
   "metadata": {
    "collapsed": true
   },
   "outputs": [],
   "source": [
    "split(vis='15A-274.sb30115511.eb30531216.57124.892249756944.ms',outputvis='J020941_X1.ms',\n",
    "      datacolumn='corrected',field='2',spw='1')"
   ]
  },
  {
   "cell_type": "code",
   "execution_count": null,
   "metadata": {
    "collapsed": true
   },
   "outputs": [],
   "source": [
    "split(vis='15A-274.sb30115511.eb30531216.57124.892249756944.ms',outputvis='J020941_Ka.ms',\n",
    "      datacolumn='corrected',field='2',spw='2~41')"
   ]
  },
  {
   "cell_type": "code",
   "execution_count": null,
   "metadata": {
    "collapsed": true
   },
   "outputs": [],
   "source": []
  },
  {
   "cell_type": "markdown",
   "metadata": {},
   "source": [
    "# 2013"
   ]
  },
  {
   "cell_type": "markdown",
   "metadata": {},
   "source": [
    "## 13A-262\n",
    "13A-262.sb16274762.eb22531605.56431.57723717592"
   ]
  },
  {
   "cell_type": "code",
   "execution_count": null,
   "metadata": {
    "collapsed": true
   },
   "outputs": [],
   "source": []
  },
  {
   "cell_type": "code",
   "execution_count": null,
   "metadata": {
    "collapsed": true
   },
   "outputs": [],
   "source": []
  },
  {
   "cell_type": "markdown",
   "metadata": {},
   "source": [
    "## VLA/13B-272\n",
    "\n",
    "A deep-wide survey of the Stripe82 field and the bias of radio sources\n",
    "Proposal Code:\n",
    "VLA/13B-272\n",
    "Principal Investigator:\n",
    "Matt Jarvis"
   ]
  },
  {
   "cell_type": "code",
   "execution_count": null,
   "metadata": {
    "collapsed": true
   },
   "outputs": [],
   "source": []
  },
  {
   "cell_type": "markdown",
   "metadata": {},
   "source": [
    "## 13B-316"
   ]
  },
  {
   "cell_type": "code",
   "execution_count": null,
   "metadata": {
    "collapsed": true
   },
   "outputs": [],
   "source": [
    "Fields: 3\n",
    "  ID   Code Name                RA               Decl           Epoch   SrcId      nRows\n",
    "  0    NONE J0215-0222          02:15:42.017245 -02.22.56.75175 J2000   0        1742000\n",
    "  1    NONE GRB 060908          02:07:18.420000 +00.20.32.20000 J2000   1        9334000\n",
    "  2    NONE 0137+331=3C48       01:37:41.299431 +33.09.35.13299 J2000   2         317200"
   ]
  },
  {
   "cell_type": "code",
   "execution_count": null,
   "metadata": {
    "collapsed": true
   },
   "outputs": [],
   "source": []
  },
  {
   "cell_type": "code",
   "execution_count": null,
   "metadata": {
    "collapsed": true
   },
   "outputs": [],
   "source": [
    "## "
   ]
  },
  {
   "cell_type": "markdown",
   "metadata": {},
   "source": [
    "# [region](https://casa.nrao.edu/casadocs/casa-5.0.0/image-analysis/region-files)\n",
    "\n",
    "region='circle[[18h12m24s, -23d11m00s], 2.3arcsec]'\n"
   ]
  },
  {
   "cell_type": "markdown",
   "metadata": {},
   "source": [
    "# Cellsize"
   ]
  },
  {
   "cell_type": "code",
   "execution_count": null,
   "metadata": {
    "collapsed": true
   },
   "outputs": [],
   "source": [
    "lamda=180000\n",
    "180*3600/3.14159/lamda/3,180*3600/3.14159/lamda/5"
   ]
  },
  {
   "cell_type": "markdown",
   "metadata": {},
   "source": [
    "# [grs1739-278](http://ned.ipac.caltech.edu/cgi-bin/objsearch?objname=grs1739-278&extend=no&hconst=73&omegam=0.27&omegav=0.73&corr_z=1&out_csys=Equatorial&out_equinox=J2000.0&obj_sort=RA+or+Longitude&of=pre_text&zv_breaker=30000.0&list_limit=5&img_stamp=YES)"
   ]
  },
  {
   "cell_type": "code",
   "execution_count": null,
   "metadata": {
    "collapsed": true
   },
   "outputs": [],
   "source": [
    "SAXWFC J1742.7-2744.9          17h42m39.6s -27d44m52s XrayS"
   ]
  },
  {
   "cell_type": "code",
   "execution_count": null,
   "metadata": {
    "collapsed": true
   },
   "outputs": [],
   "source": [
    "  SB4161.sb30616014.eb30916498.57183.227361111116\tpublic\tSB4161\tx\t15-Jun-10 05:27:25\t15-Jun-10 05:57:18\t9.93GB\tVLA:BnA->A:0\tC\tSDMset\traw\tinfo\tScans\tLogs\n",
    "  SB4161.sb30933296.eb30951507.57189.276906747684\tpublic\tSB4161\tx\t15-Jun-16 06:38:46\t15-Jun-16 07:08:30\t10.66GB\tVLA:BnA->A:0\tC\tSDMset\traw\tOK\tScans\tLogs\n",
    "  SB4161.sb30962067.eb30964537.57194.21306976852\tpublic\tSB4161\tx\t15-Jun-21 05:06:50\t15-Jun-21 05:36:40\t10.68GB\tVLA:A:0\tC\tSDMset\traw\tOK\tScans\tLogs\n",
    "  SB4161.sb30971033.eb30975341.57199.20384083333\tpublic\tSB4161\tx\t15-Jun-26 04:53:37\t15-Jun-26 05:23:32\t10.72GB\tVLA:A:0\tC\tSDMset\traw\tOK\tScans\tLogs\n",
    "  SB4161.sb30986348.eb30986643.57210.22631252315\tpublic\tSB4161\tx\t15-Jul-07 05:25:59\t15-Jul-07 05:55:54\t10.72GB\tVLA:A:0\tC\tSDMset\traw\tOK\tScans\tLogs\n",
    "  SB4161.sb30989359.eb30990149.57212.251107268516\tpublic\tSB4161\tx\t15-Jul-09 06:01:37\t15-Jul-09 06:31:30\t10.71GB\tVLA:A:0\tC\tSDMset\traw\tOK\tScans\tLogs\n",
    "  SB4161.sb30990340.eb30992719.57214.21703670139\tpublic\tSB4161\tx\t15-Jul-11 05:12:33\t15-Jul-11 05:42:24\t10.69GB\tVLA:A:0\tC\tSDMset\traw\tOK\tScans\tLogs\n",
    "  SB4161.sb30992726.eb30993957.57217.15285857639\tpublic\tSB4161\tx\t15-Jul-14 03:43:40\t15-Jul-14 04:13:35\t9.93GB\tVLA:A:0\tC\tSDMset\traw\tOK\tScans\tLogs\n",
    "  SB4161.sb30992791.eb30996941.57218.12982590278\tpublic\tSB4161\tx\t15-Jul-15 03:09:49\t15-Jul-15 03:39:44\t10.72GB\tVLA:A:0\tC\tSDMset\traw\tOK\tScans\tLogs\n",
    "  SB4161.sb30996873.eb31001705.57222.13615194445\tpublic\tSB4161\tx\t15-Jul-19 03:16:04\t15-Jul-19 04:15:53\t21.46GB\tVLA:A:0\tC\tSDMset\traw\tOK\tScans\tLogs\n",
    "  SB4161.sb31002122.eb31007378.57226.17374118055\tpublic\tSB4161\tx\t15-Jul-23 04:10:12\t15-Jul-23 05:09:58\t21.44GB\tVLA:A:0\tC\tSDMset\traw\tOK\tScans\tLogs\n",
    "  SB4161.sb31008572.eb31011576.57229.2178330787\tpublic\tSB4161\tx\t15-Jul-26 05:13:42\t15-Jul-26 06:13:28\t21.45GB\tVLA:A:0\tC\tSDMset\traw\tOK\tScans\tLogs\n",
    "  SB4161.sb31011998.eb31018683.57234.15653890047\tpublic\tSB4161\tx\t15-Jul-31 03:45:26\t15-Jul-31 04:45:14\t19.90GB\tVLA:A:0\tC\tSDMset\traw\tOK\tScans\tLogs\n",
    "  SB4161.sb31020235.eb31020556.57236.081129479164\tpublic\tSB4161\tx\t15-Aug-02 01:59:03\t15-Aug-02 02:58:53\t19.92GB\tVLA:A:0\tC\tSDMset\traw\tOK\tScans\tLogs\n",
    "  SB4161.sb31020563.eb31022851.57238.07383270834\tpublic\tSB4161\tx\t15-Aug-04 01:51:11\t15-Aug-04 02:51:01\t19.91GB\tVLA:A:0\tC\tSDMset\traw\tOK\tScans\tLogs\n",
    "  SB4161.sb31024670.eb31029540.57240.12789337963\tpublic\tSB4161\tx\t15-Aug-06 03:04:16\t15-Aug-06 04:04:06\t21.47GB\tVLA:A:0\tC\tSDMset\traw\tOK\tScans\tLogs\n",
    "  SB4161.sb31030953.eb31032762.57242.11485204861\tpublic\tSB4161\tx\t15-Aug-08 02:45:24\t15-Aug-08 03:45:10\t21.45GB\tVLA:A:0\tC\tSDMset\traw\tOK\tScans\tLogs\n",
    "  SB4161.sb31032468.eb31033354.57244.071287569444\tpublic\tSB4161\tx\t15-Aug-10 01:42:40\t15-Aug-10 02:42:26\t21.44GB\tVLA:A:0\tC\tSDMset\traw\tOK\tScans\tLogs\n",
    "  SB4161.sb31037714.eb31044681.57247.06013997685\tpublic\tSB4161\tx\t15-Aug-13 01:26:39\t15-Aug-13 02:26:29\t21.46GB\tVLA:A:0\tC\tSDMset\traw\tOK\tScans\tLogs\n",
    "  SB4161.sb31093352.eb31098495.57273.976900671296\tpublic\tSB4161\tx\t15-Sep-08 23:29:38\t15-Sep-09 00:29:28\t21.46GB\tVLA:A:0\tC\tSDMset\traw\tOK\tScans\tLogs\n",
    "  SB4161.sb31102701.eb31108957.57276.01507119213\tpublic\tSB4161\tx\t15-Sep-11 00:21:43\t15-Sep-11 01:21:28\t21.44GB\tVLA:A:0\tC\tSDMset\traw\tOK\tScans\tLogs\n",
    "  SB4161.sb31114953.eb31129341.57280.060924722224\tpublic\tSB4161\tx\t15-Sep-15 01:27:45\t15-Sep-15 02:27:32\t21.46GB\tVLA:A:0\tC\tSDMset\traw\tOK\tScans\tLogs\n",
    "  SB4161.sb31115731.eb31133983.57280.96801277778\tpublic\tSB4161\tx\t15-Sep-15 23:17:04\t15-Sep-16 00:16:55\t19.92GB\tVLA:A:0\tC\tSDMset\traw\tOK\tScans\tLogs\n",
    "  SB4161.sb31140164.eb31144003.57283.95222112269\tpublic\tSB4161\tx\t15-Sep-18 22:51:13\t15-Sep-18 23:51:02\t21.46GB\tVLA:A:0\tC\tSDMset\traw\tOK\tScans\tLogs\n",
    "  SB4161.sb31144704.eb31147706.57287.02262870371\tpublic\tSB4161\tx\t15-Sep-22 00:34:12\t15-Sep-22 01:34:03\t21.47GB\tVLA:A->D:0\tC\tSDMset\traw\tOK\tScans\tLogs\n",
    "  SB4161.sb31301742.eb31332526.57310.95991414352\tpublic\tSB4161\tx\t15-Oct-15 23:10:14\t15-Oct-16 00:10:04\t19.91GB\tVLA:D:0\tC\tSDMset\traw\tOK\tScans\tLogs\n",
    "  SB4161.sb31379109.eb31391079.57327.94579947917\tpublic\tSB4161\tx\t15-Nov-01 22:41:58\t15-Nov-01 23:41:43\t21.42GB\tVLA:D:0\tC\tSDMset\traw\tOK\tScans\tLogs\n",
    "  SB4161.sb31389681.eb31396057.57329.94716833333\tpublic\tSB4161\tx\t15-Nov-03 22:43:59\t15-Nov-03 23:43:49\t21.46GB\tVLA:D:0\tC\tSDMset\traw\tOK\tScans\tLogs"
   ]
  },
  {
   "cell_type": "markdown",
   "metadata": {},
   "source": [
    "# lc"
   ]
  },
  {
   "cell_type": "code",
   "execution_count": null,
   "metadata": {
    "collapsed": true
   },
   "outputs": [],
   "source": [
    "57210 1.52e-04 6.35GHz\n",
    "57212 8.81e-05 6.35GHz \n",
    "57222 2.74e-05 6.35GHz \n",
    "57238 3.06e-04 6.35GHz \n",
    "57273 1.68e-04 6.35GHz "
   ]
  },
  {
   "cell_type": "markdown",
   "metadata": {},
   "source": [
    "| mjd  |      flux (Jy)     |  freq (GHz)|note|\n",
    "|----------|:-------------:|:------:|:------:|\n",
    "| 57210 |  1.445e-4 | 5.25 |    |\n",
    "| 57210 |  1.716e-4 | 7.45 |    |\n",
    "| 57212 |  1.521e-4 | 5.25 |need flag|\n",
    "| 57212 |  6.81e-5  | 7.45 |need flag|\n",
    "| 57222 |  2.64e-5  | 5.25 |    |\n",
    "| 57222 |  3.3e-5   | 7.45 | need flag   |\n",
    "| 57238 |  4.252e-4 | 5.25 |    |\n",
    "| 57238 |  2.36e-4  | 7.45 |    |\n",
    "| 57273 |  1.966e-4 | 5.25 |    |\n",
    "| 57273 |  1.77e-4 | 7.45 |    |"
   ]
  },
  {
   "cell_type": "code",
   "execution_count": null,
   "metadata": {
    "collapsed": true
   },
   "outputs": [],
   "source": [
    "57210 1.52e-04 6.35GHz"
   ]
  },
  {
   "cell_type": "code",
   "execution_count": null,
   "metadata": {
    "collapsed": true
   },
   "outputs": [],
   "source": [
    "imfit"
   ]
  },
  {
   "cell_type": "code",
   "execution_count": null,
   "metadata": {
    "collapsed": true
   },
   "outputs": [],
   "source": [
    "6.6.1 Examples for imfit\n",
    "The following are some examples using the B1608+656 Tutorial\n",
    "http://casa.nrao.edu/Doc/Scripts/b1608_demo.py\n",
    "as an example."
   ]
  },
  {
   "cell_type": "code",
   "execution_count": null,
   "metadata": {
    "collapsed": true
   },
   "outputs": [],
   "source": []
  },
  {
   "cell_type": "markdown",
   "metadata": {},
   "source": [
    "## SB4161.sb30986348.eb30986643.57210.22631252315.ms\n"
   ]
  },
  {
   "cell_type": "code",
   "execution_count": null,
   "metadata": {
    "collapsed": true
   },
   "outputs": [],
   "source": [
    "SB4161.sb30986348.eb30986643.57210.22631252315\tpublic\tSB4161\tx\t15-Jul-07 05:25:59\t15-Jul-07 05:55:54\t10.72GB\tVLA:A:0\tC\tSDMset\traw\tOK\tScans\tLogs"
   ]
  },
  {
   "cell_type": "markdown",
   "metadata": {},
   "source": [
    "### Fields: 3"
   ]
  },
  {
   "cell_type": "code",
   "execution_count": null,
   "metadata": {
    "collapsed": true
   },
   "outputs": [],
   "source": [
    "  ID   Code Name                RA               Decl           Epoch   SrcId      nRows\n",
    "  0    NONE 1331+305=3C286      13:31:08.287984 +30.30.32.95886 J2000   0         143184\n",
    "  1    NONE J1820-2528          18:20:57.848685 -25.28.12.58456 J2000   1          74496\n",
    "  2    NONE V* V2606 Oph        17:42:40.030080 -27.44.52.69921 J2000   2         603360"
   ]
  },
  {
   "cell_type": "code",
   "execution_count": null,
   "metadata": {
    "collapsed": true
   },
   "outputs": [],
   "source": [
    "1331+305   J2000  A 13h31m08.287984s  30d30'32.958850\"  Aug01  3C286  \n",
    "1328+307   B1950  A 13h28m49.657700s  30d45'58.640000\"\n",
    "-----------------------------------------------------\n",
    "BAND        A B C D    FLUX(Jy)    UVMIN(kL)  UVMAX(kL)\n",
    "=====================================================\n",
    " 90cm P  S S S S      26.00                       visplot\n",
    " 20cm L  S S P P      15.00                       visplot\n",
    "  6cm    C  S S S P       7.47\n",
    "3.7cm X  S P P P       5.23                      400   visplot\n",
    " 2cm U  S S S S       3.40                       visplot\n",
    "1.3cm K  X S S P       2.59                       visplot\n",
    "0.7cm Q  X S P P       1.45  "
   ]
  },
  {
   "cell_type": "code",
   "execution_count": null,
   "metadata": {
    "collapsed": true
   },
   "outputs": [],
   "source": [
    "1820-254   J2000  A 18h20m57.848685s -25d28'12.584560\"  Aug01         \n",
    "1817-254   B1950  A 18h17m52.332200s -25d29'37.400000\"\n",
    "-----------------------------------------------------\n",
    "BAND        A B C D    FLUX(Jy)    UVMIN(kL)  UVMAX(kL)\n",
    "=====================================================\n",
    " 20cm L  S S X X       1.25            16         visplot\n",
    "  6cm    C  P P P P       1.3            \n",
    "3.7cm X  P P P P       1.31                       visplot\n",
    "0.7cm Q  W W W W       0.53  "
   ]
  },
  {
   "cell_type": "markdown",
   "metadata": {},
   "source": [
    "### split"
   ]
  },
  {
   "cell_type": "code",
   "execution_count": null,
   "metadata": {
    "collapsed": true
   },
   "outputs": [],
   "source": [
    "split(vis='SB4161.sb30986348.eb30986643.57210.22631252315.ms',outputvis='grs1739-278.ms',\n",
    "      datacolumn='corrected',field='2',correlation='RR,LL')"
   ]
  },
  {
   "cell_type": "code",
   "execution_count": null,
   "metadata": {
    "collapsed": true
   },
   "outputs": [],
   "source": [
    "split(vis='SB4161.sb30986348.eb30986643.57210.22631252315.ms',outputvis='grs1739-278-C1.ms',\n",
    "      datacolumn='corrected',field='2',spw='0~7',correlation='RR,LL')\n",
    "\n",
    "split(vis='SB4161.sb30986348.eb30986643.57210.22631252315.ms',outputvis='grs1739-278-C2.ms',\n",
    "      datacolumn='corrected',field='2',spw='8~15',correlation='RR,LL')"
   ]
  },
  {
   "cell_type": "code",
   "execution_count": null,
   "metadata": {
    "collapsed": true
   },
   "outputs": [],
   "source": []
  },
  {
   "cell_type": "code",
   "execution_count": null,
   "metadata": {
    "collapsed": true
   },
   "outputs": [],
   "source": [
    "statwt(vis='grs1739-278.ms',datacolumn='data')\n",
    "\n",
    "statwt(vis='grs1739-278-C1.ms',datacolumn='data')\n",
    "statwt(vis='grs1739-278-C2.ms',datacolumn='data')"
   ]
  },
  {
   "cell_type": "markdown",
   "metadata": {},
   "source": [
    "### clean"
   ]
  },
  {
   "cell_type": "markdown",
   "metadata": {},
   "source": [
    "#### cellsize"
   ]
  },
  {
   "cell_type": "code",
   "execution_count": 1,
   "metadata": {
    "ExecuteTime": {
     "end_time": "2019-10-14T01:30:38.079345Z",
     "start_time": "2019-10-14T01:30:38.062170Z"
    },
    "collapsed": false
   },
   "outputs": [
    {
     "data": {
      "text/plain": [
       "(0.09822141927222476, 0.05893285156333485)"
      ]
     },
     "execution_count": 1,
     "metadata": {},
     "output_type": "execute_result"
    }
   ],
   "source": [
    "lamda=7e5\n",
    "180*3600/3.14159/lamda/3,180*3600/3.14159/lamda/5"
   ]
  },
  {
   "cell_type": "code",
   "execution_count": 2,
   "metadata": {
    "ExecuteTime": {
     "end_time": "2019-10-14T05:57:31.994758Z",
     "start_time": "2019-10-14T05:57:31.988477Z"
    },
    "collapsed": false
   },
   "outputs": [
    {
     "data": {
      "text/plain": [
       "(0.06875499349055733, 0.0412529960943344)"
      ]
     },
     "execution_count": 2,
     "metadata": {},
     "output_type": "execute_result"
    }
   ],
   "source": [
    "lamda=1e6\n",
    "180*3600/3.14159/lamda/3,180*3600/3.14159/lamda/5"
   ]
  },
  {
   "cell_type": "code",
   "execution_count": null,
   "metadata": {
    "collapsed": true
   },
   "outputs": [],
   "source": [
    "# In CASA\n",
    "plotms(vis='grs1739-278.ms',xaxis='uvwave',yaxis='amp',\n",
    "       ydatacolumn='data', field='0',avgtime='30',correlation='RR',\n",
    "       plotfile='plotms-uvwave.png',overwrite=True)\n",
    "\n",
    "# In CASA\n",
    "tclean(vis='grs1739-278.ms',imagename='grs1739-278_multiscale',\n",
    "      field='',spw='',\n",
    "      specmode='mfs',\n",
    "      niter=2000,\n",
    "      gain=0.1, threshold='0.01mJy',\n",
    "      gridder='mosaic',\n",
    "      deconvolver='multiscale',\n",
    "      scales=[0, 5, 15, 45], smallscalebias=0.9,\n",
    "      interactive=True,\n",
    "      imsize=[480,480], cell=['0.05arcsec','0.05arcsec'],\n",
    "      stokes='I',\n",
    "      weighting='briggs',robust=0.5,\n",
    "      pbcor=False,\n",
    "      savemodel='modelcolumn')\n",
    "############################################\n",
    "\n",
    "plotms(vis='grs1739-278-C1.ms',xaxis='uvwave',yaxis='amp',\n",
    "       ydatacolumn='data', field='0',avgtime='30',correlation='RR',\n",
    "       plotfile='plotms-uvwave-C1.png',overwrite=True)\n",
    "\n",
    "tclean(vis='grs1739-278-C1.ms',imagename='grs1739-278-C1_multiscale',\n",
    "      field='',spw='',\n",
    "      specmode='mfs',\n",
    "      niter=2000,\n",
    "      gain=0.1, threshold='0.01mJy',\n",
    "      gridder='mosaic',\n",
    "      deconvolver='multiscale',\n",
    "      scales=[0, 5, 15, 45], smallscalebias=0.9,\n",
    "      interactive=True,\n",
    "      imsize=[256,256], cell=['0.075arcsec','0.075arcsec'],\n",
    "      stokes='I',\n",
    "      weighting='briggs',robust=0.5,\n",
    "      pbcor=False,\n",
    "      savemodel='modelcolumn')\n",
    "\n",
    "#############################################\n",
    "\n",
    "plotms(vis='grs1739-278-C2.ms',xaxis='uvwave',yaxis='amp',\n",
    "       ydatacolumn='data', field='0',avgtime='30',correlation='RR',\n",
    "       plotfile='plotms-uvwave-C2.png',overwrite=True)\n",
    "\n",
    "tclean(vis='grs1739-278-C2.ms',imagename='grs1739-278-C2_multiscale',\n",
    "      field='',spw='',\n",
    "      specmode='mfs',\n",
    "      niter=2000,\n",
    "      gain=0.1, threshold='0.01mJy',\n",
    "      gridder='mosaic',\n",
    "      deconvolver='multiscale',\n",
    "      scales=[0, 5, 15, 45], smallscalebias=0.9,\n",
    "      interactive=True,\n",
    "      imsize=[256,256], cell=['0.05arcsec','0.05arcsec'],\n",
    "      stokes='I',\n",
    "      weighting='briggs',robust=0.5,\n",
    "      pbcor=False,\n",
    "      savemodel='modelcolumn')\n"
   ]
  },
  {
   "cell_type": "markdown",
   "metadata": {},
   "source": [
    "### viewer"
   ]
  },
  {
   "cell_type": "code",
   "execution_count": null,
   "metadata": {
    "collapsed": true
   },
   "outputs": [],
   "source": [
    "viewer('grs1739-278_multiscale.image')\n",
    "impbcor(imagename='grs1739-278_multiscale.image',pbimage='grs1739-278_multiscale.pb',\n",
    "        outfile='grs1739-278_multiscale.pbcorimage')\n",
    "mystat = imstat(imagename='grs1739-278_multiscale.pbcorimage')\n",
    "!casaviewer 'grs1739-278_multiscale.pbcorimage' &\n",
    "#############################################\n",
    "\n",
    "viewer('grs1739-278-C1_multiscale.image')\n",
    "impbcor(imagename='grs1739-278-C1_multiscale.image',pbimage='grs1739-278-C1_multiscale.pb',\n",
    "        outfile='grs1739-278-C1_multiscale.pbcorimage')\n",
    "mystat = imstat(imagename='grs1739-278-C1_multiscale.pbcorimage')\n",
    "!casaviewer 'grs1739-278-C1_multiscale.pbcorimage' &\n",
    "\n",
    "\n",
    "\n",
    "#############################################\n",
    "\n",
    "\n",
    "viewer('grs1739-278-C2_multiscale.image')\n",
    "impbcor(imagename='grs1739-278-C2_multiscale.image',pbimage='grs1739-278-C2_multiscale.pb',\n",
    "        outfile='grs1739-278-C2_multiscale.pbcorimage')\n",
    "mystat = imstat(imagename='grs1739-278-C2_multiscale.pbcorimage')\n",
    "!casaviewer 'grs1739-278-C2_multiscale.pbcorimage' &\n",
    "\n",
    "\n",
    "\n",
    "\n"
   ]
  },
  {
   "cell_type": "markdown",
   "metadata": {},
   "source": [
    "### imfit"
   ]
  },
  {
   "cell_type": "code",
   "execution_count": null,
   "metadata": {
    "collapsed": true
   },
   "outputs": [],
   "source": [
    "imagename = clnimage\n",
    "\n",
    "# Do whole image\n",
    "box = '238,230,245,242'\n",
    "# or you could stick to the cleanbox\n",
    "#box = '102,78,157,139'\n",
    "\n",
    "stats = imstat()\n",
    "\n",
    "# Do off-source box\n",
    "box = '253,249,272,263'\n",
    "\n",
    "stats_offsrc = imstat()\n",
    "\n",
    "print \"\"\n",
    "print \"  Final clean cycle:\"\n",
    "print \"  ------------------\"\n",
    "print \"     On-source max = \"+str(stats['max'][0])\n",
    "print \"    Off-source rms = \"+str(stats_offsrc['sigma'][0])\n",
    "print \"         S/N ratio = \"+str(stats['max'][0]/stats_offsrc['sigma'][0] )\n",
    "print \"\"\n",
    "\n",
    "Final clean cycle:\n",
    "  ------------------\n",
    "     On-source max = 0.000116669623822\n",
    "    Off-source rms = 9.0848586769e-06\n",
    "         S/N ratio = 12.8422056931\n"
   ]
  },
  {
   "cell_type": "code",
   "execution_count": null,
   "metadata": {
    "collapsed": true
   },
   "outputs": [],
   "source": [
    "print '--Imfit--'\n",
    "default('imfit')\n",
    "\n",
    "imagename='grs1739-278-C1_multiscale.image'\n",
    "box = '238,230,245,242'\n",
    "xfit_A_res = imfit()\n",
    "xfit_A = xfit_A_res['results']['component0']\n",
    "print \"\"\n",
    "print \"  Imfit Results:\"\n",
    "print \"  --------------\"\n",
    "print \"  Component A  Flux = %10.6f %s   Bmaj = %10.6f %s \" % ( xfit_A['flux']['value'][0], xfit_A['flux']['unit'], xfit_A['shape']['majoraxis']['value'], xfit_A['shape']['majoraxis']['unit'] )\n",
    "  Imfit Results:\n",
    "  --------------\n",
    "  Component A  Flux =   0.000145 Jy   Bmaj =   0.705161 arcsec \n",
    "    \n",
    "5254976175.71Hz\n",
    "5254976175.71Hz\n",
    "\n",
    "##################################\n",
    "imagename='grs1739-278-C1_multiscale.pbcorimage'\n",
    "box = '238,230,245,242'\n",
    "\n",
    "xfit_A_res = imfit()\n",
    "xfit_A = xfit_A_res['results']['component0']\n",
    "\n",
    "print \"\"\n",
    "print \"  Imfit Results:\"\n",
    "print \"  --------------\"\n",
    "print \"  Component A  Flux = %10.7f %s   Bmaj = %10.7f %s \" % ( xfit_A['flux']['value'][0], xfit_A['flux']['unit'], xfit_A['shape']['majoraxis']['value'], xfit_A['shape']['majoraxis']['unit'] )\n",
    "\n",
    "\n",
    "  Imfit Results:\n",
    "  --------------\n",
    "  Component A  Flux =  0.0001445 Jy   Bmaj =  0.7051615 arcsec \n",
    "    \n",
    "    \n",
    "    \n",
    "##################################\n",
    "imagename='grs1739-278-C2_multiscale.pbcorimage'\n",
    "box = '124,113,133,128'\n",
    "\n",
    "xfit_A_res = imfit()\n",
    "xfit_A = xfit_A_res['results']['component0']    \n",
    "    \n",
    "    \n",
    "7448966216.51    \n",
    "    \n",
    "  Imfit Results:\n",
    "  --------------\n",
    "  Component A  Flux =  0.0001716 Jy   Bmaj =  0.6160246 arcsec     \n",
    "    \n",
    "    \n",
    "    "
   ]
  },
  {
   "cell_type": "code",
   "execution_count": null,
   "metadata": {
    "collapsed": true
   },
   "outputs": [],
   "source": []
  },
  {
   "cell_type": "code",
   "execution_count": null,
   "metadata": {
    "collapsed": true
   },
   "outputs": [],
   "source": [
    "(grs1739-278_multiscale.pbcorimage)\n",
    "        Stokes       Velocity          Frame        Doppler      Frequency \n",
    "             I          0km/s           LSRK          RADIO  6351971259.68 \n",
    "BrightnessUnit       BeamArea           Npts            Sum    FluxDensity \n",
    "       Jy/beam        64.1949            254   9.729260e-03   1.515581e-04 \n",
    "          Mean            Rms        Std dev        Minimum        Maximum \n",
    "  3.830417e-05   4.644028e-05   2.630998e-05  -3.475121e-06   1.108730e-04 \n",
    "  region count \n",
    "             1 "
   ]
  },
  {
   "cell_type": "code",
   "execution_count": null,
   "metadata": {
    "collapsed": true
   },
   "outputs": [],
   "source": []
  },
  {
   "cell_type": "markdown",
   "metadata": {},
   "source": [
    "## SB4161.sb30989359.eb30990149.57212.251107268516.ms\n"
   ]
  },
  {
   "cell_type": "code",
   "execution_count": null,
   "metadata": {
    "collapsed": true
   },
   "outputs": [],
   "source": [
    "SB4161.sb30989359.eb30990149.57212.251107268516\tpublic\tSB4161\tx\t15-Jul-09 06:01:37\t15-Jul-09 06:31:30\t10.71GB\tVLA:A:0\tC\tSDMset\traw\tOK\tScans\tLogs"
   ]
  },
  {
   "cell_type": "markdown",
   "metadata": {},
   "source": [
    "### split"
   ]
  },
  {
   "cell_type": "code",
   "execution_count": null,
   "metadata": {
    "collapsed": true
   },
   "outputs": [],
   "source": [
    "split(vis='SB4161.sb30989359.eb30990149.57212.251107268516.ms',outputvis='grs1739-278.ms',\n",
    "      datacolumn='corrected',field='2',correlation='RR,LL')"
   ]
  },
  {
   "cell_type": "code",
   "execution_count": null,
   "metadata": {
    "collapsed": true
   },
   "outputs": [],
   "source": [
    "split(vis='SB4161.sb30989359.eb30990149.57212.251107268516.ms',outputvis='grs1739-278-C1.ms',\n",
    "      datacolumn='corrected',field='2',spw='0~7',correlation='RR,LL')\n",
    "\n",
    "split(vis='SB4161.sb30989359.eb30990149.57212.251107268516.ms',outputvis='grs1739-278-C2.ms',\n",
    "      datacolumn='corrected',field='2',spw='8~15',correlation='RR,LL')"
   ]
  },
  {
   "cell_type": "code",
   "execution_count": null,
   "metadata": {
    "collapsed": true
   },
   "outputs": [],
   "source": [
    "statwt(vis='grs1739-278.ms',datacolumn='data')\n",
    "statwt(vis='grs1739-278-C1.ms',datacolumn='data')\n",
    "statwt(vis='grs1739-278-C2.ms',datacolumn='data')"
   ]
  },
  {
   "cell_type": "markdown",
   "metadata": {},
   "source": [
    "### clean"
   ]
  },
  {
   "cell_type": "code",
   "execution_count": null,
   "metadata": {
    "collapsed": true
   },
   "outputs": [],
   "source": [
    "plotms(vis='grs1739-278.ms',xaxis='uvwave',yaxis='amp',\n",
    "       ydatacolumn='data', field='0',avgtime='30',correlation='RR',\n",
    "       plotfile='plotms-uvwave.png',overwrite=True)\n",
    "\n",
    "tclean(vis='grs1739-278.ms',imagename='grs1739-278_multiscale',\n",
    "      field='',spw='',\n",
    "      specmode='mfs',\n",
    "      niter=2000,\n",
    "      gain=0.1, threshold='0.01mJy',\n",
    "      gridder='mosaic',\n",
    "      deconvolver='multiscale',\n",
    "      scales=[0, 5, 15, 45], smallscalebias=0.9,\n",
    "      interactive=True,\n",
    "      imsize=[256,256], cell=['0.05arcsec','0.05arcsec'],\n",
    "      stokes='I',\n",
    "      weighting='briggs',robust=0.5,\n",
    "      pbcor=False,\n",
    "      savemodel='modelcolumn')\n",
    "\n",
    "############################################\n",
    "\n",
    "plotms(vis='grs1739-278-C1.ms',xaxis='uvwave',yaxis='amp',\n",
    "       ydatacolumn='data', field='0',avgtime='30',correlation='RR',\n",
    "       plotfile='plotms-uvwave-C1.png',overwrite=True)\n",
    "\n",
    "tclean(vis='grs1739-278-C1.ms',imagename='grs1739-278-C1_multiscale',\n",
    "      field='',spw='',\n",
    "      specmode='mfs',\n",
    "      niter=2000,\n",
    "      gain=0.1, threshold='0.01mJy',\n",
    "      gridder='mosaic',\n",
    "      deconvolver='multiscale',\n",
    "      scales=[0, 5, 15, 45], smallscalebias=0.9,\n",
    "      interactive=True,\n",
    "      imsize=[256,256], cell=['0.075arcsec','0.075arcsec'],\n",
    "      stokes='I',\n",
    "      weighting='briggs',robust=0.5,\n",
    "      pbcor=False,\n",
    "      savemodel='modelcolumn')\n",
    "\n",
    "#############################################\n",
    "\n",
    "plotms(vis='grs1739-278-C2.ms',xaxis='uvwave',yaxis='amp',\n",
    "       ydatacolumn='data', field='0',avgtime='30',correlation='RR',\n",
    "       plotfile='plotms-uvwave-C2.png',overwrite=True)\n",
    "\n",
    "tclean(vis='grs1739-278-C2.ms',imagename='grs1739-278-C2_multiscale',\n",
    "      field='',spw='',\n",
    "      specmode='mfs',\n",
    "      niter=2000,\n",
    "      gain=0.1, threshold='0.01mJy',\n",
    "      gridder='mosaic',\n",
    "      deconvolver='multiscale',\n",
    "      scales=[0, 5, 15, 45], smallscalebias=0.9,\n",
    "      interactive=True,\n",
    "      imsize=[256,256], cell=['0.05arcsec','0.05arcsec'],\n",
    "      stokes='I',\n",
    "      weighting='briggs',robust=0.5,\n",
    "      pbcor=False,\n",
    "      savemodel='modelcolumn')\n",
    "\n",
    "\n"
   ]
  },
  {
   "cell_type": "markdown",
   "metadata": {},
   "source": [
    "### viewer"
   ]
  },
  {
   "cell_type": "code",
   "execution_count": null,
   "metadata": {
    "collapsed": true
   },
   "outputs": [],
   "source": [
    "viewer('grs1739-278_multiscale.image')\n",
    "viewer('grs1739-278_multiscale.residual')\n",
    "\n",
    "impbcor(imagename='grs1739-278_multiscale.image',pbimage='grs1739-278_multiscale.pb',\n",
    "        outfile='grs1739-278_multiscale.pbcorimage')\n",
    "mystat = imstat(imagename='grs1739-278_multiscale.pbcorimage')\n",
    "!casaviewer 'grs1739-278_multiscale.pbcorimage' &\n",
    "\n",
    "\n",
    "#############################################\n",
    "\n",
    "viewer('grs1739-278-C1_multiscale.image')\n",
    "impbcor(imagename='grs1739-278-C1_multiscale.image',pbimage='grs1739-278-C1_multiscale.pb',\n",
    "        outfile='grs1739-278-C1_multiscale.pbcorimage')\n",
    "mystat = imstat(imagename='grs1739-278-C1_multiscale.pbcorimage')\n",
    "!casaviewer 'grs1739-278-C1_multiscale.pbcorimage' &\n",
    "\n",
    "\n",
    "\n",
    "#############################################\n",
    "\n",
    "\n",
    "viewer('grs1739-278-C2_multiscale.image')\n",
    "impbcor(imagename='grs1739-278-C2_multiscale.image',pbimage='grs1739-278-C2_multiscale.pb',\n",
    "        outfile='grs1739-278-C2_multiscale.pbcorimage')\n",
    "mystat = imstat(imagename='grs1739-278-C2_multiscale.pbcorimage')\n",
    "!casaviewer 'grs1739-278-C2_multiscale.pbcorimage' &"
   ]
  },
  {
   "cell_type": "markdown",
   "metadata": {},
   "source": [
    "### imfit"
   ]
  },
  {
   "cell_type": "code",
   "execution_count": null,
   "metadata": {
    "collapsed": true
   },
   "outputs": [],
   "source": [
    "##################################\n",
    "imagename='grs1739-278-C1_multiscale.pbcorimage'\n",
    "box = '126,111,134,133'\n",
    "\n",
    "xfit_A_res = imfit()\n",
    "xfit_A = xfit_A_res['results']['component0']\n",
    "\n",
    "print \"\"\n",
    "print \"  Imfit Results:\"\n",
    "print \"  --------------\"\n",
    "print \"  Component A  Flux = %10.7f %s   Bmaj = %10.7f %s \" % ( xfit_A['flux']['value'][0], xfit_A['flux']['unit'], xfit_A['shape']['majoraxis']['value'], xfit_A['shape']['majoraxis']['unit'] )\n",
    "\n",
    "\n",
    "  Imfit Results:\n",
    "  --------------\n",
    "  Component A  Flux =  0.0001521 Jy   Bmaj =  1.3447212 arcsec\n",
    "    \n",
    "    \n",
    " (grs1739-278-C1_multiscale.pbcorimage)\n",
    "        Stokes       Velocity          Frame        Doppler      Frequency \n",
    "             I          0km/s           LSRK          RADIO  5254993872.77 \n",
    "BrightnessUnit       BeamArea           Npts            Sum    FluxDensity \n",
    "       Jy/beam         43.979            166   5.021036e-03   1.141688e-04 \n",
    "          Mean            Rms        Std dev        Minimum        Maximum \n",
    "  3.024721e-05   3.454374e-05   1.673511e-05  -1.720495e-06   6.873011e-05 \n",
    "  region count \n",
    "             1 \n",
    "        \n",
    "        \n",
    "##################################\n",
    "imagename='grs1739-278-C2_multiscale.pbcorimage'\n",
    "box = '126,111,134,133'\n",
    "\n",
    "xfit_A_res = imfit()\n",
    "xfit_A = xfit_A_res['results']['component0']    \n",
    "    \n",
    "    \n",
    "print \"\"\n",
    "print \"  Imfit Results:\"\n",
    "print \"  --------------\"\n",
    "print \"  Component A  Flux = %10.7f %s   Bmaj = %10.7f %s \" % ( xfit_A['flux']['value'][0], xfit_A['flux']['unit'], xfit_A['shape']['majoraxis']['value'], xfit_A['shape']['majoraxis']['unit'] )\n",
    "   \n",
    "    \n",
    "  Imfit Results:\n",
    "  --------------\n",
    "  Component A  Flux =  0.0000681 Jy   Bmaj =  0.6386041 arcsec \n",
    "    \n",
    "    \n",
    "    (grs1739-278-C2_multiscale.pbcorimage)\n",
    "        Stokes       Velocity          Frame        Doppler      Frequency \n",
    "             I          0km/s           LSRK          RADIO  7448991302.35 \n",
    "BrightnessUnit       BeamArea           Npts            Sum    FluxDensity \n",
    "       Jy/beam        49.1067             88   2.446903e-03   4.982831e-05 \n",
    "          Mean            Rms        Std dev        Minimum        Maximum \n",
    "  2.780572e-05   3.200113e-05   1.593106e-05  -4.812533e-06   6.425464e-05 \n",
    "  region count \n",
    "             1 "
   ]
  },
  {
   "cell_type": "code",
   "execution_count": null,
   "metadata": {
    "collapsed": true
   },
   "outputs": [],
   "source": [
    "(grs1739-278_multiscale.pbcorimage)\n",
    "        Stokes       Velocity          Frame        Doppler      Frequency \n",
    "             I          0km/s           LSRK          RADIO  6351992650.49 \n",
    "BrightnessUnit       BeamArea           Npts            Sum    FluxDensity \n",
    "       Jy/beam        64.2945            238   5.666057e-03   8.812656e-05 \n",
    "          Mean            Rms        Std dev        Minimum        Maximum \n",
    "  2.380696e-05   2.717414e-05   1.312961e-05  -6.456396e-06   6.021636e-05 \n",
    "  region count \n",
    "             1 "
   ]
  },
  {
   "cell_type": "code",
   "execution_count": null,
   "metadata": {
    "collapsed": true
   },
   "outputs": [],
   "source": []
  },
  {
   "cell_type": "code",
   "execution_count": null,
   "metadata": {
    "collapsed": true
   },
   "outputs": [],
   "source": []
  },
  {
   "cell_type": "code",
   "execution_count": null,
   "metadata": {
    "collapsed": true
   },
   "outputs": [],
   "source": []
  },
  {
   "cell_type": "markdown",
   "metadata": {},
   "source": [
    "## SB4161.sb30996873.eb31001705.57222.13615194445.ms"
   ]
  },
  {
   "cell_type": "code",
   "execution_count": null,
   "metadata": {
    "collapsed": true
   },
   "outputs": [],
   "source": [
    "SB4161.sb30996873.eb31001705.57222.13615194445\tpublic\tSB4161\tx\t15-Jul-19 03:16:04\t15-Jul-19 04:15:53\t21.46GB\tVLA:A:0\tC\tSDMset\traw\tOK\tScans\tLogs\n"
   ]
  },
  {
   "cell_type": "markdown",
   "metadata": {},
   "source": [
    "### split"
   ]
  },
  {
   "cell_type": "code",
   "execution_count": null,
   "metadata": {
    "collapsed": true
   },
   "outputs": [],
   "source": [
    "split(vis='SB4161.sb30996873.eb31001705.57222.13615194445.ms',outputvis='grs1739-278.ms',\n",
    "      datacolumn='corrected',field='2',correlation='RR,LL')"
   ]
  },
  {
   "cell_type": "code",
   "execution_count": null,
   "metadata": {
    "collapsed": true
   },
   "outputs": [],
   "source": [
    "split(vis='SB4161.sb30996873.eb31001705.57222.13615194445.ms',outputvis='grs1739-278-C1.ms',\n",
    "      datacolumn='corrected',field='2',spw='0~7',correlation='RR,LL')\n",
    "\n",
    "split(vis='SB4161.sb30996873.eb31001705.57222.13615194445.ms',outputvis='grs1739-278-C2.ms',\n",
    "      datacolumn='corrected',field='2',spw='8~15',correlation='RR,LL')"
   ]
  },
  {
   "cell_type": "code",
   "execution_count": null,
   "metadata": {
    "collapsed": true
   },
   "outputs": [],
   "source": [
    "statwt(vis='grs1739-278.ms',datacolumn='data')\n",
    "statwt(vis='grs1739-278-C1.ms',datacolumn='data')\n",
    "statwt(vis='grs1739-278-C2.ms',datacolumn='data')"
   ]
  },
  {
   "cell_type": "markdown",
   "metadata": {},
   "source": [
    "### clean"
   ]
  },
  {
   "cell_type": "code",
   "execution_count": null,
   "metadata": {
    "collapsed": true
   },
   "outputs": [],
   "source": [
    "plotms(vis='grs1739-278.ms',xaxis='uvwave',yaxis='amp',\n",
    "       ydatacolumn='data', field='0',avgtime='30',correlation='RR',\n",
    "       plotfile='plotms-uvwave.png',overwrite=True)\n",
    "\n",
    "tclean(vis='grs1739-278.ms',imagename='grs1739-278_multiscale',\n",
    "      field='',spw='',\n",
    "      specmode='mfs',\n",
    "      niter=2000,\n",
    "      gain=0.1, threshold='0.01mJy',\n",
    "      gridder='mosaic',\n",
    "      deconvolver='multiscale',\n",
    "      scales=[0, 5, 15, 45], smallscalebias=0.9,\n",
    "      interactive=True,\n",
    "      imsize=[256,256], cell=['0.05arcsec','0.05arcsec'],\n",
    "      stokes='I',\n",
    "      weighting='briggs',robust=0.5,\n",
    "      pbcor=False,\n",
    "      savemodel='modelcolumn')\n",
    "\n",
    "\n",
    "############################################\n",
    "\n",
    "plotms(vis='grs1739-278-C1.ms',xaxis='uvwave',yaxis='amp',\n",
    "       ydatacolumn='data', field='0',avgtime='30',correlation='RR',\n",
    "       plotfile='plotms-uvwave-C1.png',overwrite=True)\n",
    "\n",
    "tclean(vis='grs1739-278-C1.ms',imagename='grs1739-278-C1_multiscale',\n",
    "      field='',spw='',\n",
    "      specmode='mfs',\n",
    "      niter=2000,\n",
    "      gain=0.1, threshold='0.01mJy',\n",
    "      gridder='mosaic',\n",
    "      deconvolver='multiscale',\n",
    "      scales=[0, 5, 15, 45], smallscalebias=0.9,\n",
    "      interactive=True,\n",
    "      imsize=[256,256], cell=['0.075arcsec','0.075arcsec'],\n",
    "      stokes='I',\n",
    "      weighting='briggs',robust=0.5,\n",
    "      pbcor=False,\n",
    "      savemodel='modelcolumn')\n",
    "\n",
    "#############################################\n",
    "\n",
    "plotms(vis='grs1739-278-C2.ms',xaxis='uvwave',yaxis='amp',\n",
    "       ydatacolumn='data', field='0',avgtime='30',correlation='RR',\n",
    "       plotfile='plotms-uvwave-C2.png',overwrite=True)\n",
    "\n",
    "tclean(vis='grs1739-278-C2.ms',imagename='grs1739-278-C2_multiscale',\n",
    "      field='',spw='',\n",
    "      specmode='mfs',\n",
    "      niter=2000,\n",
    "      gain=0.1, threshold='0.01mJy',\n",
    "      gridder='mosaic',\n",
    "      deconvolver='multiscale',\n",
    "      scales=[0, 5, 15, 45], smallscalebias=0.9,\n",
    "      interactive=True,\n",
    "      imsize=[256,256], cell=['0.05arcsec','0.05arcsec'],\n",
    "      stokes='I',\n",
    "      weighting='briggs',robust=0.5,\n",
    "      pbcor=False,\n",
    "      savemodel='modelcolumn')\n",
    "\n",
    "\n"
   ]
  },
  {
   "cell_type": "markdown",
   "metadata": {},
   "source": [
    "#### cellsize"
   ]
  },
  {
   "cell_type": "code",
   "execution_count": 3,
   "metadata": {
    "ExecuteTime": {
     "end_time": "2019-10-16T08:01:07.984181Z",
     "start_time": "2019-10-16T08:01:07.976452Z"
    },
    "collapsed": false
   },
   "outputs": [
    {
     "data": {
      "text/plain": [
       "(0.1057769130623959, 0.06346614783743754)"
      ]
     },
     "execution_count": 3,
     "metadata": {},
     "output_type": "execute_result"
    }
   ],
   "source": [
    "lamda=6.5e5\n",
    "180*3600/3.14159/lamda/3,180*3600/3.14159/lamda/5"
   ]
  },
  {
   "cell_type": "code",
   "execution_count": 4,
   "metadata": {
    "ExecuteTime": {
     "end_time": "2019-10-16T08:07:10.907553Z",
     "start_time": "2019-10-16T08:07:10.901251Z"
    },
    "collapsed": false
   },
   "outputs": [
    {
     "data": {
      "text/plain": [
       "(0.07639443721173036, 0.045836662327038216)"
      ]
     },
     "execution_count": 4,
     "metadata": {},
     "output_type": "execute_result"
    }
   ],
   "source": [
    "lamda=9e5\n",
    "180*3600/3.14159/lamda/3,180*3600/3.14159/lamda/5"
   ]
  },
  {
   "cell_type": "markdown",
   "metadata": {},
   "source": [
    "### viewer"
   ]
  },
  {
   "cell_type": "code",
   "execution_count": null,
   "metadata": {
    "collapsed": true
   },
   "outputs": [],
   "source": [
    "viewer('grs1739-278_multiscale.image')\n",
    "viewer('grs1739-278_multiscale.residual')\n",
    "\n",
    "impbcor(imagename='grs1739-278_multiscale.image',pbimage='grs1739-278_multiscale.pb',\n",
    "        outfile='grs1739-278_multiscale.pbcorimage')\n",
    "mystat = imstat(imagename='grs1739-278_multiscale.pbcorimage')\n",
    "!casaviewer 'grs1739-278_multiscale.pbcorimage' &\n",
    "\n",
    "#############################################\n",
    "\n",
    "viewer('grs1739-278-C1_multiscale.image')\n",
    "impbcor(imagename='grs1739-278-C1_multiscale.image',pbimage='grs1739-278-C1_multiscale.pb',\n",
    "        outfile='grs1739-278-C1_multiscale.pbcorimage')\n",
    "mystat = imstat(imagename='grs1739-278-C1_multiscale.pbcorimage')\n",
    "!casaviewer 'grs1739-278-C1_multiscale.pbcorimage' &\n",
    "\n",
    "\n",
    "\n",
    "#############################################\n",
    "\n",
    "\n",
    "viewer('grs1739-278-C2_multiscale.image')\n",
    "impbcor(imagename='grs1739-278-C2_multiscale.image',pbimage='grs1739-278-C2_multiscale.pb',\n",
    "        outfile='grs1739-278-C2_multiscale.pbcorimage')\n",
    "mystat = imstat(imagename='grs1739-278-C2_multiscale.pbcorimage')\n",
    "!casaviewer 'grs1739-278-C2_multiscale.pbcorimage' &\n",
    "\n",
    "\n"
   ]
  },
  {
   "cell_type": "markdown",
   "metadata": {},
   "source": [
    "### imfit"
   ]
  },
  {
   "cell_type": "code",
   "execution_count": null,
   "metadata": {
    "collapsed": true
   },
   "outputs": [],
   "source": [
    "##################################\n",
    "imagename='grs1739-278-C1_multiscale.pbcorimage'\n",
    "box = '124,117,137,136'\n",
    "\n",
    "xfit_A_res = imfit()\n",
    "xfit_A = xfit_A_res['results']['component0']\n",
    "\n",
    "print \"\"\n",
    "print \"  Imfit Results:\"\n",
    "print \"  --------------\"\n",
    "print \"  Component A  Flux = %10.7f %s   Bmaj = %10.7f %s \" % ( xfit_A['flux']['value'][0], xfit_A['flux']['unit'], xfit_A['shape']['majoraxis']['value'], xfit_A['shape']['majoraxis']['unit'] )\n",
    "\n",
    "\n",
    "  Imfit Results:\n",
    "  --------------\n",
    "  Component A  Flux =  0.0000264 Jy   Bmaj =  1.0368649 arcsec \n",
    "\n",
    "    \n",
    "(grs1739-278-C1_multiscale.pbcorimage)\n",
    "        Stokes       Velocity          Frame        Doppler      Frequency \n",
    "             I          0km/s           LSRK          RADIO   5255069093.7 \n",
    "BrightnessUnit       BeamArea           Npts            Sum    FluxDensity \n",
    "       Jy/beam         60.105            185   1.373144e-03   2.284574e-05 \n",
    "          Mean            Rms        Std dev        Minimum        Maximum \n",
    "  7.422401e-06   8.994800e-06   5.094574e-06  -5.432878e-06   1.815988e-05 \n",
    "  region count \n",
    "             1 \n",
    "\n",
    "        \n",
    "        \n",
    "##################################\n",
    "imagename='grs1739-278-C2_multiscale.pbcorimage'\n",
    "box = '124,110,133,132'\n",
    "\n",
    "xfit_A_res = imfit()\n",
    "xfit_A = xfit_A_res['results']['component0']    \n",
    "    \n",
    "    \n",
    "print \"\"\n",
    "print \"  Imfit Results:\"\n",
    "print \"  --------------\"\n",
    "print \"  Component A  Flux = %10.7f %s   Bmaj = %10.7f %s \" % ( xfit_A['flux']['value'][0], xfit_A['flux']['unit'], xfit_A['shape']['majoraxis']['value'], xfit_A['shape']['majoraxis']['unit'] )\n",
    "   \n",
    "    \n",
    "  Imfit Results:\n",
    "  --------------\n",
    "  Component A  Flux =  0.0000330 Jy   Bmaj =  0.7583050 arcsec \n",
    "    \n",
    "    \n",
    "(grs1739-278-C2_multiscale.pbcorimage)\n",
    "        Stokes       Velocity          Frame        Doppler      Frequency \n",
    "             I          0km/s           LSRK          RADIO  7449097914.65 \n",
    "BrightnessUnit       BeamArea           Npts            Sum    FluxDensity \n",
    "       Jy/beam         63.735            174   1.888603e-03   2.963213e-05 \n",
    "          Mean            Rms        Std dev        Minimum        Maximum \n",
    "  1.085404e-05   1.450966e-05   9.656909e-06  -5.222287e-06   3.124890e-05 \n",
    "  region count \n",
    "             1 "
   ]
  },
  {
   "cell_type": "code",
   "execution_count": null,
   "metadata": {
    "collapsed": true
   },
   "outputs": [],
   "source": [
    "(grs1739-278_multiscale.pbcorimage)\n",
    "        Stokes       Velocity          Frame        Doppler      Frequency \n",
    "             I          0km/s           LSRK          RADIO  6352083638.42 \n",
    "BrightnessUnit       BeamArea           Npts            Sum    FluxDensity \n",
    "       Jy/beam        98.7301            331   2.704040e-03   2.738819e-05 \n",
    "          Mean            Rms        Std dev        Minimum        Maximum \n",
    "  8.169305e-06   9.718734e-06   5.272593e-06  -4.283395e-06   1.977427e-05 \n",
    "  region count \n",
    "             1"
   ]
  },
  {
   "cell_type": "markdown",
   "metadata": {},
   "source": [
    "## SB4161.sb31020563.eb31022851.57238.07383270834.ms\n"
   ]
  },
  {
   "cell_type": "code",
   "execution_count": null,
   "metadata": {
    "collapsed": true
   },
   "outputs": [],
   "source": [
    "SB4161.sb31020563.eb31022851.57238.07383270834\tpublic\tSB4161\tx\t15-Aug-04 01:51:11\t15-Aug-04 02:51:01\t19.91GB\tVLA:A:0\tC\tSDMset\traw\tOK\tScans\tLogs\n"
   ]
  },
  {
   "cell_type": "markdown",
   "metadata": {},
   "source": [
    "### split"
   ]
  },
  {
   "cell_type": "code",
   "execution_count": null,
   "metadata": {
    "collapsed": true
   },
   "outputs": [],
   "source": [
    "split(vis='SB4161.sb31020563.eb31022851.57238.07383270834.ms',outputvis='grs1739-278.ms',\n",
    "      datacolumn='corrected',field='2',correlation='RR,LL')\n",
    "\n",
    "split(vis='SB4161.sb31020563.eb31022851.57238.07383270834.ms',outputvis='grs1739-278-C1.ms',\n",
    "      datacolumn='corrected',field='2',spw='0~7',correlation='RR,LL')\n",
    "\n",
    "split(vis='SB4161.sb31020563.eb31022851.57238.07383270834.ms',outputvis='grs1739-278-C2.ms',\n",
    "      datacolumn='corrected',field='2',spw='8~15',correlation='RR,LL')"
   ]
  },
  {
   "cell_type": "code",
   "execution_count": null,
   "metadata": {
    "collapsed": true
   },
   "outputs": [],
   "source": [
    "statwt(vis='grs1739-278.ms',datacolumn='data')\n",
    "statwt(vis='grs1739-278-C1.ms',datacolumn='data')\n",
    "statwt(vis='grs1739-278-C2.ms',datacolumn='data')"
   ]
  },
  {
   "cell_type": "markdown",
   "metadata": {},
   "source": [
    "### clean"
   ]
  },
  {
   "cell_type": "code",
   "execution_count": null,
   "metadata": {
    "collapsed": true
   },
   "outputs": [],
   "source": [
    "\n",
    "\n",
    "plotms(vis='grs1739-278.ms',xaxis='uvwave',yaxis='amp',\n",
    "       ydatacolumn='data', field='0',avgtime='30',correlation='RR',\n",
    "       plotfile='plotms-uvwave.png',overwrite=True)\n",
    "\n",
    "tclean(vis='grs1739-278.ms',imagename='grs1739-278_multiscale',\n",
    "      field='',spw='',\n",
    "      specmode='mfs',\n",
    "      niter=2000,\n",
    "      gain=0.1, threshold='0.01mJy',\n",
    "      gridder='mosaic',\n",
    "      deconvolver='multiscale',\n",
    "      scales=[0, 5, 15, 30], smallscalebias=0.9,\n",
    "      interactive=True,\n",
    "      imsize=[256,256], cell=['0.05arcsec','0.05arcsec'],\n",
    "      stokes='I',\n",
    "      weighting='briggs',robust=0.5,\n",
    "      pbcor=False,\n",
    "      savemodel='modelcolumn')\n",
    "\n",
    "############################################\n",
    "\n",
    "plotms(vis='grs1739-278-C1.ms',xaxis='uvwave',yaxis='amp',\n",
    "       ydatacolumn='data', field='0',avgtime='30',correlation='RR',\n",
    "       plotfile='plotms-uvwave-C1.png',overwrite=True)\n",
    "\n",
    "tclean(vis='grs1739-278-C1.ms',imagename='grs1739-278-C1_multiscale',\n",
    "      field='',spw='',\n",
    "      specmode='mfs',\n",
    "      niter=2000,\n",
    "      gain=0.1, threshold='0.01mJy',\n",
    "      gridder='mosaic',\n",
    "      deconvolver='multiscale',\n",
    "      scales=[0, 5, 15, 45], smallscalebias=0.9,\n",
    "      interactive=True,\n",
    "      imsize=[256,256], cell=['0.075arcsec','0.075arcsec'],\n",
    "      stokes='I',\n",
    "      weighting='briggs',robust=0.5,\n",
    "      pbcor=False,\n",
    "      savemodel='modelcolumn')\n",
    "\n",
    "#############################################\n",
    "\n",
    "plotms(vis='grs1739-278-C2.ms',xaxis='uvwave',yaxis='amp',\n",
    "       ydatacolumn='data', field='0',avgtime='30',correlation='RR',\n",
    "       plotfile='plotms-uvwave-C2.png',overwrite=True)\n",
    "\n",
    "tclean(vis='grs1739-278-C2.ms',imagename='grs1739-278-C2_multiscale',\n",
    "      field='',spw='',\n",
    "      specmode='mfs',\n",
    "      niter=2000,\n",
    "      gain=0.1, threshold='0.01mJy',\n",
    "      gridder='mosaic',\n",
    "      deconvolver='multiscale',\n",
    "      scales=[0, 5, 15, 45], smallscalebias=0.9,\n",
    "      interactive=True,\n",
    "      imsize=[256,256], cell=['0.05arcsec','0.05arcsec'],\n",
    "      stokes='I',\n",
    "      weighting='briggs',robust=0.5,\n",
    "      pbcor=False,\n",
    "      savemodel='modelcolumn')\n"
   ]
  },
  {
   "cell_type": "markdown",
   "metadata": {},
   "source": [
    "### viewer"
   ]
  },
  {
   "cell_type": "code",
   "execution_count": null,
   "metadata": {
    "collapsed": true
   },
   "outputs": [],
   "source": [
    "viewer('grs1739-278_multiscale.image')\n",
    "viewer('grs1739-278_multiscale.residual')\n",
    "\n",
    "impbcor(imagename='grs1739-278_multiscale.image',pbimage='grs1739-278_multiscale.pb',\n",
    "        outfile='grs1739-278_multiscale.pbcorimage')\n",
    "mystat = imstat(imagename='grs1739-278_multiscale.pbcorimage')\n",
    "!casaviewer 'grs1739-278_multiscale.pbcorimage' &\n",
    "\n",
    "\n",
    "#############################################\n",
    "\n",
    "viewer('grs1739-278-C1_multiscale.image')\n",
    "impbcor(imagename='grs1739-278-C1_multiscale.image',pbimage='grs1739-278-C1_multiscale.pb',\n",
    "        outfile='grs1739-278-C1_multiscale.pbcorimage')\n",
    "mystat = imstat(imagename='grs1739-278-C1_multiscale.pbcorimage')\n",
    "!casaviewer 'grs1739-278-C1_multiscale.pbcorimage' &\n",
    "\n",
    "(grs1739-278-C1_multiscale.pbcorimage)\n",
    "        Stokes       Velocity          Frame        Doppler      Frequency \n",
    "             I          0km/s           LSRK          RADIO  5255177720.08 \n",
    "BrightnessUnit       BeamArea           Npts            Sum    FluxDensity \n",
    "       Jy/beam        58.5655            159   2.313317e-02   3.949968e-04 \n",
    "          Mean            Rms        Std dev        Minimum        Maximum \n",
    "  1.454916e-04   1.837195e-04   1.125376e-04  -3.133031e-05   4.266964e-04 \n",
    "  region count \n",
    "             1\n",
    "\n",
    "#############################################\n",
    "\n",
    "\n",
    "viewer('grs1739-278-C2_multiscale.image')\n",
    "impbcor(imagename='grs1739-278-C2_multiscale.image',pbimage='grs1739-278-C2_multiscale.pb',\n",
    "        outfile='grs1739-278-C2_multiscale.pbcorimage')\n",
    "mystat = imstat(imagename='grs1739-278-C2_multiscale.pbcorimage')\n",
    "!casaviewer 'grs1739-278-C2_multiscale.pbcorimage' &\n",
    "\n",
    "(grs1739-278-C2_multiscale.pbcorimage)\n",
    "        Stokes       Velocity          Frame        Doppler      Frequency \n",
    "             I          0km/s           LSRK          RADIO  7449251894.96 \n",
    "BrightnessUnit       BeamArea           Npts            Sum    FluxDensity \n",
    "       Jy/beam        66.9851            171   1.412149e-02   2.108155e-04 \n",
    "          Mean            Rms        Std dev        Minimum        Maximum \n",
    "  8.258181e-05   1.157468e-04   8.134035e-05  -5.502717e-05   2.752442e-04 \n",
    "  region count \n",
    "             1 "
   ]
  },
  {
   "cell_type": "code",
   "execution_count": null,
   "metadata": {
    "collapsed": true
   },
   "outputs": [],
   "source": [
    "viewer('grs1739-278-C1_multiscale.image',outfile='C1_multiscale.png')\n",
    "viewer('grs1739-278-C2_multiscale.image',outfile='C2_multiscale.png')"
   ]
  },
  {
   "cell_type": "markdown",
   "metadata": {},
   "source": [
    "### imfit"
   ]
  },
  {
   "cell_type": "code",
   "execution_count": null,
   "metadata": {
    "collapsed": true
   },
   "outputs": [],
   "source": [
    "##################################\n",
    "imagename='grs1739-278-C1_multiscale.pbcorimage'\n",
    "box = '122,114,137,133'\n",
    "\n",
    "xfit_A_res = imfit()\n",
    "xfit_A = xfit_A_res['results']['component0']\n",
    "\n",
    "print \"\"\n",
    "print \"  Imfit Results:\"\n",
    "print \"  --------------\"\n",
    "print \"  Component A  Flux = %10.7f %s   Bmaj = %10.7f %s \" % ( xfit_A['flux']['value'][0], xfit_A['flux']['unit'], xfit_A['shape']['majoraxis']['value'], xfit_A['shape']['majoraxis']['unit'] )\n",
    "\n",
    "\n",
    "  Imfit Results:\n",
    "  --------------\n",
    "  Component A  Flux =  0.0004252 Jy   Bmaj =  0.8891393 arcsec \n",
    "\n",
    "\n",
    "\n",
    "\n",
    "        \n",
    "        \n",
    "##################################\n",
    "imagename='grs1739-278-C2_multiscale.pbcorimage'\n",
    "box = '123,111,136,132'\n",
    "\n",
    "xfit_A_res = imfit()\n",
    "xfit_A = xfit_A_res['results']['component0']    \n",
    "    \n",
    "    \n",
    "print \"\"\n",
    "print \"  Imfit Results:\"\n",
    "print \"  --------------\"\n",
    "print \"  Component A  Flux = %10.7f %s   Bmaj = %10.7f %s \" % ( xfit_A['flux']['value'][0], xfit_A['flux']['unit'], xfit_A['shape']['majoraxis']['value'], xfit_A['shape']['majoraxis']['unit'] )\n",
    "   \n",
    "    \n",
    "  Imfit Results:\n",
    "  --------------\n",
    "  Component A  Flux =  0.0002360 Jy   Bmaj =  0.6197776 arcsec \n"
   ]
  },
  {
   "cell_type": "code",
   "execution_count": null,
   "metadata": {
    "collapsed": true
   },
   "outputs": [],
   "source": [
    "(grs1739-278_multiscale.pbcorimage)\n",
    "        Stokes       Velocity          Frame        Doppler      Frequency \n",
    "             I          0km/s           LSRK          RADIO  6352214933.38 \n",
    "BrightnessUnit       BeamArea           Npts            Sum    FluxDensity \n",
    "       Jy/beam        82.4728            208   2.526487e-02   3.063420e-04 \n",
    "          Mean            Rms        Std dev        Minimum        Maximum \n",
    "  1.214657e-04   1.496051e-04   8.754787e-05  -9.929178e-06   3.371912e-04 \n",
    "  region count \n",
    "             1 "
   ]
  },
  {
   "cell_type": "markdown",
   "metadata": {},
   "source": [
    "## SB4161.sb31093352.eb31098495.57273.976900671296.ms"
   ]
  },
  {
   "cell_type": "code",
   "execution_count": null,
   "metadata": {
    "collapsed": true
   },
   "outputs": [],
   "source": [
    "SB4161.sb31093352.eb31098495.57273.976900671296\tpublic\tSB4161\tx\t15-Sep-08 23:29:38\t15-Sep-09 00:29:28\t21.46GB\tVLA:A:0\tC\tSDMset\traw\tOK\tScans\tLogs\n"
   ]
  },
  {
   "cell_type": "markdown",
   "metadata": {},
   "source": [
    "### split"
   ]
  },
  {
   "cell_type": "code",
   "execution_count": null,
   "metadata": {
    "collapsed": true
   },
   "outputs": [],
   "source": [
    "split(vis='SB4161.sb31093352.eb31098495.57273.976900671296.ms',outputvis='grs1739-278.ms',\n",
    "      datacolumn='corrected',field='2',correlation='RR,LL')\n",
    "\n",
    "split(vis='SB4161.sb31093352.eb31098495.57273.976900671296.ms',outputvis='grs1739-278-C1.ms',\n",
    "      datacolumn='corrected',field='2',spw='0~7',correlation='RR,LL')\n",
    "\n",
    "split(vis='SB4161.sb31093352.eb31098495.57273.976900671296.ms',outputvis='grs1739-278-C2.ms',\n",
    "      datacolumn='corrected',field='2',spw='8~15',correlation='RR,LL')"
   ]
  },
  {
   "cell_type": "code",
   "execution_count": null,
   "metadata": {
    "collapsed": true
   },
   "outputs": [],
   "source": [
    "statwt(vis='grs1739-278.ms',datacolumn='data')\n",
    "statwt(vis='grs1739-278-C1.ms',datacolumn='data')\n",
    "statwt(vis='grs1739-278-C2.ms',datacolumn='data')"
   ]
  },
  {
   "cell_type": "markdown",
   "metadata": {},
   "source": [
    "### clean "
   ]
  },
  {
   "cell_type": "code",
   "execution_count": null,
   "metadata": {
    "collapsed": true
   },
   "outputs": [],
   "source": [
    "plotms(vis='grs1739-278.ms',xaxis='uvwave',yaxis='amp',\n",
    "       ydatacolumn='data', field='0',avgtime='30',correlation='RR',\n",
    "       plotfile='plotms-uvwave.png',overwrite=True)\n",
    "\n",
    "tclean(vis='grs1739-278.ms',imagename='grs1739-278_multiscale',\n",
    "      field='',spw='',\n",
    "      specmode='mfs',\n",
    "      niter=2000,\n",
    "      gain=0.1, threshold='0.01mJy',\n",
    "      gridder='mosaic',\n",
    "      deconvolver='multiscale',\n",
    "      scales=[0, 5, 15, 45], smallscalebias=0.9,\n",
    "      interactive=True,\n",
    "      imsize=[256,256], cell=['0.05arcsec','0.05arcsec'],\n",
    "      stokes='I',\n",
    "      weighting='briggs',robust=0.5,\n",
    "      pbcor=False,\n",
    "      savemodel='modelcolumn')\n",
    "\n",
    "############################################\n",
    "\n",
    "plotms(vis='grs1739-278-C1.ms',xaxis='uvwave',yaxis='amp',\n",
    "       ydatacolumn='data', field='0',avgtime='30',correlation='RR',\n",
    "       plotfile='plotms-uvwave-C1.png',overwrite=True)\n",
    "\n",
    "tclean(vis='grs1739-278-C1.ms',imagename='grs1739-278-C1_multiscale',\n",
    "      field='',spw='',\n",
    "      specmode='mfs',\n",
    "      niter=2000,\n",
    "      gain=0.1, threshold='0.01mJy',\n",
    "      gridder='mosaic',\n",
    "      deconvolver='multiscale',\n",
    "      scales=[0, 5, 15, 45], smallscalebias=0.9,\n",
    "      interactive=True,\n",
    "      imsize=[256,256], cell=['0.075arcsec','0.075arcsec'],\n",
    "      stokes='I',\n",
    "      weighting='briggs',robust=0.5,\n",
    "      pbcor=False,\n",
    "      savemodel='modelcolumn')\n",
    "\n",
    "#############################################\n",
    "\n",
    "plotms(vis='grs1739-278-C2.ms',xaxis='uvwave',yaxis='amp',\n",
    "       ydatacolumn='data', field='0',avgtime='30',correlation='RR',\n",
    "       plotfile='plotms-uvwave-C2.png',overwrite=True)\n",
    "\n",
    "tclean(vis='grs1739-278-C2.ms',imagename='grs1739-278-C2_multiscale',\n",
    "      field='',spw='',\n",
    "      specmode='mfs',\n",
    "      niter=2000,\n",
    "      gain=0.1, threshold='0.01mJy',\n",
    "      gridder='mosaic',\n",
    "      deconvolver='multiscale',\n",
    "      scales=[0, 5, 15, 45], smallscalebias=0.9,\n",
    "      interactive=True,\n",
    "      imsize=[256,256], cell=['0.05arcsec','0.05arcsec'],\n",
    "      stokes='I',\n",
    "      weighting='briggs',robust=0.5,\n",
    "      pbcor=False,\n",
    "      savemodel='modelcolumn')\n",
    "\n"
   ]
  },
  {
   "cell_type": "markdown",
   "metadata": {},
   "source": [
    "### viewer"
   ]
  },
  {
   "cell_type": "code",
   "execution_count": null,
   "metadata": {
    "collapsed": true
   },
   "outputs": [],
   "source": [
    "viewer('grs1739-278_multiscale.image')\n",
    "viewer('grs1739-278_multiscale.residual')\n",
    "\n",
    "impbcor(imagename='grs1739-278_multiscale.image',pbimage='grs1739-278_multiscale.pb',\n",
    "        outfile='grs1739-278_multiscale.pbcorimage')\n",
    "mystat = imstat(imagename='grs1739-278_multiscale.pbcorimage')\n",
    "!casaviewer 'grs1739-278_multiscale.pbcorimage' &\n",
    "\n",
    "\n",
    "\n",
    "\n",
    "#############################################\n",
    "\n",
    "viewer('grs1739-278-C1_multiscale.image')\n",
    "impbcor(imagename='grs1739-278-C1_multiscale.image',pbimage='grs1739-278-C1_multiscale.pb',\n",
    "        outfile='grs1739-278-C1_multiscale.pbcorimage')\n",
    "mystat = imstat(imagename='grs1739-278-C1_multiscale.pbcorimage')\n",
    "!casaviewer 'grs1739-278-C1_multiscale.pbcorimage' &\n",
    "\n",
    "(grs1739-278-C1_multiscale.pbcorimage)\n",
    "        Stokes       Velocity          Frame        Doppler      Frequency \n",
    "             I          0km/s           LSRK          RADIO   5255321687.5 \n",
    "BrightnessUnit       BeamArea           Npts            Sum    FluxDensity \n",
    "       Jy/beam        52.9205            200   1.001119e-02   1.891741e-04 \n",
    "          Mean            Rms        Std dev        Minimum        Maximum \n",
    "  5.005593e-05   6.569451e-05   4.265288e-05  -4.966266e-06   1.654308e-04 \n",
    "  region count \n",
    "             1 \n",
    "\n",
    "\n",
    "#############################################\n",
    "\n",
    "\n",
    "viewer('grs1739-278-C2_multiscale.image')\n",
    "impbcor(imagename='grs1739-278-C2_multiscale.image',pbimage='grs1739-278-C2_multiscale.pb',\n",
    "        outfile='grs1739-278-C2_multiscale.pbcorimage')\n",
    "mystat = imstat(imagename='grs1739-278-C2_multiscale.pbcorimage')\n",
    "!casaviewer 'grs1739-278-C2_multiscale.pbcorimage' &\n",
    "\n",
    "(grs1739-278-C2_multiscale.pbcorimage)\n",
    "        Stokes       Velocity          Frame        Doppler      Frequency \n",
    "             I          0km/s           LSRK          RADIO  7449455972.55 \n",
    "BrightnessUnit       BeamArea           Npts            Sum    FluxDensity \n",
    "       Jy/beam        60.5377            240   1.030649e-02   1.702491e-04 \n",
    "          Mean            Rms        Std dev        Minimum        Maximum \n",
    "  4.294373e-05   5.497307e-05   3.439191e-05  -5.593409e-10   1.345006e-04 \n",
    "  region count \n",
    "             1\n",
    "\n"
   ]
  },
  {
   "cell_type": "markdown",
   "metadata": {},
   "source": [
    "### imfit"
   ]
  },
  {
   "cell_type": "code",
   "execution_count": null,
   "metadata": {
    "collapsed": true
   },
   "outputs": [],
   "source": [
    "##################################\n",
    "imagename='grs1739-278-C1_multiscale.pbcorimage'\n",
    "box = '122,111,135,136'\n",
    "\n",
    "xfit_A_res = imfit()\n",
    "xfit_A = xfit_A_res['results']['component0']\n",
    "\n",
    "print \"\"\n",
    "print \"  Imfit Results:\"\n",
    "print \"  --------------\"\n",
    "print \"  Component A  Flux = %10.7f %s   Bmaj = %10.7f %s \" % ( xfit_A['flux']['value'][0], xfit_A['flux']['unit'], xfit_A['shape']['majoraxis']['value'], xfit_A['shape']['majoraxis']['unit'] )\n",
    "\n",
    "\n",
    "  Imfit Results:\n",
    "  --------------\n",
    "  Component A  Flux =  0.0001966 Jy   Bmaj =  0.9805208 arcsec\n",
    "\n",
    "\n",
    "\n",
    "\n",
    "        \n",
    "        \n",
    "##################################\n",
    "imagename='grs1739-278-C2_multiscale.pbcorimage'\n",
    "box = '123,111,136,135'\n",
    "\n",
    "xfit_A_res = imfit()\n",
    "xfit_A = xfit_A_res['results']['component0']    \n",
    "    \n",
    "    \n",
    "print \"\"\n",
    "print \"  Imfit Results:\"\n",
    "print \"  --------------\"\n",
    "print \"  Component A  Flux = %10.7f %s   Bmaj = %10.7f %s \" % ( xfit_A['flux']['value'][0], xfit_A['flux']['unit'], xfit_A['shape']['majoraxis']['value'], xfit_A['shape']['majoraxis']['unit'] )\n",
    "   \n",
    "    \n",
    "  Imfit Results:\n",
    "  --------------\n",
    "  Component A  Flux =  0.0001770 Jy   Bmaj =  0.7073637 arcsec \n"
   ]
  },
  {
   "cell_type": "code",
   "execution_count": null,
   "metadata": {
    "collapsed": true
   },
   "outputs": [],
   "source": [
    "(grs1739-278_multiscale.pbcorimage)\n",
    "        Stokes       Velocity          Frame        Doppler      Frequency \n",
    "             I          0km/s           LSRK          RADIO   6352388941.8 \n",
    "BrightnessUnit       BeamArea           Npts            Sum    FluxDensity \n",
    "       Jy/beam        76.4699            221   1.285651e-02   1.681252e-04 \n",
    "          Mean            Rms        Std dev        Minimum        Maximum \n",
    "  5.817425e-05   6.872164e-05   3.666748e-05   7.829914e-06   1.465229e-04 \n",
    "  region count \n",
    "             1 "
   ]
  },
  {
   "cell_type": "code",
   "execution_count": null,
   "metadata": {
    "collapsed": true
   },
   "outputs": [],
   "source": []
  },
  {
   "cell_type": "code",
   "execution_count": null,
   "metadata": {
    "collapsed": true
   },
   "outputs": [],
   "source": []
  }
 ],
 "metadata": {
  "kernelspec": {
   "display_name": "Python 3",
   "language": "python",
   "name": "python3"
  },
  "language_info": {
   "codemirror_mode": {
    "name": "ipython",
    "version": 3
   },
   "file_extension": ".py",
   "mimetype": "text/x-python",
   "name": "python",
   "nbconvert_exporter": "python",
   "pygments_lexer": "ipython3",
   "version": "3.6.0"
  },
  "latex_envs": {
   "LaTeX_envs_menu_present": true,
   "autocomplete": true,
   "bibliofile": "biblio.bib",
   "cite_by": "apalike",
   "current_citInitial": 1,
   "eqLabelWithNumbers": true,
   "eqNumInitial": 1,
   "hotkeys": {
    "equation": "Ctrl-E",
    "itemize": "Ctrl-I"
   },
   "labels_anchors": false,
   "latex_user_defs": false,
   "report_style_numbering": false,
   "user_envs_cfg": false
  },
  "toc": {
   "nav_menu": {},
   "number_sections": true,
   "sideBar": true,
   "skip_h1_title": false,
   "toc_cell": false,
   "toc_position": {
    "height": "calc(100% - 180px)",
    "left": "10px",
    "top": "150px",
    "width": "505px"
   },
   "toc_section_display": true,
   "toc_window_display": true
  }
 },
 "nbformat": 4,
 "nbformat_minor": 2
}
