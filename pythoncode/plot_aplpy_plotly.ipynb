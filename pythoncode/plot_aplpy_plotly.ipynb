{
 "cells": [
  {
   "cell_type": "code",
   "execution_count": 1,
   "metadata": {
    "ExecuteTime": {
     "end_time": "2019-05-12T20:58:32.483163Z",
     "start_time": "2019-05-12T20:58:30.436126Z"
    },
    "collapsed": false
   },
   "outputs": [],
   "source": [
    "import matplotlib\n",
    "matplotlib.use('MacOSX')\n",
    "\n",
    "import aplpy\n",
    "import os\n",
    "\n",
    "import numpy as np\n",
    "import matplotlib\n",
    "import matplotlib.pyplot as plt\n",
    "from mpl_toolkits.mplot3d import Axes3D\n",
    "\n",
    "\n",
    "\n"
   ]
  },
  {
   "cell_type": "code",
   "execution_count": 2,
   "metadata": {
    "ExecuteTime": {
     "end_time": "2019-05-12T20:58:44.915984Z",
     "start_time": "2019-05-12T20:58:36.289141Z"
    },
    "collapsed": false
   },
   "outputs": [],
   "source": [
    "n=30\n",
    "x=np.arange(n)/10.0\n",
    "y=np.sin(x+np.random.random(n)*1-0.5)\n",
    "z=np.cos(x+np.random.random(n)*1-0.5)\n",
    "t=np.linspace(1,2,30)\n",
    "\n",
    "fig=plt.figure()\n",
    "ax=fig.add_subplot(111)\n",
    "ax.scatter(y,z,s=10,c=t,marker='o',label='time')\n",
    "plt.legend(loc='best')\n",
    "plt.ylabel('y')\n",
    "plt.xlabel('x')\n",
    "plt.show()\n",
    "#ax.scatter"
   ]
  },
  {
   "cell_type": "code",
   "execution_count": 3,
   "metadata": {
    "ExecuteTime": {
     "end_time": "2019-05-12T20:59:06.732204Z",
     "start_time": "2019-05-12T20:59:04.788139Z"
    },
    "collapsed": true
   },
   "outputs": [],
   "source": [
    "import aplpy,plotly"
   ]
  },
  {
   "cell_type": "markdown",
   "metadata": {},
   "source": [
    "region = 'fk5;circle(290.96388,14.019167,843.31194\")'\n",
    "r = pyregion.parse(region)"
   ]
  },
  {
   "cell_type": "markdown",
   "metadata": {
    "ExecuteTime": {
     "end_time": "2019-05-12T11:23:19.618924Z",
     "start_time": "2019-05-12T11:23:19.153858Z"
    }
   },
   "source": [
    "from astropy.io import fits\n",
    "import pyregion\n",
    "\n",
    "region_string = \"\"\"\n",
    "# Region file format: DS9 version 4.1\n",
    "# Filename: test01.fits\n",
    "global color=green dashlist=8 3 width=1 font=\"helvetica 10 normal\" select=1 highlite=1 dash=0 fixed=0 edit=1 move=1 delete=1 include=1 source=1\n",
    "fk5\n",
    "circle(2:06:15.982,-0:17:30.372,25.0\") # color=cyan background\n",
    "box(11:24:39.213,-59:16:53.91,42.804\",23.616\",19.0384) # width=4\n",
    "\"\"\"\n",
    "\n",
    "r = pyregion.parse(region_string)\n",
    "#f = fits.open(\"/Volumes/Brettlv_G_m/Mrk1018/swift/00030955001_xrt/sw00030955001xpcw2po_ex.img\")\n",
    "#r2 = pyregion.parse(region_string).as_imagecoord(f[0].header)"
   ]
  },
  {
   "cell_type": "code",
   "execution_count": null,
   "metadata": {
    "ExecuteTime": {
     "end_time": "2019-05-12T21:21:01.088209Z",
     "start_time": "2019-05-12T21:21:00.975195Z"
    },
    "collapsed": false
   },
   "outputs": [],
   "source": []
  },
  {
   "cell_type": "code",
   "execution_count": null,
   "metadata": {
    "ExecuteTime": {
     "end_time": "2019-05-12T22:03:52.125860Z",
     "start_time": "2019-05-12T22:03:51.990894Z"
    },
    "collapsed": false
   },
   "outputs": [],
   "source": []
  },
  {
   "cell_type": "code",
   "execution_count": null,
   "metadata": {
    "collapsed": true
   },
   "outputs": [],
   "source": []
  },
  {
   "cell_type": "code",
   "execution_count": null,
   "metadata": {
    "ExecuteTime": {
     "end_time": "2019-05-12T22:04:25.701562Z",
     "start_time": "2019-05-12T22:04:24.642365Z"
    },
    "collapsed": false
   },
   "outputs": [],
   "source": []
  },
  {
   "cell_type": "code",
   "execution_count": null,
   "metadata": {
    "collapsed": true
   },
   "outputs": [],
   "source": []
  },
  {
   "cell_type": "code",
   "execution_count": null,
   "metadata": {
    "collapsed": true
   },
   "outputs": [],
   "source": []
  },
  {
   "cell_type": "code",
   "execution_count": null,
   "metadata": {
    "ExecuteTime": {
     "end_time": "2019-05-11T14:19:24.489646Z",
     "start_time": "2019-05-11T14:19:24.485870Z"
    },
    "collapsed": false
   },
   "outputs": [],
   "source": []
  },
  {
   "cell_type": "code",
   "execution_count": 13,
   "metadata": {
    "ExecuteTime": {
     "end_time": "2019-05-12T21:15:31.675203Z",
     "start_time": "2019-05-12T21:15:31.655202Z"
    },
    "collapsed": false,
    "scrolled": true
   },
   "outputs": [],
   "source": [
    "filepath='/Volumes/Brettlv_G_m/Mrk1018/swift/'\n",
    "def get_obsids(path):\n",
    "    dirname=os.listdir(path)\n",
    "    obsids=[]\n",
    "    for i in dirname:\n",
    "        if i.isdigit():\n",
    "            obsids.append(i)\n",
    "    obsids.sort()        \n",
    "    return obsids\n",
    "\n",
    "def get_imgpath(path):\n",
    "    obsids=get_obsids(filepath)\n",
    "    imgfiles=[] \n",
    "    for i in range(0,len(obsids)):\n",
    "        obsid_path=os.path.join(filepath,obsids[i]+'_xrt')\n",
    "        files = os.listdir(obsid_path)\n",
    "        imgfile = []\n",
    "        for i_ in files:\n",
    "            if i_.endswith(\"po_cl.evt\"):\n",
    "                imgfile.append(i_)\n",
    "        imgfiles.append(os.path.join(obsid_path,imgfile[0]))    \n",
    "    return imgfiles\n",
    "        "
   ]
  },
  {
   "cell_type": "code",
   "execution_count": 14,
   "metadata": {
    "ExecuteTime": {
     "end_time": "2019-05-12T21:15:36.790191Z",
     "start_time": "2019-05-12T21:15:32.651623Z"
    },
    "collapsed": false
   },
   "outputs": [],
   "source": [
    "imgfiles=get_imgpath(filepath)"
   ]
  },
  {
   "cell_type": "code",
   "execution_count": 15,
   "metadata": {
    "ExecuteTime": {
     "end_time": "2019-05-12T21:15:39.214079Z",
     "start_time": "2019-05-12T21:15:39.205803Z"
    },
    "collapsed": false
   },
   "outputs": [
    {
     "name": "stdout",
     "output_type": "stream",
     "text": [
      "['/Volumes/Brettlv_G_m/Mrk1018/swift/00030955001_xrt/sw00030955001xpcw2po_cl.evt', '/Volumes/Brettlv_G_m/Mrk1018/swift/00030955002_xrt/sw00030955002xpcw2po_cl.evt', '/Volumes/Brettlv_G_m/Mrk1018/swift/00030955003_xrt/sw00030955003xpcw2po_cl.evt', '/Volumes/Brettlv_G_m/Mrk1018/swift/00035166001_xrt/sw00035166001xwtw2po_cl.evt', '/Volumes/Brettlv_G_m/Mrk1018/swift/00035776001_xrt/sw00035776001xwtw2po_cl.evt', '/Volumes/Brettlv_G_m/Mrk1018/swift/00035776002_xrt/sw00035776002xpcw3po_cl.evt', '/Volumes/Brettlv_G_m/Mrk1018/swift/00035776003_xrt/sw00035776003xpcw3po_cl.evt', '/Volumes/Brettlv_G_m/Mrk1018/swift/00035776004_xrt/sw00035776004xpcw3po_cl.evt', '/Volumes/Brettlv_G_m/Mrk1018/swift/00035776005_xrt/sw00035776005xpcw3po_cl.evt', '/Volumes/Brettlv_G_m/Mrk1018/swift/00035776006_xrt/sw00035776006xpcw3po_cl.evt', '/Volumes/Brettlv_G_m/Mrk1018/swift/00035776007_xrt/sw00035776007xpcw3po_cl.evt', '/Volumes/Brettlv_G_m/Mrk1018/swift/00035776008_xrt/sw00035776008xpcw3po_cl.evt', '/Volumes/Brettlv_G_m/Mrk1018/swift/00035776010_xrt/sw00035776010xpcw3po_cl.evt', '/Volumes/Brettlv_G_m/Mrk1018/swift/00035776011_xrt/sw00035776011xpcw3po_cl.evt', '/Volumes/Brettlv_G_m/Mrk1018/swift/00035776012_xrt/sw00035776012xpcw3po_cl.evt', '/Volumes/Brettlv_G_m/Mrk1018/swift/00035776014_xrt/sw00035776014xpcw3po_cl.evt', '/Volumes/Brettlv_G_m/Mrk1018/swift/00035776015_xrt/sw00035776015xpcw3po_cl.evt', '/Volumes/Brettlv_G_m/Mrk1018/swift/00035776016_xrt/sw00035776016xpcw3po_cl.evt', '/Volumes/Brettlv_G_m/Mrk1018/swift/00035776017_xrt/sw00035776017xpcw3po_cl.evt', '/Volumes/Brettlv_G_m/Mrk1018/swift/00035776018_xrt/sw00035776018xpcw3po_cl.evt', '/Volumes/Brettlv_G_m/Mrk1018/swift/00035776019_xrt/sw00035776019xpcw3po_cl.evt', '/Volumes/Brettlv_G_m/Mrk1018/swift/00035776020_xrt/sw00035776020xpcw3po_cl.evt', '/Volumes/Brettlv_G_m/Mrk1018/swift/00035776021_xrt/sw00035776021xpcw3po_cl.evt', '/Volumes/Brettlv_G_m/Mrk1018/swift/00035776023_xrt/sw00035776023xpcw3po_cl.evt', '/Volumes/Brettlv_G_m/Mrk1018/swift/00035776024_xrt/sw00035776024xpcw3po_cl.evt', '/Volumes/Brettlv_G_m/Mrk1018/swift/00035776025_xrt/sw00035776025xpcw3po_cl.evt', '/Volumes/Brettlv_G_m/Mrk1018/swift/00035776026_xrt/sw00035776026xpcw3po_cl.evt', '/Volumes/Brettlv_G_m/Mrk1018/swift/00035776027_xrt/sw00035776027xpcw3po_cl.evt', '/Volumes/Brettlv_G_m/Mrk1018/swift/00035776029_xrt/sw00035776029xpcw3po_cl.evt', '/Volumes/Brettlv_G_m/Mrk1018/swift/00035776031_xrt/sw00035776031xpcw3po_cl.evt', '/Volumes/Brettlv_G_m/Mrk1018/swift/00035776032_xrt/sw00035776032xpcw3po_cl.evt', '/Volumes/Brettlv_G_m/Mrk1018/swift/00035776033_xrt/sw00035776033xpcw3po_cl.evt', '/Volumes/Brettlv_G_m/Mrk1018/swift/00035776034_xrt/sw00035776034xpcw3po_cl.evt', '/Volumes/Brettlv_G_m/Mrk1018/swift/00035776035_xrt/sw00035776035xpcw3po_cl.evt', '/Volumes/Brettlv_G_m/Mrk1018/swift/00035776036_xrt/sw00035776036xpcw3po_cl.evt', '/Volumes/Brettlv_G_m/Mrk1018/swift/00035776037_xrt/sw00035776037xpcw3po_cl.evt', '/Volumes/Brettlv_G_m/Mrk1018/swift/00035776038_xrt/sw00035776038xpcw3po_cl.evt', '/Volumes/Brettlv_G_m/Mrk1018/swift/00035776039_xrt/sw00035776039xpcw3po_cl.evt', '/Volumes/Brettlv_G_m/Mrk1018/swift/00035776040_xrt/sw00035776040xpcw3po_cl.evt', '/Volumes/Brettlv_G_m/Mrk1018/swift/00035776041_xrt/sw00035776041xpcw3po_cl.evt', '/Volumes/Brettlv_G_m/Mrk1018/swift/00035776042_xrt/sw00035776042xpcw3po_cl.evt', '/Volumes/Brettlv_G_m/Mrk1018/swift/00035776043_xrt/sw00035776043xpcw3po_cl.evt', '/Volumes/Brettlv_G_m/Mrk1018/swift/00035776044_xrt/sw00035776044xpcw3po_cl.evt', '/Volumes/Brettlv_G_m/Mrk1018/swift/00035776045_xrt/sw00035776045xpcw3po_cl.evt', '/Volumes/Brettlv_G_m/Mrk1018/swift/00035776046_xrt/sw00035776046xpcw3po_cl.evt', '/Volumes/Brettlv_G_m/Mrk1018/swift/00035776047_xrt/sw00035776047xpcw3po_cl.evt', '/Volumes/Brettlv_G_m/Mrk1018/swift/00035776049_xrt/sw00035776049xpcw3po_cl.evt', '/Volumes/Brettlv_G_m/Mrk1018/swift/00035776050_xrt/sw00035776050xpcw3po_cl.evt', '/Volumes/Brettlv_G_m/Mrk1018/swift/00035776051_xrt/sw00035776051xpcw3po_cl.evt', '/Volumes/Brettlv_G_m/Mrk1018/swift/00035776052_xrt/sw00035776052xpcw3po_cl.evt', '/Volumes/Brettlv_G_m/Mrk1018/swift/00035776054_xrt/sw00035776054xpcw3po_cl.evt', '/Volumes/Brettlv_G_m/Mrk1018/swift/00035776055_xrt/sw00035776055xpcw3po_cl.evt', '/Volumes/Brettlv_G_m/Mrk1018/swift/00035776056_xrt/sw00035776056xpcw3po_cl.evt', '/Volumes/Brettlv_G_m/Mrk1018/swift/00035776057_xrt/sw00035776057xpcw3po_cl.evt', '/Volumes/Brettlv_G_m/Mrk1018/swift/00035776058_xrt/sw00035776058xpcw3po_cl.evt', '/Volumes/Brettlv_G_m/Mrk1018/swift/00049654001_xrt/sw00049654001xpcw3po_cl.evt', '/Volumes/Brettlv_G_m/Mrk1018/swift/00049654002_xrt/sw00049654002xpcw3po_cl.evt', '/Volumes/Brettlv_G_m/Mrk1018/swift/00049654004_xrt/sw00049654004xpcw2po_cl.evt', '/Volumes/Brettlv_G_m/Mrk1018/swift/00080898001_xrt/sw00080898001xpcw3po_cl.evt', '/Volumes/Brettlv_G_m/Mrk1018/swift/00080898002_xrt/sw00080898002xpcw3po_cl.evt', '/Volumes/Brettlv_G_m/Mrk1018/swift/00088207001_xrt/sw00088207001xpcw3po_cl.evt', '/Volumes/Brettlv_G_m/Mrk1018/swift/00088207002_xrt/sw00088207002xpcw3po_cl.evt', '/Volumes/Brettlv_G_m/Mrk1018/swift/00088207003_xrt/sw00088207003xpcw3po_cl.evt']\n"
     ]
    }
   ],
   "source": [
    "print(imgfiles)"
   ]
  },
  {
   "cell_type": "code",
   "execution_count": 16,
   "metadata": {
    "ExecuteTime": {
     "end_time": "2019-05-12T21:16:09.213367Z",
     "start_time": "2019-05-12T21:16:09.204232Z"
    },
    "collapsed": true
   },
   "outputs": [],
   "source": [
    "def plot_img(filepath,imgpath):\n",
    "    fig = aplpy.FITSFigure(imgpath)\n",
    "    imgname=imgpath.split('/')[-1][:-4]\n",
    "    fig.show_grayscale()\n",
    "    #fig.hide_grayscale()\n",
    "    fig.show_colorscale()\n",
    "    #fig.hide_colorscale()\n",
    "    print(imgpath,'\\n',imgname,'\\n')\n",
    "    #fig.show_regions('%s/src.reg'%filepath)\n",
    "    fig.save('/Users/brettlv/Pictures/%s.png'%imgname)\n",
    "    print('imgsaved')\n",
    "    #fig.show_rgb('/Users/brettlv/Pictures/%s.png'%imgfile[0])\n",
    "   "
   ]
  },
  {
   "cell_type": "code",
   "execution_count": 17,
   "metadata": {
    "ExecuteTime": {
     "end_time": "2019-05-12T21:16:10.694830Z",
     "start_time": "2019-05-12T21:16:10.205282Z"
    },
    "collapsed": false
   },
   "outputs": [
    {
     "ename": "Exception",
     "evalue": "FITS file does not contain any image data",
     "output_type": "error",
     "traceback": [
      "\u001b[0;31m---------------------------------------------------------------------------\u001b[0m",
      "\u001b[0;31mException\u001b[0m                                 Traceback (most recent call last)",
      "\u001b[0;32m<ipython-input-17-3da62e2997e1>\u001b[0m in \u001b[0;36m<module>\u001b[0;34m()\u001b[0m\n\u001b[1;32m      1\u001b[0m \u001b[0;32mfor\u001b[0m \u001b[0mi\u001b[0m \u001b[0;32min\u001b[0m \u001b[0mimgfiles\u001b[0m\u001b[0;34m:\u001b[0m\u001b[0;34m\u001b[0m\u001b[0m\n\u001b[0;32m----> 2\u001b[0;31m     \u001b[0mplot_img\u001b[0m\u001b[0;34m(\u001b[0m\u001b[0mfilepath\u001b[0m\u001b[0;34m,\u001b[0m\u001b[0mi\u001b[0m\u001b[0;34m)\u001b[0m\u001b[0;34m\u001b[0m\u001b[0m\n\u001b[0m\u001b[1;32m      3\u001b[0m \u001b[0;34m\u001b[0m\u001b[0m\n",
      "\u001b[0;32m<ipython-input-16-1670a99b21af>\u001b[0m in \u001b[0;36mplot_img\u001b[0;34m(filepath, imgpath)\u001b[0m\n\u001b[1;32m      1\u001b[0m \u001b[0;32mdef\u001b[0m \u001b[0mplot_img\u001b[0m\u001b[0;34m(\u001b[0m\u001b[0mfilepath\u001b[0m\u001b[0;34m,\u001b[0m\u001b[0mimgpath\u001b[0m\u001b[0;34m)\u001b[0m\u001b[0;34m:\u001b[0m\u001b[0;34m\u001b[0m\u001b[0m\n\u001b[0;32m----> 2\u001b[0;31m     \u001b[0mfig\u001b[0m \u001b[0;34m=\u001b[0m \u001b[0maplpy\u001b[0m\u001b[0;34m.\u001b[0m\u001b[0mFITSFigure\u001b[0m\u001b[0;34m(\u001b[0m\u001b[0mimgpath\u001b[0m\u001b[0;34m)\u001b[0m\u001b[0;34m\u001b[0m\u001b[0m\n\u001b[0m\u001b[1;32m      3\u001b[0m     \u001b[0mimgname\u001b[0m\u001b[0;34m=\u001b[0m\u001b[0mimgpath\u001b[0m\u001b[0;34m.\u001b[0m\u001b[0msplit\u001b[0m\u001b[0;34m(\u001b[0m\u001b[0;34m'/'\u001b[0m\u001b[0;34m)\u001b[0m\u001b[0;34m[\u001b[0m\u001b[0;34m-\u001b[0m\u001b[0;36m1\u001b[0m\u001b[0;34m]\u001b[0m\u001b[0;34m[\u001b[0m\u001b[0;34m:\u001b[0m\u001b[0;34m-\u001b[0m\u001b[0;36m4\u001b[0m\u001b[0;34m]\u001b[0m\u001b[0;34m\u001b[0m\u001b[0m\n\u001b[1;32m      4\u001b[0m     \u001b[0mfig\u001b[0m\u001b[0;34m.\u001b[0m\u001b[0mshow_grayscale\u001b[0m\u001b[0;34m(\u001b[0m\u001b[0;34m)\u001b[0m\u001b[0;34m\u001b[0m\u001b[0m\n\u001b[1;32m      5\u001b[0m     \u001b[0;31m#fig.hide_grayscale()\u001b[0m\u001b[0;34m\u001b[0m\u001b[0;34m\u001b[0m\u001b[0m\n",
      "\u001b[0;32m/Users/brettlv/anaconda3/lib/python3.6/site-packages/aplpy/core.py\u001b[0m in \u001b[0;36m__init__\u001b[0;34m(self, data, hdu, figure, subplot, downsample, north, convention, dimensions, slices, auto_refresh, **kwargs)\u001b[0m\n",
      "\u001b[0;32m/Users/brettlv/anaconda3/lib/python3.6/site-packages/aplpy/decorators.py\u001b[0m in \u001b[0;36m_auto_refresh\u001b[0;34m(f, *args, **kwargs)\u001b[0m\n\u001b[1;32m     23\u001b[0m     \u001b[0mmydata\u001b[0m\u001b[0;34m.\u001b[0m\u001b[0mnesting\u001b[0m \u001b[0;34m=\u001b[0m \u001b[0mgetattr\u001b[0m\u001b[0;34m(\u001b[0m\u001b[0mmydata\u001b[0m\u001b[0;34m,\u001b[0m \u001b[0;34m'nesting'\u001b[0m\u001b[0;34m,\u001b[0m \u001b[0;36m0\u001b[0m\u001b[0;34m)\u001b[0m \u001b[0;34m+\u001b[0m \u001b[0;36m1\u001b[0m\u001b[0;34m\u001b[0m\u001b[0m\n\u001b[1;32m     24\u001b[0m     \u001b[0;32mtry\u001b[0m\u001b[0;34m:\u001b[0m\u001b[0;34m\u001b[0m\u001b[0m\n\u001b[0;32m---> 25\u001b[0;31m         \u001b[0;32mreturn\u001b[0m \u001b[0mf\u001b[0m\u001b[0;34m(\u001b[0m\u001b[0;34m*\u001b[0m\u001b[0margs\u001b[0m\u001b[0;34m,\u001b[0m \u001b[0;34m**\u001b[0m\u001b[0mkwargs\u001b[0m\u001b[0;34m)\u001b[0m\u001b[0;34m\u001b[0m\u001b[0m\n\u001b[0m\u001b[1;32m     26\u001b[0m     \u001b[0;32mfinally\u001b[0m\u001b[0;34m:\u001b[0m\u001b[0;34m\u001b[0m\u001b[0m\n\u001b[1;32m     27\u001b[0m         \u001b[0mmydata\u001b[0m\u001b[0;34m.\u001b[0m\u001b[0mnesting\u001b[0m \u001b[0;34m-=\u001b[0m \u001b[0;36m1\u001b[0m\u001b[0;34m\u001b[0m\u001b[0m\n",
      "\u001b[0;32m/Users/brettlv/anaconda3/lib/python3.6/site-packages/aplpy/core.py\u001b[0m in \u001b[0;36m__init__\u001b[0;34m(self, data, hdu, figure, subplot, downsample, north, convention, dimensions, slices, auto_refresh, **kwargs)\u001b[0m\n\u001b[1;32m    215\u001b[0m         \u001b[0;32melse\u001b[0m\u001b[0;34m:\u001b[0m\u001b[0;34m\u001b[0m\u001b[0m\n\u001b[1;32m    216\u001b[0m             self._data, self._header, self._wcs = self._get_hdu(data, hdu, north, \\\n\u001b[0;32m--> 217\u001b[0;31m                 convention=convention, dimensions=dimensions, slices=slices)\n\u001b[0m\u001b[1;32m    218\u001b[0m             \u001b[0mself\u001b[0m\u001b[0;34m.\u001b[0m\u001b[0m_wcs\u001b[0m\u001b[0;34m.\u001b[0m\u001b[0mnx\u001b[0m \u001b[0;34m=\u001b[0m \u001b[0mself\u001b[0m\u001b[0;34m.\u001b[0m\u001b[0m_header\u001b[0m\u001b[0;34m[\u001b[0m\u001b[0;34m'NAXIS%i'\u001b[0m \u001b[0;34m%\u001b[0m \u001b[0;34m(\u001b[0m\u001b[0mdimensions\u001b[0m\u001b[0;34m[\u001b[0m\u001b[0;36m0\u001b[0m\u001b[0;34m]\u001b[0m \u001b[0;34m+\u001b[0m \u001b[0;36m1\u001b[0m\u001b[0;34m)\u001b[0m\u001b[0;34m]\u001b[0m\u001b[0;34m\u001b[0m\u001b[0m\n\u001b[1;32m    219\u001b[0m             \u001b[0mself\u001b[0m\u001b[0;34m.\u001b[0m\u001b[0m_wcs\u001b[0m\u001b[0;34m.\u001b[0m\u001b[0mny\u001b[0m \u001b[0;34m=\u001b[0m \u001b[0mself\u001b[0m\u001b[0;34m.\u001b[0m\u001b[0m_header\u001b[0m\u001b[0;34m[\u001b[0m\u001b[0;34m'NAXIS%i'\u001b[0m \u001b[0;34m%\u001b[0m \u001b[0;34m(\u001b[0m\u001b[0mdimensions\u001b[0m\u001b[0;34m[\u001b[0m\u001b[0;36m1\u001b[0m\u001b[0;34m]\u001b[0m \u001b[0;34m+\u001b[0m \u001b[0;36m1\u001b[0m\u001b[0;34m)\u001b[0m\u001b[0;34m]\u001b[0m\u001b[0;34m\u001b[0m\u001b[0m\n",
      "\u001b[0;32m/Users/brettlv/anaconda3/lib/python3.6/site-packages/aplpy/core.py\u001b[0m in \u001b[0;36m_get_hdu\u001b[0;34m(self, data, hdu, north, convention, dimensions, slices)\u001b[0m\n\u001b[1;32m    317\u001b[0m                             \u001b[0;32mbreak\u001b[0m\u001b[0;34m\u001b[0m\u001b[0m\n\u001b[1;32m    318\u001b[0m                 \u001b[0;32mif\u001b[0m \u001b[0;32mnot\u001b[0m \u001b[0mfound\u001b[0m\u001b[0;34m:\u001b[0m\u001b[0;34m\u001b[0m\u001b[0m\n\u001b[0;32m--> 319\u001b[0;31m                     \u001b[0;32mraise\u001b[0m \u001b[0mException\u001b[0m\u001b[0;34m(\u001b[0m\u001b[0;34m\"FITS file does not contain any image data\"\u001b[0m\u001b[0;34m)\u001b[0m\u001b[0;34m\u001b[0m\u001b[0m\n\u001b[0m\u001b[1;32m    320\u001b[0m \u001b[0;34m\u001b[0m\u001b[0m\n\u001b[1;32m    321\u001b[0m             \u001b[0;32melse\u001b[0m\u001b[0;34m:\u001b[0m\u001b[0;34m\u001b[0m\u001b[0m\n",
      "\u001b[0;31mException\u001b[0m: FITS file does not contain any image data"
     ]
    }
   ],
   "source": [
    "for i in imgfiles:\n",
    "    plot_img(filepath,i)\n",
    "\n"
   ]
  },
  {
   "cell_type": "code",
   "execution_count": null,
   "metadata": {
    "collapsed": true
   },
   "outputs": [],
   "source": []
  },
  {
   "cell_type": "code",
   "execution_count": null,
   "metadata": {
    "collapsed": true
   },
   "outputs": [],
   "source": [
    "#fig = aplpy.FITSFigure('myimage.fits')"
   ]
  },
  {
   "cell_type": "code",
   "execution_count": null,
   "metadata": {
    "ExecuteTime": {
     "end_time": "2019-05-11T14:43:29.760261Z",
     "start_time": "2019-05-11T14:43:28.576085Z"
    },
    "collapsed": false
   },
   "outputs": [],
   "source": [
    "imgfilepath=imgfiles[11]\n",
    "imgname=imgfilepath.split('/')[-1][:-4]\n",
    "\n",
    "\n",
    "fig = aplpy.FITSFigure('%s'%imgfilepath)\n",
    "fig.show_grayscale()\n",
    "#fig.hide_grayscale()\n",
    "fig.show_colorscale()\n",
    "#fig.hide_colorscale()\n",
    "#fig.show_regions('%s/src.reg'%filepath)\n",
    "#fig.show_regions('%s/bkg.reg'%filepath)\n",
    "fig.save('/Users/brettlv/Pictures/%s.png'%imgname)\n",
    "fig.show_rgb('/Users/brettlv/Pictures/%s.png'%imgname)\n"
   ]
  },
  {
   "cell_type": "code",
   "execution_count": null,
   "metadata": {
    "collapsed": true
   },
   "outputs": [],
   "source": []
  }
 ],
 "metadata": {
  "kernelspec": {
   "display_name": "Python 3",
   "language": "python",
   "name": "python3"
  },
  "language_info": {
   "codemirror_mode": {
    "name": "ipython",
    "version": 3
   },
   "file_extension": ".py",
   "mimetype": "text/x-python",
   "name": "python",
   "nbconvert_exporter": "python",
   "pygments_lexer": "ipython3",
   "version": "3.6.0"
  },
  "latex_envs": {
   "LaTeX_envs_menu_present": true,
   "autocomplete": true,
   "bibliofile": "biblio.bib",
   "cite_by": "apalike",
   "current_citInitial": 1,
   "eqLabelWithNumbers": true,
   "eqNumInitial": 1,
   "hotkeys": {
    "equation": "Ctrl-E",
    "itemize": "Ctrl-I"
   },
   "labels_anchors": false,
   "latex_user_defs": false,
   "report_style_numbering": false,
   "user_envs_cfg": false
  },
  "toc": {
   "nav_menu": {},
   "number_sections": true,
   "sideBar": true,
   "skip_h1_title": false,
   "toc_cell": false,
   "toc_position": {},
   "toc_section_display": "block",
   "toc_window_display": false
  }
 },
 "nbformat": 4,
 "nbformat_minor": 2
}
