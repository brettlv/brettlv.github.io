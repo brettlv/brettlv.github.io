{
 "cells": [
  {
   "cell_type": "code",
   "execution_count": null,
   "metadata": {
    "collapsed": true
   },
   "outputs": [],
   "source": []
  },
  {
   "cell_type": "markdown",
   "metadata": {},
   "source": [
    "## [pyxspec_quick](https://heasarc.gsfc.nasa.gov/xanadu/xspec/python/html/quick.html)"
   ]
  },
  {
   "cell_type": "markdown",
   "metadata": {},
   "source": [
    "##  Load_model"
   ]
  },
  {
   "cell_type": "code",
   "execution_count": null,
   "metadata": {
    "ExecuteTime": {
     "end_time": "2018-12-12T22:28:41.661578Z",
     "start_time": "2018-12-12T22:28:32.453835Z"
    },
    "collapsed": true
   },
   "outputs": [],
   "source": [
    "AllModels.initpackage('relxill','lmodel_relxill.dat','/Volumes/Seagate_Backup_Plus_Drive_Lvb/data/reflection_model/')\n",
    "AllModels.lmod('relxill','/Volumes/Seagate_Backup_Plus_Drive_Lvb/data/reflection_model/')\n",
    "#AllModels.lmod('relxill','/Volumes/Seagate_Backup_Plus_Drive_Lvb/data/reflection_model')"
   ]
  },
  {
   "cell_type": "markdown",
   "metadata": {},
   "source": [
    "Xspec:\n",
    "initpackage relxill lmodel_relxill.dat /Volumes/Seagate_Backup_Plus_Drive_Lvb/data/reflection_model \\nexit\n",
    "lmod relxill /Volumes/Seagate_Backup_Plus_Drive_Lvb/data/reflection_model \\nexit"
   ]
  },
  {
   "cell_type": "markdown",
   "metadata": {
    "ExecuteTime": {
     "end_time": "2018-12-05T16:36:30.803418Z",
     "start_time": "2018-12-05T16:36:30.799704Z"
    }
   },
   "source": [
    "## [pyxspec_extended](https://heasarc.gsfc.nasa.gov/xanadu/xspec/python/html/extended.html)"
   ]
  },
  {
   "cell_type": "markdown",
   "metadata": {},
   "source": [
    "### 6 global object\n",
    "AllChains  \n",
    "AllData  \n",
    "AllModels  \n",
    "Fit  \n",
    "Plot  \n",
    "Xset  \n"
   ]
  },
  {
   "cell_type": "markdown",
   "metadata": {},
   "source": [
    "### loading and removing data\n"
   ]
  },
  {
   "cell_type": "code",
   "execution_count": null,
   "metadata": {
    "collapsed": true
   },
   "outputs": [],
   "source": [
    "s = Spectrum(\"file.pha\")"
   ]
  },
  {
   "cell_type": "markdown",
   "metadata": {},
   "source": [
    "You can check the current state of the AllData container at any time by doing"
   ]
  },
  {
   "cell_type": "code",
   "execution_count": null,
   "metadata": {
    "collapsed": true
   },
   "outputs": [],
   "source": [
    "AllData.show()"
   ]
  },
  {
   "cell_type": "markdown",
   "metadata": {},
   "source": [
    "see a complete listing of available XSPEC model components, do:"
   ]
  },
  {
   "cell_type": "code",
   "execution_count": null,
   "metadata": {
    "ExecuteTime": {
     "end_time": "2018-12-13T13:17:12.760543Z",
     "start_time": "2018-12-13T13:17:12.743237Z"
    },
    "collapsed": false
   },
   "outputs": [],
   "source": [
    "Model.showList()"
   ]
  },
  {
   "cell_type": "code",
   "execution_count": null,
   "metadata": {
    "collapsed": true
   },
   "outputs": [],
   "source": []
  },
  {
   "cell_type": "code",
   "execution_count": null,
   "metadata": {
    "collapsed": true
   },
   "outputs": [],
   "source": [
    "m=Model(\"phabs*(pow+gauss)\")\n",
    "AllModels.show()\n",
    "m.show()"
   ]
  },
  {
   "cell_type": "code",
   "execution_count": null,
   "metadata": {
    "collapsed": true
   },
   "outputs": [],
   "source": [
    "par5.link=\"2.0 * 4\" #link par5 to par4\n",
    "par5.link=\"\"\n",
    "par5.untie()#remove the link\n"
   ]
  },
  {
   "cell_type": "code",
   "execution_count": null,
   "metadata": {
    "collapsed": true
   },
   "outputs": [],
   "source": [
    "print(\"diskbb.Tin\",m.diskbb.Tin.values)\n",
    "print(\"gaussian.LineE\",m.gaussian.LineE.values)\n",
    "print(\"pexrav.PhoIndex\",m.pexrav.PhoIndex.values)"
   ]
  },
  {
   "cell_type": "code",
   "execution_count": null,
   "metadata": {
    "collapsed": true
   },
   "outputs": [],
   "source": [
    "\n",
    "comp1=m.phabs\n",
    "comp2=m.powerlaw\n",
    "\n",
    "\n",
    "par2=m.powerlaw.PhoIndex\n",
    "par3=m.gaussian.LineE\n",
    "\n",
    "m.phabs.nH=1.0\n",
    "par3.values=6.4\n",
    "\n",
    "par2.frozen=False\n",
    "par3.frozen=True\n",
    "\n",
    "\n",
    "m.setPars(1.0,2.0,3.0) #this changes pars 1,2,3\n",
    "m.setPars(1.0,2.0,{4:3.0,6:2.0}) #this changes pars 1,2,4,6\n",
    "\n",
    "AllModels.setPars(m1,{1:6.4,3:1.8},m2,{3.0,0.1})\n",
    "print(par2.values)"
   ]
  },
  {
   "cell_type": "code",
   "execution_count": null,
   "metadata": {
    "collapsed": true
   },
   "outputs": [],
   "source": [
    "Fit.perform()\n",
    "Fit.nIterations=100\n",
    "#Fit.statMethod=\"chi\"\n",
    "Fit.renorm()\n",
    "Fit.show()\n"
   ]
  },
  {
   "cell_type": "code",
   "execution_count": null,
   "metadata": {
    "collapsed": true
   },
   "outputs": [],
   "source": [
    "par4=AllModels(1)(4)#4th parameter\n",
    "Fit.error(\"2.706 4\") #90% confidence range for 4th par\n",
    "par4.error\n",
    "Fit.error(\"1-3\")"
   ]
  },
  {
   "cell_type": "code",
   "execution_count": null,
   "metadata": {
    "collapsed": true
   },
   "outputs": [],
   "source": [
    "# Step parameters 1 and 2 through the given range values\n",
    "# over a 10x10 2-D grid.\n",
    "Fit.steppar(\"1 20. 30. 10 2 .05 .08 10\")"
   ]
  },
  {
   "cell_type": "markdown",
   "metadata": {},
   "source": [
    "ftest"
   ]
  },
  {
   "cell_type": "code",
   "execution_count": null,
   "metadata": {
    "collapsed": true
   },
   "outputs": [],
   "source": [
    "ftest(chisq2,dof2,chisq1,dof1)"
   ]
  },
  {
   "cell_type": "code",
   "execution_count": null,
   "metadata": {
    "collapsed": true
   },
   "outputs": [],
   "source": [
    "Plot.device='/xs'\n",
    "#Plot.device='/null'"
   ]
  },
  {
   "cell_type": "code",
   "execution_count": null,
   "metadata": {
    "ExecuteTime": {
     "end_time": "2018-12-11T20:04:55.655363Z",
     "start_time": "2018-12-11T20:04:55.648790Z"
    },
    "collapsed": true
   },
   "outputs": [],
   "source": [
    "#Plot('eeuf')\n",
    "#Plot.xAxis=\"keV\"\n",
    "#Plot('data') #model\n",
    "#Plot('eeuf del')\n",
    "#Plot('uf del')\n",
    "\n",
    "Plot.xAxis=\"keV\"\n",
    "Plot('ufspec')\n",
    "Plot.add=True\n",
    "Plot.xLog=True\n",
    "Plot.yLog=True\n",
    "\n",
    "kev=Plot.x()\n",
    "sed=Plot.y()\n",
    "xvals=Plot.x()\n",
    "yvals1=Plot.y(1)\n",
    "yvals2=Plot.y(2)\n",
    "yvals2=Plot.y(2)\n",
    "\n",
    "modvals=Plot.model()\n",
    "xerrs=Plot.xErr()\n",
    "yerrs=Plot.yErr()\n"
   ]
  },
  {
   "cell_type": "code",
   "execution_count": null,
   "metadata": {
    "ExecuteTime": {
     "end_time": "2018-12-12T10:28:03.543686Z",
     "start_time": "2018-12-12T10:28:03.529080Z"
    },
    "collapsed": true
   },
   "outputs": [],
   "source": []
  },
  {
   "cell_type": "code",
   "execution_count": null,
   "metadata": {
    "ExecuteTime": {
     "end_time": "2018-12-12T10:43:03.112314Z",
     "start_time": "2018-12-12T10:43:03.080914Z"
    },
    "collapsed": false
   },
   "outputs": [],
   "source": [
    "Plot.xLog=True\n",
    "Plot.yLog=True\n",
    "Plot('del')\n",
    "xvals=Plot.x()\n",
    "xerrs=Plot.xErr()\n",
    "delerrs=Plot.yErr()\n",
    "\n",
    "ydel=Plot.y()\n",
    "Plot('uf')\n",
    "sed=Plot.y()\n",
    "yerrs=Plot.yErr()\n",
    "Plot.xAxis=\"keV\"\n",
    "Plot('uf del')"
   ]
  },
  {
   "cell_type": "code",
   "execution_count": null,
   "metadata": {
    "ExecuteTime": {
     "end_time": "2018-12-12T11:20:23.064468Z",
     "start_time": "2018-12-12T11:20:22.440967Z"
    },
    "collapsed": false
   },
   "outputs": [],
   "source": [
    "plt.errorbar(xvals,sed,xerr=xerrs,yerr=yerrs)\n",
    "plt.errorbar(xvals,foldedmodel,xerrs,)\n",
    "plt.semilogx()\n",
    "plt.semilogy()\n",
    "plt.show()"
   ]
  },
  {
   "cell_type": "code",
   "execution_count": null,
   "metadata": {
    "ExecuteTime": {
     "end_time": "2018-12-12T11:20:38.211380Z",
     "start_time": "2018-12-12T11:20:37.628265Z"
    },
    "collapsed": false
   },
   "outputs": [],
   "source": [
    "plt.errorbar(xvals,ydel,xerrs,delerrs)\n",
    "plt.semilogx()\n",
    "plt.semilogy()\n",
    "plt.show()"
   ]
  },
  {
   "cell_type": "code",
   "execution_count": null,
   "metadata": {
    "ExecuteTime": {
     "end_time": "2018-12-12T11:20:40.987976Z",
     "start_time": "2018-12-12T11:20:40.984549Z"
    },
    "collapsed": true
   },
   "outputs": [],
   "source": [
    "foldedmodel=Plot.model()"
   ]
  },
  {
   "cell_type": "code",
   "execution_count": null,
   "metadata": {
    "ExecuteTime": {
     "end_time": "2018-12-12T11:20:42.612961Z",
     "start_time": "2018-12-12T11:20:42.068696Z"
    },
    "collapsed": false
   },
   "outputs": [],
   "source": [
    "plt.errorbar(xvals,foldedmodel,xerrs,)\n",
    "plt.semilogx()\n",
    "plt.semilogy()\n",
    "plt.show()"
   ]
  },
  {
   "cell_type": "code",
   "execution_count": null,
   "metadata": {
    "ExecuteTime": {
     "end_time": "2018-12-12T11:21:35.655449Z",
     "start_time": "2018-12-12T11:21:35.651849Z"
    },
    "collapsed": true
   },
   "outputs": [],
   "source": [
    "AllModels.show()\n",
    "Fit.show()"
   ]
  },
  {
   "cell_type": "code",
   "execution_count": null,
   "metadata": {
    "collapsed": true
   },
   "outputs": [],
   "source": []
  },
  {
   "cell_type": "code",
   "execution_count": null,
   "metadata": {
    "collapsed": true
   },
   "outputs": [],
   "source": []
  },
  {
   "cell_type": "code",
   "execution_count": null,
   "metadata": {
    "collapsed": true
   },
   "outputs": [],
   "source": []
  },
  {
   "cell_type": "markdown",
   "metadata": {
    "collapsed": true
   },
   "source": [
    "## Application "
   ]
  },
  {
   "cell_type": "code",
   "execution_count": 1,
   "metadata": {
    "ExecuteTime": {
     "end_time": "2018-12-14T09:56:33.256457Z",
     "start_time": "2018-12-14T09:56:32.347389Z"
    },
    "collapsed": true
   },
   "outputs": [],
   "source": [
    "from xspec import *\n",
    "import xspec\n",
    "import os\n",
    "import numpy as np\n",
    "import matplotlib.pyplot as plt"
   ]
  },
  {
   "cell_type": "code",
   "execution_count": null,
   "metadata": {
    "ExecuteTime": {
     "end_time": "2018-12-05T12:33:03.202514Z",
     "start_time": "2018-12-05T12:33:03.191519Z"
    },
    "collapsed": true
   },
   "outputs": [],
   "source": [
    "#xspec"
   ]
  },
  {
   "cell_type": "code",
   "execution_count": null,
   "metadata": {
    "ExecuteTime": {
     "end_time": "2018-12-05T13:10:34.632744Z",
     "start_time": "2018-12-05T13:10:34.630008Z"
    },
    "collapsed": false
   },
   "outputs": [],
   "source": [
    "#ls ../grp_pipeline_products_*"
   ]
  },
  {
   "cell_type": "markdown",
   "metadata": {},
   "source": [
    "### Model_test"
   ]
  },
  {
   "cell_type": "code",
   "execution_count": 2,
   "metadata": {
    "ExecuteTime": {
     "end_time": "2018-12-14T09:56:43.845253Z",
     "start_time": "2018-12-14T09:56:38.075834Z"
    },
    "collapsed": false,
    "scrolled": false
   },
   "outputs": [],
   "source": [
    "AllModels.initpackage('relxill','lmodel_relxill.dat','/Volumes/Seagate_Backup_Plus_Drive_Lvb/data/reflection_model/')\n",
    "AllModels.lmod('relxill','/Volumes/Seagate_Backup_Plus_Drive_Lvb/data/reflection_model/')\n",
    "#in Xspec\n",
    "#initpackage relxill lmodel_relxill.dat /Volumes/Seagate_Backup_Plus_Drive_Lvb/data/reflection_model \\nexit\n",
    "#lmod relxill /Volumes/Seagate_Backup_Plus_Drive_Lvb/data/reflection_model \\nexit"
   ]
  },
  {
   "cell_type": "code",
   "execution_count": 3,
   "metadata": {
    "ExecuteTime": {
     "end_time": "2018-12-14T09:56:50.669934Z",
     "start_time": "2018-12-14T09:56:47.799470Z"
    },
    "collapsed": false
   },
   "outputs": [
    {
     "name": "stdout",
     "output_type": "stream",
     "text": [
      "/Volumes/Seagate_Backup_Plus_Drive_Lvb/V404cyg/nustar_v404/90102007002/grp_pipeline_products_low_29250_29500\n"
     ]
    }
   ],
   "source": [
    "path='/Volumes/Seagate_Backup_Plus_Drive_Lvb/V404cyg/nustar_v404/90102007002/grp_pipeline_products_low_29250_29500/'\n",
    "#ls ../grp_pipeline_products_*'\n",
    "os.chdir(path)\n",
    "AllData.clear()\n",
    "AllModels.clear()\n",
    "print(os.getcwd())\n",
    "s=xspec.Spectrum('V404cygA01_sr_grp.pha')\n",
    "s.ignore('**-35 1909-**')#channel energy:3-78keV\n",
    "#s.ignore('**-110 1909-**')#channel energy:6-78keV\n",
    "AllData.ignore(\"bad\")"
   ]
  },
  {
   "cell_type": "code",
   "execution_count": null,
   "metadata": {
    "ExecuteTime": {
     "end_time": "2018-12-13T15:26:10.967495Z",
     "start_time": "2018-12-13T15:26:06.783872Z"
    },
    "collapsed": false
   },
   "outputs": [],
   "source": [
    "path='/Volumes/Seagate_Backup_Plus_Drive_Lvb/V404cyg/nustar_v404/90102007002/grp_pipeline_products_low/'\n",
    "#ls ../grp_pipeline_products_*'\n",
    "os.chdir(path)\n",
    "AllData.clear()\n",
    "AllModels.clear()\n",
    "print(os.getcwd())\n",
    "s=xspec.Spectrum('V404cygA01_sr_grp.pha')\n",
    "s.ignore('**-35 1909-**')#channel energy:3-78keV\n",
    "#s.ignore('**-110 1909-**')#channel energy:6-78keV\n",
    "AllData.ignore(\"bad\")"
   ]
  },
  {
   "cell_type": "code",
   "execution_count": null,
   "metadata": {
    "ExecuteTime": {
     "end_time": "2018-12-13T20:00:26.205810Z",
     "start_time": "2018-12-13T20:00:21.691929Z"
    },
    "collapsed": false
   },
   "outputs": [],
   "source": [
    "path='/Volumes/Seagate_Backup_Plus_Drive_Lvb/V404cyg/nustar_v404/90102007002/grp_pipeline_products_high_2/'\n",
    "#ls ../grp_pipeline_products_*'\n",
    "os.chdir(path)\n",
    "AllData.clear()\n",
    "AllModels.clear()\n",
    "print(os.getcwd())\n",
    "s=xspec.Spectrum('V404cygA01_sr_grp.pha')\n",
    "s.ignore('**-35 1909-**')#channel energy:3-78keV\n",
    "#s.ignore('**-110 1909-**')#channel energy:6-78keV\n",
    "AllData.ignore(\"bad\")"
   ]
  },
  {
   "cell_type": "code",
   "execution_count": 4,
   "metadata": {
    "ExecuteTime": {
     "end_time": "2018-12-14T09:56:58.789228Z",
     "start_time": "2018-12-14T09:56:57.647594Z"
    },
    "collapsed": false
   },
   "outputs": [],
   "source": [
    "m=Model(\"tbabs*(diskbb+relxilllp)\")\n",
    "#m=Model(\"TBABS*(xillver+XSTAR+(xstarabs*TBABS*relxilllp))\")\n",
    "#m=Model(\"tbabs*(diskbb+gauss+relxilllp)\")\n",
    "m.diskbb.Tin.values=0.38\n",
    "#m.diskbb.Tin.frozen=True\n",
    "#m.diskbb.norm.frozen=True\n",
    "\n",
    "#m.gaussian.LineE =6.43\n",
    "#m.gaussian.LineE =6.56488\n",
    "#m.gaussian.LineE.frozen=True\n",
    "#m.gaussian.Sigma=0.2878\n",
    "#m.gaussian.Sigma.frozen=True\n",
    "\n",
    "#m.relxilllp.Incl=67\n",
    "#m.relxilllp.h=2.5\n",
    "#m.relxilllp.a=0.9\n",
    "m.relxilllp.Incl.frozen=False\n",
    "m.relxilllp.Ecut.frozen=False\n",
    "\n",
    "#m.relxilllp.Rin=1.0\n",
    "#m.relxilllp.Rin.frozen=False\n",
    "#m.relxilllp.Rout.frozen=False\n",
    "\n",
    "#m.wabs.nH=4.6#0.6-1.2\n",
    "#m.wabs.nH.frozen=True\n",
    "m.TBabs.nH=9.0\n",
    "m.TBabs.nH.frozen=True\n",
    "#m.pexrav.cosIncl=0.39\n",
    "#AllModels.show()\n",
    "Fit.perform()"
   ]
  },
  {
   "cell_type": "code",
   "execution_count": null,
   "metadata": {
    "collapsed": true
   },
   "outputs": [],
   "source": []
  },
  {
   "cell_type": "code",
   "execution_count": 9,
   "metadata": {
    "ExecuteTime": {
     "end_time": "2018-12-14T10:00:35.276302Z",
     "start_time": "2018-12-14T10:00:35.271784Z"
    },
    "collapsed": false
   },
   "outputs": [],
   "source": [
    "Plot(\"uf del\")"
   ]
  },
  {
   "cell_type": "code",
   "execution_count": 7,
   "metadata": {
    "ExecuteTime": {
     "end_time": "2018-12-14T10:00:00.156065Z",
     "start_time": "2018-12-14T10:00:00.150647Z"
    },
    "collapsed": true
   },
   "outputs": [],
   "source": [
    "Plot(\"eeuf del\")"
   ]
  },
  {
   "cell_type": "code",
   "execution_count": null,
   "metadata": {
    "ExecuteTime": {
     "end_time": "2018-12-13T13:02:39.195760Z",
     "start_time": "2018-12-13T13:02:39.186961Z"
    },
    "collapsed": true
   },
   "outputs": [],
   "source": [
    "Plot(\"eemo\")"
   ]
  },
  {
   "cell_type": "code",
   "execution_count": null,
   "metadata": {
    "ExecuteTime": {
     "end_time": "2018-12-11T19:36:46.390389Z",
     "start_time": "2018-12-11T19:36:44.704666Z"
    },
    "collapsed": false
   },
   "outputs": [],
   "source": [
    "#m=Model(\"tbabs*(diskbb+gauss+relxilllp)\")\n",
    "m=Model(\"tbabs*(diskbb+gauss+cutoff)\")\n",
    "m.diskbb.Tin.values=0.13\n",
    "m.diskbb.Tin.frozen=True\n",
    "m.gaussian.LineE =6.56488\n",
    "m.gaussian.LineE.frozen=True\n",
    "#m.wabs.nH=4.6#0.6-1.2\n",
    "#m.wabs.nH.frozen=True\n",
    "m.TBabs.nH=1.0\n",
    "#m.TBabs.nH.frozen=True\n",
    "\n",
    "#m.pexrav.cosIncl=0.39\n",
    "#AllModels.show()\n",
    "Fit.perform()"
   ]
  },
  {
   "cell_type": "code",
   "execution_count": null,
   "metadata": {
    "ExecuteTime": {
     "end_time": "2018-12-11T20:28:17.721468Z",
     "start_time": "2018-12-11T20:27:03.032344Z"
    },
    "collapsed": false
   },
   "outputs": [],
   "source": []
  },
  {
   "cell_type": "code",
   "execution_count": null,
   "metadata": {
    "ExecuteTime": {
     "end_time": "2018-12-11T19:33:47.956033Z",
     "start_time": "2018-12-11T19:33:47.217452Z"
    },
    "collapsed": true
   },
   "outputs": [],
   "source": [
    "#m=Model(\"tbabs*(diskbb+gauss+relxilllp)\")\n",
    "m=Model(\"tbabs*(gauss+cutoff)\")\n",
    "#m.diskbb.Tin.values=0.7\n",
    "m.gaussian.LineE =6.4\n",
    "m.gaussian.LineE.frozen=True\n",
    "m.TBabs.nH=1\n",
    "#m.pexrav.cosIncl=0.39\n",
    "#AllModels.show()\n",
    "Fit.perform()"
   ]
  },
  {
   "cell_type": "code",
   "execution_count": null,
   "metadata": {
    "ExecuteTime": {
     "end_time": "2018-12-13T20:29:11.631933Z",
     "start_time": "2018-12-13T20:28:04.042444Z"
    },
    "collapsed": true
   },
   "outputs": [],
   "source": [
    "m=Model(\"wabs*(diskbb+pexrav)\")\n",
    "m.diskbb.Tin.values=0.13\n",
    "#m.diskbb.Tin.frozen=True\n",
    "#m.gaussian.LineE =6.56488\n",
    "#m.gaussian.LineE.frozen=True\n",
    "m.wabs.nH=1.0#0.6-1.2\n",
    "m.wabs.nH.frozen=True\n",
    "#pcfabs and/or gabs model absorption feature\n",
    "#m.pexrav.cosIncl=0.56#56d 0.56\n",
    "m.pexrav.cosIncl=0.39#67d 0.39 \n",
    "#AllModels.show()\n",
    "Fit.perform()"
   ]
  },
  {
   "cell_type": "code",
   "execution_count": null,
   "metadata": {
    "ExecuteTime": {
     "end_time": "2018-12-13T20:22:52.047759Z",
     "start_time": "2018-12-13T20:22:48.860313Z"
    },
    "collapsed": false
   },
   "outputs": [],
   "source": [
    "m=Model(\"wabs*(diskbb+gauss+pexrav)\")\n",
    "m.diskbb.Tin.values=0.38\n",
    "m.diskbb.Tin.frozen=True\n",
    "m.gaussian.LineE =6.56488\n",
    "#m.gaussian.LineE.frozen=True\n",
    "m.wabs.nH=1.0#0.6-1.2\n",
    "m.wabs.nH.frozen=True\n",
    "#pcfabs and/or gabs model absorption feature\n",
    "#m.pexrav.cosIncl=0.56#56d 0.56\n",
    "m.pexrav.cosIncl=0.39#67d 0.39 \n",
    "#AllModels.show()\n",
    "Fit.perform()"
   ]
  },
  {
   "cell_type": "code",
   "execution_count": null,
   "metadata": {
    "ExecuteTime": {
     "end_time": "2018-12-13T15:15:23.353772Z",
     "start_time": "2018-12-13T15:15:23.332833Z"
    },
    "collapsed": false
   },
   "outputs": [],
   "source": [
    "Fit.renorm()\n",
    "Fit.perform()"
   ]
  },
  {
   "cell_type": "code",
   "execution_count": null,
   "metadata": {
    "ExecuteTime": {
     "start_time": "2018-12-12T12:38:04.159Z"
    },
    "collapsed": true
   },
   "outputs": [],
   "source": [
    "m=Model(\"wabs*(diskbb+gauss+pexrav)\")\n",
    "m.diskbb.Tin.values=0.13\n",
    "m.diskbb.Tin.frozen=True\n",
    "m.gaussian.LineE =6.56488\n",
    "m.gaussian.LineE.frozen=True\n",
    "m.wabs.nH=4.6#0.6-1.2\n",
    "m.wabs.nH.frozen=True\n",
    "#pcfabs and/or gabs model absorption feature\n",
    "#m.pexrav.cosIncl=0.56#56d 0.56\n",
    "m.pexrav.cosIncl=0.39#67d 0.39 \n",
    "#\n",
    "Fit.perform()"
   ]
  },
  {
   "cell_type": "code",
   "execution_count": null,
   "metadata": {
    "ExecuteTime": {
     "end_time": "2018-12-13T12:57:35.146305Z",
     "start_time": "2018-12-13T12:56:31.832938Z"
    },
    "collapsed": true
   },
   "outputs": [],
   "source": [
    "m=Model(\"wabs*(gauss+pexrav)\")\n",
    "#m.diskbb.Tin.values=0.13\n",
    "#m.diskbb.Tin.frozen=True\n",
    "m.gaussian.LineE =6.56488\n",
    "m.gaussian.LineE.frozen=True\n",
    "m.wabs.nH=1.0#0.6-1.2\n",
    "m.wabs.nH.frozen=True\n",
    "#pcfabs and/or gabs model absorption feature\n",
    "#m.pexrav.cosIncl=0.56#56d 0.56\n",
    "m.pexrav.cosIncl=0.39#67d 0.39 \n",
    "Fit.perform()"
   ]
  },
  {
   "cell_type": "code",
   "execution_count": null,
   "metadata": {
    "ExecuteTime": {
     "end_time": "2018-12-13T20:24:56.352800Z",
     "start_time": "2018-12-13T20:24:56.347063Z"
    },
    "collapsed": true
   },
   "outputs": [],
   "source": [
    "Plot(\"eeuf del\")"
   ]
  },
  {
   "cell_type": "code",
   "execution_count": null,
   "metadata": {
    "ExecuteTime": {
     "end_time": "2018-12-12T20:14:15.903627Z",
     "start_time": "2018-12-12T20:14:15.900364Z"
    },
    "collapsed": true
   },
   "outputs": [],
   "source": [
    "#Fit.steppar(\"1 0.6 1.2 10 2 0.13 0.38 10\")\n",
    "#Fit.steppar(\"1 0.6 1.2 10 2 0.13 0.38 10 4 6.26 6.9 10\")"
   ]
  },
  {
   "cell_type": "code",
   "execution_count": null,
   "metadata": {
    "ExecuteTime": {
     "end_time": "2018-12-12T20:14:13.611431Z",
     "start_time": "2018-12-12T20:14:13.608679Z"
    },
    "collapsed": false
   },
   "outputs": [],
   "source": []
  },
  {
   "cell_type": "code",
   "execution_count": null,
   "metadata": {
    "collapsed": true
   },
   "outputs": [],
   "source": [
    "AllModels.show()\n",
    "AllData.show()"
   ]
  },
  {
   "cell_type": "code",
   "execution_count": null,
   "metadata": {
    "ExecuteTime": {
     "end_time": "2018-12-12T19:07:22.533839Z",
     "start_time": "2018-12-12T19:07:22.522104Z"
    },
    "collapsed": true
   },
   "outputs": [],
   "source": [
    "AllModels.show()\n",
    "Fit.show()"
   ]
  },
  {
   "cell_type": "code",
   "execution_count": null,
   "metadata": {
    "ExecuteTime": {
     "start_time": "2018-12-12T12:37:03.859Z"
    },
    "collapsed": true
   },
   "outputs": [],
   "source": [
    "print(\"pexrav.PhoIndex\",m.pexrav.PhoIndex.values)\n",
    "print(\"pexrav.refl\",m.pexrav.rel_refl.values)\n",
    "print(\"pexrav.foldE\",m.pexrav.foldE.values)\n",
    "print(\"wabs_nH\",m.wabs.nH.values)"
   ]
  },
  {
   "cell_type": "code",
   "execution_count": null,
   "metadata": {
    "ExecuteTime": {
     "end_time": "2018-12-12T20:20:08.356477Z",
     "start_time": "2018-12-12T20:19:19.975784Z"
    },
    "collapsed": false
   },
   "outputs": [],
   "source": [
    "AllModels.calcFlux(\"3.0 78.0 err\")\n",
    "AllData(1).flux"
   ]
  },
  {
   "cell_type": "code",
   "execution_count": null,
   "metadata": {
    "ExecuteTime": {
     "end_time": "2018-12-11T20:07:36.867740Z",
     "start_time": "2018-12-11T20:07:36.861240Z"
    },
    "collapsed": false
   },
   "outputs": [],
   "source": [
    "AllModels.calcFlux(\"3.0 78.0\")\n",
    "AllData(1).flux"
   ]
  },
  {
   "cell_type": "markdown",
   "metadata": {},
   "source": [
    "### plot_example"
   ]
  },
  {
   "cell_type": "code",
   "execution_count": null,
   "metadata": {
    "ExecuteTime": {
     "end_time": "2018-12-13T12:44:25.450923Z",
     "start_time": "2018-12-13T12:44:25.433598Z"
    },
    "collapsed": false
   },
   "outputs": [],
   "source": [
    "Plot.device='/xs'\n",
    "#Plot.device='/null'\n",
    "#Plot.show()\n",
    "#Plot('eeuf')#\"model\" \"data\" \"data chisq\" \"data\",\"model\",\"resid\"\n",
    "#Plot.xAxis=\"keV\"\n",
    "Plot('eeuf del')\n",
    "#Plot('ufspec del')\n",
    "#Plot('eemodel')\n",
    "Plot.xAxis=\"keV\"\n",
    "Plot.xAxis=\"keV\"\n",
    "#Plot.xAxis=\"channel\"\n",
    "#Plot.xAxis=\"angstrom\"\n",
    "\n",
    "#Plot.add=True\n",
    "#Plot.background=False\n",
    "#Plot.xLog=True\n",
    "#Plot.yLog=False\n",
    "\n",
    "#kev=Plot.x()\n",
    "#sed=Plot.y()"
   ]
  },
  {
   "cell_type": "markdown",
   "metadata": {
    "collapsed": true
   },
   "source": [
    "### function define\n",
    "#### data_fit_phabs_path(\"pha*(diskbb+gau+pexrav)\")  \n",
    "#### data_fit_wabs_path(\"wabs*(diskbb+gau+pexrav)\")\n",
    "#### data_fit_tbabs_path(\"tbabs*(diskbb+gau+pexrav)\")\n",
    "#### data_fit_pow_path(\"wabs*(diskbb+gau+pow)\")"
   ]
  },
  {
   "cell_type": "code",
   "execution_count": null,
   "metadata": {
    "ExecuteTime": {
     "end_time": "2018-12-08T16:24:16.441120Z",
     "start_time": "2018-12-08T16:24:16.386075Z"
    },
    "collapsed": false
   },
   "outputs": [],
   "source": [
    "def data_fit_phabs_path(path):\n",
    "    os.chdir(path)\n",
    "    AllData.clear()\n",
    "    print(os.getcwd())\n",
    "    s=xspec.Spectrum('V404cygA01_sr_grp.pha')\n",
    "    s.ignore('**-35 1909-**')\n",
    "    AllData.ignore(\"bad\")\n",
    "    m=Model(\"pha*(diskbb+gau+pexrav)\")\n",
    "    #data=AllData()\n",
    "    m.pexrav.cosIncl=0.39\n",
    "    Fit.perform()\n",
    "    print(\"diskbb.Tin\",m.diskbb.Tin.values)\n",
    "    print(\"gaussian.LineE\",m.gaussian.LineE.values)\n",
    "    print(\"pexrav.PhoIndex\",m.pexrav.PhoIndex.values)\n",
    "    return m#,data\n",
    "def data_fit_wabs_path(path):\n",
    "    os.chdir(path)\n",
    "    AllData.clear()\n",
    "    print(os.getcwd())\n",
    "    s=xspec.Spectrum('V404cygA01_sr_grp.pha')\n",
    "    s.ignore('**-35 1909-**')\n",
    "    AllData.ignore(\"bad\")\n",
    "    m=Model(\"wabs*(diskbb+gau+pexrav)\")\n",
    "    #data=AllData()\n",
    "    m.pexrav.cosIncl=0.39\n",
    "    Fit.perform()\n",
    "    print(\"diskbb.Tin\",m.diskbb.Tin.values)\n",
    "    print(\"gaussian.LineE\",m.gaussian.LineE.values)\n",
    "    print(\"pexrav.PhoIndex\",m.pexrav.PhoIndex.values)\n",
    "    return m#,data\n",
    "\n",
    "def data_fit_tbabs_path(path):\n",
    "    #model=\"tbabs*(diskbb+gau+pexrav)\"\n",
    "    os.chdir(path)\n",
    "    AllData.clear()\n",
    "    print(os.getcwd())\n",
    "    s=xspec.Spectrum('V404cygA01_sr_grp.pha')\n",
    "    s.ignore('**-35 1909-**')\n",
    "    AllData.ignore(\"bad\")\n",
    "    m=Model(\"tbabs*(diskbb+gau+pexrav)\")\n",
    "    #data=AllData()\n",
    "    m.pexrav.cosIncl=0.39\n",
    "    Fit.perform()\n",
    "    print(\"diskbb.Tin\",m.diskbb.Tin.values)\n",
    "    print(\"gaussian.LineE\",m.gaussian.LineE.values)\n",
    "    print(\"pexrav.PhoIndex\",m.pexrav.PhoIndex.values)\n",
    "    return m#,data\n",
    "\n",
    "def data_fit_pow_path(path):\n",
    "    os.chdir(path)\n",
    "    AllData.clear()\n",
    "    print(os.getcwd())\n",
    "    s=xspec.Spectrum('V404cygA01_sr_grp.pha')\n",
    "    s.ignore('**-35 1909-**')\n",
    "    AllData.ignore(\"bad\")\n",
    "    m=Model(\"wabs*(diskbb+gau+pow)\")\n",
    "    #data=AllData()\n",
    "    #m.pexrav.cosIncl=0.39\n",
    "    Fit.perform()\n",
    "    print(\"diskbb.Tin\",m.diskbb.Tin.values)\n",
    "    print(\"gaussian.LineE\",m.gaussian.LineE.values)\n",
    "    print(\"PhoIndex\",m.powerlaw.PhoIndex.values)\n",
    "    return m#,data\n"
   ]
  },
  {
   "cell_type": "code",
   "execution_count": null,
   "metadata": {
    "collapsed": true
   },
   "outputs": [],
   "source": [
    "path='/Volumes/Seagate_Backup_Plus_Drive_Lvb/V404cyg/nustar_v404/90102007002/grp_pipeline_products_20'\n",
    "m=data_fit_tbabs_path(path)"
   ]
  },
  {
   "cell_type": "code",
   "execution_count": null,
   "metadata": {
    "collapsed": true
   },
   "outputs": [],
   "source": []
  },
  {
   "cell_type": "code",
   "execution_count": null,
   "metadata": {
    "collapsed": true
   },
   "outputs": [],
   "source": []
  },
  {
   "cell_type": "markdown",
   "metadata": {
    "ExecuteTime": {
     "end_time": "2018-12-05T21:19:06.533176Z",
     "start_time": "2018-12-05T21:19:06.530134Z"
    },
    "collapsed": true
   },
   "source": []
  },
  {
   "cell_type": "code",
   "execution_count": null,
   "metadata": {
    "collapsed": true
   },
   "outputs": [],
   "source": []
  },
  {
   "cell_type": "markdown",
   "metadata": {},
   "source": [
    "####  pexrav_or_pow_7002"
   ]
  },
  {
   "cell_type": "code",
   "execution_count": null,
   "metadata": {
    "ExecuteTime": {
     "end_time": "2018-12-07T10:18:08.677254Z",
     "start_time": "2018-12-07T10:17:00.786835Z"
    },
    "collapsed": false
   },
   "outputs": [],
   "source": [
    "path='/Volumes/Seagate_Backup_Plus_Drive_Lvb/V404cyg/nustar_v404/90102007002/grp_pipeline_products_20/'\n",
    "m2=data_fit_wabs_path(path)        \n",
    "#m2=data_fit_pow_path(path)\n",
    "AllModels.calcFlux(\"3.0 78.0\")\n",
    "AllData(1).flux"
   ]
  },
  {
   "cell_type": "code",
   "execution_count": null,
   "metadata": {
    "ExecuteTime": {
     "end_time": "2018-12-07T10:21:36.095406Z",
     "start_time": "2018-12-07T10:20:46.923779Z"
    },
    "collapsed": false
   },
   "outputs": [],
   "source": [
    "path='/Volumes/Seagate_Backup_Plus_Drive_Lvb/V404cyg/nustar_v404/90102007002/grp_pipeline_products_20_40/'\n",
    "m2=data_fit_wabs_path(path)\n",
    "#m2=data_fit_pow_path(path)\n",
    "AllModels.calcFlux(\"3.0 78.0\")\n",
    "AllData(1).flux"
   ]
  },
  {
   "cell_type": "code",
   "execution_count": null,
   "metadata": {
    "ExecuteTime": {
     "end_time": "2018-12-07T10:34:21.679376Z",
     "start_time": "2018-12-07T10:32:54.899586Z"
    },
    "collapsed": false
   },
   "outputs": [],
   "source": [
    "path='/Volumes/Seagate_Backup_Plus_Drive_Lvb/V404cyg/nustar_v404/90102007002/grp_pipeline_products_40_60/'\n",
    "m2=data_fit_wabs_path(path)\n",
    "#m2=data_fit_pow_path(path)\n",
    "AllModels.calcFlux(\"3.0 78.0\")\n",
    "AllData(1).flux"
   ]
  },
  {
   "cell_type": "code",
   "execution_count": null,
   "metadata": {
    "ExecuteTime": {
     "end_time": "2018-12-07T11:09:39.702988Z",
     "start_time": "2018-12-07T11:08:26.319850Z"
    },
    "collapsed": false
   },
   "outputs": [],
   "source": [
    "path='/Volumes/Seagate_Backup_Plus_Drive_Lvb/V404cyg/nustar_v404/90102007002/grp_pipeline_products_60_80/'\n",
    "m2=data_fit_wabs_path(path)\n",
    "#m2=data_fit_pow_path(path)\n",
    "AllModels.calcFlux(\"3.0 78.0\")\n",
    "AllData(1).flux"
   ]
  },
  {
   "cell_type": "code",
   "execution_count": null,
   "metadata": {
    "ExecuteTime": {
     "end_time": "2018-12-07T11:17:35.521012Z",
     "start_time": "2018-12-07T11:14:27.146148Z"
    },
    "collapsed": false
   },
   "outputs": [],
   "source": [
    "path='/Volumes/Seagate_Backup_Plus_Drive_Lvb/V404cyg/nustar_v404/90102007002/grp_pipeline_products_80_100/'\n",
    "m2=data_fit_wabs_path(path)\n",
    "#m2=data_fit_pow_path(path)\n",
    "AllModels.calcFlux(\"3.0 78.0\")\n",
    "AllData(1).flux"
   ]
  },
  {
   "cell_type": "code",
   "execution_count": null,
   "metadata": {
    "collapsed": true
   },
   "outputs": [],
   "source": []
  },
  {
   "cell_type": "code",
   "execution_count": null,
   "metadata": {
    "collapsed": true
   },
   "outputs": [],
   "source": []
  },
  {
   "cell_type": "code",
   "execution_count": null,
   "metadata": {
    "ExecuteTime": {
     "end_time": "2018-12-07T09:47:31.392050Z",
     "start_time": "2018-12-07T09:47:31.379113Z"
    },
    "collapsed": true
   },
   "outputs": [],
   "source": []
  },
  {
   "cell_type": "markdown",
   "metadata": {
    "ExecuteTime": {
     "end_time": "2018-12-05T21:21:19.243089Z",
     "start_time": "2018-12-05T21:21:19.237667Z"
    },
    "collapsed": false
   },
   "source": [
    "## Get_result"
   ]
  },
  {
   "cell_type": "code",
   "execution_count": null,
   "metadata": {
    "ExecuteTime": {
     "end_time": "2018-12-05T21:34:15.228927Z",
     "start_time": "2018-12-05T21:33:42.870879Z"
    },
    "collapsed": false
   },
   "outputs": [],
   "source": []
  },
  {
   "cell_type": "markdown",
   "metadata": {
    "ExecuteTime": {
     "end_time": "2018-12-05T21:34:45.189291Z",
     "start_time": "2018-12-05T21:34:45.182638Z"
    },
    "collapsed": false
   },
   "source": []
  },
  {
   "cell_type": "markdown",
   "metadata": {
    "collapsed": true
   },
   "source": [
    "### phabs_pexrav_fit"
   ]
  },
  {
   "cell_type": "code",
   "execution_count": null,
   "metadata": {
    "ExecuteTime": {
     "end_time": "2018-12-07T21:07:12.794852Z",
     "start_time": "2018-12-07T20:52:18.289531Z"
    },
    "collapsed": false
   },
   "outputs": [],
   "source": [
    "path='/Volumes/Seagate_Backup_Plus_Drive_Lvb/V404cyg/nustar_v404/90102007002/grp_pipeline_products_low/'\n",
    "m2=data_fit_wabs_path(path)\n",
    "AllModels.calcFlux(\"3.0 78.0\")\n",
    "AllData(1).flux"
   ]
  },
  {
   "cell_type": "code",
   "execution_count": null,
   "metadata": {
    "collapsed": true
   },
   "outputs": [],
   "source": []
  },
  {
   "cell_type": "code",
   "execution_count": null,
   "metadata": {
    "collapsed": true
   },
   "outputs": [],
   "source": [
    "path='/Volumes/Seagate_Backup_Plus_Drive_Lvb/V404cyg/nustar_v404/90102007002/grp_pipeline_products_20/'\n",
    "m2=data_fit_phabs_path(path)\n",
    "AllModels.calcFlux(\"3.0 78.0\")\n",
    "AllData(1).flux"
   ]
  },
  {
   "cell_type": "code",
   "execution_count": null,
   "metadata": {
    "ExecuteTime": {
     "end_time": "2018-12-05T21:37:04.868846Z",
     "start_time": "2018-12-05T21:35:20.464730Z"
    },
    "collapsed": false
   },
   "outputs": [],
   "source": [
    "path='/Volumes/Seagate_Backup_Plus_Drive_Lvb/V404cyg/nustar_v404/90102007002/grp_pipeline_products_20_40/'\n",
    "m2=data_fit_phabs_path(path)\n",
    "AllModels.calcFlux(\"3.0 78.0\")\n",
    "AllData(1).flux"
   ]
  },
  {
   "cell_type": "code",
   "execution_count": null,
   "metadata": {
    "collapsed": true
   },
   "outputs": [],
   "source": []
  },
  {
   "cell_type": "code",
   "execution_count": null,
   "metadata": {
    "ExecuteTime": {
     "end_time": "2018-12-05T21:51:46.816681Z",
     "start_time": "2018-12-05T21:49:49.898385Z"
    },
    "collapsed": false
   },
   "outputs": [],
   "source": [
    "path='/Volumes/Seagate_Backup_Plus_Drive_Lvb/V404cyg/nustar_v404/90102007002/grp_pipeline_products_40_60/'\n",
    "m2=data_fit_phabs_path(path)\n",
    "AllModels.calcFlux(\"3.0 78.0\")\n",
    "AllData(1).flux"
   ]
  },
  {
   "cell_type": "code",
   "execution_count": null,
   "metadata": {
    "collapsed": true
   },
   "outputs": [],
   "source": []
  },
  {
   "cell_type": "code",
   "execution_count": null,
   "metadata": {
    "ExecuteTime": {
     "end_time": "2018-12-05T21:55:10.771860Z",
     "start_time": "2018-12-05T21:53:13.829441Z"
    },
    "collapsed": false
   },
   "outputs": [],
   "source": [
    "path='/Volumes/Seagate_Backup_Plus_Drive_Lvb/V404cyg/nustar_v404/90102007002/grp_pipeline_products_60_80/'\n",
    "m2=data_fit_phabs_path(path)\n",
    "AllModels.calcFlux(\"3.0 78.0\")\n",
    "AllData(1).flux"
   ]
  },
  {
   "cell_type": "code",
   "execution_count": null,
   "metadata": {
    "collapsed": true
   },
   "outputs": [],
   "source": []
  },
  {
   "cell_type": "code",
   "execution_count": null,
   "metadata": {
    "ExecuteTime": {
     "end_time": "2018-12-05T22:00:26.023595Z",
     "start_time": "2018-12-05T21:55:38.527887Z"
    },
    "collapsed": false,
    "scrolled": true
   },
   "outputs": [],
   "source": [
    "path='/Volumes/Seagate_Backup_Plus_Drive_Lvb/V404cyg/nustar_v404/90102007002/grp_pipeline_products_80_100/'\n",
    "m2=data_fit_phabs_path(path)\n",
    "AllModels.calcFlux(\"3.0 78.0\")\n",
    "AllData(1).flux"
   ]
  },
  {
   "cell_type": "code",
   "execution_count": null,
   "metadata": {
    "collapsed": true
   },
   "outputs": [],
   "source": []
  },
  {
   "cell_type": "code",
   "execution_count": null,
   "metadata": {
    "ExecuteTime": {
     "end_time": "2018-12-06T17:08:43.331524Z",
     "start_time": "2018-12-06T17:08:43.322445Z"
    },
    "collapsed": true
   },
   "outputs": [],
   "source": [
    "\n",
    "    "
   ]
  },
  {
   "cell_type": "code",
   "execution_count": null,
   "metadata": {
    "ExecuteTime": {
     "end_time": "2018-12-06T17:12:46.250229Z",
     "start_time": "2018-12-06T17:12:46.244756Z"
    },
    "collapsed": false
   },
   "outputs": [],
   "source": [
    "xspec"
   ]
  },
  {
   "cell_type": "markdown",
   "metadata": {},
   "source": [
    "### wabs_pexrav_fit"
   ]
  },
  {
   "cell_type": "markdown",
   "metadata": {},
   "source": [
    "#### 7002"
   ]
  },
  {
   "cell_type": "code",
   "execution_count": null,
   "metadata": {
    "collapsed": true
   },
   "outputs": [],
   "source": [
    "path='/Volumes/Seagate_Backup_Plus_Drive_Lvb/V404cyg/nustar_v404/90102007002/grp_pipeline_products_20/'\n",
    "m2=data_fit_wabs_path(path)        \n",
    "#m2=data_fit_pow_path(path)\n",
    "AllModels.calcFlux(\"3.0 78.0\")\n",
    "AllData(1).flux"
   ]
  },
  {
   "cell_type": "code",
   "execution_count": null,
   "metadata": {
    "collapsed": true
   },
   "outputs": [],
   "source": []
  },
  {
   "cell_type": "markdown",
   "metadata": {},
   "source": [
    "#### 7003"
   ]
  },
  {
   "cell_type": "code",
   "execution_count": null,
   "metadata": {
    "ExecuteTime": {
     "end_time": "2018-12-07T11:25:39.374608Z",
     "start_time": "2018-12-07T11:22:03.770997Z"
    },
    "collapsed": false
   },
   "outputs": [],
   "source": [
    "path='/Volumes/Seagate_Backup_Plus_Drive_Lvb/V404cyg/nustar_v404/90102007003/grp_pipeline_products_50'\n",
    "m2=data_fit_wabs_path(path)\n",
    "#m2=data_fit_phabs_path(path)\n",
    "AllModels.calcFlux(\"3.0 78.0\")\n",
    "AllData(1).flux"
   ]
  },
  {
   "cell_type": "code",
   "execution_count": null,
   "metadata": {
    "collapsed": true
   },
   "outputs": [],
   "source": []
  },
  {
   "cell_type": "code",
   "execution_count": null,
   "metadata": {
    "ExecuteTime": {
     "end_time": "2018-12-07T11:31:07.666938Z",
     "start_time": "2018-12-07T11:29:17.802614Z"
    },
    "collapsed": false
   },
   "outputs": [],
   "source": [
    "path='/Volumes/Seagate_Backup_Plus_Drive_Lvb/V404cyg/nustar_v404/90102007003/grp_pipeline_products_50100/'\n",
    "m2=data_fit_wabs_path(path)\n",
    "#m2=data_fit_phabs_path(path)\n",
    "AllModels.calcFlux(\"3.0 78.0\")\n",
    "AllData(1).flux"
   ]
  },
  {
   "cell_type": "code",
   "execution_count": null,
   "metadata": {
    "ExecuteTime": {
     "end_time": "2018-12-07T11:36:45.783894Z",
     "start_time": "2018-12-07T11:34:34.423132Z"
    },
    "collapsed": false
   },
   "outputs": [],
   "source": [
    "path='/Volumes/Seagate_Backup_Plus_Drive_Lvb/V404cyg/nustar_v404/90102007003/grp_pipeline_products_1030/'\n",
    "m2=data_fit_wabs_path(path)\n",
    "#m2=data_fit_phabs_path(path)\n",
    "AllModels.calcFlux(\"3.0 78.0\")\n",
    "AllData(1).flux"
   ]
  },
  {
   "cell_type": "code",
   "execution_count": null,
   "metadata": {
    "collapsed": true
   },
   "outputs": [],
   "source": []
  },
  {
   "cell_type": "code",
   "execution_count": null,
   "metadata": {
    "ExecuteTime": {
     "end_time": "2018-12-07T11:41:20.270155Z",
     "start_time": "2018-12-07T11:40:19.023635Z"
    },
    "collapsed": false
   },
   "outputs": [],
   "source": [
    "path='/Volumes/Seagate_Backup_Plus_Drive_Lvb/V404cyg/nustar_v404/90102007003/grp_pipeline_products_3050/'\n",
    "m2=data_fit_wabs_path(path)\n",
    "#m2=data_fit_phabs_path(path)\n",
    "AllModels.calcFlux(\"3.0 78.0\")\n",
    "AllData(1).flux"
   ]
  },
  {
   "cell_type": "code",
   "execution_count": null,
   "metadata": {
    "collapsed": true
   },
   "outputs": [],
   "source": []
  },
  {
   "cell_type": "code",
   "execution_count": null,
   "metadata": {
    "ExecuteTime": {
     "end_time": "2018-12-07T11:49:08.317845Z",
     "start_time": "2018-12-07T11:48:21.270219Z"
    },
    "collapsed": false
   },
   "outputs": [],
   "source": [
    "path='/Volumes/Seagate_Backup_Plus_Drive_Lvb/V404cyg/nustar_v404/90102007003/grp_pipeline_products_7090/'\n",
    "m2=data_fit_wabs_path(path)\n",
    "#m2=data_fit_phabs_path(path)\n",
    "AllModels.calcFlux(\"3.0 78.0\")\n",
    "AllData(1).flux"
   ]
  },
  {
   "cell_type": "markdown",
   "metadata": {},
   "source": [
    "#### down_up_29250_29500"
   ]
  },
  {
   "cell_type": "code",
   "execution_count": null,
   "metadata": {
    "ExecuteTime": {
     "end_time": "2018-12-07T22:15:18.540318Z",
     "start_time": "2018-12-07T22:15:13.942931Z"
    },
    "collapsed": false
   },
   "outputs": [],
   "source": [
    "path='/Volumes/Seagate_Backup_Plus_Drive_Lvb/V404cyg/nustar_v404/90102007002/grp_pipeline_products_29250_280/'\n",
    "#m2=data_fit_pow_path(path)\n",
    "m2=data_fit_wabs_path(path)\n",
    "#m2=data_fit_phabs_path(path)\n",
    "AllModels.calcFlux(\"3.0 78.0\")\n",
    "AllData(1).flux"
   ]
  },
  {
   "cell_type": "code",
   "execution_count": null,
   "metadata": {
    "ExecuteTime": {
     "end_time": "2018-12-07T22:23:31.707371Z",
     "start_time": "2018-12-07T22:20:09.435494Z"
    },
    "collapsed": false
   },
   "outputs": [],
   "source": [
    "path='/Volumes/Seagate_Backup_Plus_Drive_Lvb/V404cyg/nustar_v404/90102007002/grp_pipeline_products_29280_400/'\n",
    "m2=data_fit_wabs_path(path)\n",
    "#m2=data_fit_phabs_path(path)\n",
    "AllModels.calcFlux(\"3.0 78.0\")\n",
    "AllData(1).flux"
   ]
  },
  {
   "cell_type": "code",
   "execution_count": null,
   "metadata": {
    "collapsed": true
   },
   "outputs": [],
   "source": []
  },
  {
   "cell_type": "code",
   "execution_count": null,
   "metadata": {
    "ExecuteTime": {
     "end_time": "2018-12-08T09:12:20.981058Z",
     "start_time": "2018-12-08T09:12:19.171378Z"
    },
    "collapsed": false
   },
   "outputs": [],
   "source": [
    "path='/Volumes/Seagate_Backup_Plus_Drive_Lvb/V404cyg/nustar_v404/90102007002/grp_pipeline_products_29400_450/'\n",
    "os.chdir(path)\n",
    "AllData.clear()\n",
    "print(os.getcwd())\n",
    "s=xspec.Spectrum('V404cygA01_sr_grp.pha')\n",
    "s.ignore('**-35 1909-**')\n",
    "AllData.ignore(\"bad\")"
   ]
  },
  {
   "cell_type": "code",
   "execution_count": null,
   "metadata": {
    "ExecuteTime": {
     "end_time": "2018-12-08T09:13:32.947797Z",
     "start_time": "2018-12-08T09:13:32.902495Z"
    },
    "collapsed": false
   },
   "outputs": [],
   "source": [
    "Model(\"pha*(diskbb+gau+pow)\")"
   ]
  },
  {
   "cell_type": "code",
   "execution_count": null,
   "metadata": {
    "ExecuteTime": {
     "end_time": "2018-12-08T09:13:41.672579Z",
     "start_time": "2018-12-08T09:13:40.491148Z"
    },
    "collapsed": false
   },
   "outputs": [],
   "source": [
    "Fit.perform()"
   ]
  },
  {
   "cell_type": "code",
   "execution_count": null,
   "metadata": {
    "ExecuteTime": {
     "end_time": "2018-12-08T09:16:26.738209Z",
     "start_time": "2018-12-08T09:16:26.671081Z"
    },
    "collapsed": true
   },
   "outputs": [],
   "source": [
    "AllData.clear()"
   ]
  },
  {
   "cell_type": "code",
   "execution_count": null,
   "metadata": {
    "ExecuteTime": {
     "end_time": "2018-12-08T09:16:43.443096Z",
     "start_time": "2018-12-08T09:16:43.438306Z"
    },
    "collapsed": true
   },
   "outputs": [],
   "source": [
    "AllData.show()"
   ]
  },
  {
   "cell_type": "code",
   "execution_count": null,
   "metadata": {
    "ExecuteTime": {
     "end_time": "2018-12-08T09:17:05.748112Z",
     "start_time": "2018-12-08T09:17:05.742868Z"
    },
    "collapsed": true
   },
   "outputs": [],
   "source": [
    "AllModels.show()"
   ]
  },
  {
   "cell_type": "code",
   "execution_count": null,
   "metadata": {
    "collapsed": true
   },
   "outputs": [],
   "source": []
  },
  {
   "cell_type": "code",
   "execution_count": null,
   "metadata": {
    "collapsed": true
   },
   "outputs": [],
   "source": []
  },
  {
   "cell_type": "code",
   "execution_count": null,
   "metadata": {
    "collapsed": true
   },
   "outputs": [],
   "source": []
  },
  {
   "cell_type": "code",
   "execution_count": null,
   "metadata": {
    "ExecuteTime": {
     "end_time": "2018-12-08T09:11:20.412076Z",
     "start_time": "2018-12-08T09:11:15.789043Z"
    },
    "collapsed": false
   },
   "outputs": [],
   "source": [
    "path='/Volumes/Seagate_Backup_Plus_Drive_Lvb/V404cyg/nustar_v404/90102007002/grp_pipeline_products_29400_450/'\n",
    "m2=data_fit_wabs_path(path)\n",
    "#m2=data_fit_phabs_path(path)\n",
    "AllModels.calcFlux(\"3.0 78.0\")\n",
    "AllData(1).flux"
   ]
  },
  {
   "cell_type": "code",
   "execution_count": null,
   "metadata": {
    "ExecuteTime": {
     "end_time": "2018-12-08T16:27:03.679152Z",
     "start_time": "2018-12-08T16:24:42.800042Z"
    },
    "collapsed": false
   },
   "outputs": [],
   "source": [
    "path='/Volumes/Seagate_Backup_Plus_Drive_Lvb/V404cyg/nustar_v404/90102007002/grp_pipeline_products_29450_500/'\n",
    "m2=data_fit_wabs_path(path)\n",
    "#m2=data_fit_phabs_path(path)\n",
    "AllModels.calcFlux(\"3.0 78.0\")\n",
    "AllData(1).flux"
   ]
  },
  {
   "cell_type": "code",
   "execution_count": null,
   "metadata": {
    "ExecuteTime": {
     "end_time": "2018-12-08T22:24:01.311710Z",
     "start_time": "2018-12-08T22:22:42.714905Z"
    },
    "collapsed": false
   },
   "outputs": [],
   "source": [
    "path='/Volumes/Seagate_Backup_Plus_Drive_Lvb/V404cyg/nustar_v404/90102007002/grp_pipeline_products_29450_500/'\n",
    "os.chdir(path)\n",
    "AllData.clear()\n",
    "print(os.getcwd())\n",
    "s=xspec.Spectrum('V404cygA01_sr_grp.pha')\n",
    "s.ignore('**-35 1909-**')\n",
    "AllData.ignore(\"bad\")\n",
    "m=Model(\"wabs*(gau+pexrav)\")\n",
    "m.pexrav.cosIncl=0.39\n",
    "AllModels.show()\n",
    "Fit.perform()"
   ]
  },
  {
   "cell_type": "code",
   "execution_count": null,
   "metadata": {
    "collapsed": true
   },
   "outputs": [],
   "source": []
  },
  {
   "cell_type": "code",
   "execution_count": null,
   "metadata": {
    "collapsed": true
   },
   "outputs": [],
   "source": []
  },
  {
   "cell_type": "markdown",
   "metadata": {},
   "source": [
    "### wabs_powlaw_fit"
   ]
  },
  {
   "cell_type": "code",
   "execution_count": null,
   "metadata": {
    "collapsed": true
   },
   "outputs": [],
   "source": []
  },
  {
   "cell_type": "markdown",
   "metadata": {},
   "source": [
    "#### 7002"
   ]
  },
  {
   "cell_type": "code",
   "execution_count": null,
   "metadata": {
    "collapsed": true
   },
   "outputs": [],
   "source": [
    "path='/Volumes/Seagate_Backup_Plus_Drive_Lvb/V404cyg/nustar_v404/90102007002/grp_pipeline_products_20/'\n",
    "#m2=data_fit_wabs_path(path)        \n",
    "m2=data_fit_pow_path(path)\n",
    "AllModels.calcFlux(\"3.0 78.0\")\n",
    "AllData(1).flux"
   ]
  },
  {
   "cell_type": "code",
   "execution_count": null,
   "metadata": {
    "collapsed": true
   },
   "outputs": [],
   "source": []
  },
  {
   "cell_type": "markdown",
   "metadata": {},
   "source": [
    "#### 7003"
   ]
  },
  {
   "cell_type": "code",
   "execution_count": null,
   "metadata": {
    "ExecuteTime": {
     "end_time": "2018-12-06T22:11:13.049368Z",
     "start_time": "2018-12-06T22:11:13.041971Z"
    },
    "collapsed": true
   },
   "outputs": [],
   "source": [
    "path='/Volumes/Seagate_Backup_Plus_Drive_Lvb/V404cyg/nustar_v404/90102007003/grp_pipeline_products_1030/'\n",
    "#m2=data_fit_wabs_path(path)#wabs(diskbb+gauss+pexrav)\n",
    "m2=data_fit_pow_path(path)# wabs(diskbb+gauss+powlaw)\n",
    "AllModels.calcFlux(\"3.0 78.0\")\n",
    "AllData(1).flux"
   ]
  },
  {
   "cell_type": "code",
   "execution_count": null,
   "metadata": {
    "ExecuteTime": {
     "end_time": "2018-12-06T22:13:53.458437Z",
     "start_time": "2018-12-06T22:13:50.685200Z"
    },
    "collapsed": false
   },
   "outputs": [],
   "source": [
    "path='/Volumes/Seagate_Backup_Plus_Drive_Lvb/V404cyg/nustar_v404/90102007003/grp_pipeline_products_3050/'\n",
    "#m2=data_fit_wabs_path(path)\n",
    "m2=data_fit_pow_path(path)\n",
    "AllModels.calcFlux(\"3.0 78.0\")\n",
    "AllData(1).flux"
   ]
  },
  {
   "cell_type": "code",
   "execution_count": null,
   "metadata": {
    "collapsed": true
   },
   "outputs": [],
   "source": []
  },
  {
   "cell_type": "code",
   "execution_count": null,
   "metadata": {
    "ExecuteTime": {
     "end_time": "2018-12-06T22:16:29.165999Z",
     "start_time": "2018-12-06T22:16:26.630683Z"
    },
    "collapsed": false
   },
   "outputs": [],
   "source": [
    "path='/Volumes/Seagate_Backup_Plus_Drive_Lvb/V404cyg/nustar_v404/90102007003/grp_pipeline_products_7090/'\n",
    "#m2=data_fit_wabs_path(path)\n",
    "m2=data_fit_pow_path(path)\n",
    "AllModels.calcFlux(\"3.0 78.0\")\n",
    "AllData(1).flux"
   ]
  },
  {
   "cell_type": "code",
   "execution_count": null,
   "metadata": {
    "ExecuteTime": {
     "end_time": "2018-12-06T22:19:13.850896Z",
     "start_time": "2018-12-06T22:19:10.586735Z"
    },
    "collapsed": false
   },
   "outputs": [],
   "source": [
    "path='/Volumes/Seagate_Backup_Plus_Drive_Lvb/V404cyg/nustar_v404/90102007003/grp_pipeline_products_50/'\n",
    "#m2=data_fit_wabs_path(path)\n",
    "m2=data_fit_pow_path(path)\n",
    "AllModels.calcFlux(\"3.0 78.0\")\n",
    "AllData(1).flux"
   ]
  },
  {
   "cell_type": "code",
   "execution_count": null,
   "metadata": {
    "ExecuteTime": {
     "end_time": "2018-12-06T22:20:49.106155Z",
     "start_time": "2018-12-06T22:20:45.481259Z"
    },
    "collapsed": false
   },
   "outputs": [],
   "source": [
    "path='/Volumes/Seagate_Backup_Plus_Drive_Lvb/V404cyg/nustar_v404/90102007003/grp_pipeline_products_50100/'\n",
    "#m2=data_fit_wabs_path(path)\n",
    "m2=data_fit_pow_path(path)\n",
    "AllModels.calcFlux(\"3.0 78.0\")\n",
    "AllData(1).flux"
   ]
  },
  {
   "cell_type": "code",
   "execution_count": null,
   "metadata": {
    "collapsed": true
   },
   "outputs": [],
   "source": []
  },
  {
   "cell_type": "code",
   "execution_count": null,
   "metadata": {
    "collapsed": true
   },
   "outputs": [],
   "source": []
  },
  {
   "cell_type": "code",
   "execution_count": null,
   "metadata": {
    "collapsed": true
   },
   "outputs": [],
   "source": []
  },
  {
   "cell_type": "code",
   "execution_count": null,
   "metadata": {
    "collapsed": true
   },
   "outputs": [],
   "source": []
  },
  {
   "cell_type": "code",
   "execution_count": null,
   "metadata": {
    "collapsed": true
   },
   "outputs": [],
   "source": []
  },
  {
   "cell_type": "code",
   "execution_count": null,
   "metadata": {
    "collapsed": true
   },
   "outputs": [],
   "source": []
  },
  {
   "cell_type": "code",
   "execution_count": null,
   "metadata": {
    "collapsed": true
   },
   "outputs": [],
   "source": []
  },
  {
   "cell_type": "code",
   "execution_count": null,
   "metadata": {
    "ExecuteTime": {
     "end_time": "2018-12-05T13:19:18.867518Z",
     "start_time": "2018-12-05T13:19:18.862942Z"
    },
    "collapsed": false
   },
   "outputs": [],
   "source": []
  },
  {
   "cell_type": "markdown",
   "metadata": {
    "ExecuteTime": {
     "end_time": "2018-12-06T18:18:00.582412Z",
     "start_time": "2018-12-06T18:17:59.534264Z"
    },
    "collapsed": true
   },
   "source": [
    "### flux"
   ]
  },
  {
   "cell_type": "markdown",
   "metadata": {},
   "source": [
    "#### inclination"
   ]
  },
  {
   "cell_type": "code",
   "execution_count": null,
   "metadata": {
    "ExecuteTime": {
     "end_time": "2018-12-12T19:11:22.401109Z",
     "start_time": "2018-12-12T19:11:22.387260Z"
    },
    "collapsed": false
   },
   "outputs": [],
   "source": [
    "np.cos(30*2*np.pi/360)#inclination of inner disk with relxillp?\n",
    "# Walton 2017"
   ]
  },
  {
   "cell_type": "code",
   "execution_count": null,
   "metadata": {
    "ExecuteTime": {
     "end_time": "2018-12-12T19:11:29.508178Z",
     "start_time": "2018-12-12T19:11:29.502154Z"
    },
    "collapsed": false
   },
   "outputs": [],
   "source": [
    "np.cos(67*2*np.pi/360) #S.E.Motta et al 2017"
   ]
  },
  {
   "cell_type": "code",
   "execution_count": null,
   "metadata": {
    "ExecuteTime": {
     "end_time": "2018-12-12T19:11:30.280043Z",
     "start_time": "2018-12-12T19:11:30.275645Z"
    },
    "collapsed": false
   },
   "outputs": [],
   "source": [
    "np.cos(56*2*np.pi/360) #Shahbaz et al 1994"
   ]
  },
  {
   "cell_type": "code",
   "execution_count": null,
   "metadata": {
    "ExecuteTime": {
     "end_time": "2018-12-12T19:11:30.943017Z",
     "start_time": "2018-12-12T19:11:30.937245Z"
    },
    "collapsed": false
   },
   "outputs": [],
   "source": [
    "np.cos(65*2*np.pi/360)#Khargharia et al 2010"
   ]
  },
  {
   "cell_type": "code",
   "execution_count": null,
   "metadata": {
    "collapsed": true
   },
   "outputs": [],
   "source": []
  },
  {
   "cell_type": "code",
   "execution_count": null,
   "metadata": {
    "collapsed": true
   },
   "outputs": [],
   "source": []
  },
  {
   "cell_type": "markdown",
   "metadata": {},
   "source": [
    "#### Luminosity"
   ]
  },
  {
   "cell_type": "code",
   "execution_count": null,
   "metadata": {
    "ExecuteTime": {
     "end_time": "2018-12-07T18:41:47.333890Z",
     "start_time": "2018-12-07T18:41:47.321893Z"
    },
    "collapsed": false
   },
   "outputs": [],
   "source": [
    "pc=3.08567756*10**18#cm\n",
    "kpc=1000*pc\n",
    "Ledd=1.26*10**38 #erg/s/Msun\n",
    "Ledd_V=9*Ledd\n",
    "L_V=4*np.pi*(2.39*kpc)**2*1.0e-9\n",
    "rate=L_V/Ledd_V\n",
    "print(Ledd_V,L_V,rate)"
   ]
  },
  {
   "cell_type": "code",
   "execution_count": null,
   "metadata": {
    "ExecuteTime": {
     "end_time": "2018-12-06T18:18:05.785341Z",
     "start_time": "2018-12-06T18:18:05.776768Z"
    },
    "collapsed": true
   },
   "outputs": [],
   "source": [
    "#AllModels.calcFlux(\"3.0 78.0\")\n",
    "#AllModels.calcFlux(\"3.0 78.0 err\")\n",
    "\n",
    "#AllModels.calcLumin(\"3.0 78.0 0.01\")#z 0.01\n",
    "#AllData(1).lumin\n",
    "\n",
    "# Model Flux  0.050136 photons (1.0636e-09 ergs/cm^2/s) range (3.0000 - 78.000 keV)\n",
    "# Error range  0.006581 - 0.1369    (5.808e-11 - 1.701e-09)  (68.00% confidence)\n",
    "\n",
    "# Model Flux 0.050136 photons (1.0636e-09 ergs/cm^2/s) range (3.0000 - 78.000 keV)\n",
    "\n",
    "AllModels.calcFlux(\"3.0 78.0 err\")\n",
    "AllData(1).flux"
   ]
  },
  {
   "cell_type": "markdown",
   "metadata": {},
   "source": [
    "### plot"
   ]
  },
  {
   "cell_type": "code",
   "execution_count": 8,
   "metadata": {
    "ExecuteTime": {
     "end_time": "2018-12-14T10:00:24.928371Z",
     "start_time": "2018-12-14T10:00:24.860007Z"
    },
    "collapsed": true
   },
   "outputs": [],
   "source": [
    "Plot.device='/xs'\n",
    "#Plot.device='/null'"
   ]
  },
  {
   "cell_type": "code",
   "execution_count": null,
   "metadata": {
    "ExecuteTime": {
     "end_time": "2018-12-08T22:20:52.400534Z",
     "start_time": "2018-12-08T22:20:52.394631Z"
    },
    "collapsed": true
   },
   "outputs": [],
   "source": [
    "#Plot.device='/xs'\n",
    "#Plot.device='/null'\n",
    "#Plot('eeuf')\n",
    "#Plot.xAxis=\"keV\"\n",
    "Plot('eeuf del')\n",
    "Plot.xAxis=\"keV\"\n",
    "kev=Plot.x()\n",
    "sed=Plot.y()"
   ]
  },
  {
   "cell_type": "code",
   "execution_count": null,
   "metadata": {
    "collapsed": true
   },
   "outputs": [],
   "source": [
    "#Plot('ldata')\n",
    "#Plot('eeuf del')\n",
    "Plot('eeuf del')\n",
    "#Plot('uf')\n",
    "Plot.xAxis=\"keV\"\n",
    "energy20=Plot.x()\n",
    "eecounts20=Plot.y()\n",
    "folded=Plot.model()"
   ]
  }
 ],
 "metadata": {
  "kernelspec": {
   "display_name": "Python 3",
   "language": "python",
   "name": "python3"
  },
  "language_info": {
   "codemirror_mode": {
    "name": "ipython",
    "version": 3
   },
   "file_extension": ".py",
   "mimetype": "text/x-python",
   "name": "python",
   "nbconvert_exporter": "python",
   "pygments_lexer": "ipython3",
   "version": "3.6.0"
  },
  "latex_envs": {
   "LaTeX_envs_menu_present": true,
   "autocomplete": true,
   "bibliofile": "biblio.bib",
   "cite_by": "apalike",
   "current_citInitial": 1,
   "eqLabelWithNumbers": true,
   "eqNumInitial": 1,
   "hotkeys": {
    "equation": "Ctrl-E",
    "itemize": "Ctrl-I"
   },
   "labels_anchors": false,
   "latex_user_defs": false,
   "report_style_numbering": false,
   "user_envs_cfg": false
  },
  "toc": {
   "nav_menu": {},
   "number_sections": true,
   "sideBar": true,
   "skip_h1_title": false,
   "toc_cell": false,
   "toc_position": {},
   "toc_section_display": "block",
   "toc_window_display": true
  }
 },
 "nbformat": 4,
 "nbformat_minor": 2
}
