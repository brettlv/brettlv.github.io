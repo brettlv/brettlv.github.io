{
 "cells": [
  {
   "cell_type": "code",
   "execution_count": 4,
   "metadata": {
    "ExecuteTime": {
     "end_time": "2018-05-21T10:15:29.553179Z",
     "start_time": "2018-05-21T10:15:29.546462Z"
    },
    "collapsed": false
   },
   "outputs": [
    {
     "ename": "SyntaxError",
     "evalue": "invalid syntax (<ipython-input-4-0113a42f26bc>, line 1)",
     "output_type": "error",
     "traceback": [
      "\u001b[0;36m  File \u001b[0;32m\"<ipython-input-4-0113a42f26bc>\"\u001b[0;36m, line \u001b[0;32m1\u001b[0m\n\u001b[0;31m    (x^{2}+y^{2}-1)^{3}-x^{2}y^{3}=0\u001b[0m\n\u001b[0m                             ^\u001b[0m\n\u001b[0;31mSyntaxError\u001b[0m\u001b[0;31m:\u001b[0m invalid syntax\n"
     ]
    }
   ],
   "source": [
    "(x^{2}+y^{2}-1)^{3}-x^{2}y^{3}=0 "
   ]
  },
  {
   "cell_type": "markdown",
   "metadata": {
    "ExecuteTime": {
     "end_time": "2018-05-21T10:15:12.133269Z",
     "start_time": "2018-05-21T10:15:12.129202Z"
    }
   },
   "source": [
    "$(x^{2}+y^{2}-1)^{3}-x^{2}y^{3}=0 $"
   ]
  },
  {
   "cell_type": "code",
   "execution_count": 8,
   "metadata": {
    "ExecuteTime": {
     "end_time": "2018-05-21T10:41:58.723940Z",
     "start_time": "2018-05-21T10:41:53.235977Z"
    },
    "collapsed": false
   },
   "outputs": [],
   "source": [
    "import numpy as np\n",
    "import matplotlib.pyplot as plt\n",
    "\n",
    "x_coords = np.linspace(-100, 100, 500)\n",
    "y_coords = np.linspace(-100, 100, 500)\n",
    "points = []\n",
    "for y in y_coords:\n",
    "    for x in x_coords:\n",
    "        if ((x*0.03)**2+(y*0.03)**2-1)**3-(x*0.03)**2*(y*0.03)**3 <= 0:\n",
    "            points.append({\"x\": x, \"y\": y})\n",
    "heart_x = list(map(lambda point: point[\"x\"], points))\n",
    "heart_y = list(map(lambda point: point[\"y\"], points))\n",
    "\n",
    "plt.scatter(heart_x, heart_y, s=10, alpha=0.5)\n",
    "plt.scatter(heart_x, heart_y, s=10, alpha=0.5, c=range(len(heart_x)), cmap=\"gist_rainbow\")\n",
    "#plt.show()\n",
    "plt.savefig('lovecurve.png',dpi=300)\n"
   ]
  },
  {
   "cell_type": "code",
   "execution_count": 9,
   "metadata": {
    "ExecuteTime": {
     "end_time": "2018-05-21T10:42:04.778269Z",
     "start_time": "2018-05-21T10:42:04.616456Z"
    },
    "collapsed": false
   },
   "outputs": [
    {
     "name": "stdout",
     "output_type": "stream",
     "text": [
      "\u001b[34m chandra_csc\u001b[m\u001b[m/\r\n",
      "CC.ipynb\r\n",
      "FIRST Catalog Search.htm\r\n",
      "FIRST Catalog Search240arcsec.htm\r\n",
      "\u001b[34mFIRST Catalog Search240arcsec_files\u001b[m\u001b[m/\r\n",
      "FIRST Catalog Search60arc.htm\r\n",
      "\u001b[34mFIRST Catalog Search60arc_files\u001b[m\u001b[m/\r\n",
      "\u001b[34mFIRST Catalog Search_files\u001b[m\u001b[m/\r\n",
      "FIRST_range.png\r\n",
      "FreqBayes.ipynb\r\n",
      "FreqBayes2.ipynb\r\n",
      "GRO1655_40.ipynb\r\n",
      "GetlistofwikiwithFIRST SURVEY.ipynb\r\n",
      "Untitled.ipynb\r\n",
      "Untitled1.ipynb\r\n",
      "Untitled10.ipynb\r\n",
      "Untitled11.ipynb\r\n",
      "Untitled12.ipynb\r\n",
      "Untitled13.ipynb\r\n",
      "Untitled14.ipynb\r\n",
      "Untitled15.ipynb\r\n",
      "Untitled2.ipynb\r\n",
      "Untitled3.ipynb\r\n",
      "Untitled4.ipynb\r\n",
      "Untitled5.ipynb\r\n",
      "Untitled6.ipynb\r\n",
      "Untitled7.ipynb\r\n",
      "Untitled8.ipynb\r\n",
      "Untitled9.ipynb\r\n",
      "advanced python.ipynb\r\n",
      "arxiv_new_submission_search_and_download.ipynb\r\n",
      "astro.ipynb\r\n",
      "astroLombScargle.ipynb\r\n",
      "astro_convolution.ipynb\r\n",
      "astro_cosmology.ipynb\r\n",
      "astro_fits.ipynb\r\n",
      "astro_function_table.ipynb\r\n",
      "astro_model_fit.ipynb\r\n",
      "astro_nova_fit.ipynb\r\n",
      "astro_pyds9.ipynb\r\n",
      "astro_redshift.ipynb\r\n",
      "astro_spectum.ipynb\r\n",
      "astro_time.ipynb\r\n",
      "astro_visualization.ipynb\r\n",
      "astro_vo.ipynb\r\n",
      "astro_wcs.ipynb\r\n",
      "astro_xml.ipynb\r\n",
      "astroimage.ipynb\r\n",
      "bayes_monte_carlo.ipynb\r\n",
      "caculator.ipynb\r\n",
      "casa_tutorial_vla_V404_.ipynb\r\n",
      "chandra.time.ipynb\r\n",
      "chandra11027.txt\r\n",
      "chandra11028.txt\r\n",
      "chandra12060.txt\r\n",
      "chandra12061.txt\r\n",
      "chandra2795.txt\r\n",
      "chandra4523.txt\r\n",
      "chandra4524.txt\r\n",
      "chandra4525.txt\r\n",
      "chandra4526.txt\r\n",
      "chandra4527.txt\r\n",
      "chandra5282.txt\r\n",
      "chandra6562.txt\r\n",
      "chandra7249.txt\r\n",
      "chandra_list_vot_xml.ipynb\r\n",
      "deep learning.ipynb\r\n",
      "fundamental_agn.ipynb\r\n",
      "fundamental_fixaccretionrate.ipynb\r\n",
      "fundamental_linear.ipynb\r\n",
      "fundamental_pandas.ipynb\r\n",
      "juliatestinjupyter.ipynb\r\n",
      "jupyter-test.ipynb\r\n",
      "listofnearestgalaxies.csv\r\n",
      "lovecurve.ipynb\r\n",
      "lovecurve.png\r\n",
      "m33.ipynb\r\n",
      "machine learning.ipynb\r\n",
      "nearest_galaxies_cscresults.tsv\r\n",
      "nearest_galaxies_cscresults.vot\r\n",
      "nustar_xmm_data_reduction.ipynb\r\n",
      "pandas.ipynb\r\n",
      "plot.ipynb\r\n",
      "pos_list.csv\r\n",
      "pos_list.txt\r\n",
      "pos_list_1.csv\r\n",
      "pos_list_2.csv\r\n",
      "py2and3in jupyter.ipynb\r\n",
      "py2download.ipynb\r\n",
      "py3ads.ipynb\r\n",
      "py3and2in jupyter.ipynb\r\n",
      "py3downloadarxivpdf.ipynb\r\n",
      "py3scrapy.ipynb\r\n",
      "pyBH_accretion_disk.ipynb\r",
      "\r\n",
      "py_gwpy.ipynb\r\n",
      "py_linear_fit_with_error_in_both_axis.ipynb\r\n",
      "pyads.ipynb\r\n",
      "pydisplayhtml.ipynb\r\n",
      "pyemail.ipynb\r\n",
      "pyemcee_mcmc.ipynb\r\n",
      "pykivy error.ipynb\r\n",
      "pymc_.ipynb\r\n",
      "pymcmc_linearfit_with_outlier.ipynb\r\n",
      "pymysql.ipynb\r\n",
      "pysinfunc_mcmc.ipynb\r\n",
      "pytensorflow.ipynb\r\n",
      "pythoncode.md\r\n",
      "pythondatascience.ipynb\r\n",
      "pytorch.ipynb\r\n",
      "pyvocabulary.ipynb\r\n",
      "ra_dec.txt\r\n",
      "ra_dec_tab.txt\r\n",
      "ra_dec_tab_byhand.txt\r\n",
      "radec.vot\r\n",
      "radec.xml\r\n",
      "randnum.ipynb\r\n",
      "randnumpytest.ipynb\r\n",
      "report19.ipynb\r\n",
      "scipy.signal.periodogram.ipynb\r\n",
      "searchresult.txt\r\n",
      "sherpa.ipynb\r\n",
      "tkinter.ipynb\r\n",
      "tkinter1.ipynb\r\n",
      "visual.ipynb\r\n",
      "xmm0150800101.txt\r\n",
      "xmm0206100101.txt\r\n",
      "xmm0551860101.txt\r\n",
      "xmm0690420101.txt\r\n",
      "xmm0784670101.txt\r\n",
      "youngradio.ipynb\r\n"
     ]
    }
   ],
   "source": [
    "ls\n"
   ]
  },
  {
   "cell_type": "markdown",
   "metadata": {},
   "source": [
    "cmap=\"autumn\"\n",
    "cmap=\"cool\"\n",
    "cmap=\"magma\"\n",
    "cmap=\"rainbow\"\n",
    "cmap=\"Reds\"\n",
    "cmap=\"spring\"\n",
    "cmap=\"viridis\"\n",
    "cmap=\"gist_rainbow\""
   ]
  },
  {
   "cell_type": "code",
   "execution_count": null,
   "metadata": {
    "collapsed": true
   },
   "outputs": [],
   "source": []
  },
  {
   "cell_type": "code",
   "execution_count": null,
   "metadata": {
    "collapsed": true
   },
   "outputs": [],
   "source": []
  },
  {
   "cell_type": "code",
   "execution_count": null,
   "metadata": {
    "collapsed": true
   },
   "outputs": [],
   "source": []
  }
 ],
 "metadata": {
  "kernelspec": {
   "display_name": "Python 3",
   "language": "python",
   "name": "python3"
  },
  "language_info": {
   "codemirror_mode": {
    "name": "ipython",
    "version": 3
   },
   "file_extension": ".py",
   "mimetype": "text/x-python",
   "name": "python",
   "nbconvert_exporter": "python",
   "pygments_lexer": "ipython3",
   "version": "3.6.0"
  },
  "latex_envs": {
   "LaTeX_envs_menu_present": true,
   "autocomplete": true,
   "bibliofile": "biblio.bib",
   "cite_by": "apalike",
   "current_citInitial": 1,
   "eqLabelWithNumbers": true,
   "eqNumInitial": 1,
   "hotkeys": {
    "equation": "Ctrl-E",
    "itemize": "Ctrl-I"
   },
   "labels_anchors": false,
   "latex_user_defs": false,
   "report_style_numbering": false,
   "user_envs_cfg": false
  },
  "toc": {
   "nav_menu": {},
   "number_sections": true,
   "sideBar": true,
   "skip_h1_title": false,
   "toc_cell": false,
   "toc_position": {},
   "toc_section_display": "block",
   "toc_window_display": false
  }
 },
 "nbformat": 4,
 "nbformat_minor": 2
}
