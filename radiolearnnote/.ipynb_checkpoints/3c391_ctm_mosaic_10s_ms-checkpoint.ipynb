{
 "cells": [
  {
   "cell_type": "markdown",
   "metadata": {
    "collapsed": false,
    "extensions": {
     "jupyter_dashboards": {
      "version": 1,
      "views": {
       "grid_default": {
        "hidden": true
       },
       "report_default": {
        "hidden": true
       }
      }
     }
    },
    "scrolled": true
   },
   "source": [
    "import casapy"
   ]
  },
  {
   "cell_type": "code",
   "execution_count": null,
   "metadata": {
    "collapsed": true,
    "extensions": {
     "jupyter_dashboards": {
      "version": 1,
      "views": {
       "grid_default": {},
       "report_default": {
        "hidden": true
       }
      }
     }
    }
   },
   "outputs": [],
   "source": []
  },
  {
   "cell_type": "markdown",
   "metadata": {
    "extensions": {
     "jupyter_dashboards": {
      "version": 1,
      "views": {
       "grid_default": {
        "col": 0,
        "height": 4,
        "hidden": false,
        "row": 0,
        "width": 4
       },
       "report_default": {
        "hidden": false
       }
      }
     }
    }
   },
   "source": [
    "# [Tutorial of 3c391](https://casaguides.nrao.edu/index.php?title=VLA_Continuum_Tutorial_3C391-CASA4.7)\n",
    "\n",
    "## in bash\n",
    "chmod u+x extractCASAscript.py\n",
    "\n",
    "python2 extractCASAscript.py 'http://casaguides.nrao.edu/index.php?title=Calibrating_a_VLA_5_GHz_continuum_survey'\n",
    "\n",
    "python2 extractCASAscript.py 'https://casaguides.nrao.edu/index.php?title=VLA_Continuum_Tutorial_3C391-CASA4.7'\n",
    "\n",
    "\n",
    "## in CASA\n",
    "execfile('CalibratingaVLA5GHzcontinuumsurvey.py')\n",
    "\n",
    "[Pipeline Webpage](https://casa.nrao.edu/Data/EVLA/Pipeline/CASA4.7.2/html/)\n",
    "\n",
    "/Applications/Google Chrome.app/Contents/MacOS/Google Chrome --args --allow-file-access-from-files /Users/brettlv/html/index.html"
   ]
  },
  {
   "cell_type": "code",
   "execution_count": null,
   "metadata": {
    "collapsed": true,
    "extensions": {
     "jupyter_dashboards": {
      "version": 1,
      "views": {
       "grid_default": {},
       "report_default": {
        "hidden": true
       }
      }
     }
    }
   },
   "outputs": [],
   "source": []
  },
  {
   "cell_type": "markdown",
   "metadata": {
    "extensions": {
     "jupyter_dashboards": {
      "version": 1,
      "views": {
       "grid_default": {
        "col": 4,
        "height": 4,
        "hidden": false,
        "row": 0,
        "width": 4
       },
       "report_default": {
        "hidden": false
       }
      }
     }
    }
   },
   "source": [
    "Flux image and  Light curve?\n",
    "errorbar\n",
    "\n",
    "E and  B polarization map\n",
    "Special index map\n",
    "RFI(radio frequency interference)\n",
    "FR(Faraday Rotation)"
   ]
  },
  {
   "cell_type": "markdown",
   "metadata": {
    "extensions": {
     "jupyter_dashboards": {
      "version": 1,
      "views": {
       "grid_default": {
        "col": 0,
        "height": 4,
        "hidden": false,
        "row": 4,
        "width": 12
       },
       "report_default": {
        "hidden": false
       }
      }
     }
    }
   },
   "source": [
    "You may obtain the data set from here:http://casa.nrao.edu/Data/EVLA/3C391/3c391_ctm_mosaic_10s_spw0.ms.tgz(dataset size: 3.1GB).\n",
    "If you wish to start from the very beginning, you may download the dataset from the [NRAO Archive](https://archive.nrao.edu/archive/archiveproject.jsp): TDEM0001_sb1218006_1.55310.33439732639"
   ]
  },
  {
   "cell_type": "code",
   "execution_count": null,
   "metadata": {
    "collapsed": true,
    "extensions": {
     "jupyter_dashboards": {
      "version": 1,
      "views": {
       "grid_default": {
        "col": 0,
        "height": 11,
        "hidden": false,
        "row": 8,
        "width": 12
       },
       "report_default": {
        "hidden": false
       }
      }
     }
    }
   },
   "outputs": [],
   "source": []
  },
  {
   "cell_type": "markdown",
   "metadata": {
    "extensions": {
     "jupyter_dashboards": {
      "version": 1,
      "views": {
       "grid_default": {
        "col": 0,
        "height": 7,
        "hidden": false,
        "row": 19,
        "width": 12
       },
       "report_default": {
        "hidden": false
       }
      }
     }
    }
   },
   "source": [
    "## Calibrator\n",
    "* J1331+3030 = 3C 286, which will later serve as a calibrator for the visibility amplitudes, i.e., it is assumed to have a precisely known flux density; the spectral bandpass; and the polarization position angle;\n",
    "* J1822-0938, which will serve as a calibrator for the visibility phases;\n",
    "* J0319+4130 = 3C 84, which will serve as a polarization calibrator; and\n",
    "* 3C391 C1&#150;C7, which are 7 fields centered on and surrounding the supernova remnant.\n",
    "* 4.6GHz and 7.5GHz bandwidth 128MHz"
   ]
  },
  {
   "cell_type": "markdown",
   "metadata": {
    "extensions": {
     "jupyter_dashboards": {
      "version": 1,
      "views": {
       "grid_default": {
        "col": 0,
        "height": 23,
        "hidden": false,
        "row": 26,
        "width": 12
       },
       "report_default": {
        "hidden": false
       }
      }
     }
    }
   },
   "source": [
    "The antennas can be referenced using either convention; antenna='22' would correspond to ea25, whereas antenna='ea22' would correspond to ea22. Note that the antenna numbers in the observer log correspond to the actual antenna names, i.e., the 'ea??' numbers given in listobs\n",
    "\n",
    "\n",
    "\n",
    "\n",
    "[x] spw id\n",
    "spectrum window\n",
    "\n",
    "Corrs = [ RR RL LR LL ]\n",
    "clearstat() # This removes any existing table locks generated by flagdata\n",
    "correlation='RR,LL’\n",
    "correlation='RR,LL' : Plot only the left- and right-handed polarization products. The cross-terms ('RL' and 'LR') will be close to zero for non-polarized sources\n",
    "\n",
    "\n",
    "\n",
    "The spread of amplitudes in each field is partly due to the difference in gain on each antenna and baseline. Data calibration will take care of much of that scatter.\n",
    "\n",
    "[x] Export menu\n",
    "\n",
    "select the Data tab and specify field 0 (source J1331+3030, a.k.a. 3C 286) to display data associated with the amplitude calibrator, then select the Axes tab and change the X-axis to be UVdist(baseline length in meters) \n",
    "\n",
    "Calibrate the Data:\n",
    "\n",
    "Note that gaintype='G' assumes the V stokes is zero if not told otherwise, so for the case where the calibrator has significant circular polarization, a model incorporating polarization must be used (this can be set with setjy). \n",
    "\n",
    "plotcal(caltable='3c391_ctm_mosaic_10s_spw0.G0all',xaxis='time',yaxis='phase',poln='R',iteration='antenna',plotrange=[-1,-1,-180,180])\n",
    "\n",
    "2017-11-14 06:43:16WARNbandpass::::No VLATrDelCorr keyword in the antpos caltable; turning trop delay correction OFF.\n",
    "\n",
    "\n",
    "\n",
    "Sometimes plotcal will lock a table and/or keep it in the table cache beyond the end of plotting. This can hang up further use of that table, or cause errors if you delete the table outside of CASA and want to re-create it. To deal with that issue, simply close the plotcal GUI using the Quit button when you are done looking at the plot.\n",
    "\n",
    "All data with the VLA are taken in spectral line mode, even if the science that one is conducting is continuum, and therefore requires a bandpass solution to account for gain variations with frequency\n",
    "\n",
    "\n",
    "time averaging is 1e10 seconds\n",
    "\n",
    "\n",
    " Note that for the case of a target with circular polarization gaintype='G ' should only be used if there is a model including the circular polarization, gaintype='G' will assume V=0 in the absence of other information. If you do not have a model containing the circular polarization then gaintype='T' should be used. We know that 3C391 does not have detectable circular polarization so gaintype='G' with no V model is fine.\n",
    "\n",
    "\n",
    "\n"
   ]
  },
  {
   "cell_type": "markdown",
   "metadata": {
    "collapsed": true,
    "extensions": {
     "jupyter_dashboards": {
      "version": 1,
      "views": {
       "grid_default": {
        "col": 0,
        "height": 6,
        "hidden": false,
        "row": 49,
        "width": 12
       },
       "report_default": {
        "hidden": false
       }
      }
     }
    }
   },
   "source": [
    "# Data test\n",
    "\n",
    "## flag data\n",
    "## setjy and gain table"
   ]
  },
  {
   "cell_type": "code",
   "execution_count": null,
   "metadata": {
    "collapsed": true,
    "extensions": {
     "jupyter_dashboards": {
      "version": 1,
      "views": {
       "grid_default": {
        "hidden": true
       },
       "report_default": {
        "hidden": true
       }
      }
     }
    }
   },
   "outputs": [],
   "source": [
    "listobs(vis='3c391_ctm_mosaic_10s_spw0.ms')\n",
    "\n",
    "\n",
    "plotants(vis='3c391_ctm_mosaic_10s_spw0.ms',figfile='plotants_3c391_antenna_layout.png')\n",
    "clearstat() # This removes the table lock generated by plotants in script mode\n",
    "flagdata(vis='3c391_ctm_mosaic_10s_spw0.ms', flagbackup=True,mode='manual', scan='1')\n",
    "\n",
    "flagdata(vis='3c391_ctm_mosaic_10s_spw0.ms', flagbackup=True, mode='manual',antenna='ea13,ea15')\n",
    "\n",
    "flagdata(vis='3c391_ctm_mosaic_10s_spw0.ms', mode='quack',quackinterval=10.0, quackmode='beg')\n",
    "\n",
    "clearstat() # This removes any existing table locks generated by flagdata\n",
    "plotms(vis='3c391_ctm_mosaic_10s_spw0.ms', selectdata=True, correlation='RR,LL',averagedata=True, avgchannel='64', coloraxis='field')\n",
    "\n",
    "plotms(vis='3c391_ctm_mosaic_10s_spw0.ms',field='',correlation='RR,LL',timerange='',antenna='ea01',spw='0:31',xaxis='time',yaxis='antenna2',plotrange=[-1,-1,0,26],coloraxis='field')\n",
    "\n",
    "gencal(vis='3c391_ctm_mosaic_10s_spw0.ms',caltable='3c391_ctm_mosaic_10s_spw0.antpos',caltype='antpos')\n",
    "\n",
    "setjy(vis='3c391_ctm_mosaic_10s_spw0.ms', listmodels=True)\n",
    "\n",
    "setjy(vis='3c391_ctm_mosaic_10s_spw0.ms',field='J1331+3030',standard='Perley-Butler 2013',model='3C286_C.im',usescratch=False,scalebychan=True,spw='')\n",
    "\n",
    "gaincal(vis='3c391_ctm_mosaic_10s_spw0.ms', caltable='3c391_ctm_mosaic_10s_spw0.G0all', \n",
    "        field='0,1,9', refant='ea21', spw='0:27~36',\n",
    "        gaintype='G',calmode='p', solint='int', \n",
    "        minsnr=5, gaintable=['3c391_ctm_mosaic_10s_spw0.antpos'])\n",
    "\n",
    "plotcal(caltable='3c391_ctm_mosaic_10s_spw0.G0all',xaxis='time',yaxis='phase',\n",
    "        poln='R',iteration='antenna',plotrange=[-1,-1,-180,180])\n",
    "\n",
    "plotcal(caltable='3c391_ctm_mosaic_10s_spw0.G0all',xaxis='time',yaxis='phase',antenna='ea05',\n",
    "        poln='R',iteration='antenna',plotrange=[-1,-1,-180,180],figfile='plotcal_3c391-G0all-phase-R-ea05.png')\n",
    "\n",
    "plotcal(caltable='3c391_ctm_mosaic_10s_spw0.G0all',\n",
    "        xaxis='time', yaxis='phase', poln='L', \n",
    "        iteration='antenna', plotrange=[-1,-1,-180,180])\n",
    "\n",
    "\n",
    "flagdata(vis='3c391_ctm_mosaic_10s_spw0.ms',\n",
    "         flagbackup=True, mode='manual', antenna='ea05')\n",
    "\n",
    "gaincal(vis='3c391_ctm_mosaic_10s_spw0.ms', caltable='3c391_ctm_mosaic_10s_spw0.G0', \n",
    "        field='J1331+3030', refant='ea21', spw='0:27~36', calmode='p', solint='int', \n",
    "        minsnr=5, gaintable=['3c391_ctm_mosaic_10s_spw0.antpos'])\n",
    "\n",
    "plotcal(caltable='3c391_ctm_mosaic_10s_spw0.G0',\n",
    "        xaxis='time',yaxis='phase',poln='R',field='J1331+3030',iteration='antenna',\n",
    "        plotrange=[-1,-1,-180,180],timerange='08:02:00~08:17:00')\n",
    "\n",
    "gaincal(vis='3c391_ctm_mosaic_10s_spw0.ms',caltable='3c391_ctm_mosaic_10s_spw0.K0', \n",
    "        field='J1331+3030',refant='ea21',spw='0:5~58',gaintype='K', \n",
    "        solint='inf',combine='scan',minsnr=5,\n",
    "        gaintable=['3c391_ctm_mosaic_10s_spw0.antpos',\n",
    "                   '3c391_ctm_mosaic_10s_spw0.G0'])\n",
    "\n",
    "plotcal(caltable='3c391_ctm_mosaic_10s_spw0.K0',xaxis='antenna',yaxis='delay',\n",
    "        figfile='plotcal_3c391-K0-delay.png')"
   ]
  },
  {
   "cell_type": "code",
   "execution_count": null,
   "metadata": {
    "collapsed": true,
    "extensions": {
     "jupyter_dashboards": {
      "version": 1,
      "views": {
       "grid_default": {
        "hidden": true
       },
       "report_default": {
        "hidden": true
       }
      }
     }
    }
   },
   "outputs": [],
   "source": []
  },
  {
   "cell_type": "markdown",
   "metadata": {
    "collapsed": true,
    "extensions": {
     "jupyter_dashboards": {
      "version": 1,
      "views": {
       "grid_default": {
        "col": 8,
        "height": 4,
        "hidden": false,
        "row": 0,
        "width": 4
       },
       "report_default": {
        "hidden": false
       }
      }
     }
    }
   },
   "source": [
    "# Calibration"
   ]
  },
  {
   "cell_type": "markdown",
   "metadata": {
    "extensions": {
     "jupyter_dashboards": {
      "version": 1,
      "views": {
       "grid_default": {
        "col": 0,
        "height": 4,
        "hidden": false,
        "row": 55,
        "width": 4
       },
       "report_default": {
        "hidden": false
       }
      }
     }
    }
   },
   "source": [
    "## Bandpass calibration"
   ]
  },
  {
   "cell_type": "code",
   "execution_count": null,
   "metadata": {
    "collapsed": true,
    "extensions": {
     "jupyter_dashboards": {
      "version": 1,
      "views": {
       "grid_default": {
        "hidden": true
       },
       "report_default": {
        "hidden": true
       }
      }
     }
    }
   },
   "outputs": [],
   "source": [
    "bandpass(vis='3c391_ctm_mosaic_10s_spw0.ms',caltable='3c391_ctm_mosaic_10s_spw0.B0',\n",
    "         field='J1331+3030',spw='',refant='ea21',combine='scan', \n",
    "         solint='inf',bandtype='B',\n",
    "         gaintable=['3c391_ctm_mosaic_10s_spw0.antpos',\n",
    "                    '3c391_ctm_mosaic_10s_spw0.G0',\n",
    "                    '3c391_ctm_mosaic_10s_spw0.K0'])"
   ]
  },
  {
   "cell_type": "code",
   "execution_count": null,
   "metadata": {
    "collapsed": true,
    "extensions": {
     "jupyter_dashboards": {
      "version": 1,
      "views": {
       "grid_default": {
        "hidden": true
       },
       "report_default": {
        "hidden": true
       }
      }
     }
    }
   },
   "outputs": [],
   "source": [
    "plotcal(caltable='3c391_ctm_mosaic_10s_spw0.B0',poln='R',xaxis='chan',yaxis='amp',field='J1331+3030',subplot=221,iteration='antenna',figfile='plotcal_3c391_3c286_B0_R_amp.png')\n"
   ]
  },
  {
   "cell_type": "code",
   "execution_count": null,
   "metadata": {
    "collapsed": true,
    "extensions": {
     "jupyter_dashboards": {
      "version": 1,
      "views": {
       "grid_default": {
        "hidden": true
       },
       "report_default": {
        "hidden": true
       }
      }
     }
    }
   },
   "outputs": [],
   "source": [
    "plotcal(caltable='3c391_ctm_mosaic_10s_spw0.B0',poln='L',xaxis='chan',yaxis='amp',field='J1331+3030',subplot=221,iteration='antenna',figfile='plotcal_3c391_3c286_B0_L_amp.png')\n"
   ]
  },
  {
   "cell_type": "code",
   "execution_count": null,
   "metadata": {
    "collapsed": true,
    "extensions": {
     "jupyter_dashboards": {
      "version": 1,
      "views": {
       "grid_default": {
        "hidden": true
       },
       "report_default": {
        "hidden": true
       }
      }
     }
    }
   },
   "outputs": [],
   "source": [
    "plotcal(caltable='3c391_ctm_mosaic_10s_spw0.B0',poln='R',xaxis='chan',yaxis='phase',field='J1331+3030',subplot=221,iteration='antenna',plotrange=[-1,-1,-180,180],figfile='plotcal_3c391_3c286_B0_R_phase.png')\n"
   ]
  },
  {
   "cell_type": "code",
   "execution_count": null,
   "metadata": {
    "collapsed": true,
    "extensions": {
     "jupyter_dashboards": {
      "version": 1,
      "views": {
       "grid_default": {
        "hidden": true
       },
       "report_default": {
        "hidden": true
       }
      }
     }
    }
   },
   "outputs": [],
   "source": [
    "plotcal(caltable='3c391_ctm_mosaic_10s_spw0.B0',poln='L',xaxis='chan',yaxis='phase',field='J1331+3030',subplot=221,iteration='antenna',plotrange=[-1,-1,-180,180],figfile='plotcal_3c391_3c286_B0_L_phase.png')\n"
   ]
  },
  {
   "cell_type": "code",
   "execution_count": null,
   "metadata": {
    "collapsed": true,
    "extensions": {
     "jupyter_dashboards": {
      "version": 1,
      "views": {
       "grid_default": {
        "hidden": true
       },
       "report_default": {
        "hidden": true
       }
      }
     }
    }
   },
   "outputs": [],
   "source": []
  },
  {
   "cell_type": "markdown",
   "metadata": {
    "extensions": {
     "jupyter_dashboards": {
      "version": 1,
      "views": {
       "grid_default": {
        "col": 4,
        "height": 4,
        "hidden": false,
        "row": 55,
        "width": 4
       },
       "report_default": {
        "hidden": false
       }
      }
     }
    }
   },
   "source": [
    "## Gain calibration"
   ]
  },
  {
   "cell_type": "code",
   "execution_count": null,
   "metadata": {
    "collapsed": true,
    "extensions": {
     "jupyter_dashboards": {
      "version": 1,
      "views": {
       "grid_default": {
        "hidden": true
       },
       "report_default": {
        "hidden": true
       }
      }
     }
    }
   },
   "outputs": [],
   "source": [
    "gaincal(vis='3c391_ctm_mosaic_10s_spw0.ms',caltable='3c391_ctm_mosaic_10s_spw0.G1',field='J1331+3030',spw='0:5~58',refant='ea21',solint='inf',gaintype='G',calmode='ap',solnorm=False,gaintable=['3c391_ctm_mosaic_10s_spw0.antpos','3c391_ctm_mosaic_10s_spw0.K0','3c391_ctm_mosaic_10s_spw0.B0'],interp=['linear','linear','nearest'])"
   ]
  },
  {
   "cell_type": "markdown",
   "metadata": {
    "extensions": {
     "jupyter_dashboards": {
      "version": 1,
      "views": {
       "grid_default": {
        "col": 8,
        "height": 4,
        "hidden": false,
        "row": 55,
        "width": 4
       },
       "report_default": {
        "hidden": false
       }
      }
     }
    }
   },
   "source": [
    "### delete combine='scan' "
   ]
  },
  {
   "cell_type": "code",
   "execution_count": null,
   "metadata": {
    "collapsed": true,
    "extensions": {
     "jupyter_dashboards": {
      "version": 1,
      "views": {
       "grid_default": {
        "hidden": true
       },
       "report_default": {
        "hidden": true
       }
      }
     }
    }
   },
   "outputs": [],
   "source": [
    "gaincal(vis='3c391_ctm_mosaic_10s_spw0.ms',caltable='3c391_ctm_mosaic_10s_spw0.G1',field='J1822-0938',spw='0:5~58',refant='ea21',solint='inf',gaintype='G',calmode='ap',gaintable=['3c391_ctm_mosaic_10s_spw0.antpos','3c391_ctm_mosaic_10s_spw0.K0','3c391_ctm_mosaic_10s_spw0.B0'],append=True)"
   ]
  },
  {
   "cell_type": "code",
   "execution_count": null,
   "metadata": {
    "collapsed": true,
    "extensions": {
     "jupyter_dashboards": {
      "version": 1,
      "views": {
       "grid_default": {
        "hidden": true
       },
       "report_default": {
        "hidden": true
       }
      }
     }
    }
   },
   "outputs": [],
   "source": [
    "gaincal(vis='3c391_ctm_mosaic_10s_spw0.ms',caltable='3c391_ctm_mosaic_10s_spw0.G1',field='J0319+4130',spw='0:5~58',refant='ea21',solint='inf',gaintype='G',calmode='ap',gaintable=['3c391_ctm_mosaic_10s_spw0.antpos','3c391_ctm_mosaic_10s_spw0.K0','3c391_ctm_mosaic_10s_spw0.B0'],append=True)"
   ]
  },
  {
   "cell_type": "code",
   "execution_count": null,
   "metadata": {
    "collapsed": true,
    "extensions": {
     "jupyter_dashboards": {
      "version": 1,
      "views": {
       "grid_default": {
        "hidden": true
       },
       "report_default": {
        "hidden": true
       }
      }
     }
    }
   },
   "outputs": [],
   "source": []
  },
  {
   "cell_type": "code",
   "execution_count": null,
   "metadata": {
    "collapsed": true,
    "extensions": {
     "jupyter_dashboards": {
      "version": 1,
      "views": {
       "grid_default": {
        "hidden": true
       },
       "report_default": {
        "hidden": true
       }
      }
     }
    }
   },
   "outputs": [],
   "source": [
    "plotcal(caltable='3c391_ctm_mosaic_10s_spw0.G1',xaxis='time',yaxis='phase',poln='R',plotrange=[-1,-1,-180,180],figfile='plotcal_3c391_G1_phase_R.png')"
   ]
  },
  {
   "cell_type": "code",
   "execution_count": null,
   "metadata": {
    "collapsed": true,
    "extensions": {
     "jupyter_dashboards": {
      "version": 1,
      "views": {
       "grid_default": {
        "hidden": true
       },
       "report_default": {
        "hidden": true
       }
      }
     }
    }
   },
   "outputs": [],
   "source": [
    "plotcal(caltable='3c391_ctm_mosaic_10s_spw0.G1',xaxis='time',yaxis='phase',poln='L',plotrange=[-1,-1,-180,180],figfile='plotcal_3c391_G1_phase_L.png')"
   ]
  },
  {
   "cell_type": "code",
   "execution_count": null,
   "metadata": {
    "collapsed": true,
    "extensions": {
     "jupyter_dashboards": {
      "version": 1,
      "views": {
       "grid_default": {
        "hidden": true
       },
       "report_default": {
        "hidden": true
       }
      }
     }
    }
   },
   "outputs": [],
   "source": [
    "plotcal(caltable='3c391_ctm_mosaic_10s_spw0.G1',xaxis='time',yaxis='amp',poln='R',figfile='plotcal_3c391_G1_amp_R.png')"
   ]
  },
  {
   "cell_type": "code",
   "execution_count": null,
   "metadata": {
    "collapsed": true,
    "extensions": {
     "jupyter_dashboards": {
      "version": 1,
      "views": {
       "grid_default": {
        "hidden": true
       },
       "report_default": {
        "hidden": true
       }
      }
     }
    }
   },
   "outputs": [],
   "source": [
    "plotcal(caltable='3c391_ctm_mosaic_10s_spw0.G1',xaxis='time',yaxis='amp',poln='L',figfile='plotcal_3c391_G1_amp_L.png')"
   ]
  },
  {
   "cell_type": "code",
   "execution_count": null,
   "metadata": {
    "collapsed": true,
    "extensions": {
     "jupyter_dashboards": {
      "version": 1,
      "views": {
       "grid_default": {
        "hidden": true
       },
       "report_default": {
        "hidden": true
       }
      }
     }
    }
   },
   "outputs": [],
   "source": [
    "plotcal(caltable='3c391_ctm_mosaic_10s_spw0.G1',xaxis='time',yaxis='phase',poln='/',plotrange=[-1,-1,-180,180],figfile='plotcal_3c391_G1_phase_rat.png')"
   ]
  },
  {
   "cell_type": "markdown",
   "metadata": {
    "extensions": {
     "jupyter_dashboards": {
      "version": 1,
      "views": {
       "grid_default": {
        "col": 0,
        "height": 4,
        "hidden": false,
        "row": 59,
        "width": 4
       },
       "report_default": {
        "hidden": false
       }
      }
     }
    }
   },
   "source": [
    "## Polarization Calibration"
   ]
  },
  {
   "cell_type": "code",
   "execution_count": 7,
   "metadata": {
    "collapsed": false,
    "extensions": {
     "jupyter_dashboards": {
      "version": 1,
      "views": {
       "grid_default": {
        "hidden": true
       },
       "report_default": {
        "hidden": true
       }
      }
     }
    }
   },
   "outputs": [],
   "source": [
    "import math\n",
    "from math import log,pi\n"
   ]
  },
  {
   "cell_type": "code",
   "execution_count": 8,
   "metadata": {
    "collapsed": false,
    "extensions": {
     "jupyter_dashboards": {
      "version": 1,
      "views": {
       "grid_default": {
        "hidden": true
       },
       "report_default": {
        "hidden": true
       }
      }
     }
    }
   },
   "outputs": [],
   "source": [
    "alpha=log(7.53261/7.6677)/log(4663.0/4536.0)\n",
    "i0=7.6677\n",
    "c0=0.112\n",
    "d0=33*pi/180\n",
    "\n"
   ]
  },
  {
   "cell_type": "code",
   "execution_count": null,
   "metadata": {
    "collapsed": true,
    "extensions": {
     "jupyter_dashboards": {
      "version": 1,
      "views": {
       "grid_default": {
        "hidden": true
       },
       "report_default": {
        "hidden": true
       }
      }
     }
    }
   },
   "outputs": [],
   "source": [
    "setjy(vis='3c391_ctm_mosaic_10s_spw0.ms',field='J1331+3030',standard='manual',spw='0',fluxdensity=[i0,0,0,0],spix=[alpha,0],reffreq='4536.0MHz',polindex=[c0,0],polangle=[d0,0],scalebychan=True,usescratch=False)"
   ]
  },
  {
   "cell_type": "code",
   "execution_count": null,
   "metadata": {
    "collapsed": true,
    "extensions": {
     "jupyter_dashboards": {
      "version": 1,
      "views": {
       "grid_default": {
        "hidden": true
       },
       "report_default": {
        "hidden": true
       }
      }
     }
    }
   },
   "outputs": [],
   "source": [
    "{'0': {'0': {'fluxd': array([ 7.6677    ,  0.34929827,  0.78453676,  0.        ])},\n",
    "       'fieldName': 'J1331+3030'},\n",
    " 'format': \"{field Id: {spw Id: {fluxd: [I,Q,U,V] in Jy}, 'fieldName':field name }}\"}"
   ]
  },
  {
   "cell_type": "code",
   "execution_count": null,
   "metadata": {
    "collapsed": true,
    "extensions": {
     "jupyter_dashboards": {
      "version": 1,
      "views": {
       "grid_default": {
        "hidden": true
       },
       "report_default": {
        "hidden": true
       }
      }
     }
    }
   },
   "outputs": [],
   "source": [
    "plotms(vis='3c391_ctm_mosaic_10s_spw0.ms',field='0',correlation='RR',timerange='08:02:00~08:17:00',antenna='ea01&ea02',xaxis='channel',yaxis='amp',ydatacolumn='model',plotfile='plotms_3c391_model_amp_RR.png',overwrite=True)"
   ]
  },
  {
   "cell_type": "code",
   "execution_count": null,
   "metadata": {
    "collapsed": true,
    "extensions": {
     "jupyter_dashboards": {
      "version": 1,
      "views": {
       "grid_default": {
        "hidden": true
       },
       "report_default": {
        "hidden": true
       }
      }
     }
    }
   },
   "outputs": [],
   "source": [
    "plotms(vis='3c391_ctm_mosaic_10s_spw0.ms',field='0',correlation='RR',timerange='08:02:00~08:17:00',antenna='ea01&ea02',xaxis='channel',yaxis='phase',ydatacolumn='model',plotfile='plotms_3c391_model_phase_RR.png',overwrite=True)"
   ]
  },
  {
   "cell_type": "code",
   "execution_count": null,
   "metadata": {
    "collapsed": true,
    "extensions": {
     "jupyter_dashboards": {
      "version": 1,
      "views": {
       "grid_default": {
        "hidden": true
       },
       "report_default": {
        "hidden": true
       }
      }
     }
    }
   },
   "outputs": [],
   "source": [
    "plotms(vis='3c391_ctm_mosaic_10s_spw0.ms',field='0',correlation='RL',timerange='08:02:00~08:17:00',antenna='ea01&ea02',xaxis='channel',yaxis='amp',ydatacolumn='model',plotrange=[-1,-1,-180,180],plotfile='plotms_3c391_model_amp_RL.png',overwrite=True)"
   ]
  },
  {
   "cell_type": "code",
   "execution_count": null,
   "metadata": {
    "collapsed": true,
    "extensions": {
     "jupyter_dashboards": {
      "version": 1,
      "views": {
       "grid_default": {
        "hidden": true
       },
       "report_default": {
        "hidden": true
       }
      }
     }
    }
   },
   "outputs": [],
   "source": [
    "plotms(vis='3c391_ctm_mosaic_10s_spw0.ms',field='0',correlation='RL',timerange='08:02:00~08:17:00',antenna='ea01&ea02',xaxis='channel',yaxis='phase',ydatacolumn='model',plotrange=[-1,-1,-180,180],plotfile='plotms_3c391_model_phase_RL.png',overwrite=True)"
   ]
  },
  {
   "cell_type": "code",
   "execution_count": 12,
   "metadata": {
    "collapsed": false,
    "extensions": {
     "jupyter_dashboards": {
      "version": 1,
      "views": {
       "grid_default": {
        "hidden": true
       },
       "report_default": {
        "hidden": true
       }
      }
     }
    }
   },
   "outputs": [],
   "source": [
    "name='3c391_ctm_mosaic_10s_spw0'"
   ]
  },
  {
   "cell_type": "markdown",
   "metadata": {
    "extensions": {
     "jupyter_dashboards": {
      "version": 1,
      "views": {
       "grid_default": {
        "col": 4,
        "height": 4,
        "hidden": false,
        "row": 59,
        "width": 4
       },
       "report_default": {
        "hidden": false
       }
      }
     }
    }
   },
   "source": [
    "## Solve cross-hand delay"
   ]
  },
  {
   "cell_type": "code",
   "execution_count": null,
   "metadata": {
    "collapsed": true,
    "extensions": {
     "jupyter_dashboards": {
      "version": 1,
      "views": {
       "grid_default": {
        "hidden": true
       },
       "report_default": {
        "hidden": true
       }
      }
     }
    }
   },
   "outputs": [],
   "source": [
    "gaincal(vis='3c391_ctm_mosaic_10s_spw0.ms',caltable='3c391_ctm_mosaic_10s_spw0.Kcross',field='J1331+3030',spw='0:5~58',gaintype='KCROSS',solint='inf',combine='scan',refant='ea21',gaintable=['3c391_ctm_mosaic_10s_spw0.antpos','3c391_ctm_mosaic_10s_spw0.K0','3c391_ctm_mosaic_10s_spw0.B0','3c391_ctm_mosaic_10s_spw0.G1'],gainfield=['','','J1331+3030'],parang=True)"
   ]
  },
  {
   "cell_type": "code",
   "execution_count": null,
   "metadata": {
    "collapsed": true,
    "extensions": {
     "jupyter_dashboards": {
      "version": 1,
      "views": {
       "grid_default": {
        "hidden": true
       },
       "report_default": {
        "hidden": true
       }
      }
     }
    }
   },
   "outputs": [],
   "source": [
    "plotcal(caltable='3c391_ctm_mosaic_10s_spw0.Kcross',xaxis='antenna',yaxis='delay',figfile='plotcal_3c391_Kcross_delay.png')"
   ]
  },
  {
   "cell_type": "markdown",
   "metadata": {
    "extensions": {
     "jupyter_dashboards": {
      "version": 1,
      "views": {
       "grid_default": {
        "col": 8,
        "height": 4,
        "hidden": false,
        "row": 59,
        "width": 4
       },
       "report_default": {
        "hidden": false
       }
      }
     }
    }
   },
   "source": [
    "## Solve leakage terms"
   ]
  },
  {
   "cell_type": "code",
   "execution_count": null,
   "metadata": {
    "collapsed": true,
    "extensions": {
     "jupyter_dashboards": {
      "version": 1,
      "views": {
       "grid_default": {
        "hidden": true
       },
       "report_default": {
        "hidden": true
       }
      }
     }
    }
   },
   "outputs": [],
   "source": [
    "polcal(vis='3c391_ctm_mosaic_10s_spw0.ms',caltable='3c391_ctm_mosaic_10s_spw0.D1',field='J0319+4130',spw='0:5~58',refant='ea21',poltype='Df',solint='inf',combine='scan',gaintable=['3c391_ctm_mosaic_10s_spw0.antpos','3c391_ctm_mosaic_10s_spw0.K0','3c391_ctm_mosaic_10s_spw0.B0','3c391_ctm_mosaic_10s_spw0.G1','3c391_ctm_mosaic_10s_spw0.Kcross'],gainfield=['','','','J0319+4130',''])"
   ]
  },
  {
   "cell_type": "code",
   "execution_count": null,
   "metadata": {
    "collapsed": true,
    "extensions": {
     "jupyter_dashboards": {
      "version": 1,
      "views": {
       "grid_default": {
        "hidden": true
       },
       "report_default": {
        "hidden": true
       }
      }
     }
    }
   },
   "outputs": [],
   "source": [
    "plotcal(caltable='3c391_ctm_mosaic_10s_spw0.D1',xaxis='chan',yaxis='amp',spw='',field='',iteration='antenna')"
   ]
  },
  {
   "cell_type": "code",
   "execution_count": null,
   "metadata": {
    "collapsed": true,
    "extensions": {
     "jupyter_dashboards": {
      "version": 1,
      "views": {
       "grid_default": {
        "hidden": true
       },
       "report_default": {
        "hidden": true
       }
      }
     }
    }
   },
   "outputs": [],
   "source": [
    "plotcal(caltable='3c391_ctm_mosaic_10s_spw0.D1',xaxis='chan',yaxis='phase',spw='',field='',iteration='antenna',plotrange=[-1,-1,-180,180])"
   ]
  },
  {
   "cell_type": "code",
   "execution_count": null,
   "metadata": {
    "collapsed": true,
    "extensions": {
     "jupyter_dashboards": {
      "version": 1,
      "views": {
       "grid_default": {
        "hidden": true
       },
       "report_default": {
        "hidden": true
       }
      }
     }
    }
   },
   "outputs": [],
   "source": [
    "plotcal(caltable='3c391_ctm_mosaic_10s_spw0.D1',xaxis='antenna',yaxis='amp',figfile='plotcal_3c391_D1.png')"
   ]
  },
  {
   "cell_type": "code",
   "execution_count": null,
   "metadata": {
    "collapsed": true,
    "extensions": {
     "jupyter_dashboards": {
      "version": 1,
      "views": {
       "grid_default": {
        "hidden": true
       },
       "report_default": {
        "hidden": true
       }
      }
     }
    }
   },
   "outputs": [],
   "source": [
    "polcal(vis='3c391_ctm_mosaic_10s_spw0.ms',caltable='3c391_ctm_mosaic_10s_spw0.D2',field='J1822-0938',spw='0:5~58',refant='ea21',poltype='Df+QU',solint='inf',combine='scan',gaintable=['3c391_ctm_mosaic_10s_spw0.antpos','3c391_ctm_mosaic_10s_spw0.K0','3c391_ctm_mosaic_10s_spw0.B0','3c391_ctm_mosaic_10s_spw0.G1','3c391_ctm_mosaic_10s_spw0.Kcross'],gainfield=['','','','J1822-0938',''])"
   ]
  },
  {
   "cell_type": "code",
   "execution_count": null,
   "metadata": {
    "collapsed": true,
    "extensions": {
     "jupyter_dashboards": {
      "version": 1,
      "views": {
       "grid_default": {
        "hidden": true
       },
       "report_default": {
        "hidden": true
       }
      }
     }
    }
   },
   "outputs": [],
   "source": [
    "plotcal(caltable='3c391_ctm_mosaic_10s_spw0.D2',xaxis='antenna',yaxis='amp',figfile='plotcal_3c391_D2.png')"
   ]
  },
  {
   "cell_type": "markdown",
   "metadata": {
    "extensions": {
     "jupyter_dashboards": {
      "version": 1,
      "views": {
       "grid_default": {
        "col": 0,
        "height": 4,
        "hidden": false,
        "row": 63,
        "width": 4
       },
       "report_default": {
        "hidden": false
       }
      }
     }
    }
   },
   "source": [
    "## Solve R_L polarization angle"
   ]
  },
  {
   "cell_type": "code",
   "execution_count": null,
   "metadata": {
    "collapsed": true,
    "extensions": {
     "jupyter_dashboards": {
      "version": 1,
      "views": {
       "grid_default": {
        "hidden": true
       },
       "report_default": {
        "hidden": true
       }
      }
     }
    }
   },
   "outputs": [],
   "source": [
    "polcal(vis='3c391_ctm_mosaic_10s_spw0.ms',caltable='3c391_ctm_mosaic_10s_spw0.X1',field='J1331+3030',poltype='Xf',solint='inf',combine='scan',gaintable=['3c391_ctm_mosaic_10s_spw0.antpos','3c391_ctm_mosaic_10s_spw0.K0','3c391_ctm_mosaic_10s_spw0.B0','3c391_ctm_mosaic_10s_spw0.G1','3c391_ctm_mosaic_10s_spw0.Kcross','3c391_ctm_mosaic_10s_spw0.D2'],gainfield=['','','','J1331+3030','',''])"
   ]
  },
  {
   "cell_type": "code",
   "execution_count": null,
   "metadata": {
    "collapsed": true,
    "extensions": {
     "jupyter_dashboards": {
      "version": 1,
      "views": {
       "grid_default": {
        "hidden": true
       },
       "report_default": {
        "hidden": true
       }
      }
     }
    }
   },
   "outputs": [],
   "source": [
    "plotcal(caltable='3c391_ctm_mosaic_10s_spw0.X1',xaxis='chan',yaxis='phase',figfile='plotcal_3c391_X1.png')"
   ]
  },
  {
   "cell_type": "code",
   "execution_count": null,
   "metadata": {
    "collapsed": true,
    "extensions": {
     "jupyter_dashboards": {
      "version": 1,
      "views": {
       "grid_default": {
        "hidden": true
       },
       "report_default": {
        "hidden": true
       }
      }
     }
    }
   },
   "outputs": [],
   "source": []
  },
  {
   "cell_type": "markdown",
   "metadata": {
    "extensions": {
     "jupyter_dashboards": {
      "version": 1,
      "views": {
       "grid_default": {
        "col": 4,
        "height": 4,
        "hidden": false,
        "row": 63,
        "width": 4
       },
       "report_default": {
        "hidden": false
       }
      }
     }
    }
   },
   "source": [
    "## Scale amp gains"
   ]
  },
  {
   "cell_type": "code",
   "execution_count": null,
   "metadata": {
    "collapsed": true,
    "extensions": {
     "jupyter_dashboards": {
      "version": 1,
      "views": {
       "grid_default": {
        "hidden": true
       },
       "report_default": {
        "hidden": true
       }
      }
     }
    }
   },
   "outputs": [],
   "source": [
    "myscale_3c391=fluxscale(vis='3c391_ctm_mosaic_10s_spw0.ms',caltable='3c391_ctm_mosaic_10s_spw0.G1',fluxtable='3c391_ctm_mosaic_10s_spw0.fluxscale1',reference=['J1331+3030'],transfer=['J1822-0938,J0319+4130'],incremental=False)"
   ]
  },
  {
   "cell_type": "code",
   "execution_count": null,
   "metadata": {
    "collapsed": true,
    "extensions": {
     "jupyter_dashboards": {
      "version": 1,
      "views": {
       "grid_default": {
        "hidden": true
       },
       "report_default": {
        "hidden": true
       }
      }
     }
    }
   },
   "outputs": [],
   "source": [
    "myscale_3c391['1']\n",
    "myscale_3c391['9']"
   ]
  },
  {
   "cell_type": "code",
   "execution_count": null,
   "metadata": {
    "collapsed": true,
    "extensions": {
     "jupyter_dashboards": {
      "version": 1,
      "views": {
       "grid_default": {
        "hidden": true
       },
       "report_default": {
        "hidden": true
       }
      }
     }
    }
   },
   "outputs": [],
   "source": [
    "plotcal(caltable='3c391_ctm_mosaic_10s_spw0.fluxscale1',xaxis='time',yaxis='amp',poln='R',figfile='plotcal_3c391_fluxscale_amp_R.png')"
   ]
  },
  {
   "cell_type": "code",
   "execution_count": null,
   "metadata": {
    "collapsed": true,
    "extensions": {
     "jupyter_dashboards": {
      "version": 1,
      "views": {
       "grid_default": {
        "hidden": true
       },
       "report_default": {
        "hidden": true
       }
      }
     }
    }
   },
   "outputs": [],
   "source": [
    "plotcal(caltable='3c391_ctm_mosaic_10s_spw0.fluxscale1',xaxis='time',yaxis='amp',poln='L',figfile='plotcal_3c391_fluxscale_amp_L.png')"
   ]
  },
  {
   "cell_type": "markdown",
   "metadata": {
    "extensions": {
     "jupyter_dashboards": {
      "version": 1,
      "views": {
       "grid_default": {
        "col": 8,
        "height": 4,
        "hidden": false,
        "row": 63,
        "width": 4
       },
       "report_default": {
        "hidden": false
       }
      }
     }
    }
   },
   "source": [
    "# Apply calibration\n",
    "\n"
   ]
  },
  {
   "cell_type": "code",
   "execution_count": null,
   "metadata": {
    "collapsed": true,
    "extensions": {
     "jupyter_dashboards": {
      "version": 1,
      "views": {
       "grid_default": {
        "hidden": true
       },
       "report_default": {
        "hidden": true
       }
      }
     }
    }
   },
   "outputs": [],
   "source": [
    "applycal(vis='3c391_ctm_mosaic_10s_spw0.ms',field='J1331+3030',gaintable=['3c391_ctm_mosaic_10s_spw0.antpos','3c391_ctm_mosaic_10s_spw0.fluxscale1','3c391_ctm_mosaic_10s_spw0.K0','3c391_ctm_mosaic_10s_spw0.B0','3c391_ctm_mosaic_10s_spw0.Kcross','3c391_ctm_mosaic_10s_spw0.D2','3c391_ctm_mosaic_10s_spw0.X1'],gainfield=['','J1331+3030','','','','',''],interp=['','nearest','','','','',''],calwt=[False],parang=True)"
   ]
  },
  {
   "cell_type": "code",
   "execution_count": null,
   "metadata": {
    "collapsed": true,
    "extensions": {
     "jupyter_dashboards": {
      "version": 1,
      "views": {
       "grid_default": {
        "hidden": true
       },
       "report_default": {
        "hidden": true
       }
      }
     }
    }
   },
   "outputs": [],
   "source": [
    "applycal(vis='3c391_ctm_mosaic_10s_spw0.ms',field='J0319+4130',gaintable=['3c391_ctm_mosaic_10s_spw0.antpos','3c391_ctm_mosaic_10s_spw0.fluxscale1','3c391_ctm_mosaic_10s_spw0.K0','3c391_ctm_mosaic_10s_spw0.B0','3c391_ctm_mosaic_10s_spw0.Kcross','3c391_ctm_mosaic_10s_spw0.D2','3c391_ctm_mosaic_10s_spw0.X1'],gainfield=['','J0319+4130','','','','',''],interp=['','nearest','','','','',''],calwt=[False],parang=True)"
   ]
  },
  {
   "cell_type": "code",
   "execution_count": null,
   "metadata": {
    "collapsed": true,
    "extensions": {
     "jupyter_dashboards": {
      "version": 1,
      "views": {
       "grid_default": {
        "hidden": true
       },
       "report_default": {
        "hidden": true
       }
      }
     }
    }
   },
   "outputs": [],
   "source": [
    "applycal(vis='3c391_ctm_mosaic_10s_spw0.ms',field='J1822-0938',gaintable=['3c391_ctm_mosaic_10s_spw0.antpos','3c391_ctm_mosaic_10s_spw0.fluxscale1','3c391_ctm_mosaic_10s_spw0.K0','3c391_ctm_mosaic_10s_spw0.B0','3c391_ctm_mosaic_10s_spw0.Kcross','3c391_ctm_mosaic_10s_spw0.D2','3c391_ctm_mosaic_10s_spw0.X1'],gainfield=['','J1822-0938','','','','',''],interp=['','nearest','','','','',''],calwt=[False],parang=True)"
   ]
  },
  {
   "cell_type": "code",
   "execution_count": null,
   "metadata": {
    "collapsed": true,
    "extensions": {
     "jupyter_dashboards": {
      "version": 1,
      "views": {
       "grid_default": {
        "hidden": true
       },
       "report_default": {
        "hidden": true
       }
      }
     }
    }
   },
   "outputs": [],
   "source": [
    "applycal(vis='3c391_ctm_mosaic_10s_spw0.ms',field='2~8',gaintable=['3c391_ctm_mosaic_10s_spw0.antpos','3c391_ctm_mosaic_10s_spw0.fluxscale1','3c391_ctm_mosaic_10s_spw0.K0','3c391_ctm_mosaic_10s_spw0.B0','3c391_ctm_mosaic_10s_spw0.Kcross','3c391_ctm_mosaic_10s_spw0.D2','3c391_ctm_mosaic_10s_spw0.X1'],gainfield=['','J1822-0938','','','','',''],interp=['','linear','','','','',''],calwt=[False],parang=True)"
   ]
  },
  {
   "cell_type": "code",
   "execution_count": null,
   "metadata": {
    "collapsed": true,
    "extensions": {
     "jupyter_dashboards": {
      "version": 1,
      "views": {
       "grid_default": {
        "hidden": true
       },
       "report_default": {
        "hidden": true
       }
      }
     }
    }
   },
   "outputs": [],
   "source": []
  },
  {
   "cell_type": "code",
   "execution_count": null,
   "metadata": {
    "collapsed": true,
    "extensions": {
     "jupyter_dashboards": {
      "version": 1,
      "views": {
       "grid_default": {
        "hidden": true
       },
       "report_default": {
        "hidden": true
       }
      }
     }
    }
   },
   "outputs": [],
   "source": [
    "plotms(vis='3c391_ctm_mosaic_10s_spw0.ms',field='0',correlation='',timerange='08:02:00~08:17:00',antenna='',avgtime='60',xaxis='channel',yaxis='amp',ydatacolumn='corrected',coloraxis='corr',plotfile='plotms_3c391_fld0_corrected_amp.png')"
   ]
  },
  {
   "cell_type": "code",
   "execution_count": null,
   "metadata": {
    "collapsed": true,
    "extensions": {
     "jupyter_dashboards": {
      "version": 1,
      "views": {
       "grid_default": {
        "hidden": true
       },
       "report_default": {
        "hidden": true
       }
      }
     }
    }
   },
   "outputs": [],
   "source": [
    "plotms(vis='3c391_ctm_mosaic_10s_spw0.ms',field='0',correlation='',timerange='08:02:00~08:17:00',antenna='',avgtime='60',xaxis='channel',yaxis='phase',ydatacolumn='corrected',coloraxis='corr',plotrange=[-1,-1,-180,180],plotfile='plotms_3c391_fld0_corrected_phase.png',overwrite=True)"
   ]
  },
  {
   "cell_type": "code",
   "execution_count": null,
   "metadata": {
    "collapsed": true,
    "extensions": {
     "jupyter_dashboards": {
      "version": 1,
      "views": {
       "grid_default": {
        "hidden": true
       },
       "report_default": {
        "hidden": true
       }
      }
     }
    }
   },
   "outputs": [],
   "source": [
    "plotms(vis='3c391_ctm_mosaic_10s_spw0.ms',field='1',correlation='RR,LL',timerange='',antenna='',avgtime='60',xaxis='channel',yaxis='amp',ydatacolumn='corrected',coloraxis='corr',plotfile='plotms_3c391_fld1_corrected_amp.png',overwrite=True)"
   ]
  },
  {
   "cell_type": "code",
   "execution_count": null,
   "metadata": {
    "collapsed": true,
    "extensions": {
     "jupyter_dashboards": {
      "version": 1,
      "views": {
       "grid_default": {
        "hidden": true
       },
       "report_default": {
        "hidden": true
       }
      }
     }
    }
   },
   "outputs": [],
   "source": [
    "plotms(vis='3c391_ctm_mosaic_10s_spw0.ms',field='1',correlation='RR,LL',timerange='',antenna='',avgtime='60',xaxis='channel',yaxis='phase',plotrange=[-1,-1,-180,180],ydatacolumn='corrected',coloraxis='corr',plotfile='plotms_3c391_fld1_corrected_phase.png',overwrite=True)"
   ]
  },
  {
   "cell_type": "code",
   "execution_count": null,
   "metadata": {
    "collapsed": true,
    "extensions": {
     "jupyter_dashboards": {
      "version": 1,
      "views": {
       "grid_default": {
        "hidden": true
       },
       "report_default": {
        "hidden": true
       }
      }
     }
    }
   },
   "outputs": [],
   "source": []
  },
  {
   "cell_type": "code",
   "execution_count": null,
   "metadata": {
    "collapsed": true,
    "extensions": {
     "jupyter_dashboards": {
      "version": 1,
      "views": {
       "grid_default": {
        "hidden": true
       },
       "report_default": {
        "hidden": true
       }
      }
     }
    }
   },
   "outputs": [],
   "source": [
    "plotms(vis='3c391_ctm_mosaic_10s_spw0.ms',field='1',correlation='RR,LL',timerange='',antenna='',avgtime='60',xaxis='phase',xdatacolumn='corrected',yaxis='amp',plotrange=[-180,180,0,3],ydatacolumn='corrected',coloraxis='corr',plotfile='plotms_3c391_fld1_corrected_ampvsphase.png',overwrite=True)"
   ]
  },
  {
   "cell_type": "code",
   "execution_count": null,
   "metadata": {
    "collapsed": true,
    "extensions": {
     "jupyter_dashboards": {
      "version": 1,
      "views": {
       "grid_default": {
        "hidden": true
       },
       "report_default": {
        "hidden": true
       }
      }
     }
    }
   },
   "outputs": [],
   "source": [
    "split(vis='3c391_ctm_mosaic_10s_spw0.ms',outputvis='3c391_ctm_mosaic_spw0.ms',datacolumn='corrected',field='2~8')"
   ]
  },
  {
   "cell_type": "markdown",
   "metadata": {
    "extensions": {
     "jupyter_dashboards": {
      "version": 1,
      "views": {
       "grid_default": {
        "col": 0,
        "height": 4,
        "hidden": false,
        "row": 67,
        "width": 4
       },
       "report_default": {
        "hidden": false
       }
      }
     }
    }
   },
   "source": [
    "# Initial image"
   ]
  },
  {
   "cell_type": "code",
   "execution_count": null,
   "metadata": {
    "collapsed": true,
    "extensions": {
     "jupyter_dashboards": {
      "version": 1,
      "views": {
       "grid_default": {
        "hidden": true
       },
       "report_default": {
        "hidden": true
       }
      }
     }
    }
   },
   "outputs": [],
   "source": [
    "plotms(vis='3c391_ctm_mosaic_spw0.ms',field='0',correlation='RR',avgtime='30',xaxis='uvwave',yaxis='amp',ydatacolumn='data',plotfile='plotms_3c391_mosaic0_uvwave.png',overwrite=True)"
   ]
  },
  {
   "cell_type": "code",
   "execution_count": null,
   "metadata": {
    "collapsed": true,
    "extensions": {
     "jupyter_dashboards": {
      "version": 1,
      "views": {
       "grid_default": {
        "hidden": true
       },
       "report_default": {
        "hidden": true
       }
      }
     }
    }
   },
   "outputs": [],
   "source": [
    "clean(vis='3c391_ctm_mosaic_spw0.ms',imagename='3c391_ctm_spw0_I',field='',spw='',mode='mfs',niter=5000,gain=0.1,threshold='1.0mJy',psfmode='clark',imagermode='mosaic',ftmachine='mosaic',multiscale=[0],interactive=True,imsize=[480,480],cell=['2.5arcsec','2.5arcsec'],stokes='I',weighting='briggs',robust=0.5,usescratch=False)"
   ]
  },
  {
   "cell_type": "code",
   "execution_count": null,
   "metadata": {
    "collapsed": true,
    "extensions": {
     "jupyter_dashboards": {
      "version": 1,
      "views": {
       "grid_default": {
        "hidden": true
       },
       "report_default": {
        "hidden": true
       }
      }
     }
    }
   },
   "outputs": [],
   "source": [
    "viewer('3c391_ctm_spw0_I.image')"
   ]
  },
  {
   "cell_type": "markdown",
   "metadata": {
    "extensions": {
     "jupyter_dashboards": {
      "version": 1,
      "views": {
       "grid_default": {
        "col": 0,
        "height": 6,
        "hidden": false,
        "row": 71,
        "width": 12
       },
       "report_default": {
        "hidden": false
       }
      }
     }
    }
   },
   "source": [
    "# 3C391 Advanced topic\n",
    "## multi-scale polarization clean\n",
    "\n",
    "\n",
    "Because we now have the four Stokes planes in the image for IQUV, you should be sure to extend the mask you draw by selecting the All Polarizations radio button before drawing the mask. "
   ]
  },
  {
   "cell_type": "code",
   "execution_count": null,
   "metadata": {
    "collapsed": true,
    "extensions": {
     "jupyter_dashboards": {
      "version": 1,
      "views": {
       "grid_default": {
        "hidden": true
       },
       "report_default": {
        "hidden": true
       }
      }
     }
    }
   },
   "outputs": [],
   "source": [
    "clean(vis='3c391_ctm_mosaic_spw0.ms',imagename='3c391_ctm_spw0_IQUV',field='',spw='',mode='mfs',niter=25000,gain=0.1,threshold='1.0mJy',psfmode='clarkstokes',imagermode='mosaic',ftmachine='mosaic',multiscale=[0,6,18,54],smallscalebias=0.9,interactive=True,imsize=[480,480],cell=['2.5arcsec','2.5arcsec'],stokes='IQUV',weighting='briggs',robust=0.5,pbcor=False,usescratch=False)"
   ]
  },
  {
   "cell_type": "code",
   "execution_count": null,
   "metadata": {
    "collapsed": true,
    "extensions": {
     "jupyter_dashboards": {
      "version": 1,
      "views": {
       "grid_default": {
        "hidden": true
       },
       "report_default": {
        "hidden": true
       }
      }
     }
    }
   },
   "outputs": [],
   "source": [
    "viewer('3c391_ctm_spw0_IQUV.image')"
   ]
  },
  {
   "cell_type": "code",
   "execution_count": null,
   "metadata": {
    "collapsed": true,
    "extensions": {
     "jupyter_dashboards": {
      "version": 1,
      "views": {
       "grid_default": {
        "hidden": true
       },
       "report_default": {
        "hidden": true
       }
      }
     }
    }
   },
   "outputs": [],
   "source": [
    "impbcor(imagename='3c391_ctm_spw0_IQUV.image',pbimage='3c391_ctm_spw0_IQUV.flux',outfile='3c391_ctm_spw0_IQUV.pbcorimage')"
   ]
  },
  {
   "cell_type": "code",
   "execution_count": null,
   "metadata": {
    "collapsed": true,
    "extensions": {
     "jupyter_dashboards": {
      "version": 1,
      "views": {
       "grid_default": {
        "hidden": true
       },
       "report_default": {
        "hidden": true
       }
      }
     }
    }
   },
   "outputs": [],
   "source": [
    "mystat=imstat(imagename='3c391_ctm_spw0_IQUV.pbcorimage',stokes='')"
   ]
  },
  {
   "cell_type": "code",
   "execution_count": null,
   "metadata": {
    "collapsed": true,
    "extensions": {
     "jupyter_dashboards": {
      "version": 1,
      "views": {
       "grid_default": {
        "hidden": true
       },
       "report_default": {
        "hidden": true
       }
      }
     }
    }
   },
   "outputs": [],
   "source": [
    "{'blc': array([0, 0, 0, 0], dtype=int32),\n",
    " 'blcf': '18:50:04.251, -01.05.40.567, I, 4.59901e+09Hz',\n",
    " 'max': array([ 0.15470561]),\n",
    " 'maxpos': array([288, 256,   0,   0], dtype=int32),\n",
    " 'maxposf': '18:49:16.243, -00.55.00.579, I, 4.59901e+09Hz',\n",
    " 'mean': array([ 0.00092122]),\n",
    " 'medabsdevmed': array([ 0.00018971]),\n",
    " 'median': array([  1.51867052e-05]),\n",
    " 'min': array([-0.00640078]),\n",
    " 'minpos': array([279, 430,   0,   0], dtype=int32),\n",
    " 'minposf': '18:49:17.743, -00.47.45.579, I, 4.59901e+09Hz',\n",
    " 'npts': array([ 483720.]),\n",
    " 'q1': array([-0.00016487]),\n",
    " 'q3': array([ 0.0002171]),\n",
    " 'quartile': array([ 0.00038197]),\n",
    " 'rms': array([ 0.00610539]),\n",
    " 'sigma': array([ 0.0060355]),\n",
    " 'sum': array([ 445.61365631]),\n",
    " 'sumsq': array([ 18.03106503]),\n",
    " 'trc': array([479, 479,   3,   0], dtype=int32),\n",
    " 'trcf': '18:48:44.407, -00.45.43.065, V, 4.59901e+09Hz'}\n",
    " \n",
    " "
   ]
  },
  {
   "cell_type": "markdown",
   "metadata": {
    "collapsed": true,
    "extensions": {
     "jupyter_dashboards": {
      "version": 1,
      "views": {
       "grid_default": {
        "col": 4,
        "height": 4,
        "hidden": false,
        "row": 67,
        "width": 4
       },
       "report_default": {
        "hidden": false
       }
      }
     }
    }
   },
   "source": [
    "\n",
    "``` mystat['max'][0] ```"
   ]
  },
  {
   "cell_type": "code",
   "execution_count": null,
   "metadata": {
    "collapsed": true,
    "extensions": {
     "jupyter_dashboards": {
      "version": 1,
      "views": {
       "grid_default": {
        "hidden": true
       },
       "report_default": {
        "hidden": true
       }
      }
     }
    }
   },
   "outputs": [],
   "source": []
  },
  {
   "cell_type": "markdown",
   "metadata": {
    "extensions": {
     "jupyter_dashboards": {
      "version": 1,
      "views": {
       "grid_default": {
        "col": 0,
        "height": 4,
        "hidden": false,
        "row": 77,
        "width": 4
       },
       "report_default": {
        "hidden": false
       }
      }
     }
    }
   },
   "source": [
    " The three most basic analyses are to determine the peak brightness, the flux density, and the image noise level."
   ]
  },
  {
   "cell_type": "code",
   "execution_count": null,
   "metadata": {
    "collapsed": true,
    "extensions": {
     "jupyter_dashboards": {
      "version": 1,
      "views": {
       "grid_default": {
        "hidden": true
       },
       "report_default": {
        "hidden": true
       }
      }
     }
    }
   },
   "outputs": [],
   "source": [
    "viewer('3c391_ctm_spw0_IQUV.pbcorimage')"
   ]
  },
  {
   "cell_type": "code",
   "execution_count": null,
   "metadata": {
    "collapsed": true,
    "extensions": {
     "jupyter_dashboards": {
      "version": 1,
      "views": {
       "grid_default": {
        "hidden": true
       },
       "report_default": {
        "hidden": true
       }
      }
     }
    }
   },
   "outputs": [],
   "source": [
    "(3c391_ctm_spw0_IQUV.pbcorimage)\n",
    "        Stokes       Velocity          Frame        Doppler      Frequency \n",
    "             I   -42.9832km/s           LSRK          RADIO    4.59901e+09 \n",
    "BrightnessUnit       BeamArea           Npts            Sum    FluxDensity \n",
    "       Jy/beam        45.1039          26989   2.228439e+02   4.940680e+00 \n",
    "          Mean            Rms        Std dev        Minimum        Maximum \n",
    "  8.256841e-03   2.126741e-02   1.959953e-02  -1.374126e-02   1.509379e-01 \n",
    "  region count \n",
    "             1 \n",
    "-----------             \n",
    "             \n",
    "(3c391_ctm_spw0_IQUV.pbcorimage)\n",
    "        Stokes       Velocity          Frame        Doppler      Frequency \n",
    "             I   -42.9832km/s           LSRK          RADIO    4.59901e+09 \n",
    "BrightnessUnit       BeamArea           Npts            Sum    FluxDensity \n",
    "       Jy/beam        45.1039          55029   4.297441e+02   9.527872e+00 \n",
    "          Mean            Rms        Std dev        Minimum        Maximum \n",
    "  7.809411e-03   1.802475e-02   1.624529e-02  -3.866892e-03   1.547056e-01 \n",
    "  region count \n",
    "             1              \n",
    "             \n",
    "             "
   ]
  },
  {
   "cell_type": "markdown",
   "metadata": {
    "extensions": {
     "jupyter_dashboards": {
      "version": 1,
      "views": {
       "grid_default": {
        "col": 4,
        "height": 4,
        "hidden": false,
        "row": 77,
        "width": 4
       },
       "report_default": {
        "hidden": false
       }
      }
     }
    }
   },
   "source": [
    " <font color=red>流量(Jy)  </font> 4.94(less iteration)/9.52(more iteration)\n"
   ]
  },
  {
   "cell_type": "markdown",
   "metadata": {
    "extensions": {
     "jupyter_dashboards": {
      "version": 1,
      "views": {
       "grid_default": {
        "col": 0,
        "height": 7,
        "hidden": false,
        "row": 81,
        "width": 12
       },
       "report_default": {
        "hidden": false
       }
      }
     }
    }
   },
   "source": [
    "### From casa cookbook\n",
    "\n",
    "Listed Parameters are Stokes, and the displayed channel Velocity with the associated Frame, Doppler and Frequency value. Sum, Mean, Rms, Std Deviation, Minimum, and Maximum value refer to those in the selected region and has the units as specified in BrightnessUnit. Npts is the number of pixels in the region, and BeamArea the beam size in pixels. FluxDensity is in Jy if the image is in Jy/beam.\n",
    "This is an easy way to copy and paste the statistical data to a program outside of CASA for further use.\n",
    "\n",
    "Taking the RMS of the signal-free portion of an image or cube is a good way to estimate the noise. Contrasting this number with the maximum of the image gives an estimate of the dynamic range of the image. The FluxDensity measurement gives a way to use the viewer to do very basic photometry.\n"
   ]
  },
  {
   "cell_type": "code",
   "execution_count": null,
   "metadata": {
    "collapsed": true,
    "extensions": {
     "jupyter_dashboards": {
      "version": 1,
      "views": {
       "grid_default": {
        "col": 8,
        "height": 4,
        "hidden": false,
        "row": 77,
        "width": null
       },
       "report_default": {
        "hidden": false
       }
      }
     }
    }
   },
   "outputs": [],
   "source": []
  },
  {
   "cell_type": "markdown",
   "metadata": {
    "extensions": {
     "jupyter_dashboards": {
      "version": 1,
      "views": {
       "grid_default": {
        "col": 0,
        "height": 6,
        "hidden": false,
        "row": 88,
        "width": 12
       },
       "report_default": {
        "hidden": false
       }
      }
     }
    }
   },
   "source": [
    " By contrast, for the rms noise level, one can load the original (un-pbcor) image:\n",
    "```\n",
    "# In CASA\n",
    "viewer('3c391_ctm_spw0_IQUV.image')\n",
    "```\n",
    " and to exclude the source's emission to the extent possible as shown in figure 30, as the source's emission will bias the estimated noise level high. Likewise, one should avoid the clean bowl around the source emission. "
   ]
  },
  {
   "cell_type": "code",
   "execution_count": null,
   "metadata": {
    "collapsed": true,
    "extensions": {
     "jupyter_dashboards": {
      "version": 1,
      "views": {
       "grid_default": {
        "hidden": true
       },
       "report_default": {
        "hidden": true
       }
      }
     }
    }
   },
   "outputs": [],
   "source": [
    "(3c391_ctm_spw0_IQUV.image)\n",
    "        Stokes       Velocity          Frame        Doppler      Frequency \n",
    "             I   -42.9832km/s           LSRK          RADIO    4.59901e+09 \n",
    "BrightnessUnit       BeamArea           Npts            Sum    FluxDensity \n",
    "       Jy/beam        45.1039          24071   3.914005e+02   8.677756e+00 \n",
    "          Mean            Rms        Std dev        Minimum        Maximum \n",
    "  1.626025e-02   2.509083e-02   1.910940e-02  -2.093949e-03   1.404008e-01 \n",
    "  region count \n",
    "             1\n",
    "             \n",
    "-----------------\n",
    "\n",
    "\n",
    "(3c391_ctm_spw0_IQUV.image)\n",
    "        Stokes       Velocity          Frame        Doppler      Frequency \n",
    "             I   -42.9832km/s           LSRK          RADIO    4.59901e+09 \n",
    "BrightnessUnit       BeamArea           Npts            Sum    FluxDensity \n",
    "       Jy/beam        45.1039          34920  -5.131547e+00  -1.137717e-01 \n",
    "          Mean            Rms        Std dev        Minimum        Maximum \n",
    " -1.469515e-04   5.875222e-04   5.688558e-04  -2.366036e-03   6.803005e-03 \n",
    "  region count \n",
    "             1 \n",
    "             "
   ]
  },
  {
   "cell_type": "code",
   "execution_count": 30,
   "metadata": {
    "collapsed": false,
    "extensions": {
     "jupyter_dashboards": {
      "version": 1,
      "views": {
       "grid_default": {
        "col": 0,
        "height": 4,
        "hidden": false,
        "row": 94,
        "width": 4
       },
       "report_default": {
        "hidden": false
       }
      }
     }
    }
   },
   "outputs": [
    {
     "data": {
      "text/plain": [
       "1043.4782608695652"
      ]
     },
     "execution_count": 30,
     "metadata": {},
     "output_type": "execute_result"
    }
   ],
   "source": [
    "lamda=30/4.6 #cm\n",
    "D=lamda*16000/100#baseline m\n",
    "D"
   ]
  },
  {
   "cell_type": "code",
   "execution_count": 33,
   "metadata": {
    "collapsed": false,
    "extensions": {
     "jupyter_dashboards": {
      "version": 1,
      "views": {
       "grid_default": {
        "col": 4,
        "height": 4,
        "hidden": false,
        "row": 94,
        "width": 4
       },
       "report_default": {
        "hidden": false
       }
      }
     }
    }
   },
   "outputs": [
    {
     "data": {
      "text/plain": [
       "0.30666666666666664"
      ]
     },
     "execution_count": 33,
     "metadata": {},
     "output_type": "execute_result"
    }
   ],
   "source": [
    "23000/45*0.6/1000"
   ]
  },
  {
   "cell_type": "markdown",
   "metadata": {
    "extensions": {
     "jupyter_dashboards": {
      "version": 1,
      "views": {
       "grid_default": {
        "col": 8,
        "height": 4,
        "hidden": false,
        "row": 94,
        "width": 4
       },
       "report_default": {
        "hidden": false
       }
      }
     }
    }
   },
   "source": [
    "\n",
    "## Construct polarization intensity and angle image"
   ]
  },
  {
   "cell_type": "code",
   "execution_count": null,
   "metadata": {
    "collapsed": true,
    "extensions": {
     "jupyter_dashboards": {
      "version": 1,
      "views": {
       "grid_default": {
        "hidden": true
       },
       "report_default": {
        "hidden": true
       }
      }
     }
    }
   },
   "outputs": [],
   "source": [
    "imsubimage(imagename='3c391_ctm_spw0_IQUV.image',outfile='3c391_ctm_spw0.I',stokes='I')\n",
    "\n",
    "imsubimage(imagename='3c391_ctm_spw0_IQUV.image',outfile='3c391_ctm_spw0.Q',stokes='Q')\n",
    "\n",
    "imsubimage(imagename='3c391_ctm_spw0_IQUV.image',outfile='3c391_ctm_spw0.U',stokes='U')\n",
    "\n",
    "imsubimage(imagename='3c391_ctm_spw0_IQUV.image',outfile='3c391_ctm_spw0.V',stokes='V')\n",
    "\n",
    "imsubimage(imagename='3c391_ctm_spw0_IQUV.pbcorimage',outfile='3c391_ctm_spw0.pbcorI',stokes='I')\n",
    "\n"
   ]
  },
  {
   "cell_type": "markdown",
   "metadata": {
    "extensions": {
     "jupyter_dashboards": {
      "version": 1,
      "views": {
       "grid_default": {
        "col": 0,
        "height": 4,
        "hidden": false,
        "row": 98,
        "width": 12
       },
       "report_default": {
        "hidden": false
       }
      }
     }
    }
   },
   "source": [
    "Few celestial sources, with the notable exception of masers, are expected to show circular polarization. Terrestrial and satellite sources, however, are often highly circularly polarized. The V image is therefore often worth forming because any V emission could be indicative of unflagged RFI within the data (or problems with the calibration!)."
   ]
  },
  {
   "cell_type": "code",
   "execution_count": null,
   "metadata": {
    "collapsed": true,
    "extensions": {
     "jupyter_dashboards": {
      "version": 1,
      "views": {
       "grid_default": {
        "hidden": true
       },
       "report_default": {
        "hidden": true
       }
      }
     }
    }
   },
   "outputs": [],
   "source": [
    "immath(outfile='3c391_ctm_spw0.P',mode='poli',imagename=['3c391_ctm_spw0.Q','3c391_ctm_spw0.U'],sigma='0.0Jy/beam')\n",
    "immath(outfile='3c391_ctm_spw0.P_unbias',mode='poli',imagename=['3c391_ctm_spw0.Q','3c391_ctm_spw0.U'],sigma='0.000041Jy/beam')"
   ]
  },
  {
   "cell_type": "code",
   "execution_count": null,
   "metadata": {
    "collapsed": true,
    "extensions": {
     "jupyter_dashboards": {
      "version": 1,
      "views": {
       "grid_default": {
        "hidden": true
       },
       "report_default": {
        "hidden": true
       }
      }
     }
    }
   },
   "outputs": [],
   "source": [
    "imsubimage(imagename='3c391_ctm_spw0_IQUV.flux',outfile='3c391_ctm_spw0.Qflux',stokes='Q')\n",
    "immath(outfile='3c391_ctm_spw0.pbcorP',mode='evalexpr',imagename=['3c391_ctm_spw0.P_unbias','3c391_ctm_spw0.Qflux'],expr=\"IM0[IM1>0.2]/IM1\")"
   ]
  },
  {
   "cell_type": "code",
   "execution_count": null,
   "metadata": {
    "collapsed": true,
    "extensions": {
     "jupyter_dashboards": {
      "version": 1,
      "views": {
       "grid_default": {
        "hidden": true
       },
       "report_default": {
        "hidden": true
       }
      }
     }
    }
   },
   "outputs": [],
   "source": [
    "immath(outfile='3c391_ctm_spw0.X',mode='pola',imagename=['3c391_ctm_spw0.Q','3c391_ctm_spw0.U'],polithresh='0.2mJy/beam')"
   ]
  },
  {
   "cell_type": "code",
   "execution_count": null,
   "metadata": {
    "collapsed": true,
    "extensions": {
     "jupyter_dashboards": {
      "version": 1,
      "views": {
       "grid_default": {
        "hidden": true
       },
       "report_default": {
        "hidden": true
       }
      }
     }
    }
   },
   "outputs": [],
   "source": [
    "immath(outfile='3c391_ctm_spw0.F',mode='evalexpr',imagename=['3c391_ctm_spw0.I','3c391_ctm_spw0.Q','3c391_ctm_spw0.U'],expr='sqrt((IM1^2+IM2^2)/IM0[IM0>1.2e-3]^2)')"
   ]
  },
  {
   "cell_type": "code",
   "execution_count": null,
   "metadata": {
    "collapsed": true,
    "extensions": {
     "jupyter_dashboards": {
      "version": 1,
      "views": {
       "grid_default": {
        "hidden": true
       },
       "report_default": {
        "hidden": true
       }
      }
     }
    }
   },
   "outputs": [],
   "source": [
    "viewer('3c391_ctm_spw0.pbcorP')"
   ]
  },
  {
   "cell_type": "markdown",
   "metadata": {
    "extensions": {
     "jupyter_dashboards": {
      "version": 1,
      "views": {
       "grid_default": {
        "col": 0,
        "height": 4,
        "hidden": false,
        "row": 102,
        "width": null
       },
       "report_default": {
        "hidden": false
       }
      }
     }
    }
   },
   "source": []
  },
  {
   "cell_type": "code",
   "execution_count": null,
   "metadata": {
    "collapsed": true,
    "extensions": {
     "jupyter_dashboards": {
      "version": 1,
      "views": {
       "grid_default": {
        "hidden": true
       },
       "report_default": {
        "hidden": true
       }
      }
     }
    }
   },
   "outputs": [],
   "source": []
  },
  {
   "cell_type": "markdown",
   "metadata": {
    "extensions": {
     "jupyter_dashboards": {
      "version": 1,
      "views": {
       "grid_default": {
        "col": 0,
        "height": 9,
        "hidden": false,
        "row": 106,
        "width": 12
       },
       "report_default": {
        "hidden": false
       }
      }
     }
    }
   },
   "source": [
    "```viewer('3c391_ctm_spw0.pbcorP')```\n",
    "\n",
    "* This will look terrible because the Data Range is set to [-1 1], you can change the Data Range manually by clicking on the wrench icon to open a Data Display Options GUI ([-6.224e-07, 0.002687] seemed to work well).\n",
    "* Next, load the pb-corrected total intensity image as a contour image. In the viewer panel, press the Open icon (the leftmost button in the top row of icons in the viewer). This will bring up a Load Data GUI showing all images and MS in the current directory. \n",
    "* Select the total intensity image (3c391_ctm_spw0.pbcorI) and click the Contour Map button on the right hand side.\n",
    "* Finally, load the polarization position angle image (3c391_ctm_spw0.X) as a vector map.\n",
    "\n",
    "While we set the parameter polithresh when we created the position angle (X) image, a digression here is instructive in the use of Lattice Expression Language (LEL) Expressions. \n",
    "\n",
    "'3c391_ctm_spw0.X'['3c391_ctm_spw0.pbcorP'>0.0004]"
   ]
  },
  {
   "cell_type": "markdown",
   "metadata": {
    "extensions": {
     "jupyter_dashboards": {
      "version": 1,
      "views": {
       "grid_default": {
        "col": 0,
        "height": 4,
        "hidden": false,
        "row": 115,
        "width": null
       },
       "report_default": {
        "hidden": false
       }
      }
     }
    }
   },
   "source": [
    "### The polarization position angle as calculated is the electric vector position angle (EVPA). \n",
    "If we are interested in the orientation of the magnetic field, then for <font color=red>an optically thin source  </font>, the magnetic field orientation is perpendicular to the EVPA, so we must rotate the vectors by $90^{\\circ}$"
   ]
  },
  {
   "cell_type": "code",
   "execution_count": null,
   "metadata": {
    "collapsed": true,
    "extensions": {
     "jupyter_dashboards": {
      "version": 1,
      "views": {
       "grid_default": {
        "hidden": true
       },
       "report_default": {
        "hidden": true
       }
      }
     }
    }
   },
   "outputs": [],
   "source": []
  },
  {
   "cell_type": "markdown",
   "metadata": {
    "extensions": {
     "jupyter_dashboards": {
      "version": 1,
      "views": {
       "grid_default": {
        "col": 0,
        "height": 55,
        "hidden": false,
        "row": 119,
        "width": 12
       },
       "report_default": {
        "hidden": false
       }
      }
     }
    }
   },
   "source": [
    "### Electric vector\n",
    "![Magnetic](./3c391_e_vector.png)\n",
    "\n",
    "### Magnetic vector After rotation\n",
    "![Magnetic](./3c391_magnetic2.png)\n",
    "\n",
    "###### Hotmetal for polarized intensity\n",
    "###### magenta for Intensity\n",
    "###### green for  X positional angle"
   ]
  },
  {
   "cell_type": "code",
   "execution_count": null,
   "metadata": {
    "collapsed": true,
    "extensions": {
     "jupyter_dashboards": {
      "version": 1,
      "views": {
       "grid_default": {
        "hidden": true
       },
       "report_default": {
        "hidden": true
       }
      }
     }
    }
   },
   "outputs": [],
   "source": []
  },
  {
   "cell_type": "markdown",
   "metadata": {
    "extensions": {
     "jupyter_dashboards": {
      "version": 1,
      "views": {
       "grid_default": {
        "col": 0,
        "height": 4,
        "hidden": false,
        "row": 174,
        "width": 4
       },
       "report_default": {
        "hidden": false
       }
      }
     }
    }
   },
   "source": [
    "# Spectral  index image"
   ]
  },
  {
   "cell_type": "markdown",
   "metadata": {
    "extensions": {
     "jupyter_dashboards": {
      "version": 1,
      "views": {
       "grid_default": {
        "col": 4,
        "height": 4,
        "hidden": false,
        "row": 174,
        "width": null
       },
       "report_default": {
        "hidden": false
       }
      }
     }
    }
   },
   "source": [
    "## index=$\\log(S_{\\nu_1}/S_{\\nu_2})/\\log(\\nu_1/\\nu_2)$"
   ]
  },
  {
   "cell_type": "markdown",
   "metadata": {
    "extensions": {
     "jupyter_dashboards": {
      "version": 1,
      "views": {
       "grid_default": {
        "col": 0,
        "height": 4,
        "hidden": false,
        "row": 178,
        "width": 4
       },
       "report_default": {
        "hidden": false
       }
      }
     }
    }
   },
   "source": [
    "is a useful analytical tool that can convey information about the emission mechanism, the optical depth of the source or the underlying energy distribution of synchrotron-radiating electrons\n"
   ]
  },
  {
   "cell_type": "markdown",
   "metadata": {},
   "source": [
    "Having used immath to manipulate the polarization images, the reader should now have some familiarity with performing mathematical operations within CASA. Task immath also has a special mode for calculating the spectral index, mode='spix' . The two input images at different frequencies should be provided using the parameter imagename (which is a Python list). With this information, it is left as an exercise for the reader to create a spectral index map.\n",
    "\n",
    "The two input images could be the two different spectral windows from the 3C391 continuum data set (see below). If the higher-frequency spectral window (spw1) has not yet been reduced, then two images made with different channel ranges from the lower spectral window, spw0, should suffice. In this latter case, the extreme upper and lower channels are suggested, to provide a sufficient lever arm in frequency to measure a believable spectral index.\n",
    "\n",
    "Note: It would be desirable to produce the spectral index image through the first-order Taylor term expansion in the MFS imaging. This is unfortunately not available with mosaics in the clean task in CASA. This combination of modes is available in a new imaging task tclean, but as of CASA version 5.0 this functionality in tclean is still being commissioned, and for the moment it remains experimental."
   ]
  },
  {
   "cell_type": "markdown",
   "metadata": {
    "collapsed": true,
    "extensions": {
     "jupyter_dashboards": {
      "version": 1,
      "views": {
       "grid_default": {
        "col": 4,
        "height": 4,
        "hidden": false,
        "row": 178,
        "width": 4
       },
       "report_default": {
        "hidden": false
       }
      }
     }
    }
   },
   "source": [
    "# [Self Calibration](https://science.nrao.edu/facilities/alma/naasc-workshops/nrao-cd-stsci/cde_selfcal.pdf)"
   ]
  },
  {
   "cell_type": "markdown",
   "metadata": {
    "extensions": {
     "jupyter_dashboards": {
      "version": 1,
      "views": {
       "grid_default": {
        "col": 0,
        "height": 4,
        "hidden": false,
        "row": 182,
        "width": 12
       },
       "report_default": {
        "hidden": false
       }
      }
     }
    }
   },
   "source": [
    "Self-calibration is the process of using an existing model, often constructed from imaging the data itself, provided that sufficient visibility data have been obtained. This is essentially always the case with data: the system of equations is wildly over-constrained for the number of unknowns."
   ]
  },
  {
   "cell_type": "markdown",
   "metadata": {
    "extensions": {
     "jupyter_dashboards": {
      "version": 1,
      "views": {
       "grid_default": {
        "col": 8,
        "height": 4,
        "hidden": false,
        "row": 178,
        "width": null
       },
       "report_default": {
        "hidden": false
       }
      }
     }
    }
   },
   "source": [
    "More specifically, the observed visibility data on the i-j baseline can be modeled as\n",
    "\n",
    "$V'_{ij} = G_i G^*_j V_{ij}$\n",
    "where $G_i$ is the complex gain for the $i^{\\mathrm{th}}$ antenna and $V_{ij}$ is the true visibility. For an array of N antennas, at any given instant, there are N(N-1)/2 visibility data, but only N gain factors. For an array with a reasonable number of antennas, N >~ 8, solutions to this set of coupled equations converge quickly."
   ]
  },
  {
   "cell_type": "markdown",
   "metadata": {},
   "source": [
    "there are three columns of interest for an MS: the DATA column, the MODEL column, and the CORRECTED_DATA column. In normal usage, as part of the initial split, the CORRECTED_DATA column is set equal to the DATA column. The self-calibration procedure is then:\n",
    "\n",
    "Produce an image (clean) using the CORRECTED_DATA column.  \n",
    "Derive a series of gain corrections (gaincal) by comparing the DATA columns and the Fourier transform of the image, which is stored in the MODEL column. These corrections are stored in an external table.  \n",
    "Apply these corrections (applycal) to the DATA column, to form a new CORRECTED_DATA column, overwriting the previous contents of CORRECTED_DATA."
   ]
  },
  {
   "cell_type": "markdown",
   "metadata": {},
   "source": [
    "The following example begins with the standard data set, 3c391_ctm_mosaic_spw0.ms (resulting from the steps above). From this we will make an I-only multiscale image (3c391_ctm_spw0_I.image) -- and in particular the model (3c391_ctm_spw0_I.model) -- to generate a series of gain corrections that will be stored in 3C391_ctm_mosaic_spw0.selfcal1.\n",
    "\n",
    "These gain corrections are then applied to the data to form a set of self-calibrated data, and a new image is then formed (3c391_ctm_spw0_IQUV_selfcal1.image). Note that in the clean before the self-cal, it is important that we only image Stokes I so that any cleaned polarization does not affect the gaincal. "
   ]
  },
  {
   "cell_type": "code",
   "execution_count": null,
   "metadata": {
    "collapsed": true,
    "extensions": {
     "jupyter_dashboards": {
      "version": 1,
      "views": {
       "grid_default": {
        "hidden": true
       },
       "report_default": {
        "hidden": true
       }
      }
     }
    }
   },
   "outputs": [],
   "source": [
    "delmod('3c391_ctm_mosaic_spw0.ms')#We first use delmod on the MS to get rid of the previous polarized model."
   ]
  },
  {
   "cell_type": "markdown",
   "metadata": {
    "extensions": {
     "jupyter_dashboards": {
      "version": 1,
      "views": {
       "grid_default": {
        "col": 0,
        "height": 4,
        "hidden": false,
        "row": 186,
        "width": null
       },
       "report_default": {
        "hidden": false
       }
      }
     }
    }
   },
   "source": [
    "$\\log(S_{\\nu_1}/S_{\\nu_2})/\\log(\\nu_1/\\nu_2)$"
   ]
  },
  {
   "cell_type": "code",
   "execution_count": null,
   "metadata": {
    "collapsed": true,
    "extensions": {
     "jupyter_dashboards": {
      "version": 1,
      "views": {
       "grid_default": {
        "hidden": true
       },
       "report_default": {
        "hidden": true
       }
      }
     }
    }
   },
   "outputs": [],
   "source": [
    "clean(vis='3c391_ctm_mosaic_spw0.ms',imagename='3c391_ctm_spw0_ms_I',field='',spw='',mode='mfs',niter=25000,gain=0.1,threshold='1mJy',psfmode='clark',imagermode='mosaic',ftmachine='mosaic',multiscale=[0,6,18,54],smallscalebias=0.9,interactive=True,imsize=[480,480],cell=['2.5arcsec','2.5arcsec'],stokes='I',weighting='briggs',robust=0.5,usescratch=False)"
   ]
  },
  {
   "cell_type": "code",
   "execution_count": null,
   "metadata": {
    "collapsed": true
   },
   "outputs": [],
   "source": [
    "viewer('3c391_ctm_spw0_ms_I.image')\n",
    "#You should not clean very deeply.\n",
    "#After you are happy with the image:"
   ]
  },
  {
   "cell_type": "code",
   "execution_count": null,
   "metadata": {
    "collapsed": true,
    "extensions": {
     "jupyter_dashboards": {
      "version": 1,
      "views": {
       "grid_default": {
        "hidden": true
       },
       "report_default": {
        "hidden": true
       }
      }
     }
    }
   },
   "outputs": [],
   "source": [
    "gaincal(vis='3c391_ctm_mosaic_spw0.ms',caltable='3c391_ctm_mosaic_spw0.selfcal1',field='',spw='',selectdata=False,solint='30s',refant='ea21',minblperant=4,minsnr=3,gaintype='G',calmode='p',append=False)"
   ]
  },
  {
   "cell_type": "code",
   "execution_count": null,
   "metadata": {
    "collapsed": true,
    "extensions": {
     "jupyter_dashboards": {
      "version": 1,
      "views": {
       "grid_default": {
        "hidden": true
       },
       "report_default": {
        "hidden": true
       }
      }
     }
    }
   },
   "outputs": [],
   "source": [
    "applycal(vis='3c391_ctm_mosaic_spw0.ms',field='',spw='',selectdata=False,gaintable=['3c391_ctm_mosaic_spw0.selfcal1'],gainfield=[''],interp=['nearest'],calwt=[False],applymode='calflag')"
   ]
  },
  {
   "cell_type": "code",
   "execution_count": null,
   "metadata": {
    "collapsed": true,
    "extensions": {
     "jupyter_dashboards": {
      "version": 1,
      "views": {
       "grid_default": {
        "hidden": true
       },
       "report_default": {
        "hidden": true
       }
      }
     }
    }
   },
   "outputs": [],
   "source": []
  },
  {
   "cell_type": "markdown",
   "metadata": {
    "extensions": {
     "jupyter_dashboards": {
      "version": 1,
      "views": {
       "grid_default": {
        "col": 0,
        "height": 4,
        "hidden": false,
        "row": 190,
        "width": 12
       },
       "report_default": {
        "hidden": false
       }
      }
     }
    }
   },
   "source": [
    "\n",
    "##### Note that for the case of a target with circular polarization gaintype='G ' should only be used if there is a model including the circular polarization, gaintype='G' will assume V=0 in the absence of other information.\n",
    "If you do not have a model containing the circular polarization then gaintype='T' should be used. We know that 3C391 does not have detectable circular polarization so gaintype='G' with no V model is fine."
   ]
  },
  {
   "cell_type": "code",
   "execution_count": null,
   "metadata": {
    "collapsed": true,
    "extensions": {
     "jupyter_dashboards": {
      "version": 1,
      "views": {
       "grid_default": {
        "hidden": true
       },
       "report_default": {
        "hidden": true
       }
      }
     }
    }
   },
   "outputs": [],
   "source": [
    "clean(vis='3c391_ctm_mosaic_spw0.ms',imagename='3c391_ctm_spw0_IQUV_selfcal1',field='',spw='',mode='mfs',niter=25000,gain=0.1,threshold='1mJy',psfmode='clarkstokes',imagermode='mosaic',ftmachine='mosaic',multiscale=[0,6,18,54],smallscalebias=0.9,interactive=True,imsize=[480,480],cell=['2.5arcsec','2.5arcsec'],stokes='IQUV',weighting='briggs',robust=0.5,usescratch=False)"
   ]
  },
  {
   "cell_type": "code",
   "execution_count": null,
   "metadata": {
    "collapsed": true,
    "extensions": {
     "jupyter_dashboards": {
      "version": 1,
      "views": {
       "grid_default": {
        "hidden": true
       },
       "report_default": {
        "hidden": true
       }
      }
     }
    }
   },
   "outputs": [],
   "source": [
    "plotms(vis='3c391_ctm_mosaic_spw0.ms')"
   ]
  },
  {
   "cell_type": "code",
   "execution_count": null,
   "metadata": {
    "collapsed": true,
    "extensions": {
     "jupyter_dashboards": {
      "version": 1,
      "views": {
       "grid_default": {
        "hidden": true
       },
       "report_default": {
        "hidden": true
       }
      }
     }
    }
   },
   "outputs": [],
   "source": [
    "viewer('3c391_ctm_spw0_IQUV_selfcal1')"
   ]
  },
  {
   "cell_type": "markdown",
   "metadata": {
    "extensions": {
     "jupyter_dashboards": {
      "version": 1,
      "views": {
       "grid_default": {
        "col": 0,
        "height": 4,
        "hidden": false,
        "row": 194,
        "width": 12
       },
       "report_default": {
        "hidden": false
       }
      }
     }
    }
   },
   "source": [
    "Commonly, this self-cal procedure is applied multiple times. The number of iterations is determined by a combination of the data quality and number of antennas in the array, the structure of the source, the extent to which the original self-calibration assumptions are valid, and the user's patience. With reference to the original self-calibration equation above, if the observed visibility data cannot be modeled well by this equation, no amount of self-calibration will help. "
   ]
  },
  {
   "cell_type": "markdown",
   "metadata": {
    "collapsed": true,
    "extensions": {
     "jupyter_dashboards": {
      "version": 1,
      "views": {
       "grid_default": {
        "col": 0,
        "height": 4,
        "hidden": false,
        "row": 198,
        "width": 4
       },
       "report_default": {
        "hidden": false
       }
      }
     }
    }
   },
   "source": [
    "# End and Comments"
   ]
  },
  {
   "cell_type": "markdown",
   "metadata": {
    "collapsed": true,
    "extensions": {
     "jupyter_dashboards": {
      "version": 1,
      "views": {
       "grid_default": {
        "col": 0,
        "height": 20,
        "hidden": false,
        "row": 202,
        "width": 12
       },
       "report_default": {
        "hidden": false
       }
      }
     }
    }
   },
   "source": [
    "\n",
    "\n",
    "\n",
    "\n",
    "\n",
    "\n",
    "\n",
    "\n",
    "\n",
    "\n",
    "\n",
    "\n",
    "\n",
    "\n",
    "\n",
    "\n",
    "\n",
    "\n",
    "\n",
    "\n",
    "here are several general comments or guidelines:\n",
    "* An I-only image/model must be made for each new round of self-cal, rather than the IQUV image shown above.\n",
    "* Bookkeeping is important! Suppose one conducts 9 iterations of self-calibration. Will it be possible to remember one month later (or maybe even one week later!) which set of gain corrections and images are which? In the example above, the descriptor 'selfcal1' is attached to various files to help keep straight which is what. Successive iterations of self-cal could then be 'selfcal2' , 'selfcal3' , etc.\n",
    "* Care is required in the setting of imagename. If one has an image that already exists, CASA will continue cleaning it (if it can), which is almost certainly not what one wants during self-calibration. Rather one wants a unique imagename for each pass of self-calibration.\n",
    "* A common metric for self-calibration is whether the image dynamic range (= max/rms) has improved. An improvement of 10% is quite acceptable.\n",
    "* Be careful when making images and setting clean regions or masks. Self-calibration assumes that the model is perfect. If one cleans a noise bump, self-calibration will quite happily try to adjust the gains so that the CORRECTED_DATA describe a source at the location of the noise bump. As the author demonstrated to himself during the writing of his thesis, it is quite possible to take completely noisy data and manufacture a source. It is far better to exclude some feature of a source or a weak source from initial cleaning and conduct another round of self-calibration than to create an artificial source. If a real source is excluded from initial cleaning, it will continue to be present in subsequent iterations of self-calibration; if it's not a real source, one probably isn't interested in it anyway.\n",
    "* Start self-calibration with phase-only solutions (parameter calmode='p' in gaincal). As discussed in the High Dynamic Range Imaging lecture, a phase error of 20 deg is as bad as an amplitude error of 10%.\n",
    "* In initial rounds of self-calibration, consider solution intervals longer than the nominal sampling time (parameter solint in gaincal) and/or lower signal-to-noise ratio thresholds (parameter minsnr in gaincal). Depending upon the frequency and configuration and fidelity of the model image, it can be quite reasonable to start with solint='30s' or solint='60s' and/or minsnr=3 (or even lower). One might also want to consider specifying a uvrange, if, for example, the field has structure on large scales (small -) that is not well represented by the current image.\n",
    "* The task applycal will flag data with no good calibration solutions. During the initial self-calibration steps, this flagging may be excessive. If so, one can restore the flags to the state right before running applycal by using the task flagmanager.\n",
    "* You can track the agreement between the DATA, CORRECTED_DATA, and MODEL in plotms. The options in Axes tab allows one to select which column is to be plotted. If the MODEL agrees well with the CORRECTED_DATA, one can use shorter solint and/or higher minsnr values.\n",
    "* You should consider examining the solutions from gaincal by using plotcal in order to assure that the corrections are sensible. Smoothly varying phases are good, jumps are usually not. (However, because the phases are often plotted ±180 degrees, there can be apparent jumps if the phases are very near +180 deg or −180 deg.)\n",
    "* In the case of a mosaic, such as here, one should also verify that the solutions are of equal quality for all of the fields.\n",
    "\n",
    "\n",
    "\n",
    "\n",
    "\n",
    "\n",
    "\n",
    "\n",
    "\n"
   ]
  },
  {
   "cell_type": "code",
   "execution_count": null,
   "metadata": {
    "collapsed": true,
    "extensions": {
     "jupyter_dashboards": {
      "version": 1,
      "views": {
       "grid_default": {
        "hidden": true
       },
       "report_default": {
        "hidden": true
       }
      }
     }
    }
   },
   "outputs": [],
   "source": []
  },
  {
   "cell_type": "markdown",
   "metadata": {
    "extensions": {
     "jupyter_dashboards": {
      "version": 1,
      "views": {
       "grid_default": {
        "col": 0,
        "height": 9,
        "hidden": false,
        "row": 222,
        "width": 12
       },
       "report_default": {
        "hidden": false
       }
      }
     }
    }
   },
   "source": [
    "# Plans and Question\n",
    "## Another spectrum window and other sources\n",
    "## How to deal with RFI\n",
    "## Faraday rotation and rotation measure\n",
    "## Point source?\n"
   ]
  },
  {
   "cell_type": "code",
   "execution_count": null,
   "metadata": {
    "collapsed": true,
    "extensions": {
     "jupyter_dashboards": {
      "version": 1,
      "views": {
       "grid_default": {
        "hidden": true
       },
       "report_default": {
        "hidden": true
       }
      }
     }
    }
   },
   "outputs": [],
   "source": []
  },
  {
   "cell_type": "markdown",
   "metadata": {},
   "source": [
    "# 3c391_spw1_7.5GHz"
   ]
  },
  {
   "cell_type": "markdown",
   "metadata": {},
   "source": [
    "Information from observing log:\n",
    "There is no C-band receivers on ea13\n",
    "Antenna ea06 is out of the array\n",
    "Antenna ea15 has some corrupted data\n",
    "Antennas ea10, ea12, ea22 do not have good baseline positions\n",
    "Gusty winds, mixed clouds, API rms up to 11.5."
   ]
  },
  {
   "cell_type": "code",
   "execution_count": null,
   "metadata": {
    "collapsed": true
   },
   "outputs": [],
   "source": [
    "plotants(vis='3c391_ctm_mosaic_10s_spw1.ms',figfile='plotants_3c391_antenna_layout.png')\n",
    "clearstat()\n",
    "\n",
    "# In CASA\n",
    "flagdata(vis='3c391_ctm_mosaic_10s_spw1.ms', flagbackup=True, mode='manual', scan='1')\n",
    "flagdata(vis='3c391_ctm_mosaic_10s_spw1.ms', flagbackup=True, mode='manual', antenna='ea13,ea15')\n",
    "flagdata(vis='3c391_ctm_mosaic_10s_spw1.ms', mode='quack', quackinterval=10.0, quackmode='beg')\n",
    "clearstat() # This removes any existing table locks generated by flagdata\n",
    "plotms(vis='3c391_ctm_mosaic_10s_spw1.ms', selectdata=True, correlation='RR,LL',averagedata=True, avgchannel='64', coloraxis='field')\n",
    "plotms(vis='3c391_ctm_mosaic_10s_spw1.ms', selectdata=True, xaxis='frequency',yaxis='amp',correlation='RR,LL', coloraxis='field')\n",
    "\n",
    "plotms(vis='3c391_ctm_mosaic_10s_spw1.ms',field='',correlation='RR,LL',\n",
    "       timerange='',antenna='ea01',spw='0:31',\n",
    "       xaxis='time',yaxis='antenna2',\n",
    "       plotrange=[-1,-1,0,26],coloraxis='field')\n",
    "\n",
    "gencal(vis='3c391_ctm_mosaic_10s_spw1.ms',caltable='3c391_ctm_mosaic_10s_spw1.antpos',caltype='antpos')\n",
    "setjy(vis='3c391_ctm_mosaic_10s_spw1.ms', listmodels=True)\n",
    "setjy(vis='3c391_ctm_mosaic_10s_spw1.ms',field='J1331+3030',standard='Perley-Butler 2013', model='3C286_X.im',usescratch=False,scalebychan=True,spw='')\n",
    "\n",
    "\n",
    "\n"
   ]
  },
  {
   "cell_type": "code",
   "execution_count": null,
   "metadata": {
    "collapsed": true
   },
   "outputs": [],
   "source": [
    "RFI\n",
    "\n",
    "plotms(vis='3c391_ctm_mosaic_10s_spw1.ms', selectdata=True, xaxis='frequency',yaxis='amp',field='8',correlation='RR,LL', coloraxis='field')\n"
   ]
  },
  {
   "cell_type": "markdown",
   "metadata": {
    "ExecuteTime": {
     "end_time": "2017-12-07T14:05:30.547931Z",
     "start_time": "2017-12-07T14:05:30.407216Z"
    }
   },
   "source": [
    "3C286_C.im at 4.6 GHz and 3C286_X.im at 7.5 GHz. "
   ]
  },
  {
   "cell_type": "code",
   "execution_count": null,
   "metadata": {
    "collapsed": true
   },
   "outputs": [],
   "source": [
    "gaincal(vis='3c391_ctm_mosaic_10s_spw1.ms', caltable='3c391_ctm_mosaic_10s_spw1.G0all', field='0,1,9', refant='ea21', spw='0:27~36', gaintype='G',calmode='p', solint='int', minsnr=5, gaintable=['3c391_ctm_mosaic_10s_spw1.antpos'])\n",
    "\n",
    "\n",
    "spw='0:27~36' : Choose a subset of the channels from which to determine the gain corrections.\n",
    "These should be near the center of the band, and there should be enough channels chosen so that a reasonable signal-to-noise ratio can be obtained; \n",
    "the central 10% of the channels is a good guideline. \n",
    "Particularly at lower frequencies where RFI can manifest itself, one should choose RFI-free frequency channels;\n",
    "\n",
    "\n",
    "\n",
    "plotcal(caltable='3c391_ctm_mosaic_10s_spw1.G0all',xaxis='time',yaxis='phase', poln='R',iteration='antenna',plotrange=[-1,-1,-180,180])\n",
    "\n",
    "plotcal(caltable='3c391_ctm_mosaic_10s_spw1.G0all',xaxis='time',yaxis='phase', poln='L',iteration='antenna',plotrange=[-1,-1,-180,180])\n",
    "\n",
    "flagdata(vis='3c391_ctm_mosaic_10s_spw1.ms', flagbackup=True, mode='manual', antenna='ea05')\n",
    "\n",
    "\n",
    "gaincal(vis='3c391_ctm_mosaic_10s_spw1.ms', caltable='3c391_ctm_mosaic_10s_spw1.G0', field='J1331+3030', refant='ea21', spw='0:27~36', calmode='p', solint='int', minsnr=5, gaintable=['3c391_ctm_mosaic_10s_spw1.antpos'])\n",
    "\n",
    "\n",
    "plotcal(caltable='3c391_ctm_mosaic_10s_spw1.G0', xaxis='time',yaxis='phase',poln='R',field='J1331+3030',iteration='antenna', plotrange=[-1,-1,-180,180],timerange='08:02:00~08:17:00')\n",
    "\n",
    "plotcal(caltable='3c391_ctm_mosaic_10s_spw1.G0', xaxis='time',yaxis='phase',poln='L',field='J1331+3030',iteration='antenna', plotrange=[-1,-1,-180,180],timerange='08:02:00~08:17:00')\n",
    "\n",
    "\n",
    "\n",
    "\n",
    "gaincal(vis='3c391_ctm_mosaic_10s_spw1.ms',caltable='3c391_ctm_mosaic_10s_spw1.K0', field='J1331+3030',refant='ea21',spw='0:5~58',gaintype='K', solint='inf',combine='scan',minsnr=5, gaintable=['3c391_ctm_mosaic_10s_spw1.antpos', '3c391_ctm_mosaic_10s_spw1.G0'])\n",
    "###\n",
    "spw='0:5~58' : Widest possible frequency range in the spw, avoiding edge channels because they have lower sensitivity\n",
    "plotcal(caltable='3c391_ctm_mosaic_10s_spw1.K0',xaxis='antenna',yaxis='delay')\n",
    "\n",
    "\n",
    "bandpass(vis='3c391_ctm_mosaic_10s_spw1.ms',caltable='3c391_ctm_mosaic_10s_spw1.B0', field='J1331+3030',spw='',refant='ea21',combine='scan', solint='inf',bandtype='B', gaintable=['3c391_ctm_mosaic_10s_spw1.antpos', '3c391_ctm_mosaic_10s_spw1.G0', '3c391_ctm_mosaic_10s_spw1.K0'])\n",
    "# In CASA\n",
    "plotcal(caltable= '3c391_ctm_mosaic_10s_spw1.B0',poln='R', \n",
    "        xaxis='chan',yaxis='amp',field= 'J1331+3030',subplot=221, \n",
    "        iteration='antenna')\n",
    "#\n",
    "plotcal(caltable= '3c391_ctm_mosaic_10s_spw1.B0',poln='L', \n",
    "        xaxis='chan',yaxis='amp',field= 'J1331+3030',subplot=221, \n",
    "        iteration='antenna')\n",
    "#\n",
    "plotcal(caltable= '3c391_ctm_mosaic_10s_spw1.B0',poln='R', \n",
    "        xaxis='chan',yaxis='phase',field= 'J1331+3030',subplot=221, \n",
    "        iteration='antenna',plotrange=[-1,-1,-180,180])\n",
    "#\n",
    "plotcal(caltable= '3c391_ctm_mosaic_10s_spw1.B0',poln='L', \n",
    "        xaxis='chan',yaxis='phase',field= 'J1331+3030',subplot=221, \n",
    "        iteration='antenna',plotrange=[-1,-1,-180,180])\n",
    "\n",
    "\n",
    "\n",
    "\n",
    "\n",
    "\n",
    "\n",
    "\n",
    "\n",
    "gaincal(vis='3c391_ctm_mosaic_10s_spw1.ms',caltable='3c391_ctm_mosaic_10s_spw1.G1', field='J1331+3030',spw='0:5~58', solint='inf',refant='ea21',gaintype='G',calmode='ap',solnorm=False, gaintable=['3c391_ctm_mosaic_10s_spw1.antpos', '3c391_ctm_mosaic_10s_spw1.K0', '3c391_ctm_mosaic_10s_spw1.B0'], interp=['linear','linear','nearest'])\n",
    "\n",
    "\n",
    "gaincal(vis='3c391_ctm_mosaic_10s_spw1.ms',caltable='3c391_ctm_mosaic_10s_spw1.G1', field='J1822-0938', spw='0:5~58',solint='inf',refant='ea21',gaintype='G',calmode='ap', gaintable=['3c391_ctm_mosaic_10s_spw1.antpos', '3c391_ctm_mosaic_10s_spw1.K0', '3c391_ctm_mosaic_10s_spw1.B0'], append=True)\n",
    "\n",
    "###\n",
    "\n",
    "gaincal(vis='3c391_ctm_mosaic_10s_spw1.ms',caltable='3c391_ctm_mosaic_10s_spw1.G1', field='J0319+4130', spw='0:5~58',solint='inf',refant='ea21',gaintype='G',calmode='ap', gaintable=['3c391_ctm_mosaic_10s_spw1.antpos', '3c391_ctm_mosaic_10s_spw1.K0', '3c391_ctm_mosaic_10s_spw1.B0'], append=True)\n",
    "\n",
    "\n",
    "alpha1 = log(7.53261/5.5242)/log(4663.0/7436.0)\n",
    "alpha = log(7.53261/7.6677)/log(4663.0/4536.0)\n",
    "i0=7.6677\n",
    "i01=5.5242 # Stokes I value for spw 0 ch 0\n",
    "c0=0.112 # Fractional polarization=11.2%\n",
    "d0=33*pi/180 # polarization angle of 33 degrees converted to radians\n",
    "\n",
    "#setjy(vis='3c391_ctm_mosaic_10s_spw1.ms', field='J1331+3030', standard='manual', spw='0', fluxdensity=[i01,0,0,0], spix=[alpha1,0], reffreq='7436.0MHz', polindex=[c0,0], polangle=[d0,0], scalebychan=True, usescratch=False)\n",
    "setjy(vis='3c391_ctm_mosaic_10s_spw1.ms', field='J1331+3030', standard='manual',spw='0', fluxdensity=[i0,0,0,0], spix=[alpha,0], reffreq='4536.0MHz',polindex=[c0,0], polangle=[d0,0],scalebychan=True, usescratch=False)\n",
    "\n",
    "plotms(vis='3c391_ctm_mosaic_10s_spw1.ms',field='0',correlation='RR',\n",
    "       timerange='08:02:00~08:17:00',antenna='ea01&ea02',\n",
    "       xaxis='channel',yaxis='amp',ydatacolumn='model')\n",
    "\n",
    "plotms(vis='3c391_ctm_mosaic_10s_spw1.ms',field='0',correlation='RL',\n",
    "       timerange='08:02:00~08:17:00',antenna='ea01&ea02',\n",
    "       xaxis='channel',yaxis='phase',ydatacolumn='model',\n",
    "       plotrange=[-1,-1,-180,180])\n",
    "\n",
    "gaincal(vis='3c391_ctm_mosaic_10s_spw1.ms', caltable='3c391_ctm_mosaic_10s_spw1.Kcross', field='J1331+3030', spw='0:5~58', gaintype='KCROSS', solint='inf', combine='scan', refant='ea21', gaintable=['3c391_ctm_mosaic_10s_spw1.antpos', '3c391_ctm_mosaic_10s_spw1.K0', '3c391_ctm_mosaic_10s_spw1.B0', '3c391_ctm_mosaic_10s_spw1.G1'], gainfield=['','','','J1331+3030'], parang=True)\n",
    "\n",
    "polcal(vis='3c391_ctm_mosaic_10s_spw1.ms',caltable='3c391_ctm_mosaic_10s_spw1.D1', field='J0319+4130',spw='0:5~58', refant='ea21',poltype='Df',solint='inf',combine='scan', gaintable=['3c391_ctm_mosaic_10s_spw1.antpos', '3c391_ctm_mosaic_10s_spw1.K0', '3c391_ctm_mosaic_10s_spw1.B0', '3c391_ctm_mosaic_10s_spw1.G1', '3c391_ctm_mosaic_10s_spw1.Kcross'], gainfield=['','','','J0319+4130',''])\n",
    "\n",
    "\n",
    "plotcal(caltable='3c391_ctm_mosaic_10s_spw1.D1',xaxis='chan',yaxis='amp',spw='',field='',iteration='antenna')\n",
    "#\n",
    "plotcal(caltable='3c391_ctm_mosaic_10s_spw1.D1',xaxis='chan',yaxis='phase',spw='',field='',iteration='antenna',plotrange=[-1,-1,-180,180])\n",
    "\n",
    "\n",
    "\n",
    "polcal(vis='3c391_ctm_mosaic_10s_spw1.ms',caltable='3c391_ctm_mosaic_10s_spw1.D2', field='J1822-0938',spw='0:5~58', refant='ea21',poltype='Df+QU',solint='inf',combine='scan', gaintable=['3c391_ctm_mosaic_10s_spw1.antpos', '3c391_ctm_mosaic_10s_spw1.K0', '3c391_ctm_mosaic_10s_spw1.B0', '3c391_ctm_mosaic_10s_spw1.G1', '3c391_ctm_mosaic_10s_spw1.Kcross'], gainfield=['','','','J1822-0938',''])\n",
    "\n",
    "\n",
    "polcal(vis='3c391_ctm_mosaic_10s_spw1.ms',caltable='3c391_ctm_mosaic_10s_spw1.X1', field='J1331+3030',combine='scan', poltype='Xf',solint='inf', gaintable=['3c391_ctm_mosaic_10s_spw1.antpos', '3c391_ctm_mosaic_10s_spw1.K0', '3c391_ctm_mosaic_10s_spw1.B0', '3c391_ctm_mosaic_10s_spw1.G1', '3c391_ctm_mosaic_10s_spw1.Kcross', '3c391_ctm_mosaic_10s_spw1.D2'], gainfield=['','','','J1331+3030','',''])\n",
    "plotcal(caltable='3c391_ctm_mosaic_10s_spw1.X1',xaxis='chan',yaxis='phase')\n",
    "        \n",
    "myscale = fluxscale(vis='3c391_ctm_mosaic_10s_spw1.ms', caltable='3c391_ctm_mosaic_10s_spw1.G1', fluxtable='3c391_ctm_mosaic_10s_spw1.fluxscale1', reference=['J1331+3030'], transfer=['J1822-0938,J0319+4130'], incremental=False)"
   ]
  },
  {
   "cell_type": "code",
   "execution_count": null,
   "metadata": {
    "collapsed": true
   },
   "outputs": [],
   "source": [
    "myscale\n",
    "  Out[12]: \n",
    "{'1': {'0': {'fluxd': array([ 1.42362774,  0.        ,  0.        ,  0.        ]),\n",
    "             'fluxdErr': array([ 0.00750435,  0.        ,  0.        ,  0.        ]),\n",
    "             'numSol': array([ 46.,   0.,   0.,   0.])},\n",
    "       'fieldName': 'J1822-0938',\n",
    "       'fitFluxd': 0.0,\n",
    "       'fitFluxdErr': 0.0,\n",
    "       'fitRefFreq': 0.0,\n",
    "       'spidx': array([ 0.,  0.,  0.]),\n",
    "       'spidxerr': array([ 0.,  0.,  0.])},\n",
    " '9': {'0': {'fluxd': array([ 17.36190162,   0.        ,   0.        ,   0.        ]),\n",
    "             'fluxdErr': array([ 0.03526489,  0.        ,  0.        ,  0.        ]),\n",
    "             'numSol': array([ 44.,   0.,   0.,   0.])},\n",
    "       'fieldName': 'J0319+4130',\n",
    "       'fitFluxd': 0.0,\n",
    "       'fitFluxdErr': 0.0,\n",
    "       'fitRefFreq': 0.0,\n",
    "       'spidx': array([ 0.,  0.,  0.]),\n",
    "       'spidxerr': array([ 0.,  0.,  0.])},\n",
    " 'freq': array([  7.49900000e+09]),\n",
    " 'spwID': array([0], dtype=int32),\n",
    " 'spwName': array(['Subband:0'], \n",
    "      dtype='|S10')}\n"
   ]
  },
  {
   "cell_type": "code",
   "execution_count": null,
   "metadata": {
    "code_folding": [],
    "collapsed": true
   },
   "outputs": [],
   "source": [
    "# In CASA\n",
    "applycal(vis='3c391_ctm_mosaic_10s_spw1.ms',\n",
    "         field='J1331+3030',\n",
    "         gaintable=['3c391_ctm_mosaic_10s_spw1.antpos', \n",
    "                    '3c391_ctm_mosaic_10s_spw1.fluxscale1',\n",
    "                    '3c391_ctm_mosaic_10s_spw1.K0',\n",
    "                    '3c391_ctm_mosaic_10s_spw1.B0',\n",
    "                    '3c391_ctm_mosaic_10s_spw1.Kcross', \n",
    "                    '3c391_ctm_mosaic_10s_spw1.D2',\n",
    "                    '3c391_ctm_mosaic_10s_spw1.X1'],\n",
    "         gainfield=['','J1331+3030','','','','',''], \n",
    "         interp=['','nearest','','','','',''],\n",
    "         calwt=[False],\n",
    "         parang=True)\n",
    "#\n",
    "applycal(vis='3c391_ctm_mosaic_10s_spw1.ms',\n",
    "         field='J0319+4130',\n",
    "         gaintable=['3c391_ctm_mosaic_10s_spw1.antpos', \n",
    "                    '3c391_ctm_mosaic_10s_spw1.fluxscale1',\n",
    "                    '3c391_ctm_mosaic_10s_spw1.K0',\n",
    "                    '3c391_ctm_mosaic_10s_spw1.B0',\n",
    "                    '3c391_ctm_mosaic_10s_spw1.Kcross', \n",
    "                    '3c391_ctm_mosaic_10s_spw1.D2',\n",
    "                    '3c391_ctm_mosaic_10s_spw1.X1'],\n",
    "         gainfield=['','J0319+4130','','','','',''], \n",
    "         interp=['','nearest','','','','',''],\n",
    "         calwt=[False],\n",
    "         parang=True)\n",
    "#\n",
    "applycal(vis='3c391_ctm_mosaic_10s_spw1.ms',\n",
    "         field='J1822-0938',\n",
    "         gaintable=['3c391_ctm_mosaic_10s_spw1.antpos', \n",
    "                    '3c391_ctm_mosaic_10s_spw1.fluxscale1',\n",
    "                    '3c391_ctm_mosaic_10s_spw1.K0',\n",
    "                    '3c391_ctm_mosaic_10s_spw1.B0',\n",
    "                    '3c391_ctm_mosaic_10s_spw1.Kcross', \n",
    "                    '3c391_ctm_mosaic_10s_spw1.D2',\n",
    "                    '3c391_ctm_mosaic_10s_spw1.X1'],\n",
    "         gainfield=['','J1822-0938','','','','',''], \n",
    "         interp=['','nearest','','','','',''],\n",
    "         calwt=[False],\n",
    "         parang=True)\n",
    "\n",
    "applycal(vis='3c391_ctm_mosaic_10s_spw1.ms',\n",
    "         field='2~8',\n",
    "         gaintable=['3c391_ctm_mosaic_10s_spw1.antpos', \n",
    "                    '3c391_ctm_mosaic_10s_spw1.fluxscale1',\n",
    "                    '3c391_ctm_mosaic_10s_spw1.K0',\n",
    "                    '3c391_ctm_mosaic_10s_spw1.B0',\n",
    "                    '3c391_ctm_mosaic_10s_spw1.Kcross', \n",
    "                    '3c391_ctm_mosaic_10s_spw1.D2',\n",
    "                    '3c391_ctm_mosaic_10s_spw1.X1'],\n",
    "         gainfield=['','J1822-0938','','','','',''], \n",
    "         interp=['','linear','','','','',''],\n",
    "         calwt=[False],\n",
    "         parang=True)"
   ]
  },
  {
   "cell_type": "markdown",
   "metadata": {},
   "source": [
    "RFI flagdata"
   ]
  },
  {
   "cell_type": "code",
   "execution_count": null,
   "metadata": {
    "collapsed": true
   },
   "outputs": [],
   "source": [
    "#uncalibrated data flag\n",
    "flagdata(vis='3c391_ctm_mosaic_10s_spw1.ms', spw='0', mode='tfcrop', action='apply', display='data', extendflags=False)\n",
    "\n",
    "#calibrated data flag\n",
    "flagdata(vis='3c391_ctm_mosaic_10s_spw1.ms', spw='0', mode='rflag', action='apply', display='data', extendflags=False)\n",
    "\n",
    "# re calibrate\n",
    "plotms(vis='3c391_ctm_mosaic_10s_spw1.ms', selectdata=True, xaxis='frequency',yaxis='amp',field='0',correlation='RR,LL', coloraxis='field')\n",
    "plotms(vis='3c391_ctm_mosaic_10s_spw1.ms', selectdata=True, xaxis='frequency',yaxis='amp',field='8',correlation='RR,LL', coloraxis='field')\n",
    "\n",
    "plotms(vis='3c391_ctm_mosaic_10s_spw1.ms', selectdata=True, xaxis='channel',yaxis='amp',field='8',correlation='RR,LL', coloraxis='field')\n",
    "\n",
    "\n",
    "flagdata(vis='3c391_ctm_mosaic_10s_spw1.ms', spw='0', mode='tfcrop', maxnpieces=4, action='apply', extendflags=F, display='data')\n",
    "or\n",
    "cmdlist = [ \"spw='0' mode='tfcrop' maxnpieces=4 ntime=51.0 extendflags=False\"]\n",
    "flagdata(vis='3c391_ctm_mosaic_10s_spw1.ms', mode='list', inpfile=cmdlist, action='apply', display='data')\n",
    "\n",
    "example:\n",
    "cmd=[\"scan='1~3' mode='manual'\",\n",
    "        \"mode='clip' clipminmax=[0,2] correlation='ABS_XX' clipoutside=False\",\n",
    "        \"spw='9' mode='tfcrop' correlation='ABS_YY' ntime=51.0\",\n",
    "        \"mode='extend' extendpols=True\"]\n",
    "\n",
    "\n",
    "cmdlist = [  \"spw='0' mode='tfcrop' maxnpieces=4 usewindowstats='std' halfwin=2, extendflags=False\"]\n",
    "flagdata(vis='3c391_ctm_mosaic_10s_spw1.ms', mode='list', inpfile=cmdlist, action='apply', display='data')\n",
    "\n",
    "cmdlist = [ \" spw='0' mode='rflag' freqdevscale=3.0 timedevscale=3.0 extendflag=False\" ] \n",
    "flagdata(vis='3c391_ctm_mosaic_10s_spw1.ms', mode='list', inpfile=cmdlist, action='apply', display='data')\n",
    "\n",
    "cmdlist = [  \"spw='0' mode='rflag' freqdevscale=4.0 extendflags=False\",\n",
    "\"spw='0' mode='extend' growtime=30.0 extendpols=True \"]\n",
    "flagdata(vis='3c391_ctm_mosaic_10s_spw1.ms', mode='list', inpfile=cmdlist, action='calculate', display='data')\n",
    "\n",
    "\n",
    "flagdata(vis='3c391_ctm_mosaic_10s_spw1.ms', flagbackup=True, mode='manual',spw='0:0~2;58~63')\n"
   ]
  },
  {
   "cell_type": "code",
   "execution_count": null,
   "metadata": {
    "collapsed": true
   },
   "outputs": [],
   "source": [
    "# In CASA\n",
    "plotms(vis='3c391_ctm_mosaic_10s_spw1.ms',field='0',correlation='',\n",
    "       timerange='08:02:00~08:17:00',antenna='',avgtime='60',\n",
    "       xaxis='channel',yaxis='amp',ydatacolumn='corrected',\n",
    "       coloraxis='corr',\n",
    "       plotfile='plotms_3c391-fld0-corrected-amp.png')\n",
    "#\n",
    "plotms(vis='3c391_ctm_mosaic_10s_spw1.ms',field='0',correlation='',\n",
    "       timerange='08:02:00~08:17:00',antenna='',avgtime='60',\n",
    "       xaxis='channel',yaxis='phase',ydatacolumn='corrected',\n",
    "       plotrange=[-1,-1,-180,180],coloraxis='corr',\n",
    "       plotfile='plotms_3c391-fld0-corrected-phase.png')\n",
    "#\n",
    "plotms(vis='3c391_ctm_mosaic_10s_spw1.ms',field='1',correlation='RR,LL',\n",
    "       timerange='',antenna='',avgtime='60',\n",
    "       xaxis='channel',yaxis='amp',ydatacolumn='corrected',\n",
    "       plotfile='plotms_3c391-fld1-corrected-amp.png')\n",
    "#\n",
    "plotms(vis='3c391_ctm_mosaic_10s_spw1.ms',field='1',correlation='RR,LL',\n",
    "       timerange='',antenna='',avgtime='60',\n",
    "       xaxis='channel',yaxis='phase',ydatacolumn='corrected',\n",
    "       plotrange=[-1,-1,-180,180],coloraxis='corr',\n",
    "       plotfile='plotms_3c391-fld1-corrected-phase.png')\n",
    "\n",
    "plotms(vis='3c391_ctm_mosaic_10s_spw1.ms',field='1',correlation='RR,LL',\n",
    "       timerange='',antenna='',avgtime='60',\n",
    "       xaxis='phase',xdatacolumn='corrected',yaxis='amp',ydatacolumn='corrected',\n",
    "       plotrange=[-180,180,0,3],coloraxis='corr',\n",
    "       plotfile='plotms_3c391-fld1-corrected-ampvsphase.png')\n",
    "\n",
    "-------\n",
    "=======\n",
    "\n",
    "plotms(vis='3c391_ctm_mosaic_10s_spw1.ms',field='1',correlation='RR,LL',\n",
    "       timerange='',antenna='',avgtime='60',\n",
    "       xaxis='phase',xdatacolumn='corrected',yaxis='amp',ydatacolumn='corrected',\n",
    "       plotrange=[-180,180,0,100],coloraxis='corr')\n",
    "\n",
    "plotms(vis='3c391_ctm_mosaic_10s_spw1.ms',field='9',correlation='RR,LL',\n",
    "       timerange='',antenna='',avgtime='60',\n",
    "       xaxis='phase',xdatacolumn='corrected',yaxis='amp',ydatacolumn='corrected',\n",
    "       plotrange=[-180,180,0,20],coloraxis='corr')\n",
    "\n",
    "\n",
    "plotms(vis='3c391_ctm_mosaic_10s_spw1.ms',field='',correlation='RR,LL',\n",
    "       timerange='',antenna='',avgtime='60',\n",
    "       xaxis='phase',xdatacolumn='corrected',yaxis='amp',ydatacolumn='corrected',\n",
    "       plotrange=[-180,180,0,180],coloraxis='corr')\n",
    "\n",
    "plotms(vis='3c391_ctm_mosaic_10s_spw1.ms',field='9',correlation='RR,LL',\n",
    "       timerange='',antenna='',avgtime='60',\n",
    "       xaxis='channel',xdatacolumn='corrected',yaxis='amp',ydatacolumn='corrected',\n",
    "       plotrange=[0,64,0,180],coloraxis='corr')\n",
    "\n",
    "---------\n",
    "========="
   ]
  },
  {
   "cell_type": "code",
   "execution_count": null,
   "metadata": {
    "collapsed": true
   },
   "outputs": [],
   "source": [
    "# In CASA\n",
    "split(vis='3c391_ctm_mosaic_10s_spw1.ms',outputvis='3c391_ctm_mosaic_spw1.ms',\n",
    "      datacolumn='corrected',field='2~8')\n",
    "\n",
    "plotms(vis='3c391_ctm_mosaic_spw1.ms',xaxis='uvwave',yaxis='amp',\n",
    "       ydatacolumn='data', field='0',avgtime='30',correlation='RR')\n",
    " "
   ]
  },
  {
   "cell_type": "code",
   "execution_count": null,
   "metadata": {
    "collapsed": true
   },
   "outputs": [],
   "source": [
    "# In CASA\n",
    "plotms(vis='3c391_ctm_mosaic_spw1.ms',xaxis='uvwave',yaxis='amp',\n",
    "       ydatacolumn='data', field='0',avgtime='30',correlation='RR',\n",
    "       plotfile='plotms_3c391-mosaic0-uvwave.png',overwrite=True)"
   ]
  },
  {
   "cell_type": "code",
   "execution_count": null,
   "metadata": {
    "collapsed": true
   },
   "outputs": [],
   "source": [
    "clean(vis='3c391_ctm_mosaic_spw1.ms',\n",
    "      imagename='3c391_ctm_spw1_I',\n",
    "      field='',spw='',\n",
    "      mode='mfs',\n",
    "      niter=5000,\n",
    "      gain=0.1, threshold='1.0mJy',\n",
    "      psfmode='clark',\n",
    "      imagermode='mosaic', ftmachine='mosaic',\n",
    "      multiscale=[0], \n",
    "      interactive=True,\n",
    "      imsize=[480,480], cell=['2.5arcsec','2.5arcsec'],\n",
    "      stokes='I',\n",
    "      weighting='briggs',robust=0.5,\n",
    "      usescratch=False)\n",
    "#\n",
    "After about 10000 iterations (Figure 26) the residuals were looking pretty good.\n",
    "    \n",
    "viewer('3c391_ctm_spw1_I.image')\n",
    "\n",
    "\n",
    "\n"
   ]
  },
  {
   "cell_type": "code",
   "execution_count": null,
   "metadata": {
    "collapsed": true
   },
   "outputs": [],
   "source": []
  },
  {
   "cell_type": "markdown",
   "metadata": {},
   "source": [
    "Advanced topic"
   ]
  },
  {
   "cell_type": "code",
   "execution_count": null,
   "metadata": {
    "collapsed": true
   },
   "outputs": [],
   "source": [
    "clean(vis='3c391_ctm_mosaic_spw1.ms',imagename='3c391_ctm_spw1_IQUV',\n",
    "      field='',spw='',\n",
    "      mode='mfs',\n",
    "      niter=25000,\n",
    "      gain=0.1, threshold='1.0mJy',\n",
    "      psfmode='clarkstokes',\n",
    "      imagermode='mosaic', ftmachine='mosaic',\n",
    "      multiscale=[0, 6, 18, 54], smallscalebias=0.9,\n",
    "      interactive=True,\n",
    "      imsize=[480,480], cell=['2.5arcsec','2.5arcsec'],\n",
    "      stokes='IQUV',\n",
    "      weighting='briggs',robust=0.5,\n",
    "      pbcor=False,\n",
    "      usescratch=False)\n",
    "\n",
    "viewer('3c391_ctm_spw1_IQUV.image')\n",
    "\n",
    "impbcor(imagename='3c391_ctm_spw1_IQUV.image',pbimage='3c391_ctm_spw1_IQUV.flux',\n",
    "        outfile='3c391_ctm_spw1_IQUV.pbcorimage')\n",
    "\n",
    "mystat = imstat(imagename='3c391_ctm_spw1_IQUV.pbcorimage',stokes='')\n",
    "\n",
    "viewer('3c391_ctm_spw1_IQUV.pbcorimage')\n",
    "viewer('3c391_ctm_spw1_IQUV.image')"
   ]
  },
  {
   "cell_type": "code",
   "execution_count": null,
   "metadata": {
    "collapsed": true
   },
   "outputs": [],
   "source": [
    "(3c391_ctm_spw1_I.image)\n",
    "        Stokes       Velocity          Frame        Doppler      Frequency \n",
    "             I   -42.9832km/s           LSRK          RADIO    7.49901e+09 \n",
    "BrightnessUnit       BeamArea           Npts            Sum    FluxDensity \n",
    "       Jy/beam        16.6937          15248   3.077422e+01   1.843459e+00 \n",
    "          Mean            Rms        Std dev        Minimum        Maximum \n",
    "  2.018246e-03   5.024758e-03   4.601767e-03  -4.201546e-03   3.913112e-02 \n",
    "  region count \n",
    "             1 "
   ]
  },
  {
   "cell_type": "code",
   "execution_count": null,
   "metadata": {
    "collapsed": true
   },
   "outputs": [],
   "source": [
    "(3c391_ctm_spw1_IQUV.image)\n",
    "        Stokes       Velocity          Frame        Doppler      Frequency \n",
    "             I   -42.9832km/s           LSRK          RADIO    7.49901e+09 \n",
    "BrightnessUnit       BeamArea           Npts            Sum    FluxDensity \n",
    "       Jy/beam        16.6937          13477   6.980891e+01   4.181743e+00 \n",
    "          Mean            Rms        Std dev        Minimum        Maximum \n",
    "  5.179856e-03   7.452281e-03   5.357958e-03  -1.316315e-03   4.158847e-02 \n",
    "  region count \n",
    "             1 \n",
    "        \n",
    "(3c391_ctm_spw1_IQUV.pbcorimage)\n",
    "        Stokes       Velocity          Frame        Doppler      Frequency \n",
    "             I   -42.9832km/s           LSRK          RADIO    7.49901e+09 \n",
    "BrightnessUnit       BeamArea           Npts            Sum    FluxDensity \n",
    "       Jy/beam        16.6937          14154   7.829048e+01   4.689812e+00 \n",
    "          Mean            Rms        Std dev        Minimum        Maximum \n",
    "  5.531332e-03   8.157493e-03   5.995965e-03  -1.439270e-03   4.798588e-02 \n",
    "  region count \n",
    "             1         \n",
    "        "
   ]
  },
  {
   "cell_type": "code",
   "execution_count": null,
   "metadata": {
    "collapsed": true
   },
   "outputs": [],
   "source": [
    "imsubimage(imagename='3c391_ctm_spw1_IQUV.image',outfile='3c391_ctm_spw1.I',stokes='I')\n",
    "imsubimage(imagename='3c391_ctm_spw1_IQUV.image',outfile='3c391_ctm_spw1.Q',stokes='Q')\n",
    "imsubimage(imagename='3c391_ctm_spw1_IQUV.image',outfile='3c391_ctm_spw1.U',stokes='U')\n",
    "imsubimage(imagename='3c391_ctm_spw1_IQUV.image',outfile='3c391_ctm_spw1.V',stokes='V')\n",
    "imsubimage(imagename='3c391_ctm_spw1_IQUV.pbcorimage',outfile='3c391_ctm_spw1.pbcorI',stokes='I')"
   ]
  },
  {
   "cell_type": "code",
   "execution_count": null,
   "metadata": {
    "collapsed": true
   },
   "outputs": [],
   "source": [
    "immath(outfile='3c391_ctm_spw1.P',\n",
    "       mode='poli',\n",
    "       imagename=['3c391_ctm_spw1.Q','3c391_ctm_spw1.U'],\n",
    "       sigma='0.0Jy/beam')\n",
    "\n",
    "immath(outfile='3c391_ctm_spw1.P_unbias',\n",
    "       mode='poli',\n",
    "       imagename=['3c391_ctm_spw1.Q','3c391_ctm_spw1.U'],\n",
    "       sigma='0.000041Jy/beam')\n",
    "\n",
    "imsubimage(imagename='3c391_ctm_spw1_IQUV.flux',\n",
    "           outfile='3c391_ctm_spw1.Qflux',\n",
    "           stokes='Q')\n",
    "\n",
    "immath(outfile='3c391_ctm_spw1.pbcorP',\n",
    "       mode='evalexpr',\n",
    "       imagename=['3c391_ctm_spw1.P_unbias','3c391_ctm_spw1.Qflux'],\n",
    "       expr=\"IM0[IM1>0.2]/IM1\")\n",
    "immath(outfile='3c391_ctm_spw1.X',\n",
    "       mode='pola',\n",
    "       imagename=['3c391_ctm_spw1.Q','3c391_ctm_spw1.U'],\n",
    "       polithresh='0.2mJy/beam')\n",
    "\n",
    "immath(outfile='3c391_ctm_spw1.F',\n",
    "       mode='evalexpr',\n",
    "       imagename=['3c391_ctm_spw1.I','3c391_ctm_spw1.Q','3c391_ctm_spw1.U'],\n",
    "       expr='sqrt((IM1^2+IM2^2)/IM0[IM0>1.2e-3]^2)')\n",
    "\n",
    "viewer('3c391_ctm_spw1.pbcorP')\n",
    "\n",
    "'3c391_ctm_spw1.X'['3c391_ctm_spw1.pbcorP'>0.0004]"
   ]
  },
  {
   "cell_type": "markdown",
   "metadata": {},
   "source": [
    "Task immath also has a special mode for calculating the spectral index, mode='spix' . The two input images at different frequencies should be provided using the parameter imagename (which is a Python list). With this information, it is left as an exercise for the reader to create a spectral index map."
   ]
  },
  {
   "cell_type": "code",
   "execution_count": null,
   "metadata": {
    "collapsed": true
   },
   "outputs": [],
   "source": [
    "immath(outfile='3c391_ctm_spw1.spix1',\n",
    "       mode='spix',\n",
    "       imagename=['3c391_ctm_spw0.pbcorI','3c391_ctm_spw1.pbcorI'])"
   ]
  },
  {
   "cell_type": "code",
   "execution_count": null,
   "metadata": {
    "collapsed": true
   },
   "outputs": [],
   "source": []
  },
  {
   "cell_type": "code",
   "execution_count": null,
   "metadata": {
    "collapsed": true
   },
   "outputs": [],
   "source": []
  },
  {
   "cell_type": "code",
   "execution_count": null,
   "metadata": {
    "collapsed": true
   },
   "outputs": [],
   "source": []
  },
  {
   "cell_type": "code",
   "execution_count": null,
   "metadata": {
    "collapsed": true
   },
   "outputs": [],
   "source": []
  },
  {
   "cell_type": "code",
   "execution_count": null,
   "metadata": {
    "collapsed": true
   },
   "outputs": [],
   "source": []
  },
  {
   "cell_type": "code",
   "execution_count": null,
   "metadata": {
    "collapsed": true
   },
   "outputs": [],
   "source": []
  },
  {
   "cell_type": "code",
   "execution_count": null,
   "metadata": {
    "collapsed": true
   },
   "outputs": [],
   "source": []
  },
  {
   "cell_type": "code",
   "execution_count": null,
   "metadata": {
    "collapsed": true
   },
   "outputs": [],
   "source": []
  },
  {
   "cell_type": "code",
   "execution_count": null,
   "metadata": {
    "collapsed": true
   },
   "outputs": [],
   "source": []
  },
  {
   "cell_type": "code",
   "execution_count": null,
   "metadata": {
    "collapsed": true
   },
   "outputs": [],
   "source": []
  }
 ],
 "metadata": {
  "extensions": {
   "jupyter_dashboards": {
    "activeView": "report_default",
    "version": 1,
    "views": {
     "grid_default": {
      "cellMargin": 10,
      "defaultCellHeight": 20,
      "maxColumns": 12,
      "name": "grid",
      "type": "grid"
     },
     "report_default": {
      "name": "report",
      "type": "report"
     }
    }
   }
  },
  "kernelspec": {
   "display_name": "Python 3",
   "language": "python",
   "name": "python3"
  },
  "language_info": {
   "codemirror_mode": {
    "name": "ipython",
    "version": 3
   },
   "file_extension": ".py",
   "mimetype": "text/x-python",
   "name": "python",
   "nbconvert_exporter": "python",
   "pygments_lexer": "ipython3",
   "version": "3.6.0"
  },
  "latex_envs": {
   "LaTeX_envs_menu_present": true,
   "autocomplete": true,
   "bibliofile": "biblio.bib",
   "cite_by": "apalike",
   "current_citInitial": 1,
   "eqLabelWithNumbers": true,
   "eqNumInitial": 1,
   "hotkeys": {
    "equation": "Ctrl-E",
    "itemize": "Ctrl-I"
   },
   "labels_anchors": false,
   "latex_user_defs": false,
   "report_style_numbering": false,
   "user_envs_cfg": false
  },
  "toc": {
   "nav_menu": {},
   "number_sections": true,
   "sideBar": true,
   "skip_h1_title": false,
   "toc_cell": false,
   "toc_position": {},
   "toc_section_display": "block",
   "toc_window_display": false
  }
 },
 "nbformat": 4,
 "nbformat_minor": 2
}
